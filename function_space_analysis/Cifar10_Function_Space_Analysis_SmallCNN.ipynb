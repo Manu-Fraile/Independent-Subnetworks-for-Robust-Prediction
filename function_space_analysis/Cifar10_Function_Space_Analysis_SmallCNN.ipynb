{
  "nbformat": 4,
  "nbformat_minor": 0,
  "metadata": {
    "colab": {
      "name": "Cifar10_Loss_Landscape_SmallCNN",
      "provenance": [],
      "collapsed_sections": []
    },
    "kernelspec": {
      "name": "python3",
      "display_name": "Python 3"
    },
    "accelerator": "GPU"
  },
  "cells": [
    {
      "cell_type": "markdown",
      "metadata": {
        "id": "GKzu9hbgqw2x"
      },
      "source": [
        "# Setups, Installations and Imports"
      ]
    },
    {
      "cell_type": "code",
      "metadata": {
        "id": "YT_P8aSjO-ps",
        "colab": {
          "base_uri": "https://localhost:8080/"
        },
        "outputId": "9d43356a-3a03-4742-84b7-82951ad7bb4d"
      },
      "source": [
        "!nvidia-smi"
      ],
      "execution_count": null,
      "outputs": [
        {
          "output_type": "stream",
          "name": "stdout",
          "text": [
            "Wed Nov 24 14:09:02 2021       \n",
            "+-----------------------------------------------------------------------------+\n",
            "| NVIDIA-SMI 495.44       Driver Version: 460.32.03    CUDA Version: 11.2     |\n",
            "|-------------------------------+----------------------+----------------------+\n",
            "| GPU  Name        Persistence-M| Bus-Id        Disp.A | Volatile Uncorr. ECC |\n",
            "| Fan  Temp  Perf  Pwr:Usage/Cap|         Memory-Usage | GPU-Util  Compute M. |\n",
            "|                               |                      |               MIG M. |\n",
            "|===============================+======================+======================|\n",
            "|   0  Tesla K80           Off  | 00000000:00:04.0 Off |                    0 |\n",
            "| N/A   69C    P8    31W / 149W |      0MiB / 11441MiB |      0%      Default |\n",
            "|                               |                      |                  N/A |\n",
            "+-------------------------------+----------------------+----------------------+\n",
            "                                                                               \n",
            "+-----------------------------------------------------------------------------+\n",
            "| Processes:                                                                  |\n",
            "|  GPU   GI   CI        PID   Type   Process name                  GPU Memory |\n",
            "|        ID   ID                                                   Usage      |\n",
            "|=============================================================================|\n",
            "|  No running processes found                                                 |\n",
            "+-----------------------------------------------------------------------------+\n"
          ]
        }
      ]
    },
    {
      "cell_type": "code",
      "metadata": {
        "id": "rQAggd-btWJK",
        "colab": {
          "base_uri": "https://localhost:8080/"
        },
        "outputId": "feb74ee0-66ad-45cb-fff2-a6e69426e025"
      },
      "source": [
        "## This is so that I can save my models.\n",
        "from google.colab import drive\n",
        "drive.mount('gdrive')"
      ],
      "execution_count": null,
      "outputs": [
        {
          "output_type": "stream",
          "name": "stdout",
          "text": [
            "Mounted at gdrive\n"
          ]
        }
      ]
    },
    {
      "cell_type": "code",
      "metadata": {
        "id": "sAZBTFNQq0ys"
      },
      "source": [
        "%%capture \n",
        "!pip install wandb"
      ],
      "execution_count": null,
      "outputs": []
    },
    {
      "cell_type": "code",
      "metadata": {
        "id": "9-APP7-6C5uK"
      },
      "source": [
        "import tensorflow as tf\n",
        "\n",
        "from tensorflow import keras\n",
        "from tensorflow.keras.datasets import cifar10\n",
        "from tensorflow.keras.applications import resnet50\n"
      ],
      "execution_count": null,
      "outputs": []
    },
    {
      "cell_type": "code",
      "metadata": {
        "id": "3Pr3HrMxq8SF"
      },
      "source": [
        "import os\n",
        "os.environ[\"TF_DETERMINISTIC_OPS\"] = \"1\"\n",
        "import time\n",
        "\n",
        "import numpy as np\n",
        "import pandas as pd\n",
        "import matplotlib.pyplot as plt\n",
        "\n",
        "%matplotlib inline\n",
        "\n",
        "import io\n",
        "import itertools\n",
        "from sklearn.metrics import confusion_matrix"
      ],
      "execution_count": null,
      "outputs": []
    },
    {
      "cell_type": "code",
      "metadata": {
        "id": "XmVkQbw_q_07",
        "colab": {
          "base_uri": "https://localhost:8080/",
          "height": 68
        },
        "outputId": "80f2c6aa-2e05-4913-9926-cfa61c4e82dc"
      },
      "source": [
        "import wandb\n",
        "from wandb.keras import WandbCallback\n",
        "\n",
        "wandb.login()"
      ],
      "execution_count": null,
      "outputs": [
        {
          "output_type": "display_data",
          "data": {
            "application/javascript": [
              "\n",
              "        window._wandbApiKey = new Promise((resolve, reject) => {\n",
              "            function loadScript(url) {\n",
              "            return new Promise(function(resolve, reject) {\n",
              "                let newScript = document.createElement(\"script\");\n",
              "                newScript.onerror = reject;\n",
              "                newScript.onload = resolve;\n",
              "                document.body.appendChild(newScript);\n",
              "                newScript.src = url;\n",
              "            });\n",
              "            }\n",
              "            loadScript(\"https://cdn.jsdelivr.net/npm/postmate/build/postmate.min.js\").then(() => {\n",
              "            const iframe = document.createElement('iframe')\n",
              "            iframe.style.cssText = \"width:0;height:0;border:none\"\n",
              "            document.body.appendChild(iframe)\n",
              "            const handshake = new Postmate({\n",
              "                container: iframe,\n",
              "                url: 'https://wandb.ai/authorize'\n",
              "            });\n",
              "            const timeout = setTimeout(() => reject(\"Couldn't auto authenticate\"), 5000)\n",
              "            handshake.then(function(child) {\n",
              "                child.on('authorize', data => {\n",
              "                    clearTimeout(timeout)\n",
              "                    resolve(data)\n",
              "                });\n",
              "            });\n",
              "            })\n",
              "        });\n",
              "    "
            ],
            "text/plain": [
              "<IPython.core.display.Javascript object>"
            ]
          },
          "metadata": {}
        },
        {
          "output_type": "stream",
          "name": "stderr",
          "text": [
            "\u001b[34m\u001b[1mwandb\u001b[0m: Appending key for api.wandb.ai to your netrc file: /root/.netrc\n"
          ]
        },
        {
          "output_type": "execute_result",
          "data": {
            "text/plain": [
              "True"
            ]
          },
          "metadata": {},
          "execution_count": 5
        }
      ]
    },
    {
      "cell_type": "markdown",
      "metadata": {
        "id": "M3Ln8W0Aru8X"
      },
      "source": [
        "# Download and Prepare Dataset"
      ]
    },
    {
      "cell_type": "markdown",
      "metadata": {
        "id": "LMFYLweasySz"
      },
      "source": [
        "#### CIFAR-10"
      ]
    },
    {
      "cell_type": "code",
      "metadata": {
        "id": "Posjlu7lDJBd",
        "colab": {
          "base_uri": "https://localhost:8080/"
        },
        "outputId": "a75bb634-2bba-461f-b1f5-2ed1e2d906c4"
      },
      "source": [
        "(x_train, y_train), (x_test, y_test) = cifar10.load_data()\n",
        "\n",
        "CLASS_NAMES = (\"airplane\", \"automobile\", \"bird\", \"cat\", \"deer\", \"dog\", \"frog\", \"horse\", \"ship\", \"truck\")\n",
        "print(x_train.shape, y_train.shape, x_test.shape, y_test.shape)"
      ],
      "execution_count": null,
      "outputs": [
        {
          "output_type": "stream",
          "name": "stdout",
          "text": [
            "Downloading data from https://www.cs.toronto.edu/~kriz/cifar-10-python.tar.gz\n",
            "170500096/170498071 [==============================] - 11s 0us/step\n",
            "170508288/170498071 [==============================] - 11s 0us/step\n",
            "(50000, 32, 32, 3) (50000, 1) (10000, 32, 32, 3) (10000, 1)\n"
          ]
        }
      ]
    },
    {
      "cell_type": "markdown",
      "metadata": {
        "id": "QZzY01xwxS-f"
      },
      "source": [
        "#### Dataloader"
      ]
    },
    {
      "cell_type": "code",
      "metadata": {
        "id": "6TqcgM67xxDF",
        "colab": {
          "base_uri": "https://localhost:8080/"
        },
        "outputId": "b1e07c9a-bd17-4c14-85f1-823443802de8"
      },
      "source": [
        "AUTO = tf.data.experimental.AUTOTUNE\n",
        "BATCH_SIZE = 128\n",
        "IMG_SHAPE = 28 # 28 for MNIST and 32 for CIFAR-10\n",
        "M = 3\n",
        "tf.random.set_seed(1)\n",
        "\n",
        "# Remove some datapoints to make sets divisable by 3 (so that all batches have size 3)\n",
        "x_train = x_train[:49998,:,:,:]\n",
        "y_train = y_train[:49998,:]\n",
        "x_test = x_test[:9999,:,:,:]\n",
        "y_test = y_test[:9999,:]\n",
        "\n",
        "print('cropped x_test: ', x_test.shape)\n",
        "trainloader = tf.data.Dataset.from_tensor_slices((x_train, y_train))\n",
        "testloader = tf.data.Dataset.from_tensor_slices((x_test, y_test))\n",
        "\n",
        "def preprocess_image(image, label):\n",
        "  img = tf.cast(image, tf.float32)\n",
        "  img = img/255.\n",
        "\n",
        "  return img, label\n",
        "\n",
        "trainloader_1 = (\n",
        "    trainloader\n",
        "    .shuffle(1024)\n",
        "    .map(preprocess_image, num_parallel_calls=AUTO)\n",
        "    .batch(3)\n",
        "    .prefetch(AUTO)\n",
        ")\n",
        "trainloader = (\n",
        "    trainloader_1\n",
        "    .shuffle(1024)\n",
        "    .batch(BATCH_SIZE)\n",
        "    .prefetch(AUTO)\n",
        ")\n",
        "\n",
        "testloader_1 = (\n",
        "    testloader\n",
        "    .map(preprocess_image, num_parallel_calls=AUTO)\n",
        "    .batch(3) # tried drop_remainder=True\n",
        "    .prefetch(AUTO)\n",
        ")\n",
        "\n",
        "testloader = (\n",
        "    testloader_1\n",
        "    .batch(BATCH_SIZE)\n",
        "    .prefetch(AUTO)\n",
        ")"
      ],
      "execution_count": null,
      "outputs": [
        {
          "output_type": "stream",
          "name": "stdout",
          "text": [
            "cropped x_test:  (9999, 28, 28)\n"
          ]
        }
      ]
    },
    {
      "cell_type": "markdown",
      "metadata": {
        "id": "W2xrs00QuVG3"
      },
      "source": [
        "# Model"
      ]
    },
    {
      "cell_type": "code",
      "metadata": {
        "id": "AmvmoCjza5vk"
      },
      "source": [
        "# Dense multihead for multiple outputs, as Implemented in the MIMO paper.\n",
        "# Here applied to the Loss Landscape analysis\n",
        "# coding=utf-8\n",
        "# Copyright 2020 The <> Authors.\n",
        "#\n",
        "# Licensed under the Apache License, Version 2.0 (the \"License\");\n",
        "# you may not use this file except in compliance with the License.\n",
        "# You may obtain a copy of the License at\n",
        "\n",
        "class DenseMultihead(tf.keras.layers.Dense):\n",
        "    \"\"\"Multiheaded output layer.\"\"\"\n",
        "\n",
        "    def __init__(self,\n",
        "                 units,\n",
        "                 ensemble_size=1,\n",
        "                 activation=None,\n",
        "                 use_bias=True,\n",
        "                 kernel_initializer='glorot_uniform',\n",
        "                 bias_initializer='zeros',\n",
        "                 kernel_regularizer=None,\n",
        "                 bias_regularizer=None,\n",
        "                 activity_regularizer=None,\n",
        "                 kernel_constraint=None,\n",
        "                 bias_constraint=None,\n",
        "                 **kwargs):\n",
        "        super().__init__(\n",
        "            units=units * ensemble_size,\n",
        "            activation=activation,\n",
        "            use_bias=use_bias,\n",
        "            kernel_initializer=kernel_initializer,\n",
        "            bias_initializer=bias_initializer,\n",
        "            kernel_regularizer=kernel_regularizer,\n",
        "            bias_regularizer=bias_regularizer,\n",
        "            activity_regularizer=activity_regularizer,\n",
        "            kernel_constraint=kernel_constraint,\n",
        "            bias_constraint=bias_constraint,\n",
        "            **kwargs)\n",
        "        self.ensemble_size = ensemble_size\n",
        "\n",
        "    def call(self, inputs):\n",
        "        batch_size = tf.shape(inputs)[0]\n",
        "        # NOTE: This restricts this layer from being called on tensors of ndim > 2.\n",
        "        outputs = super().call(inputs)\n",
        "        outputs = tf.reshape(outputs, [batch_size,\n",
        "                                       self.ensemble_size,\n",
        "                                       self.units // self.ensemble_size])\n",
        "        return outputs\n",
        "\n",
        "    def get_config(self):\n",
        "        config = {\n",
        "            'units': self.units // self.ensemble_size,\n",
        "            'ensemble_size': self.ensemble_size,\n",
        "        }\n",
        "        new_config = super().get_config()\n",
        "        new_config.update(config)\n",
        "        return new_config"
      ],
      "execution_count": null,
      "outputs": []
    },
    {
      "cell_type": "code",
      "metadata": {
        "id": "_Pv7-2VNsb5N"
      },
      "source": [
        "# Modify this to use the MIMO architecture!! Code taken and modified from the MIMO repo\n",
        "def Model():\n",
        "  # OLD inputs\n",
        "  # inputs = keras.layers.Input(shape=(IMG_SHAPE, IMG_SHAPE, 3))\n",
        "  \"\"\"\n",
        "  Code from the mimo implementation\n",
        "  input_shape: tf.Tensor. The input shape must be (ensemble_size, width,\n",
        "      height, channels).\n",
        "  \"\"\"\n",
        "  num_classes = 10\n",
        "  ensemble_size = 3\n",
        "  input_shape = list([3, IMG_SHAPE, IMG_SHAPE, 3])\n",
        "  inputs = tf.keras.layers.Input(shape=input_shape)\n",
        "  x = tf.keras.layers.Permute([2, 3, 4, 1])(inputs)\n",
        "  if ensemble_size != input_shape[0]:\n",
        "      raise ValueError('the first dimension of input_shape must be ensemble_size')\n",
        "  print('final shape: ', input_shape[1:-1] + [input_shape[-1] * ensemble_size])\n",
        "  x = tf.keras.layers.Reshape(input_shape[1:-1] +\n",
        "                                [input_shape[-1] * ensemble_size])(x)\n",
        "\n",
        "\n",
        "  x = keras.layers.Conv2D(16, (3,3), padding='same')(x)\n",
        "  x = keras.activations.relu(x)\n",
        "  x = keras.layers.MaxPooling2D(pool_size=(2, 2), strides=(1, 1))(x) # Tried with 1\n",
        "\n",
        "  x = keras.layers.Conv2D(32,(3,3), padding='same')(x)\n",
        "  x = keras.activations.relu(x)\n",
        "  x = keras.layers.MaxPooling2D(2, strides=2)(x)\n",
        "\n",
        "  x = keras.layers.Conv2D(32,(3,3), padding='same')(x)\n",
        "  x = keras.activations.relu(x)\n",
        "  x = keras.layers.MaxPooling2D(2, strides=2)(x)\n",
        "\n",
        "  x = keras.layers.GlobalAveragePooling2D()(x)\n",
        "  x = keras.layers.Dense(32, activation='relu')(x)\n",
        "  x = keras.layers.Dropout(0.1)(x)\n",
        "  \n",
        "  # outputs = keras.layers.Dense(10, activation='softmax')(x)\n",
        "  \"\"\"\n",
        "  Outputs as prensented in the MIMO paper (taken from their implementation)\n",
        "  \"\"\"\n",
        "  outputs = DenseMultihead(\n",
        "        num_classes,\n",
        "        kernel_initializer='he_normal', # TODO: check this! what should this be?\n",
        "        activation='softmax', # this is changed from the MIMO implementation\n",
        "        ensemble_size=ensemble_size)(x)\n",
        "\n",
        "  return keras.models.Model(inputs=inputs, outputs=outputs)"
      ],
      "execution_count": null,
      "outputs": []
    },
    {
      "cell_type": "code",
      "metadata": {
        "id": "o9A69Z8kgBks",
        "colab": {
          "base_uri": "https://localhost:8080/",
          "height": 1000
        },
        "outputId": "70de69bb-9a90-4209-fbdd-20ba353f2772"
      },
      "source": [
        "tf.keras.backend.clear_session()\n",
        "model = Model()\n",
        "\n",
        "tf.keras.utils.plot_model(\n",
        "    model, to_file='small_cnn.png', show_shapes=True, show_layer_names=True, dpi=65\n",
        ")"
      ],
      "execution_count": null,
      "outputs": [
        {
          "output_type": "stream",
          "name": "stdout",
          "text": [
            "final shape:  [32, 32, 9]\n"
          ]
        },
        {
          "output_type": "execute_result",
          "data": {
            "image/png": "[encoded data removed]",
            "text/plain": [
              "<IPython.core.display.Image object>"
            ]
          },
          "metadata": {},
          "execution_count": 11
        }
      ]
    },
    {
      "cell_type": "markdown",
      "metadata": {
        "id": "nkxDAl8pv5pJ"
      },
      "source": [
        "# Callbacks"
      ]
    },
    {
      "cell_type": "markdown",
      "metadata": {
        "id": "B13auR7gDEao"
      },
      "source": [
        "#### LR Scheduler"
      ]
    },
    {
      "cell_type": "code",
      "metadata": {
        "id": "j4WY47Kxv8uN"
      },
      "source": [
        "# Custom LR schedule as mentioned in the LossLandscape paper\n",
        "LR_SCHEDULE = [\n",
        "    # (epoch to start, learning rate) tuples\n",
        "    (0, 1.6*1e-3),\n",
        "    (9, (1.6*1e-3)/2),\n",
        "    (19, (1.6*1e-3)/4),\n",
        "    (29, (1.6*1e-3)/8),\n",
        "]\n",
        "\n",
        "def lr_schedule(epoch):\n",
        "    if (epoch >= 0) & (epoch < 9):\n",
        "        return LR_SCHEDULE[0][1]\n",
        "    elif (epoch >= 9) & (epoch < 19):\n",
        "        return LR_SCHEDULE[1][1]\n",
        "    elif (epoch >= 19) & (epoch < 29):\n",
        "        return LR_SCHEDULE[2][1]\n",
        "    else:\n",
        "        return LR_SCHEDULE[3][1]\n",
        "\n",
        "lr_callback = tf.keras.callbacks.LearningRateScheduler(lambda epoch: lr_schedule(epoch), verbose=True)"
      ],
      "execution_count": null,
      "outputs": []
    },
    {
      "cell_type": "markdown",
      "metadata": {
        "id": "SWDf_SqVDHUo"
      },
      "source": [
        "#### Model Checkpoint"
      ]
    },
    {
      "cell_type": "code",
      "metadata": {
        "id": "Kjb25zUM-2wu"
      },
      "source": [
        "SAVE_PATH = 'gdrive/My Drive/LossLandscape/SmallCNN_CheckpointID_1/'"
      ],
      "execution_count": null,
      "outputs": []
    },
    {
      "cell_type": "code",
      "metadata": {
        "id": "48WXaSSx4hAF"
      },
      "source": [
        "def save_model(epoch, logs):\n",
        "  model.save(SAVE_PATH+'small_cnn_checkpoint_{}.tf'.format(epoch))\n",
        "\n",
        "save_callback = tf.keras.callbacks.LambdaCallback(on_epoch_end=save_model, verbose=True)"
      ],
      "execution_count": null,
      "outputs": []
    },
    {
      "cell_type": "markdown",
      "metadata": {
        "id": "Q02l2PnW4YMh"
      },
      "source": [
        "# Initialize Model"
      ]
    },
    {
      "cell_type": "code",
      "metadata": {
        "id": "b7NGdxodMYP3",
        "colab": {
          "base_uri": "https://localhost:8080/"
        },
        "outputId": "a08ffbcf-ba73-4cae-9aa6-6062229e5fe3"
      },
      "source": [
        "keras.backend.clear_session()\n",
        "model = Model()\n",
        "model.summary()"
      ],
      "execution_count": null,
      "outputs": [
        {
          "output_type": "stream",
          "name": "stdout",
          "text": [
            "final shape:  [32, 32, 9]\n",
            "Model: \"model\"\n",
            "_________________________________________________________________\n",
            " Layer (type)                Output Shape              Param #   \n",
            "=================================================================\n",
            " input_1 (InputLayer)        [(None, 3, 32, 32, 3)]    0         \n",
            "                                                                 \n",
            " permute (Permute)           (None, 32, 32, 3, 3)      0         \n",
            "                                                                 \n",
            " reshape (Reshape)           (None, 32, 32, 9)         0         \n",
            "                                                                 \n",
            " conv2d (Conv2D)             (None, 32, 32, 16)        1312      \n",
            "                                                                 \n",
            " tf.nn.relu (TFOpLambda)     (None, 32, 32, 16)        0         \n",
            "                                                                 \n",
            " max_pooling2d (MaxPooling2D  (None, 31, 31, 16)       0         \n",
            " )                                                               \n",
            "                                                                 \n",
            " conv2d_1 (Conv2D)           (None, 31, 31, 32)        4640      \n",
            "                                                                 \n",
            " tf.nn.relu_1 (TFOpLambda)   (None, 31, 31, 32)        0         \n",
            "                                                                 \n",
            " max_pooling2d_1 (MaxPooling  (None, 15, 15, 32)       0         \n",
            " 2D)                                                             \n",
            "                                                                 \n",
            " conv2d_2 (Conv2D)           (None, 15, 15, 32)        9248      \n",
            "                                                                 \n",
            " tf.nn.relu_2 (TFOpLambda)   (None, 15, 15, 32)        0         \n",
            "                                                                 \n",
            " max_pooling2d_2 (MaxPooling  (None, 7, 7, 32)         0         \n",
            " 2D)                                                             \n",
            "                                                                 \n",
            " global_average_pooling2d (G  (None, 32)               0         \n",
            " lobalAveragePooling2D)                                          \n",
            "                                                                 \n",
            " dense (Dense)               (None, 32)                1056      \n",
            "                                                                 \n",
            " dropout (Dropout)           (None, 32)                0         \n",
            "                                                                 \n",
            " dense_multihead (DenseMulti  (None, 3, 10)            990       \n",
            " head)                                                           \n",
            "                                                                 \n",
            "=================================================================\n",
            "Total params: 17,246\n",
            "Trainable params: 17,246\n",
            "Non-trainable params: 0\n",
            "_________________________________________________________________\n"
          ]
        }
      ]
    },
    {
      "cell_type": "markdown",
      "metadata": {
        "id": "DqiY2v174cCw"
      },
      "source": [
        "# Compile"
      ]
    },
    {
      "cell_type": "code",
      "metadata": {
        "id": "M7Vk7qmEMgeB"
      },
      "source": [
        "model.compile('adam', 'sparse_categorical_crossentropy', metrics=['accuracy'])"
      ],
      "execution_count": null,
      "outputs": []
    },
    {
      "cell_type": "markdown",
      "metadata": {
        "id": "XP5elumu4eJG"
      },
      "source": [
        "# Wandb Init"
      ]
    },
    {
      "cell_type": "code",
      "metadata": {
        "id": "Svw-ocG_yeGx",
        "colab": {
          "base_uri": "https://localhost:8080/",
          "height": 89
        },
        "outputId": "a6fc63d3-e550-4ae1-f617-affcde8b7c7f"
      },
      "source": [
        "wandb.init(entity='filippak', project='loss-landscape')"
      ],
      "execution_count": null,
      "outputs": [
        {
          "output_type": "display_data",
          "data": {
            "text/html": [
              "Finishing last run (ID:elcivnrr) before initializing another..."
            ],
            "text/plain": [
              "<IPython.core.display.HTML object>"
            ]
          },
          "metadata": {}
        },
        {
          "output_type": "display_data",
          "data": {
            "text/html": [
              "Successfully finished last run (ID:elcivnrr). Initializing new run:<br/>"
            ],
            "text/plain": [
              "<IPython.core.display.HTML object>"
            ]
          },
          "metadata": {}
        },
        {
          "output_type": "display_data",
          "data": {
            "text/html": [
              "\n",
              "                    Syncing run <strong><a href=\"https://wandb.ai/filippak/loss-landscape/runs/v5q0cmk1\" target=\"_blank\">golden-shape-20</a></strong> to <a href=\"https://wandb.ai/filippak/loss-landscape\" target=\"_blank\">Weights & Biases</a> (<a href=\"https://docs.wandb.com/integrations/jupyter.html\" target=\"_blank\">docs</a>).<br/>\n",
              "\n",
              "                "
            ],
            "text/plain": [
              "<IPython.core.display.HTML object>"
            ]
          },
          "metadata": {}
        },
        {
          "output_type": "execute_result",
          "data": {
            "text/plain": [
              "<wandb.sdk.wandb_run.Run at 0x7ff892a6ab50>"
            ],
            "text/html": [
              "<button onClick=\"this.nextSibling.style.display='block';this.style.display='none';\">Display W&B run</button><iframe src=\"https://wandb.ai/filippak/loss-landscape/runs/v5q0cmk1?jupyter=true\" style=\"border:none;width:100%;height:420px;display:none;\"></iframe>"
            ]
          },
          "metadata": {},
          "execution_count": 37
        }
      ]
    },
    {
      "cell_type": "markdown",
      "metadata": {
        "id": "co0IcwRl4goi"
      },
      "source": [
        "# Train"
      ]
    },
    {
      "cell_type": "code",
      "metadata": {
        "id": "_Mqy_ZBNM8UA",
        "colab": {
          "base_uri": "https://localhost:8080/"
        },
        "outputId": "28b1edd1-cae5-4f6f-f06d-1279d2f05ea8"
      },
      "source": [
        "EPOCHS = 40\n",
        "\n",
        "start = time.time()\n",
        "print(trainloader)\n",
        "print(testloader)\n",
        "_ = model.fit(trainloader,\n",
        "          epochs=EPOCHS,\n",
        "          validation_data=testloader,\n",
        "          callbacks=[WandbCallback(),\n",
        "                     lr_callback,\n",
        "                     # cm_callback, can not handle the dimensions of the test set! \n",
        "                     save_callback])\n",
        "end = time.time()\n",
        "print(\"Network takes {:.3f} seconds to train\".format(end - start))\n",
        "wandb.log({'training_time': end - start})\n",
        "wandb.log({'nb_model_params': model.count_params()})"
      ],
      "execution_count": null,
      "outputs": [
        {
          "output_type": "stream",
          "name": "stdout",
          "text": [
            "<PrefetchDataset shapes: ((None, None, 32, 32, 3), (None, None, 1)), types: (tf.float32, tf.uint8)>\n",
            "<PrefetchDataset shapes: ((None, None, 32, 32, 3), (None, None, 1)), types: (tf.float32, tf.uint8)>\n",
            "\n",
            "Epoch 00001: LearningRateScheduler setting learning rate to 0.0016.\n",
            "Epoch 1/40\n",
            "131/131 [==============================] - ETA: 0s - loss: 2.2745 - accuracy: 0.1275INFO:tensorflow:Assets written to: gdrive/My Drive/LossLandscape/SmallCNN_CheckpointID_1/small_cnn_checkpoint_0.tf/assets\n",
            "131/131 [==============================] - 17s 59ms/step - loss: 2.2745 - accuracy: 0.1275 - val_loss: 2.2263 - val_accuracy: 0.1555 - lr: 0.0016\n",
            "\n",
            "Epoch 00002: LearningRateScheduler setting learning rate to 0.0016.\n",
            "Epoch 2/40\n",
            "130/131 [============================>.] - ETA: 0s - loss: 2.2041 - accuracy: 0.1593INFO:tensorflow:Assets written to: gdrive/My Drive/LossLandscape/SmallCNN_CheckpointID_1/small_cnn_checkpoint_1.tf/assets\n",
            "131/131 [==============================] - 7s 54ms/step - loss: 2.2041 - accuracy: 0.1593 - val_loss: 2.1408 - val_accuracy: 0.1854 - lr: 0.0016\n",
            "\n",
            "Epoch 00003: LearningRateScheduler setting learning rate to 0.0016.\n",
            "Epoch 3/40\n",
            "129/131 [============================>.] - ETA: 0s - loss: 2.1264 - accuracy: 0.1896INFO:tensorflow:Assets written to: gdrive/My Drive/LossLandscape/SmallCNN_CheckpointID_1/small_cnn_checkpoint_2.tf/assets\n",
            "131/131 [==============================] - 7s 53ms/step - loss: 2.1262 - accuracy: 0.1897 - val_loss: 2.0604 - val_accuracy: 0.2160 - lr: 0.0016\n",
            "\n",
            "Epoch 00004: LearningRateScheduler setting learning rate to 0.0016.\n",
            "Epoch 4/40\n",
            "129/131 [============================>.] - ETA: 0s - loss: 2.0753 - accuracy: 0.2037INFO:tensorflow:Assets written to: gdrive/My Drive/LossLandscape/SmallCNN_CheckpointID_1/small_cnn_checkpoint_3.tf/assets\n",
            "131/131 [==============================] - 7s 53ms/step - loss: 2.0750 - accuracy: 0.2040 - val_loss: 2.0444 - val_accuracy: 0.2205 - lr: 0.0016\n",
            "\n",
            "Epoch 00005: LearningRateScheduler setting learning rate to 0.0016.\n",
            "Epoch 5/40\n",
            "130/131 [============================>.] - ETA: 0s - loss: 2.0467 - accuracy: 0.2188INFO:tensorflow:Assets written to: gdrive/My Drive/LossLandscape/SmallCNN_CheckpointID_1/small_cnn_checkpoint_4.tf/assets\n",
            "131/131 [==============================] - 7s 52ms/step - loss: 2.0467 - accuracy: 0.2188 - val_loss: 2.0069 - val_accuracy: 0.2320 - lr: 0.0016\n",
            "\n",
            "Epoch 00006: LearningRateScheduler setting learning rate to 0.0016.\n",
            "Epoch 6/40\n",
            "130/131 [============================>.] - ETA: 0s - loss: 2.0241 - accuracy: 0.2299INFO:tensorflow:Assets written to: gdrive/My Drive/LossLandscape/SmallCNN_CheckpointID_1/small_cnn_checkpoint_5.tf/assets\n",
            "131/131 [==============================] - 7s 56ms/step - loss: 2.0242 - accuracy: 0.2299 - val_loss: 1.9749 - val_accuracy: 0.2516 - lr: 0.0016\n",
            "\n",
            "Epoch 00007: LearningRateScheduler setting learning rate to 0.0016.\n",
            "Epoch 7/40\n",
            "131/131 [==============================] - ETA: 0s - loss: 2.0074 - accuracy: 0.2339INFO:tensorflow:Assets written to: gdrive/My Drive/LossLandscape/SmallCNN_CheckpointID_1/small_cnn_checkpoint_6.tf/assets\n",
            "131/131 [==============================] - 7s 53ms/step - loss: 2.0074 - accuracy: 0.2339 - val_loss: 1.9708 - val_accuracy: 0.2560 - lr: 0.0016\n",
            "\n",
            "Epoch 00008: LearningRateScheduler setting learning rate to 0.0016.\n",
            "Epoch 8/40\n",
            "131/131 [==============================] - ETA: 0s - loss: 1.9820 - accuracy: 0.2410INFO:tensorflow:Assets written to: gdrive/My Drive/LossLandscape/SmallCNN_CheckpointID_1/small_cnn_checkpoint_7.tf/assets\n",
            "131/131 [==============================] - 7s 54ms/step - loss: 1.9820 - accuracy: 0.2410 - val_loss: 1.9497 - val_accuracy: 0.2643 - lr: 0.0016\n",
            "\n",
            "Epoch 00009: LearningRateScheduler setting learning rate to 0.0016.\n",
            "Epoch 9/40\n",
            "130/131 [============================>.] - ETA: 0s - loss: 1.9621 - accuracy: 0.2507INFO:tensorflow:Assets written to: gdrive/My Drive/LossLandscape/SmallCNN_CheckpointID_1/small_cnn_checkpoint_8.tf/assets\n",
            "131/131 [==============================] - 7s 54ms/step - loss: 1.9620 - accuracy: 0.2508 - val_loss: 1.9444 - val_accuracy: 0.2634 - lr: 0.0016\n",
            "\n",
            "Epoch 00010: LearningRateScheduler setting learning rate to 0.0008.\n",
            "Epoch 10/40\n",
            "131/131 [==============================] - ETA: 0s - loss: 1.9381 - accuracy: 0.2578INFO:tensorflow:Assets written to: gdrive/My Drive/LossLandscape/SmallCNN_CheckpointID_1/small_cnn_checkpoint_9.tf/assets\n",
            "131/131 [==============================] - 7s 55ms/step - loss: 1.9381 - accuracy: 0.2578 - val_loss: 1.8994 - val_accuracy: 0.2784 - lr: 8.0000e-04\n",
            "\n",
            "Epoch 00011: LearningRateScheduler setting learning rate to 0.0008.\n",
            "Epoch 11/40\n",
            "130/131 [============================>.] - ETA: 0s - loss: 1.9222 - accuracy: 0.2599INFO:tensorflow:Assets written to: gdrive/My Drive/LossLandscape/SmallCNN_CheckpointID_1/small_cnn_checkpoint_10.tf/assets\n",
            "131/131 [==============================] - 7s 52ms/step - loss: 1.9224 - accuracy: 0.2598 - val_loss: 1.8837 - val_accuracy: 0.2840 - lr: 8.0000e-04\n",
            "\n",
            "Epoch 00012: LearningRateScheduler setting learning rate to 0.0008.\n",
            "Epoch 12/40\n",
            "129/131 [============================>.] - ETA: 0s - loss: 1.9138 - accuracy: 0.2669INFO:tensorflow:Assets written to: gdrive/My Drive/LossLandscape/SmallCNN_CheckpointID_1/small_cnn_checkpoint_11.tf/assets\n",
            "131/131 [==============================] - 7s 53ms/step - loss: 1.9136 - accuracy: 0.2670 - val_loss: 1.8755 - val_accuracy: 0.2918 - lr: 8.0000e-04\n",
            "\n",
            "Epoch 00013: LearningRateScheduler setting learning rate to 0.0008.\n",
            "Epoch 13/40\n",
            "130/131 [============================>.] - ETA: 0s - loss: 1.9026 - accuracy: 0.2685INFO:tensorflow:Assets written to: gdrive/My Drive/LossLandscape/SmallCNN_CheckpointID_1/small_cnn_checkpoint_12.tf/assets\n",
            "131/131 [==============================] - 7s 55ms/step - loss: 1.9025 - accuracy: 0.2685 - val_loss: 1.8662 - val_accuracy: 0.2853 - lr: 8.0000e-04\n",
            "\n",
            "Epoch 00014: LearningRateScheduler setting learning rate to 0.0008.\n",
            "Epoch 14/40\n",
            "130/131 [============================>.] - ETA: 0s - loss: 1.8938 - accuracy: 0.2740INFO:tensorflow:Assets written to: gdrive/My Drive/LossLandscape/SmallCNN_CheckpointID_1/small_cnn_checkpoint_13.tf/assets\n",
            "131/131 [==============================] - 7s 53ms/step - loss: 1.8937 - accuracy: 0.2741 - val_loss: 1.8488 - val_accuracy: 0.2982 - lr: 8.0000e-04\n",
            "\n",
            "Epoch 00015: LearningRateScheduler setting learning rate to 0.0008.\n",
            "Epoch 15/40\n",
            "129/131 [============================>.] - ETA: 0s - loss: 1.8884 - accuracy: 0.2738INFO:tensorflow:Assets written to: gdrive/My Drive/LossLandscape/SmallCNN_CheckpointID_1/small_cnn_checkpoint_14.tf/assets\n",
            "131/131 [==============================] - 7s 53ms/step - loss: 1.8881 - accuracy: 0.2739 - val_loss: 1.8555 - val_accuracy: 0.2935 - lr: 8.0000e-04\n",
            "\n",
            "Epoch 00016: LearningRateScheduler setting learning rate to 0.0008.\n",
            "Epoch 16/40\n",
            "130/131 [============================>.] - ETA: 0s - loss: 1.8797 - accuracy: 0.2748INFO:tensorflow:Assets written to: gdrive/My Drive/LossLandscape/SmallCNN_CheckpointID_1/small_cnn_checkpoint_15.tf/assets\n",
            "131/131 [==============================] - 7s 53ms/step - loss: 1.8796 - accuracy: 0.2748 - val_loss: 1.8358 - val_accuracy: 0.2997 - lr: 8.0000e-04\n",
            "\n",
            "Epoch 00017: LearningRateScheduler setting learning rate to 0.0008.\n",
            "Epoch 17/40\n",
            "131/131 [==============================] - ETA: 0s - loss: 1.8650 - accuracy: 0.2860INFO:tensorflow:Assets written to: gdrive/My Drive/LossLandscape/SmallCNN_CheckpointID_1/small_cnn_checkpoint_16.tf/assets\n",
            "131/131 [==============================] - 7s 55ms/step - loss: 1.8650 - accuracy: 0.2860 - val_loss: 1.8346 - val_accuracy: 0.2992 - lr: 8.0000e-04\n",
            "\n",
            "Epoch 00018: LearningRateScheduler setting learning rate to 0.0008.\n",
            "Epoch 18/40\n",
            "129/131 [============================>.] - ETA: 0s - loss: 1.8616 - accuracy: 0.2809INFO:tensorflow:Assets written to: gdrive/My Drive/LossLandscape/SmallCNN_CheckpointID_1/small_cnn_checkpoint_17.tf/assets\n",
            "131/131 [==============================] - 7s 52ms/step - loss: 1.8616 - accuracy: 0.2810 - val_loss: 1.8151 - val_accuracy: 0.3062 - lr: 8.0000e-04\n",
            "\n",
            "Epoch 00019: LearningRateScheduler setting learning rate to 0.0008.\n",
            "Epoch 19/40\n",
            "129/131 [============================>.] - ETA: 0s - loss: 1.8531 - accuracy: 0.2839INFO:tensorflow:Assets written to: gdrive/My Drive/LossLandscape/SmallCNN_CheckpointID_1/small_cnn_checkpoint_18.tf/assets\n",
            "131/131 [==============================] - 7s 53ms/step - loss: 1.8530 - accuracy: 0.2842 - val_loss: 1.8096 - val_accuracy: 0.3147 - lr: 8.0000e-04\n",
            "\n",
            "Epoch 00020: LearningRateScheduler setting learning rate to 0.0004.\n",
            "Epoch 20/40\n",
            "130/131 [============================>.] - ETA: 0s - loss: 1.8357 - accuracy: 0.2921INFO:tensorflow:Assets written to: gdrive/My Drive/LossLandscape/SmallCNN_CheckpointID_1/small_cnn_checkpoint_19.tf/assets\n",
            "131/131 [==============================] - 7s 53ms/step - loss: 1.8356 - accuracy: 0.2922 - val_loss: 1.7975 - val_accuracy: 0.3117 - lr: 4.0000e-04\n",
            "\n",
            "Epoch 00021: LearningRateScheduler setting learning rate to 0.0004.\n",
            "Epoch 21/40\n",
            "130/131 [============================>.] - ETA: 0s - loss: 1.8313 - accuracy: 0.2936INFO:tensorflow:Assets written to: gdrive/My Drive/LossLandscape/SmallCNN_CheckpointID_1/small_cnn_checkpoint_20.tf/assets\n",
            "131/131 [==============================] - 7s 55ms/step - loss: 1.8314 - accuracy: 0.2937 - val_loss: 1.7869 - val_accuracy: 0.3174 - lr: 4.0000e-04\n",
            "\n",
            "Epoch 00022: LearningRateScheduler setting learning rate to 0.0004.\n",
            "Epoch 22/40\n",
            "130/131 [============================>.] - ETA: 0s - loss: 1.8254 - accuracy: 0.2962INFO:tensorflow:Assets written to: gdrive/My Drive/LossLandscape/SmallCNN_CheckpointID_1/small_cnn_checkpoint_21.tf/assets\n",
            "131/131 [==============================] - 7s 53ms/step - loss: 1.8254 - accuracy: 0.2962 - val_loss: 1.7887 - val_accuracy: 0.3182 - lr: 4.0000e-04\n",
            "\n",
            "Epoch 00023: LearningRateScheduler setting learning rate to 0.0004.\n",
            "Epoch 23/40\n",
            "129/131 [============================>.] - ETA: 0s - loss: 1.8222 - accuracy: 0.2973INFO:tensorflow:Assets written to: gdrive/My Drive/LossLandscape/SmallCNN_CheckpointID_1/small_cnn_checkpoint_22.tf/assets\n",
            "131/131 [==============================] - 7s 52ms/step - loss: 1.8221 - accuracy: 0.2971 - val_loss: 1.7842 - val_accuracy: 0.3184 - lr: 4.0000e-04\n",
            "\n",
            "Epoch 00024: LearningRateScheduler setting learning rate to 0.0004.\n",
            "Epoch 24/40\n",
            "130/131 [============================>.] - ETA: 0s - loss: 1.8206 - accuracy: 0.3006INFO:tensorflow:Assets written to: gdrive/My Drive/LossLandscape/SmallCNN_CheckpointID_1/small_cnn_checkpoint_23.tf/assets\n",
            "131/131 [==============================] - 7s 55ms/step - loss: 1.8204 - accuracy: 0.3008 - val_loss: 1.7805 - val_accuracy: 0.3193 - lr: 4.0000e-04\n",
            "\n",
            "Epoch 00025: LearningRateScheduler setting learning rate to 0.0004.\n",
            "Epoch 25/40\n",
            "130/131 [============================>.] - ETA: 0s - loss: 1.8184 - accuracy: 0.3021INFO:tensorflow:Assets written to: gdrive/My Drive/LossLandscape/SmallCNN_CheckpointID_1/small_cnn_checkpoint_24.tf/assets\n",
            "131/131 [==============================] - 7s 53ms/step - loss: 1.8184 - accuracy: 0.3020 - val_loss: 1.7732 - val_accuracy: 0.3220 - lr: 4.0000e-04\n",
            "\n",
            "Epoch 00026: LearningRateScheduler setting learning rate to 0.0004.\n",
            "Epoch 26/40\n",
            "131/131 [==============================] - ETA: 0s - loss: 1.8135 - accuracy: 0.3043INFO:tensorflow:Assets written to: gdrive/My Drive/LossLandscape/SmallCNN_CheckpointID_1/small_cnn_checkpoint_25.tf/assets\n",
            "131/131 [==============================] - 7s 53ms/step - loss: 1.8135 - accuracy: 0.3043 - val_loss: 1.7827 - val_accuracy: 0.3251 - lr: 4.0000e-04\n",
            "\n",
            "Epoch 00027: LearningRateScheduler setting learning rate to 0.0004.\n",
            "Epoch 27/40\n",
            "131/131 [==============================] - ETA: 0s - loss: 1.8067 - accuracy: 0.3055INFO:tensorflow:Assets written to: gdrive/My Drive/LossLandscape/SmallCNN_CheckpointID_1/small_cnn_checkpoint_26.tf/assets\n",
            "131/131 [==============================] - 7s 54ms/step - loss: 1.8067 - accuracy: 0.3055 - val_loss: 1.7697 - val_accuracy: 0.3293 - lr: 4.0000e-04\n",
            "\n",
            "Epoch 00028: LearningRateScheduler setting learning rate to 0.0004.\n",
            "Epoch 28/40\n",
            "130/131 [============================>.] - ETA: 0s - loss: 1.8080 - accuracy: 0.3038INFO:tensorflow:Assets written to: gdrive/My Drive/LossLandscape/SmallCNN_CheckpointID_1/small_cnn_checkpoint_27.tf/assets\n",
            "131/131 [==============================] - 7s 56ms/step - loss: 1.8082 - accuracy: 0.3037 - val_loss: 1.7610 - val_accuracy: 0.3278 - lr: 4.0000e-04\n",
            "\n",
            "Epoch 00029: LearningRateScheduler setting learning rate to 0.0004.\n",
            "Epoch 29/40\n",
            "129/131 [============================>.] - ETA: 0s - loss: 1.8037 - accuracy: 0.3075INFO:tensorflow:Assets written to: gdrive/My Drive/LossLandscape/SmallCNN_CheckpointID_1/small_cnn_checkpoint_28.tf/assets\n",
            "131/131 [==============================] - 7s 54ms/step - loss: 1.8043 - accuracy: 0.3073 - val_loss: 1.7538 - val_accuracy: 0.3336 - lr: 4.0000e-04\n",
            "\n",
            "Epoch 00030: LearningRateScheduler setting learning rate to 0.0002.\n",
            "Epoch 30/40\n",
            "129/131 [============================>.] - ETA: 0s - loss: 1.7956 - accuracy: 0.3110INFO:tensorflow:Assets written to: gdrive/My Drive/LossLandscape/SmallCNN_CheckpointID_1/small_cnn_checkpoint_29.tf/assets\n",
            "131/131 [==============================] - 7s 54ms/step - loss: 1.7958 - accuracy: 0.3108 - val_loss: 1.7507 - val_accuracy: 0.3322 - lr: 2.0000e-04\n",
            "\n",
            "Epoch 00031: LearningRateScheduler setting learning rate to 0.0002.\n",
            "Epoch 31/40\n",
            "129/131 [============================>.] - ETA: 0s - loss: 1.7939 - accuracy: 0.3127INFO:tensorflow:Assets written to: gdrive/My Drive/LossLandscape/SmallCNN_CheckpointID_1/small_cnn_checkpoint_30.tf/assets\n",
            "131/131 [==============================] - 7s 54ms/step - loss: 1.7947 - accuracy: 0.3124 - val_loss: 1.7503 - val_accuracy: 0.3362 - lr: 2.0000e-04\n",
            "\n",
            "Epoch 00032: LearningRateScheduler setting learning rate to 0.0002.\n",
            "Epoch 32/40\n",
            "131/131 [==============================] - ETA: 0s - loss: 1.7914 - accuracy: 0.3140INFO:tensorflow:Assets written to: gdrive/My Drive/LossLandscape/SmallCNN_CheckpointID_1/small_cnn_checkpoint_31.tf/assets\n",
            "131/131 [==============================] - 15s 116ms/step - loss: 1.7914 - accuracy: 0.3140 - val_loss: 1.7466 - val_accuracy: 0.3352 - lr: 2.0000e-04\n",
            "\n",
            "Epoch 00033: LearningRateScheduler setting learning rate to 0.0002.\n",
            "Epoch 33/40\n",
            "130/131 [============================>.] - ETA: 0s - loss: 1.7894 - accuracy: 0.3124INFO:tensorflow:Assets written to: gdrive/My Drive/LossLandscape/SmallCNN_CheckpointID_1/small_cnn_checkpoint_32.tf/assets\n",
            "131/131 [==============================] - 7s 53ms/step - loss: 1.7894 - accuracy: 0.3123 - val_loss: 1.7463 - val_accuracy: 0.3357 - lr: 2.0000e-04\n",
            "\n",
            "Epoch 00034: LearningRateScheduler setting learning rate to 0.0002.\n",
            "Epoch 34/40\n",
            "130/131 [============================>.] - ETA: 0s - loss: 1.7900 - accuracy: 0.3152INFO:tensorflow:Assets written to: gdrive/My Drive/LossLandscape/SmallCNN_CheckpointID_1/small_cnn_checkpoint_33.tf/assets\n",
            "131/131 [==============================] - 7s 54ms/step - loss: 1.7901 - accuracy: 0.3153 - val_loss: 1.7501 - val_accuracy: 0.3329 - lr: 2.0000e-04\n",
            "\n",
            "Epoch 00035: LearningRateScheduler setting learning rate to 0.0002.\n",
            "Epoch 35/40\n",
            "130/131 [============================>.] - ETA: 0s - loss: 1.7902 - accuracy: 0.3156INFO:tensorflow:Assets written to: gdrive/My Drive/LossLandscape/SmallCNN_CheckpointID_1/small_cnn_checkpoint_34.tf/assets\n",
            "131/131 [==============================] - 15s 116ms/step - loss: 1.7903 - accuracy: 0.3156 - val_loss: 1.7433 - val_accuracy: 0.3371 - lr: 2.0000e-04\n",
            "\n",
            "Epoch 00036: LearningRateScheduler setting learning rate to 0.0002.\n",
            "Epoch 36/40\n",
            "129/131 [============================>.] - ETA: 0s - loss: 1.7870 - accuracy: 0.3125INFO:tensorflow:Assets written to: gdrive/My Drive/LossLandscape/SmallCNN_CheckpointID_1/small_cnn_checkpoint_35.tf/assets\n",
            "131/131 [==============================] - 7s 54ms/step - loss: 1.7868 - accuracy: 0.3126 - val_loss: 1.7416 - val_accuracy: 0.3368 - lr: 2.0000e-04\n",
            "\n",
            "Epoch 00037: LearningRateScheduler setting learning rate to 0.0002.\n",
            "Epoch 37/40\n",
            "129/131 [============================>.] - ETA: 0s - loss: 1.7843 - accuracy: 0.3173INFO:tensorflow:Assets written to: gdrive/My Drive/LossLandscape/SmallCNN_CheckpointID_1/small_cnn_checkpoint_36.tf/assets\n",
            "131/131 [==============================] - 7s 54ms/step - loss: 1.7844 - accuracy: 0.3174 - val_loss: 1.7479 - val_accuracy: 0.3346 - lr: 2.0000e-04\n",
            "\n",
            "Epoch 00038: LearningRateScheduler setting learning rate to 0.0002.\n",
            "Epoch 38/40\n",
            "129/131 [============================>.] - ETA: 0s - loss: 1.7810 - accuracy: 0.3156INFO:tensorflow:Assets written to: gdrive/My Drive/LossLandscape/SmallCNN_CheckpointID_1/small_cnn_checkpoint_37.tf/assets\n",
            "131/131 [==============================] - 7s 54ms/step - loss: 1.7814 - accuracy: 0.3154 - val_loss: 1.7375 - val_accuracy: 0.3401 - lr: 2.0000e-04\n",
            "\n",
            "Epoch 00039: LearningRateScheduler setting learning rate to 0.0002.\n",
            "Epoch 39/40\n",
            "129/131 [============================>.] - ETA: 0s - loss: 1.7837 - accuracy: 0.3163INFO:tensorflow:Assets written to: gdrive/My Drive/LossLandscape/SmallCNN_CheckpointID_1/small_cnn_checkpoint_38.tf/assets\n",
            "131/131 [==============================] - 8s 56ms/step - loss: 1.7834 - accuracy: 0.3164 - val_loss: 1.7375 - val_accuracy: 0.3388 - lr: 2.0000e-04\n",
            "\n",
            "Epoch 00040: LearningRateScheduler setting learning rate to 0.0002.\n",
            "Epoch 40/40\n",
            "130/131 [============================>.] - ETA: 0s - loss: 1.7808 - accuracy: 0.3150INFO:tensorflow:Assets written to: gdrive/My Drive/LossLandscape/SmallCNN_CheckpointID_1/small_cnn_checkpoint_39.tf/assets\n",
            "131/131 [==============================] - 7s 52ms/step - loss: 1.7806 - accuracy: 0.3150 - val_loss: 1.7403 - val_accuracy: 0.3372 - lr: 2.0000e-04\n",
            "Network takes 319.587 seconds to train\n"
          ]
        }
      ]
    },
    {
      "cell_type": "markdown",
      "metadata": {
        "id": "zKv6UHqM1I3Q"
      },
      "source": [
        "# Evaluate"
      ]
    },
    {
      "cell_type": "code",
      "metadata": {
        "id": "SO_E5WFAclHA",
        "colab": {
          "base_uri": "https://localhost:8080/"
        },
        "outputId": "b80031b0-4815-4cd9-b57e-cc79a0d9a4b0"
      },
      "source": [
        "loss, accuracy = model.evaluate(testloader, callbacks=[WandbCallback()])\n",
        "print(\"Test Error Rate: \", round((1-accuracy)*100, 2), '%')\n",
        "wandb.log({'Test Error Rate': round((1-accuracy)*100, 2)})"
      ],
      "execution_count": null,
      "outputs": [
        {
          "output_type": "stream",
          "name": "stdout",
          "text": [
            "27/27 [==============================] - 1s 25ms/step - loss: 1.7245 - accuracy: 0.3451\n",
            "Test Error Rate:  65.49 %\n"
          ]
        }
      ]
    },
    {
      "cell_type": "markdown",
      "metadata": {
        "id": "tjJP7P6E6xxP"
      },
      "source": [
        "# Investigating Load Landscape"
      ]
    },
    {
      "cell_type": "code",
      "metadata": {
        "colab": {
          "base_uri": "https://localhost:8080/"
        },
        "id": "13oRZ_uHPmKB",
        "outputId": "4e7fe577-1719-4a91-951d-66e4c901ddc6"
      },
      "source": [
        "# Load the model! - this directory contain folders of the model at each epoch\n",
        "ROOT_PATH = 'gdrive/My Drive/LossLandscape/'\n",
        "## SmallCNN model checkpoint for each epoch(total 40 epochs)\n",
        "MODEL_PATH = ROOT_PATH+'SmallCNN_CheckpointID_1/'\n",
        "same_model_ckpts = os.listdir(MODEL_PATH)\n",
        "print(len(same_model_ckpts))"
      ],
      "execution_count": null,
      "outputs": [
        {
          "output_type": "stream",
          "name": "stdout",
          "text": [
            "40\n"
          ]
        }
      ]
    },
    {
      "cell_type": "code",
      "metadata": {
        "colab": {
          "base_uri": "https://localhost:8080/"
        },
        "id": "4Xu4yVAtQLrN",
        "outputId": "f1a44f5f-23de-4130-ebde-6398eaf4fd1b"
      },
      "source": [
        "# sort the models\n",
        "# https://stackoverflow.com/a/2669120/7636462\n",
        "import re \n",
        "\n",
        "def sorted_nicely(l): \n",
        "    \"\"\" Sort the given iterable in the way that humans expect.\"\"\" \n",
        "    convert = lambda text: int(text) if text.isdigit() else text \n",
        "    alphanum_key = lambda key: [ convert(c) for c in re.split('([0-9]+)', key) ] \n",
        "    return sorted(l, key = alphanum_key)\n",
        "\n",
        "same_model_ckpts = sorted_nicely(same_model_ckpts)\n",
        "same_model_ckpts[:5]"
      ],
      "execution_count": null,
      "outputs": [
        {
          "output_type": "execute_result",
          "data": {
            "text/plain": [
              "['small_cnn_checkpoint_0.tf',\n",
              " 'small_cnn_checkpoint_1.tf',\n",
              " 'small_cnn_checkpoint_2.tf',\n",
              " 'small_cnn_checkpoint_3.tf',\n",
              " 'small_cnn_checkpoint_4.tf']"
            ]
          },
          "metadata": {},
          "execution_count": 21
        }
      ]
    },
    {
      "cell_type": "code",
      "metadata": {
        "id": "p34FOz6YMOUs"
      },
      "source": [
        "NUM_EXAMPLES = 1024\n",
        "NUM_CLASSES = 10\n",
        "test_tsne_ds = testloader.unbatch().take(NUM_EXAMPLES).batch(BATCH_SIZE)"
      ],
      "execution_count": null,
      "outputs": []
    },
    {
      "cell_type": "code",
      "metadata": {
        "id": "vgkgZowYMWXv"
      },
      "source": [
        "# Given model and test data, return true_labels and predictions.\n",
        "def evaluate_tsne(test_dataloader, model):\n",
        "  true_labels = []\n",
        "  pred_labels = []\n",
        "  \n",
        "  for imgs, labels in iter(test_dataloader):\n",
        "    preds = model.predict(imgs)\n",
        "    # preds will be a 3 x 10 array (128 x 3 x 10)\n",
        "    # labels will be 3 x 1 array ? (128 x 3 x 1)\n",
        "    \n",
        "    true_labels.extend(labels)\n",
        "    pred_labels.extend(preds) ## change here \n",
        "  \n",
        "  # Shape of the returned values: (1024, 3, 1) alt (1024, 3, 10) \n",
        "\n",
        "  return np.array(true_labels), np.array(pred_labels)"
      ],
      "execution_count": null,
      "outputs": []
    },
    {
      "cell_type": "code",
      "metadata": {
        "colab": {
          "base_uri": "https://localhost:8080/"
        },
        "id": "HDlgQe9AMbTs",
        "outputId": "5b2ef638-6344-40b1-9e7f-1af8c3052480"
      },
      "source": [
        "NUM_TRAJECTORIES = 3 # This is now instead used for the number of subnetworks\n",
        "\n",
        "predictions_for_tsne = []\n",
        "\n",
        "model_files = same_model_ckpts\n",
        "predictions_1 = []\n",
        "predictions_2 = []\n",
        "predictions_3 = []\n",
        "for model_file in model_files:\n",
        "  if model_file=='small_cnn_checkpoint_5.tf': # this check is because this model checkpoint didn't serialize properly.\n",
        "    continue\n",
        "  model = tf.keras.models.load_model(MODEL_PATH+'/'+model_file)\n",
        "\n",
        "  _, preds = evaluate_tsne(test_tsne_ds, model)\n",
        "\n",
        "  # ADDED: subdivide into predictions of the 3 subnetworks\n",
        "  # Shape: (1024, 3, 10) -> 3 x (1024, 10)\n",
        "  preds_arr = []\n",
        "  for i in range(3):\n",
        "    preds_curr = preds[:, i:i+1, :]\n",
        "    preds_curr = np.reshape(preds_curr, (1024, 10))\n",
        "    if i is 0:\n",
        "      predictions_1.append(preds_curr)\n",
        "    elif i is 1:\n",
        "      predictions_2.append(preds_curr)\n",
        "    else:\n",
        "      predictions_3.append(preds_curr)\n",
        "\n",
        "predictions_1 = np.array(predictions_1)\n",
        "predictions_2 = np.array(predictions_2)\n",
        "predictions_3 = np.array(predictions_3)\n",
        "print(predictions_1.shape)\n",
        "predictions_for_tsne.append(predictions_1)\n",
        "predictions_for_tsne.append(predictions_2)\n",
        "predictions_for_tsne.append(predictions_3)\n",
        "\n",
        "# convert list to array\n",
        "predictions_for_tsne = np.array(predictions_for_tsne)\n",
        "print('[INFO] shape of predictions tensor: ', predictions_for_tsne.shape)\n",
        "\n",
        "# reshape the tensor \n",
        "reshaped_predictions_for_tsne = predictions_for_tsne.reshape([-1, NUM_EXAMPLES*NUM_CLASSES])\n",
        "print('[INFO] shape of reshaped tensor: ', reshaped_predictions_for_tsne.shape)"
      ],
      "execution_count": null,
      "outputs": [
        {
          "output_type": "stream",
          "name": "stdout",
          "text": [
            "(39, 1024, 10)\n",
            "[INFO] shape of predictions tensor:  (3, 39, 1024, 10)\n",
            "[INFO] shape of reshaped tensor:  (117, 10240)\n"
          ]
        }
      ]
    },
    {
      "cell_type": "code",
      "metadata": {
        "colab": {
          "base_uri": "https://localhost:8080/"
        },
        "id": "HjnPSUdRMkda",
        "outputId": "b229bfcd-9e96-40fe-c89c-fe1787eacfb8"
      },
      "source": [
        "from sklearn.manifold import TSNE\n",
        "\n",
        "# initialize tsne object\n",
        "tsne = TSNE(n_components=2)\n",
        "# compute tsne\n",
        "prediction_embed = tsne.fit_transform(reshaped_predictions_for_tsne)\n",
        "print('[INFO] Shape of embedded tensor: ', prediction_embed.shape)\n",
        "# reshape\n",
        "trajectory_embed = prediction_embed.reshape([NUM_TRAJECTORIES, -1, 2])\n",
        "print('[INFO] Shape of reshaped tensor: ', trajectory_embed.shape)"
      ],
      "execution_count": null,
      "outputs": [
        {
          "output_type": "stream",
          "name": "stderr",
          "text": [
            "/usr/local/lib/python3.7/dist-packages/sklearn/manifold/_t_sne.py:783: FutureWarning: The default initialization in TSNE will change from 'random' to 'pca' in 1.2.\n",
            "  FutureWarning,\n",
            "/usr/local/lib/python3.7/dist-packages/sklearn/manifold/_t_sne.py:793: FutureWarning: The default learning rate in TSNE will change from 200.0 to 'auto' in 1.2.\n",
            "  FutureWarning,\n"
          ]
        },
        {
          "output_type": "stream",
          "name": "stdout",
          "text": [
            "[INFO] Shape of embedded tensor:  (117, 2)\n",
            "[INFO] Shape of reshaped tensor:  (3, 39, 2)\n"
          ]
        }
      ]
    },
    {
      "cell_type": "code",
      "metadata": {
        "colab": {
          "base_uri": "https://localhost:8080/",
          "height": 457
        },
        "id": "a792KNt2MoYH",
        "outputId": "d92fe1ab-a44a-4989-fe9e-e929ae2328f4"
      },
      "source": [
        "# Plot\n",
        "plt.figure(constrained_layout=True, figsize=(6,6))\n",
        "\n",
        "colors_list=['r', 'b', 'g']\n",
        "labels_list = ['traj_{}'.format(i) for i in range(NUM_TRAJECTORIES)]\n",
        "for i in range(NUM_TRAJECTORIES):\n",
        "  plt.plot(trajectory_embed[i,:,0],trajectory_embed[i,:,1],color = colors_list[i], alpha = 0.8,linestyle = \"\", marker = \"o\")\n",
        "  plt.plot(trajectory_embed[i,:,0],trajectory_embed[i,:,1],color = colors_list[i], alpha = 0.3,linestyle = \"-\", marker = \"\")\n",
        "  plt.plot(trajectory_embed[i,0,0],trajectory_embed[i,0,1],color = colors_list[i], alpha = 1.0,linestyle = \"\", marker = \"*\")\n",
        "\n",
        "plt.savefig('loss_landscape_2d.png')"
      ],
      "execution_count": null,
      "outputs": [
        {
          "output_type": "display_data",
          "data": {
            "image/png": "[encoded data removed]",
            "text/plain": [
              "<Figure size 432x432 with 1 Axes>"
            ]
          },
          "metadata": {
            "needs_background": "light"
          }
        }
      ]
    },
    {
      "cell_type": "code",
      "metadata": {
        "id": "i07rE47iMs76"
      },
      "source": [
        "wandb.init(entity='filippak', project='loss-landscape', id='small_cnn_trajectory_investigation')\n",
        "wandb.log({'loss_landscape_2d': wandb.Image('loss_landscape_2d.png')})"
      ],
      "execution_count": null,
      "outputs": []
    },
    {
      "cell_type": "markdown",
      "metadata": {
        "id": "caY9-qQBg9yv"
      },
      "source": [
        ""
      ]
    }
  ]
}