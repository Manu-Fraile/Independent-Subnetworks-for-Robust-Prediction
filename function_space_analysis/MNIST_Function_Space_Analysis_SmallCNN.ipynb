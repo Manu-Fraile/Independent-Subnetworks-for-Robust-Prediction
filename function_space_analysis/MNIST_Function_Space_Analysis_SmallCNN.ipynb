{
  "nbformat": 4,
  "nbformat_minor": 0,
  "metadata": {
    "colab": {
      "name": "MNIST_Loss_Landscape_SmallCNN",
      "provenance": [],
      "collapsed_sections": []
    },
    "kernelspec": {
      "name": "python3",
      "display_name": "Python 3"
    },
    "accelerator": "GPU",
    "widgets": {
      "application/vnd.jupyter.widget-state+json": {
        "2e9bedfde61a4e17b5b36c604d998120": {
          "model_module": "@jupyter-widgets/controls",
          "model_name": "VBoxModel",
          "model_module_version": "1.5.0",
          "state": {
            "_view_name": "VBoxView",
            "_dom_classes": [],
            "_model_name": "VBoxModel",
            "_view_module": "@jupyter-widgets/controls",
            "_model_module_version": "1.5.0",
            "_view_count": null,
            "_view_module_version": "1.5.0",
            "box_style": "",
            "layout": "IPY_MODEL_d697ede513f54aa59b6c7f003f0cb5db",
            "_model_module": "@jupyter-widgets/controls",
            "children": [
              "IPY_MODEL_4b087ef54f3d4d8eb012cd2b8d376af5",
              "IPY_MODEL_98b9c942e08b4e148942d0a387e181a8"
            ]
          }
        },
        "d697ede513f54aa59b6c7f003f0cb5db": {
          "model_module": "@jupyter-widgets/base",
          "model_name": "LayoutModel",
          "model_module_version": "1.2.0",
          "state": {
            "_view_name": "LayoutView",
            "grid_template_rows": null,
            "right": null,
            "justify_content": null,
            "_view_module": "@jupyter-widgets/base",
            "overflow": null,
            "_model_module_version": "1.2.0",
            "_view_count": null,
            "flex_flow": null,
            "width": null,
            "min_width": null,
            "border": null,
            "align_items": null,
            "bottom": null,
            "_model_module": "@jupyter-widgets/base",
            "top": null,
            "grid_column": null,
            "overflow_y": null,
            "overflow_x": null,
            "grid_auto_flow": null,
            "grid_area": null,
            "grid_template_columns": null,
            "flex": null,
            "_model_name": "LayoutModel",
            "justify_items": null,
            "grid_row": null,
            "max_height": null,
            "align_content": null,
            "visibility": null,
            "align_self": null,
            "height": null,
            "min_height": null,
            "padding": null,
            "grid_auto_rows": null,
            "grid_gap": null,
            "max_width": null,
            "order": null,
            "_view_module_version": "1.2.0",
            "grid_template_areas": null,
            "object_position": null,
            "object_fit": null,
            "grid_auto_columns": null,
            "margin": null,
            "display": null,
            "left": null
          }
        },
        "4b087ef54f3d4d8eb012cd2b8d376af5": {
          "model_module": "@jupyter-widgets/controls",
          "model_name": "LabelModel",
          "model_module_version": "1.5.0",
          "state": {
            "_view_name": "LabelView",
            "style": "IPY_MODEL_94c6973446fa4b4b80d055de4eae7916",
            "_dom_classes": [],
            "description": "",
            "_model_name": "LabelModel",
            "placeholder": "​",
            "_view_module": "@jupyter-widgets/controls",
            "_model_module_version": "1.5.0",
            "value": " 0.01MB of 0.01MB uploaded (0.00MB deduped)\r",
            "_view_count": null,
            "_view_module_version": "1.5.0",
            "description_tooltip": null,
            "_model_module": "@jupyter-widgets/controls",
            "layout": "IPY_MODEL_2199eb3eb9644150a774a85a736e13d4"
          }
        },
        "98b9c942e08b4e148942d0a387e181a8": {
          "model_module": "@jupyter-widgets/controls",
          "model_name": "FloatProgressModel",
          "model_module_version": "1.5.0",
          "state": {
            "_view_name": "ProgressView",
            "style": "IPY_MODEL_1f34be3179a545e09eb543f2b0a4a87a",
            "_dom_classes": [],
            "description": "",
            "_model_name": "FloatProgressModel",
            "bar_style": "",
            "max": 1,
            "_view_module": "@jupyter-widgets/controls",
            "_model_module_version": "1.5.0",
            "value": 1,
            "_view_count": null,
            "_view_module_version": "1.5.0",
            "orientation": "horizontal",
            "min": 0,
            "description_tooltip": null,
            "_model_module": "@jupyter-widgets/controls",
            "layout": "IPY_MODEL_5f72ec20f8eb4541ace59faa8ac88576"
          }
        },
        "94c6973446fa4b4b80d055de4eae7916": {
          "model_module": "@jupyter-widgets/controls",
          "model_name": "DescriptionStyleModel",
          "model_module_version": "1.5.0",
          "state": {
            "_view_name": "StyleView",
            "_model_name": "DescriptionStyleModel",
            "description_width": "",
            "_view_module": "@jupyter-widgets/base",
            "_model_module_version": "1.5.0",
            "_view_count": null,
            "_view_module_version": "1.2.0",
            "_model_module": "@jupyter-widgets/controls"
          }
        },
        "2199eb3eb9644150a774a85a736e13d4": {
          "model_module": "@jupyter-widgets/base",
          "model_name": "LayoutModel",
          "model_module_version": "1.2.0",
          "state": {
            "_view_name": "LayoutView",
            "grid_template_rows": null,
            "right": null,
            "justify_content": null,
            "_view_module": "@jupyter-widgets/base",
            "overflow": null,
            "_model_module_version": "1.2.0",
            "_view_count": null,
            "flex_flow": null,
            "width": null,
            "min_width": null,
            "border": null,
            "align_items": null,
            "bottom": null,
            "_model_module": "@jupyter-widgets/base",
            "top": null,
            "grid_column": null,
            "overflow_y": null,
            "overflow_x": null,
            "grid_auto_flow": null,
            "grid_area": null,
            "grid_template_columns": null,
            "flex": null,
            "_model_name": "LayoutModel",
            "justify_items": null,
            "grid_row": null,
            "max_height": null,
            "align_content": null,
            "visibility": null,
            "align_self": null,
            "height": null,
            "min_height": null,
            "padding": null,
            "grid_auto_rows": null,
            "grid_gap": null,
            "max_width": null,
            "order": null,
            "_view_module_version": "1.2.0",
            "grid_template_areas": null,
            "object_position": null,
            "object_fit": null,
            "grid_auto_columns": null,
            "margin": null,
            "display": null,
            "left": null
          }
        },
        "1f34be3179a545e09eb543f2b0a4a87a": {
          "model_module": "@jupyter-widgets/controls",
          "model_name": "ProgressStyleModel",
          "model_module_version": "1.5.0",
          "state": {
            "_view_name": "StyleView",
            "_model_name": "ProgressStyleModel",
            "description_width": "",
            "_view_module": "@jupyter-widgets/base",
            "_model_module_version": "1.5.0",
            "_view_count": null,
            "_view_module_version": "1.2.0",
            "bar_color": null,
            "_model_module": "@jupyter-widgets/controls"
          }
        },
        "5f72ec20f8eb4541ace59faa8ac88576": {
          "model_module": "@jupyter-widgets/base",
          "model_name": "LayoutModel",
          "model_module_version": "1.2.0",
          "state": {
            "_view_name": "LayoutView",
            "grid_template_rows": null,
            "right": null,
            "justify_content": null,
            "_view_module": "@jupyter-widgets/base",
            "overflow": null,
            "_model_module_version": "1.2.0",
            "_view_count": null,
            "flex_flow": null,
            "width": null,
            "min_width": null,
            "border": null,
            "align_items": null,
            "bottom": null,
            "_model_module": "@jupyter-widgets/base",
            "top": null,
            "grid_column": null,
            "overflow_y": null,
            "overflow_x": null,
            "grid_auto_flow": null,
            "grid_area": null,
            "grid_template_columns": null,
            "flex": null,
            "_model_name": "LayoutModel",
            "justify_items": null,
            "grid_row": null,
            "max_height": null,
            "align_content": null,
            "visibility": null,
            "align_self": null,
            "height": null,
            "min_height": null,
            "padding": null,
            "grid_auto_rows": null,
            "grid_gap": null,
            "max_width": null,
            "order": null,
            "_view_module_version": "1.2.0",
            "grid_template_areas": null,
            "object_position": null,
            "object_fit": null,
            "grid_auto_columns": null,
            "margin": null,
            "display": null,
            "left": null
          }
        },
        "0bac66b3f639484190fc1b7e1e1c731d": {
          "model_module": "@jupyter-widgets/controls",
          "model_name": "VBoxModel",
          "model_module_version": "1.5.0",
          "state": {
            "_view_name": "VBoxView",
            "_dom_classes": [],
            "_model_name": "VBoxModel",
            "_view_module": "@jupyter-widgets/controls",
            "_model_module_version": "1.5.0",
            "_view_count": null,
            "_view_module_version": "1.5.0",
            "box_style": "",
            "layout": "IPY_MODEL_658c40c28b504e7a91ef0f0e85d57647",
            "_model_module": "@jupyter-widgets/controls",
            "children": [
              "IPY_MODEL_287e5af3cf284966b45cafeab6ebcd79",
              "IPY_MODEL_9218baedba484c24987e3f54203a80af"
            ]
          }
        },
        "658c40c28b504e7a91ef0f0e85d57647": {
          "model_module": "@jupyter-widgets/base",
          "model_name": "LayoutModel",
          "model_module_version": "1.2.0",
          "state": {
            "_view_name": "LayoutView",
            "grid_template_rows": null,
            "right": null,
            "justify_content": null,
            "_view_module": "@jupyter-widgets/base",
            "overflow": null,
            "_model_module_version": "1.2.0",
            "_view_count": null,
            "flex_flow": null,
            "width": null,
            "min_width": null,
            "border": null,
            "align_items": null,
            "bottom": null,
            "_model_module": "@jupyter-widgets/base",
            "top": null,
            "grid_column": null,
            "overflow_y": null,
            "overflow_x": null,
            "grid_auto_flow": null,
            "grid_area": null,
            "grid_template_columns": null,
            "flex": null,
            "_model_name": "LayoutModel",
            "justify_items": null,
            "grid_row": null,
            "max_height": null,
            "align_content": null,
            "visibility": null,
            "align_self": null,
            "height": null,
            "min_height": null,
            "padding": null,
            "grid_auto_rows": null,
            "grid_gap": null,
            "max_width": null,
            "order": null,
            "_view_module_version": "1.2.0",
            "grid_template_areas": null,
            "object_position": null,
            "object_fit": null,
            "grid_auto_columns": null,
            "margin": null,
            "display": null,
            "left": null
          }
        },
        "287e5af3cf284966b45cafeab6ebcd79": {
          "model_module": "@jupyter-widgets/controls",
          "model_name": "LabelModel",
          "model_module_version": "1.5.0",
          "state": {
            "_view_name": "LabelView",
            "style": "IPY_MODEL_32236daf17a24a38bc0eda6dd12840f2",
            "_dom_classes": [],
            "description": "",
            "_model_name": "LabelModel",
            "placeholder": "​",
            "_view_module": "@jupyter-widgets/controls",
            "_model_module_version": "1.5.0",
            "value": " 0.28MB of 0.28MB uploaded (0.00MB deduped)\r",
            "_view_count": null,
            "_view_module_version": "1.5.0",
            "description_tooltip": null,
            "_model_module": "@jupyter-widgets/controls",
            "layout": "IPY_MODEL_2ba3f6ae86f64a928612a28fd34138c9"
          }
        },
        "9218baedba484c24987e3f54203a80af": {
          "model_module": "@jupyter-widgets/controls",
          "model_name": "FloatProgressModel",
          "model_module_version": "1.5.0",
          "state": {
            "_view_name": "ProgressView",
            "style": "IPY_MODEL_e999b78109634b48a3809f173e73a5f8",
            "_dom_classes": [],
            "description": "",
            "_model_name": "FloatProgressModel",
            "bar_style": "",
            "max": 1,
            "_view_module": "@jupyter-widgets/controls",
            "_model_module_version": "1.5.0",
            "value": 1,
            "_view_count": null,
            "_view_module_version": "1.5.0",
            "orientation": "horizontal",
            "min": 0,
            "description_tooltip": null,
            "_model_module": "@jupyter-widgets/controls",
            "layout": "IPY_MODEL_5b4e6e53faf44e6aa158f9c76647011b"
          }
        },
        "32236daf17a24a38bc0eda6dd12840f2": {
          "model_module": "@jupyter-widgets/controls",
          "model_name": "DescriptionStyleModel",
          "model_module_version": "1.5.0",
          "state": {
            "_view_name": "StyleView",
            "_model_name": "DescriptionStyleModel",
            "description_width": "",
            "_view_module": "@jupyter-widgets/base",
            "_model_module_version": "1.5.0",
            "_view_count": null,
            "_view_module_version": "1.2.0",
            "_model_module": "@jupyter-widgets/controls"
          }
        },
        "2ba3f6ae86f64a928612a28fd34138c9": {
          "model_module": "@jupyter-widgets/base",
          "model_name": "LayoutModel",
          "model_module_version": "1.2.0",
          "state": {
            "_view_name": "LayoutView",
            "grid_template_rows": null,
            "right": null,
            "justify_content": null,
            "_view_module": "@jupyter-widgets/base",
            "overflow": null,
            "_model_module_version": "1.2.0",
            "_view_count": null,
            "flex_flow": null,
            "width": null,
            "min_width": null,
            "border": null,
            "align_items": null,
            "bottom": null,
            "_model_module": "@jupyter-widgets/base",
            "top": null,
            "grid_column": null,
            "overflow_y": null,
            "overflow_x": null,
            "grid_auto_flow": null,
            "grid_area": null,
            "grid_template_columns": null,
            "flex": null,
            "_model_name": "LayoutModel",
            "justify_items": null,
            "grid_row": null,
            "max_height": null,
            "align_content": null,
            "visibility": null,
            "align_self": null,
            "height": null,
            "min_height": null,
            "padding": null,
            "grid_auto_rows": null,
            "grid_gap": null,
            "max_width": null,
            "order": null,
            "_view_module_version": "1.2.0",
            "grid_template_areas": null,
            "object_position": null,
            "object_fit": null,
            "grid_auto_columns": null,
            "margin": null,
            "display": null,
            "left": null
          }
        },
        "e999b78109634b48a3809f173e73a5f8": {
          "model_module": "@jupyter-widgets/controls",
          "model_name": "ProgressStyleModel",
          "model_module_version": "1.5.0",
          "state": {
            "_view_name": "StyleView",
            "_model_name": "ProgressStyleModel",
            "description_width": "",
            "_view_module": "@jupyter-widgets/base",
            "_model_module_version": "1.5.0",
            "_view_count": null,
            "_view_module_version": "1.2.0",
            "bar_color": null,
            "_model_module": "@jupyter-widgets/controls"
          }
        },
        "5b4e6e53faf44e6aa158f9c76647011b": {
          "model_module": "@jupyter-widgets/base",
          "model_name": "LayoutModel",
          "model_module_version": "1.2.0",
          "state": {
            "_view_name": "LayoutView",
            "grid_template_rows": null,
            "right": null,
            "justify_content": null,
            "_view_module": "@jupyter-widgets/base",
            "overflow": null,
            "_model_module_version": "1.2.0",
            "_view_count": null,
            "flex_flow": null,
            "width": null,
            "min_width": null,
            "border": null,
            "align_items": null,
            "bottom": null,
            "_model_module": "@jupyter-widgets/base",
            "top": null,
            "grid_column": null,
            "overflow_y": null,
            "overflow_x": null,
            "grid_auto_flow": null,
            "grid_area": null,
            "grid_template_columns": null,
            "flex": null,
            "_model_name": "LayoutModel",
            "justify_items": null,
            "grid_row": null,
            "max_height": null,
            "align_content": null,
            "visibility": null,
            "align_self": null,
            "height": null,
            "min_height": null,
            "padding": null,
            "grid_auto_rows": null,
            "grid_gap": null,
            "max_width": null,
            "order": null,
            "_view_module_version": "1.2.0",
            "grid_template_areas": null,
            "object_position": null,
            "object_fit": null,
            "grid_auto_columns": null,
            "margin": null,
            "display": null,
            "left": null
          }
        }
      }
    }
  },
  "cells": [
    {
      "cell_type": "markdown",
      "metadata": {
        "id": "GKzu9hbgqw2x"
      },
      "source": [
        "# Setups, Installations and Imports"
      ]
    },
    {
      "cell_type": "markdown",
      "metadata": {
        "id": "w2Ht3U3PkXNT"
      },
      "source": [
        "This loss landscape analysis for MIMO is originally borrowed from the paper *Deep Ensembles: A Loss Landscape Perspective* by Fort et. al.\n",
        "Code is available here: https://github.com/ayulockin/LossLandscape\n"
      ]
    },
    {
      "cell_type": "code",
      "metadata": {
        "id": "YT_P8aSjO-ps",
        "colab": {
          "base_uri": "https://localhost:8080/"
        },
        "outputId": "f68ff6dd-c7ad-41cc-f113-0eae530a944c"
      },
      "source": [
        "!nvidia-smi"
      ],
      "execution_count": 1,
      "outputs": [
        {
          "output_type": "stream",
          "name": "stdout",
          "text": [
            "Fri Nov 26 14:11:26 2021       \n",
            "+-----------------------------------------------------------------------------+\n",
            "| NVIDIA-SMI 495.44       Driver Version: 460.32.03    CUDA Version: 11.2     |\n",
            "|-------------------------------+----------------------+----------------------+\n",
            "| GPU  Name        Persistence-M| Bus-Id        Disp.A | Volatile Uncorr. ECC |\n",
            "| Fan  Temp  Perf  Pwr:Usage/Cap|         Memory-Usage | GPU-Util  Compute M. |\n",
            "|                               |                      |               MIG M. |\n",
            "|===============================+======================+======================|\n",
            "|   0  Tesla K80           Off  | 00000000:00:04.0 Off |                    0 |\n",
            "| N/A   72C    P8    32W / 149W |      0MiB / 11441MiB |      0%      Default |\n",
            "|                               |                      |                  N/A |\n",
            "+-------------------------------+----------------------+----------------------+\n",
            "                                                                               \n",
            "+-----------------------------------------------------------------------------+\n",
            "| Processes:                                                                  |\n",
            "|  GPU   GI   CI        PID   Type   Process name                  GPU Memory |\n",
            "|        ID   ID                                                   Usage      |\n",
            "|=============================================================================|\n",
            "|  No running processes found                                                 |\n",
            "+-----------------------------------------------------------------------------+\n"
          ]
        }
      ]
    },
    {
      "cell_type": "code",
      "metadata": {
        "id": "rQAggd-btWJK",
        "colab": {
          "base_uri": "https://localhost:8080/"
        },
        "outputId": "74bc5db8-2a5a-4928-f072-1d27f3bf81f6"
      },
      "source": [
        "## This is so that I can save my models.\n",
        "from google.colab import drive\n",
        "drive.mount('gdrive')"
      ],
      "execution_count": 2,
      "outputs": [
        {
          "output_type": "stream",
          "name": "stdout",
          "text": [
            "Mounted at gdrive\n"
          ]
        }
      ]
    },
    {
      "cell_type": "code",
      "metadata": {
        "id": "sAZBTFNQq0ys"
      },
      "source": [
        "%%capture \n",
        "!pip install wandb"
      ],
      "execution_count": 3,
      "outputs": []
    },
    {
      "cell_type": "code",
      "metadata": {
        "id": "9-APP7-6C5uK"
      },
      "source": [
        "import tensorflow as tf\n",
        "\n",
        "from tensorflow import keras\n",
        "from tensorflow.keras.datasets import cifar10, mnist\n",
        "from tensorflow.keras.applications import resnet50\n"
      ],
      "execution_count": 4,
      "outputs": []
    },
    {
      "cell_type": "code",
      "metadata": {
        "id": "3Pr3HrMxq8SF"
      },
      "source": [
        "import os\n",
        "os.environ[\"TF_DETERMINISTIC_OPS\"] = \"1\"\n",
        "import time\n",
        "\n",
        "import numpy as np\n",
        "import pandas as pd\n",
        "import matplotlib.pyplot as plt\n",
        "\n",
        "%matplotlib inline\n",
        "\n",
        "import io\n",
        "import itertools\n",
        "from sklearn.metrics import confusion_matrix"
      ],
      "execution_count": 5,
      "outputs": []
    },
    {
      "cell_type": "code",
      "metadata": {
        "id": "XmVkQbw_q_07",
        "colab": {
          "base_uri": "https://localhost:8080/",
          "height": 68
        },
        "outputId": "79c7b540-6146-4284-850e-dc7c4467a405"
      },
      "source": [
        "import wandb\n",
        "from wandb.keras import WandbCallback\n",
        "\n",
        "wandb.login()"
      ],
      "execution_count": 6,
      "outputs": [
        {
          "output_type": "display_data",
          "data": {
            "application/javascript": [
              "\n",
              "        window._wandbApiKey = new Promise((resolve, reject) => {\n",
              "            function loadScript(url) {\n",
              "            return new Promise(function(resolve, reject) {\n",
              "                let newScript = document.createElement(\"script\");\n",
              "                newScript.onerror = reject;\n",
              "                newScript.onload = resolve;\n",
              "                document.body.appendChild(newScript);\n",
              "                newScript.src = url;\n",
              "            });\n",
              "            }\n",
              "            loadScript(\"https://cdn.jsdelivr.net/npm/postmate/build/postmate.min.js\").then(() => {\n",
              "            const iframe = document.createElement('iframe')\n",
              "            iframe.style.cssText = \"width:0;height:0;border:none\"\n",
              "            document.body.appendChild(iframe)\n",
              "            const handshake = new Postmate({\n",
              "                container: iframe,\n",
              "                url: 'https://wandb.ai/authorize'\n",
              "            });\n",
              "            const timeout = setTimeout(() => reject(\"Couldn't auto authenticate\"), 5000)\n",
              "            handshake.then(function(child) {\n",
              "                child.on('authorize', data => {\n",
              "                    clearTimeout(timeout)\n",
              "                    resolve(data)\n",
              "                });\n",
              "            });\n",
              "            })\n",
              "        });\n",
              "    "
            ],
            "text/plain": [
              "<IPython.core.display.Javascript object>"
            ]
          },
          "metadata": {}
        },
        {
          "output_type": "stream",
          "name": "stderr",
          "text": [
            "\u001b[34m\u001b[1mwandb\u001b[0m: Appending key for api.wandb.ai to your netrc file: /root/.netrc\n"
          ]
        },
        {
          "output_type": "execute_result",
          "data": {
            "text/plain": [
              "True"
            ]
          },
          "metadata": {},
          "execution_count": 6
        }
      ]
    },
    {
      "cell_type": "markdown",
      "metadata": {
        "id": "M3Ln8W0Aru8X"
      },
      "source": [
        "# Download and Prepare Dataset"
      ]
    },
    {
      "cell_type": "markdown",
      "metadata": {
        "id": "_LNJ383ihWUO"
      },
      "source": [
        "#### MNIST"
      ]
    },
    {
      "cell_type": "code",
      "metadata": {
        "colab": {
          "base_uri": "https://localhost:8080/"
        },
        "id": "uWszaPM5hbDI",
        "outputId": "5c1392df-93c0-497c-b83c-ad8c8ed55da3"
      },
      "source": [
        "(x_train, y_train), (x_test, y_test) = mnist.load_data()\n",
        "\n",
        "CLASS_NAMES = (\"0\", \"1\", \"2\", \"3\", \"4\", \"5\", \"6\", \"7\", \"8\", \"9\")\n",
        "print(x_train.shape, y_train.shape, x_test.shape, y_test.shape)"
      ],
      "execution_count": 7,
      "outputs": [
        {
          "output_type": "stream",
          "name": "stdout",
          "text": [
            "Downloading data from https://storage.googleapis.com/tensorflow/tf-keras-datasets/mnist.npz\n",
            "11493376/11490434 [==============================] - 0s 0us/step\n",
            "11501568/11490434 [==============================] - 0s 0us/step\n",
            "(60000, 28, 28) (60000,) (10000, 28, 28) (10000,)\n"
          ]
        }
      ]
    },
    {
      "cell_type": "markdown",
      "metadata": {
        "id": "QZzY01xwxS-f"
      },
      "source": [
        "#### Dataloader"
      ]
    },
    {
      "cell_type": "code",
      "metadata": {
        "id": "6TqcgM67xxDF",
        "colab": {
          "base_uri": "https://localhost:8080/"
        },
        "outputId": "af8beb19-6369-4473-a889-b8ebb8759a9b"
      },
      "source": [
        "AUTO = tf.data.experimental.AUTOTUNE\n",
        "BATCH_SIZE = 128\n",
        "IMG_SHAPE = 28 # 28 for MNIST and 32 for CIFAR-10\n",
        "M = 3\n",
        "tf.random.set_seed(1)\n",
        "\n",
        "# For MNIST: \n",
        "# reshape to fit to model. Add dim for the 1 color channel\n",
        "x_train = np.expand_dims(x_train, axis=3)\n",
        "y_train = np.expand_dims(y_train, axis=1)\n",
        "x_test = np.expand_dims(x_test, axis=3)\n",
        "y_test = np.expand_dims(y_test, axis=1)\n",
        "# Remove some datapoints to make sets divisable by 3 (so that all batches have size 3)\n",
        "x_test = x_test[:9999,:,:,:]\n",
        "y_test = y_test[:9999,:]\n",
        "\n",
        "trainloader = tf.data.Dataset.from_tensor_slices((x_train, y_train))\n",
        "testloader = tf.data.Dataset.from_tensor_slices((x_test, y_test))\n",
        "\n",
        "def preprocess_image(image, label):\n",
        "  img = tf.cast(image, tf.float32)\n",
        "  img = img/255.\n",
        "\n",
        "  return img, label\n",
        "\n",
        "trainloader_1 = (\n",
        "    trainloader\n",
        "    .shuffle(1024)\n",
        "    .map(preprocess_image, num_parallel_calls=AUTO)\n",
        "    .batch(3)\n",
        "    .prefetch(AUTO)\n",
        ")\n",
        "trainloader = (\n",
        "    trainloader_1\n",
        "    .shuffle(1024)\n",
        "    .batch(BATCH_SIZE)\n",
        "    .prefetch(AUTO)\n",
        ")\n",
        "\n",
        "testloader_1 = (\n",
        "    testloader\n",
        "    .map(preprocess_image, num_parallel_calls=AUTO)\n",
        "    .batch(3) # tried drop_remainder=True\n",
        "    .prefetch(AUTO)\n",
        ")\n",
        "\n",
        "testloader = (\n",
        "    testloader_1\n",
        "    .batch(BATCH_SIZE)\n",
        "    .prefetch(AUTO)\n",
        ")"
      ],
      "execution_count": 8,
      "outputs": [
        {
          "output_type": "stream",
          "name": "stdout",
          "text": [
            "cropped x_test:  (9999, 28, 28, 1)\n"
          ]
        }
      ]
    },
    {
      "cell_type": "markdown",
      "metadata": {
        "id": "W2xrs00QuVG3"
      },
      "source": [
        "# Model"
      ]
    },
    {
      "cell_type": "code",
      "metadata": {
        "id": "AmvmoCjza5vk"
      },
      "source": [
        "# Dense multihead for multiple outputs, as Implemented in the MIMO paper.\n",
        "# Here applied to the Loss Landscape analysis\n",
        "# coding=utf-8\n",
        "# Copyright 2020 The <> Authors.\n",
        "#\n",
        "# Licensed under the Apache License, Version 2.0 (the \"License\");\n",
        "# you may not use this file except in compliance with the License.\n",
        "# You may obtain a copy of the License at\n",
        "\n",
        "class DenseMultihead(tf.keras.layers.Dense):\n",
        "    \"\"\"Multiheaded output layer.\"\"\"\n",
        "\n",
        "    def __init__(self,\n",
        "                 units,\n",
        "                 ensemble_size=1,\n",
        "                 activation=None,\n",
        "                 use_bias=True,\n",
        "                 kernel_initializer='glorot_uniform',\n",
        "                 bias_initializer='zeros',\n",
        "                 kernel_regularizer=None,\n",
        "                 bias_regularizer=None,\n",
        "                 activity_regularizer=None,\n",
        "                 kernel_constraint=None,\n",
        "                 bias_constraint=None,\n",
        "                 **kwargs):\n",
        "        super().__init__(\n",
        "            units=units * ensemble_size,\n",
        "            activation=activation,\n",
        "            use_bias=use_bias,\n",
        "            kernel_initializer=kernel_initializer,\n",
        "            bias_initializer=bias_initializer,\n",
        "            kernel_regularizer=kernel_regularizer,\n",
        "            bias_regularizer=bias_regularizer,\n",
        "            activity_regularizer=activity_regularizer,\n",
        "            kernel_constraint=kernel_constraint,\n",
        "            bias_constraint=bias_constraint,\n",
        "            **kwargs)\n",
        "        self.ensemble_size = ensemble_size\n",
        "\n",
        "    def call(self, inputs):\n",
        "        batch_size = tf.shape(inputs)[0]\n",
        "        # NOTE: This restricts this layer from being called on tensors of ndim > 2.\n",
        "        outputs = super().call(inputs)\n",
        "        outputs = tf.reshape(outputs, [batch_size,\n",
        "                                       self.ensemble_size,\n",
        "                                       self.units // self.ensemble_size])\n",
        "        return outputs\n",
        "\n",
        "    def get_config(self):\n",
        "        config = {\n",
        "            'units': self.units // self.ensemble_size,\n",
        "            'ensemble_size': self.ensemble_size,\n",
        "        }\n",
        "        new_config = super().get_config()\n",
        "        new_config.update(config)\n",
        "        return new_config"
      ],
      "execution_count": 9,
      "outputs": []
    },
    {
      "cell_type": "code",
      "metadata": {
        "id": "_Pv7-2VNsb5N"
      },
      "source": [
        "# Modified model to use the MIMO architecture\n",
        "def Model():\n",
        "  \"\"\"\n",
        "  Code from the mimo implementation\n",
        "  input_shape: tf.Tensor. The input shape must be (ensemble_size, width,\n",
        "      height, channels).\n",
        "  \"\"\"\n",
        "  num_classes = 10\n",
        "  ensemble_size = 3\n",
        "  input_shape = list([3, IMG_SHAPE, IMG_SHAPE, 1])\n",
        "  inputs = tf.keras.layers.Input(shape=input_shape)\n",
        "  x = tf.keras.layers.Permute([2, 3, 4, 1])(inputs)\n",
        "  if ensemble_size != input_shape[0]:\n",
        "      raise ValueError('the first dimension of input_shape must be ensemble_size')\n",
        "  x = tf.keras.layers.Reshape(input_shape[1:-1] +\n",
        "                                [input_shape[-1] * ensemble_size])(x)\n",
        "\n",
        "\n",
        "  x = keras.layers.Conv2D(16, (3,3), padding='same')(x)\n",
        "  x = keras.activations.relu(x)\n",
        "  x = keras.layers.MaxPooling2D(pool_size=(2, 2), strides=(1, 1))(x) # Tried with 1\n",
        "\n",
        "  x = keras.layers.Conv2D(32,(3,3), padding='same')(x)\n",
        "  x = keras.activations.relu(x)\n",
        "  x = keras.layers.MaxPooling2D(2, strides=2)(x)\n",
        "\n",
        "  x = keras.layers.Conv2D(32,(3,3), padding='same')(x)\n",
        "  x = keras.activations.relu(x)\n",
        "  x = keras.layers.MaxPooling2D(2, strides=2)(x)\n",
        "\n",
        "  x = keras.layers.GlobalAveragePooling2D()(x)\n",
        "  x = keras.layers.Dense(32, activation='relu')(x)\n",
        "  x = keras.layers.Dropout(0.1)(x)\n",
        "  \n",
        "  # outputs = keras.layers.Dense(10, activation='softmax')(x)\n",
        "  \"\"\"\n",
        "  Outputs as prensented in the MIMO paper (taken from their implementation)\n",
        "  \"\"\"\n",
        "  outputs = DenseMultihead(\n",
        "        num_classes,\n",
        "        kernel_initializer='he_normal', # TODO: check this! what should this be?\n",
        "        activation='softmax', # this is changed from the MIMO implementation\n",
        "        ensemble_size=ensemble_size)(x)\n",
        "\n",
        "  return keras.models.Model(inputs=inputs, outputs=outputs)"
      ],
      "execution_count": 21,
      "outputs": []
    },
    {
      "cell_type": "code",
      "metadata": {
        "id": "o9A69Z8kgBks",
        "colab": {
          "base_uri": "https://localhost:8080/",
          "height": 1000
        },
        "outputId": "266c3a2d-6e32-4552-ef79-7fbf0d99058d"
      },
      "source": [
        "tf.keras.backend.clear_session()\n",
        "model = Model()\n",
        "\n",
        "tf.keras.utils.plot_model(\n",
        "    model, to_file='small_cnn.png', show_shapes=True, show_layer_names=True, dpi=65\n",
        ")"
      ],
      "execution_count": 22,
      "outputs": [
        {
          "output_type": "stream",
          "name": "stdout",
          "text": [
            "final shape:  [28, 28, 3]\n"
          ]
        },
        {
          "output_type": "execute_result",
          "data": {
            "image/png": "[encoded data removed]",
            "text/plain": [
              "<IPython.core.display.Image object>"
            ]
          },
          "metadata": {},
          "execution_count": 22
        }
      ]
    },
    {
      "cell_type": "markdown",
      "metadata": {
        "id": "nkxDAl8pv5pJ"
      },
      "source": [
        "# Callbacks"
      ]
    },
    {
      "cell_type": "markdown",
      "metadata": {
        "id": "B13auR7gDEao"
      },
      "source": [
        "#### LR Scheduler"
      ]
    },
    {
      "cell_type": "code",
      "metadata": {
        "id": "j4WY47Kxv8uN"
      },
      "source": [
        "# Custom LR schedule as mentioned in the LossLandscape paper\n",
        "LR_SCHEDULE = [\n",
        "    # (epoch to start, learning rate) tuples\n",
        "    (0, 1.6*1e-3),\n",
        "    (9, (1.6*1e-3)/2),\n",
        "    (19, (1.6*1e-3)/4),\n",
        "    (29, (1.6*1e-3)/8),\n",
        "]\n",
        "\n",
        "def lr_schedule(epoch):\n",
        "    if (epoch >= 0) & (epoch < 9):\n",
        "        return LR_SCHEDULE[0][1]\n",
        "    elif (epoch >= 9) & (epoch < 19):\n",
        "        return LR_SCHEDULE[1][1]\n",
        "    elif (epoch >= 19) & (epoch < 29):\n",
        "        return LR_SCHEDULE[2][1]\n",
        "    else:\n",
        "        return LR_SCHEDULE[3][1]\n",
        "\n",
        "lr_callback = tf.keras.callbacks.LearningRateScheduler(lambda epoch: lr_schedule(epoch), verbose=True)"
      ],
      "execution_count": 23,
      "outputs": []
    },
    {
      "cell_type": "markdown",
      "metadata": {
        "id": "SWDf_SqVDHUo"
      },
      "source": [
        "#### Model Checkpoint"
      ]
    },
    {
      "cell_type": "code",
      "metadata": {
        "id": "Kjb25zUM-2wu"
      },
      "source": [
        "SAVE_PATH = 'gdrive/My Drive/LossLandscape/MNIST_SmallCNN_CheckpointID_1/'"
      ],
      "execution_count": 24,
      "outputs": []
    },
    {
      "cell_type": "code",
      "metadata": {
        "id": "48WXaSSx4hAF"
      },
      "source": [
        "def save_model(epoch, logs):\n",
        "  model.save(SAVE_PATH+'small_cnn_checkpoint_{}.tf'.format(epoch))\n",
        "\n",
        "save_callback = tf.keras.callbacks.LambdaCallback(on_epoch_end=save_model, verbose=True)"
      ],
      "execution_count": 25,
      "outputs": []
    },
    {
      "cell_type": "markdown",
      "metadata": {
        "id": "Q02l2PnW4YMh"
      },
      "source": [
        "# Initialize Model"
      ]
    },
    {
      "cell_type": "code",
      "metadata": {
        "id": "b7NGdxodMYP3",
        "colab": {
          "base_uri": "https://localhost:8080/"
        },
        "outputId": "fa1eea9d-ccf1-4812-a60a-272bf16467f4"
      },
      "source": [
        "keras.backend.clear_session()\n",
        "model = Model()\n",
        "model.summary()"
      ],
      "execution_count": 26,
      "outputs": [
        {
          "output_type": "stream",
          "name": "stdout",
          "text": [
            "final shape:  [28, 28, 3]\n",
            "Model: \"model\"\n",
            "_________________________________________________________________\n",
            " Layer (type)                Output Shape              Param #   \n",
            "=================================================================\n",
            " input_1 (InputLayer)        [(None, 3, 28, 28, 1)]    0         \n",
            "                                                                 \n",
            " permute (Permute)           (None, 28, 28, 1, 3)      0         \n",
            "                                                                 \n",
            " reshape (Reshape)           (None, 28, 28, 3)         0         \n",
            "                                                                 \n",
            " conv2d (Conv2D)             (None, 28, 28, 16)        448       \n",
            "                                                                 \n",
            " tf.nn.relu (TFOpLambda)     (None, 28, 28, 16)        0         \n",
            "                                                                 \n",
            " max_pooling2d (MaxPooling2D  (None, 27, 27, 16)       0         \n",
            " )                                                               \n",
            "                                                                 \n",
            " conv2d_1 (Conv2D)           (None, 27, 27, 32)        4640      \n",
            "                                                                 \n",
            " tf.nn.relu_1 (TFOpLambda)   (None, 27, 27, 32)        0         \n",
            "                                                                 \n",
            " max_pooling2d_1 (MaxPooling  (None, 13, 13, 32)       0         \n",
            " 2D)                                                             \n",
            "                                                                 \n",
            " conv2d_2 (Conv2D)           (None, 13, 13, 32)        9248      \n",
            "                                                                 \n",
            " tf.nn.relu_2 (TFOpLambda)   (None, 13, 13, 32)        0         \n",
            "                                                                 \n",
            " max_pooling2d_2 (MaxPooling  (None, 6, 6, 32)         0         \n",
            " 2D)                                                             \n",
            "                                                                 \n",
            " global_average_pooling2d (G  (None, 32)               0         \n",
            " lobalAveragePooling2D)                                          \n",
            "                                                                 \n",
            " dense (Dense)               (None, 32)                1056      \n",
            "                                                                 \n",
            " dropout (Dropout)           (None, 32)                0         \n",
            "                                                                 \n",
            " dense_multihead (DenseMulti  (None, 3, 10)            990       \n",
            " head)                                                           \n",
            "                                                                 \n",
            "=================================================================\n",
            "Total params: 16,382\n",
            "Trainable params: 16,382\n",
            "Non-trainable params: 0\n",
            "_________________________________________________________________\n"
          ]
        }
      ]
    },
    {
      "cell_type": "markdown",
      "metadata": {
        "id": "DqiY2v174cCw"
      },
      "source": [
        "# Compile"
      ]
    },
    {
      "cell_type": "code",
      "metadata": {
        "id": "M7Vk7qmEMgeB"
      },
      "source": [
        "model.compile('adam', 'sparse_categorical_crossentropy', metrics=['accuracy'])"
      ],
      "execution_count": 27,
      "outputs": []
    },
    {
      "cell_type": "markdown",
      "metadata": {
        "id": "XP5elumu4eJG"
      },
      "source": [
        "# Wandb Init"
      ]
    },
    {
      "cell_type": "code",
      "metadata": {
        "id": "Svw-ocG_yeGx",
        "colab": {
          "base_uri": "https://localhost:8080/",
          "height": 194,
          "referenced_widgets": [
            "2e9bedfde61a4e17b5b36c604d998120",
            "d697ede513f54aa59b6c7f003f0cb5db",
            "4b087ef54f3d4d8eb012cd2b8d376af5",
            "98b9c942e08b4e148942d0a387e181a8",
            "94c6973446fa4b4b80d055de4eae7916",
            "2199eb3eb9644150a774a85a736e13d4",
            "1f34be3179a545e09eb543f2b0a4a87a",
            "5f72ec20f8eb4541ace59faa8ac88576"
          ]
        },
        "outputId": "de289459-90d7-434f-fcb6-3dc3400314e7"
      },
      "source": [
        "wandb.init(entity='filippak', project='loss-landscape')"
      ],
      "execution_count": 28,
      "outputs": [
        {
          "output_type": "display_data",
          "data": {
            "text/html": [
              "Finishing last run (ID:2c2b89tw) before initializing another..."
            ],
            "text/plain": [
              "<IPython.core.display.HTML object>"
            ]
          },
          "metadata": {}
        },
        {
          "output_type": "display_data",
          "data": {
            "text/html": [
              "<br/>Waiting for W&B process to finish, PID 445... <strong style=\"color:green\">(success).</strong>"
            ],
            "text/plain": [
              "<IPython.core.display.HTML object>"
            ]
          },
          "metadata": {}
        },
        {
          "output_type": "display_data",
          "data": {
            "application/vnd.jupyter.widget-view+json": {
              "model_id": "2e9bedfde61a4e17b5b36c604d998120",
              "version_minor": 0,
              "version_major": 2
            },
            "text/plain": [
              "VBox(children=(Label(value=' 0.00MB of 0.00MB uploaded (0.00MB deduped)\\r'), FloatProgress(value=1.0, max=1.0)…"
            ]
          },
          "metadata": {}
        },
        {
          "output_type": "display_data",
          "data": {
            "text/html": [
              "<style>\n",
              "    table.wandb td:nth-child(1) { padding: 0 10px; text-align: right }\n",
              "    .wandb-row { display: flex; flex-direction: row; flex-wrap: wrap; width: 100% }\n",
              "    .wandb-col { display: flex; flex-direction: column; flex-basis: 100%; flex: 1; padding: 10px; }\n",
              "    </style>\n",
              "<div class=\"wandb-row\"><div class=\"wandb-col\">\n",
              "</div><div class=\"wandb-col\">\n",
              "</div></div>\n",
              "Synced 5 W&B file(s), 0 media file(s), 0 artifact file(s) and 0 other file(s)\n",
              "<br/>Synced <strong style=\"color:#cdcd00\">vivid-sky-21</strong>: <a href=\"https://wandb.ai/filippak/loss-landscape/runs/2c2b89tw\" target=\"_blank\">https://wandb.ai/filippak/loss-landscape/runs/2c2b89tw</a><br/>\n",
              "Find logs at: <code>./wandb/run-20211126_141901-2c2b89tw/logs</code><br/>\n"
            ],
            "text/plain": [
              "<IPython.core.display.HTML object>"
            ]
          },
          "metadata": {}
        },
        {
          "output_type": "display_data",
          "data": {
            "text/html": [
              "Successfully finished last run (ID:2c2b89tw). Initializing new run:<br/>"
            ],
            "text/plain": [
              "<IPython.core.display.HTML object>"
            ]
          },
          "metadata": {}
        },
        {
          "output_type": "display_data",
          "data": {
            "text/html": [
              "\n",
              "                    Syncing run <strong><a href=\"https://wandb.ai/filippak/loss-landscape/runs/hmf2ymss\" target=\"_blank\">sunny-salad-22</a></strong> to <a href=\"https://wandb.ai/filippak/loss-landscape\" target=\"_blank\">Weights & Biases</a> (<a href=\"https://docs.wandb.com/integrations/jupyter.html\" target=\"_blank\">docs</a>).<br/>\n",
              "\n",
              "                "
            ],
            "text/plain": [
              "<IPython.core.display.HTML object>"
            ]
          },
          "metadata": {}
        },
        {
          "output_type": "execute_result",
          "data": {
            "text/plain": [
              "<wandb.sdk.wandb_run.Run at 0x7f1327f5e610>"
            ],
            "text/html": [
              "<button onClick=\"this.nextSibling.style.display='block';this.style.display='none';\">Display W&B run</button><iframe src=\"https://wandb.ai/filippak/loss-landscape/runs/hmf2ymss?jupyter=true\" style=\"border:none;width:100%;height:420px;display:none;\"></iframe>"
            ]
          },
          "metadata": {},
          "execution_count": 28
        }
      ]
    },
    {
      "cell_type": "markdown",
      "metadata": {
        "id": "co0IcwRl4goi"
      },
      "source": [
        "# Train"
      ]
    },
    {
      "cell_type": "code",
      "metadata": {
        "id": "_Mqy_ZBNM8UA",
        "colab": {
          "base_uri": "https://localhost:8080/"
        },
        "outputId": "01651051-c480-4a57-d236-4da169f87411"
      },
      "source": [
        "EPOCHS = 40\n",
        "\n",
        "start = time.time()\n",
        "print(trainloader)\n",
        "print(testloader)\n",
        "_ = model.fit(trainloader,\n",
        "          epochs=EPOCHS,\n",
        "          validation_data=testloader,\n",
        "          callbacks=[WandbCallback(),\n",
        "                     lr_callback,\n",
        "                     save_callback])\n",
        "end = time.time()\n",
        "print(\"Network takes {:.3f} seconds to train\".format(end - start))\n",
        "wandb.log({'training_time': end - start})\n",
        "wandb.log({'nb_model_params': model.count_params()})"
      ],
      "execution_count": 29,
      "outputs": [
        {
          "output_type": "stream",
          "name": "stdout",
          "text": [
            "<PrefetchDataset shapes: ((None, None, 28, 28, 1), (None, None, 1)), types: (tf.float32, tf.uint8)>\n",
            "<PrefetchDataset shapes: ((None, None, 28, 28, 1), (None, None, 1)), types: (tf.float32, tf.uint8)>\n",
            "\n",
            "Epoch 00001: LearningRateScheduler setting learning rate to 0.0016.\n",
            "Epoch 1/40\n",
            "157/157 [==============================] - ETA: 0s - loss: 2.2444 - accuracy: 0.1524INFO:tensorflow:Assets written to: gdrive/My Drive/LossLandscape/MNIST_SmallCNN_CheckpointID_1/small_cnn_checkpoint_0.tf/assets\n",
            "157/157 [==============================] - 16s 46ms/step - loss: 2.2444 - accuracy: 0.1524 - val_loss: 2.0927 - val_accuracy: 0.2237 - lr: 0.0016\n",
            "\n",
            "Epoch 00002: LearningRateScheduler setting learning rate to 0.0016.\n",
            "Epoch 2/40\n",
            "157/157 [==============================] - ETA: 0s - loss: 2.0212 - accuracy: 0.2533INFO:tensorflow:Assets written to: gdrive/My Drive/LossLandscape/MNIST_SmallCNN_CheckpointID_1/small_cnn_checkpoint_1.tf/assets\n",
            "157/157 [==============================] - 7s 46ms/step - loss: 2.0212 - accuracy: 0.2533 - val_loss: 1.8023 - val_accuracy: 0.3434 - lr: 0.0016\n",
            "\n",
            "Epoch 00003: LearningRateScheduler setting learning rate to 0.0016.\n",
            "Epoch 3/40\n",
            "157/157 [==============================] - ETA: 0s - loss: 1.7721 - accuracy: 0.3426INFO:tensorflow:Assets written to: gdrive/My Drive/LossLandscape/MNIST_SmallCNN_CheckpointID_1/small_cnn_checkpoint_2.tf/assets\n",
            "157/157 [==============================] - 7s 45ms/step - loss: 1.7721 - accuracy: 0.3426 - val_loss: 1.5576 - val_accuracy: 0.4330 - lr: 0.0016\n",
            "\n",
            "Epoch 00004: LearningRateScheduler setting learning rate to 0.0016.\n",
            "Epoch 4/40\n",
            "155/157 [============================>.] - ETA: 0s - loss: 1.5759 - accuracy: 0.4161INFO:tensorflow:Assets written to: gdrive/My Drive/LossLandscape/MNIST_SmallCNN_CheckpointID_1/small_cnn_checkpoint_3.tf/assets\n",
            "157/157 [==============================] - 7s 44ms/step - loss: 1.5747 - accuracy: 0.4165 - val_loss: 1.3660 - val_accuracy: 0.5084 - lr: 0.0016\n",
            "\n",
            "Epoch 00005: LearningRateScheduler setting learning rate to 0.0016.\n",
            "Epoch 5/40\n",
            "155/157 [============================>.] - ETA: 0s - loss: 1.4252 - accuracy: 0.4742INFO:tensorflow:Assets written to: gdrive/My Drive/LossLandscape/MNIST_SmallCNN_CheckpointID_1/small_cnn_checkpoint_4.tf/assets\n",
            "157/157 [==============================] - 7s 44ms/step - loss: 1.4245 - accuracy: 0.4745 - val_loss: 1.2642 - val_accuracy: 0.5523 - lr: 0.0016\n",
            "\n",
            "Epoch 00006: LearningRateScheduler setting learning rate to 0.0016.\n",
            "Epoch 6/40\n",
            "155/157 [============================>.] - ETA: 0s - loss: 1.3404 - accuracy: 0.5047INFO:tensorflow:Assets written to: gdrive/My Drive/LossLandscape/MNIST_SmallCNN_CheckpointID_1/small_cnn_checkpoint_5.tf/assets\n",
            "157/157 [==============================] - 7s 46ms/step - loss: 1.3396 - accuracy: 0.5049 - val_loss: 1.1412 - val_accuracy: 0.5978 - lr: 0.0016\n",
            "\n",
            "Epoch 00007: LearningRateScheduler setting learning rate to 0.0016.\n",
            "Epoch 7/40\n",
            "156/157 [============================>.] - ETA: 0s - loss: 1.2718 - accuracy: 0.5322INFO:tensorflow:Assets written to: gdrive/My Drive/LossLandscape/MNIST_SmallCNN_CheckpointID_1/small_cnn_checkpoint_6.tf/assets\n",
            "157/157 [==============================] - 7s 44ms/step - loss: 1.2715 - accuracy: 0.5323 - val_loss: 1.0381 - val_accuracy: 0.6525 - lr: 0.0016\n",
            "\n",
            "Epoch 00008: LearningRateScheduler setting learning rate to 0.0016.\n",
            "Epoch 8/40\n",
            "156/157 [============================>.] - ETA: 0s - loss: 1.1956 - accuracy: 0.5661INFO:tensorflow:Assets written to: gdrive/My Drive/LossLandscape/MNIST_SmallCNN_CheckpointID_1/small_cnn_checkpoint_7.tf/assets\n",
            "157/157 [==============================] - 7s 45ms/step - loss: 1.1953 - accuracy: 0.5663 - val_loss: 1.0098 - val_accuracy: 0.6529 - lr: 0.0016\n",
            "\n",
            "Epoch 00009: LearningRateScheduler setting learning rate to 0.0016.\n",
            "Epoch 9/40\n",
            "157/157 [==============================] - ETA: 0s - loss: 1.1592 - accuracy: 0.5773INFO:tensorflow:Assets written to: gdrive/My Drive/LossLandscape/MNIST_SmallCNN_CheckpointID_1/small_cnn_checkpoint_8.tf/assets\n",
            "157/157 [==============================] - 7s 46ms/step - loss: 1.1592 - accuracy: 0.5773 - val_loss: 0.9842 - val_accuracy: 0.6559 - lr: 0.0016\n",
            "\n",
            "Epoch 00010: LearningRateScheduler setting learning rate to 0.0008.\n",
            "Epoch 10/40\n",
            "156/157 [============================>.] - ETA: 0s - loss: 1.1127 - accuracy: 0.5956INFO:tensorflow:Assets written to: gdrive/My Drive/LossLandscape/MNIST_SmallCNN_CheckpointID_1/small_cnn_checkpoint_9.tf/assets\n",
            "157/157 [==============================] - 7s 44ms/step - loss: 1.1125 - accuracy: 0.5957 - val_loss: 0.9130 - val_accuracy: 0.6862 - lr: 8.0000e-04\n",
            "\n",
            "Epoch 00011: LearningRateScheduler setting learning rate to 0.0008.\n",
            "Epoch 11/40\n",
            "155/157 [============================>.] - ETA: 0s - loss: 1.1007 - accuracy: 0.5984INFO:tensorflow:Assets written to: gdrive/My Drive/LossLandscape/MNIST_SmallCNN_CheckpointID_1/small_cnn_checkpoint_10.tf/assets\n",
            "157/157 [==============================] - 7s 44ms/step - loss: 1.1003 - accuracy: 0.5985 - val_loss: 0.9312 - val_accuracy: 0.6765 - lr: 8.0000e-04\n",
            "\n",
            "Epoch 00012: LearningRateScheduler setting learning rate to 0.0008.\n",
            "Epoch 12/40\n",
            "156/157 [============================>.] - ETA: 0s - loss: 1.0774 - accuracy: 0.6098INFO:tensorflow:Assets written to: gdrive/My Drive/LossLandscape/MNIST_SmallCNN_CheckpointID_1/small_cnn_checkpoint_11.tf/assets\n",
            "157/157 [==============================] - 15s 98ms/step - loss: 1.0771 - accuracy: 0.6099 - val_loss: 0.9180 - val_accuracy: 0.6887 - lr: 8.0000e-04\n",
            "\n",
            "Epoch 00013: LearningRateScheduler setting learning rate to 0.0008.\n",
            "Epoch 13/40\n",
            "155/157 [============================>.] - ETA: 0s - loss: 1.0640 - accuracy: 0.6156INFO:tensorflow:Assets written to: gdrive/My Drive/LossLandscape/MNIST_SmallCNN_CheckpointID_1/small_cnn_checkpoint_12.tf/assets\n",
            "157/157 [==============================] - 7s 46ms/step - loss: 1.0635 - accuracy: 0.6155 - val_loss: 0.8920 - val_accuracy: 0.6928 - lr: 8.0000e-04\n",
            "\n",
            "Epoch 00014: LearningRateScheduler setting learning rate to 0.0008.\n",
            "Epoch 14/40\n",
            "155/157 [============================>.] - ETA: 0s - loss: 1.0616 - accuracy: 0.6164INFO:tensorflow:Assets written to: gdrive/My Drive/LossLandscape/MNIST_SmallCNN_CheckpointID_1/small_cnn_checkpoint_13.tf/assets\n",
            "157/157 [==============================] - 7s 45ms/step - loss: 1.0616 - accuracy: 0.6166 - val_loss: 0.8745 - val_accuracy: 0.7002 - lr: 8.0000e-04\n",
            "\n",
            "Epoch 00015: LearningRateScheduler setting learning rate to 0.0008.\n",
            "Epoch 15/40\n",
            "156/157 [============================>.] - ETA: 0s - loss: 1.0465 - accuracy: 0.6203INFO:tensorflow:Assets written to: gdrive/My Drive/LossLandscape/MNIST_SmallCNN_CheckpointID_1/small_cnn_checkpoint_14.tf/assets\n",
            "157/157 [==============================] - 7s 46ms/step - loss: 1.0462 - accuracy: 0.6204 - val_loss: 0.8401 - val_accuracy: 0.7131 - lr: 8.0000e-04\n",
            "\n",
            "Epoch 00016: LearningRateScheduler setting learning rate to 0.0008.\n",
            "Epoch 16/40\n",
            "157/157 [==============================] - ETA: 0s - loss: 1.0343 - accuracy: 0.6266INFO:tensorflow:Assets written to: gdrive/My Drive/LossLandscape/MNIST_SmallCNN_CheckpointID_1/small_cnn_checkpoint_15.tf/assets\n",
            "157/157 [==============================] - 7s 45ms/step - loss: 1.0343 - accuracy: 0.6266 - val_loss: 0.8456 - val_accuracy: 0.7106 - lr: 8.0000e-04\n",
            "\n",
            "Epoch 00017: LearningRateScheduler setting learning rate to 0.0008.\n",
            "Epoch 17/40\n",
            "157/157 [==============================] - ETA: 0s - loss: 1.0200 - accuracy: 0.6308INFO:tensorflow:Assets written to: gdrive/My Drive/LossLandscape/MNIST_SmallCNN_CheckpointID_1/small_cnn_checkpoint_16.tf/assets\n",
            "157/157 [==============================] - 8s 47ms/step - loss: 1.0200 - accuracy: 0.6308 - val_loss: 0.8212 - val_accuracy: 0.7235 - lr: 8.0000e-04\n",
            "\n",
            "Epoch 00018: LearningRateScheduler setting learning rate to 0.0008.\n",
            "Epoch 18/40\n",
            "157/157 [==============================] - ETA: 0s - loss: 1.0073 - accuracy: 0.6387INFO:tensorflow:Assets written to: gdrive/My Drive/LossLandscape/MNIST_SmallCNN_CheckpointID_1/small_cnn_checkpoint_17.tf/assets\n",
            "157/157 [==============================] - 15s 94ms/step - loss: 1.0073 - accuracy: 0.6387 - val_loss: 0.8117 - val_accuracy: 0.7198 - lr: 8.0000e-04\n",
            "\n",
            "Epoch 00019: LearningRateScheduler setting learning rate to 0.0008.\n",
            "Epoch 19/40\n",
            "156/157 [============================>.] - ETA: 0s - loss: 0.9976 - accuracy: 0.6442INFO:tensorflow:Assets written to: gdrive/My Drive/LossLandscape/MNIST_SmallCNN_CheckpointID_1/small_cnn_checkpoint_18.tf/assets\n",
            "157/157 [==============================] - 8s 47ms/step - loss: 0.9976 - accuracy: 0.6442 - val_loss: 0.8201 - val_accuracy: 0.7214 - lr: 8.0000e-04\n",
            "\n",
            "Epoch 00020: LearningRateScheduler setting learning rate to 0.0004.\n",
            "Epoch 20/40\n",
            "155/157 [============================>.] - ETA: 0s - loss: 0.9808 - accuracy: 0.6484INFO:tensorflow:Assets written to: gdrive/My Drive/LossLandscape/MNIST_SmallCNN_CheckpointID_1/small_cnn_checkpoint_19.tf/assets\n",
            "157/157 [==============================] - 7s 44ms/step - loss: 0.9810 - accuracy: 0.6485 - val_loss: 0.7871 - val_accuracy: 0.7381 - lr: 4.0000e-04\n",
            "\n",
            "Epoch 00021: LearningRateScheduler setting learning rate to 0.0004.\n",
            "Epoch 21/40\n",
            "157/157 [==============================] - ETA: 0s - loss: 0.9752 - accuracy: 0.6514INFO:tensorflow:Assets written to: gdrive/My Drive/LossLandscape/MNIST_SmallCNN_CheckpointID_1/small_cnn_checkpoint_20.tf/assets\n",
            "157/157 [==============================] - 7s 46ms/step - loss: 0.9752 - accuracy: 0.6514 - val_loss: 0.7756 - val_accuracy: 0.7443 - lr: 4.0000e-04\n",
            "\n",
            "Epoch 00022: LearningRateScheduler setting learning rate to 0.0004.\n",
            "Epoch 22/40\n",
            "156/157 [============================>.] - ETA: 0s - loss: 0.9696 - accuracy: 0.6513INFO:tensorflow:Assets written to: gdrive/My Drive/LossLandscape/MNIST_SmallCNN_CheckpointID_1/small_cnn_checkpoint_21.tf/assets\n",
            "157/157 [==============================] - 7s 45ms/step - loss: 0.9694 - accuracy: 0.6514 - val_loss: 0.7736 - val_accuracy: 0.7418 - lr: 4.0000e-04\n",
            "\n",
            "Epoch 00023: LearningRateScheduler setting learning rate to 0.0004.\n",
            "Epoch 23/40\n",
            "157/157 [==============================] - ETA: 0s - loss: 0.9619 - accuracy: 0.6555INFO:tensorflow:Assets written to: gdrive/My Drive/LossLandscape/MNIST_SmallCNN_CheckpointID_1/small_cnn_checkpoint_22.tf/assets\n",
            "157/157 [==============================] - 7s 45ms/step - loss: 0.9619 - accuracy: 0.6555 - val_loss: 0.7637 - val_accuracy: 0.7468 - lr: 4.0000e-04\n",
            "\n",
            "Epoch 00024: LearningRateScheduler setting learning rate to 0.0004.\n",
            "Epoch 24/40\n",
            "156/157 [============================>.] - ETA: 0s - loss: 0.9624 - accuracy: 0.6544INFO:tensorflow:Assets written to: gdrive/My Drive/LossLandscape/MNIST_SmallCNN_CheckpointID_1/small_cnn_checkpoint_23.tf/assets\n",
            "157/157 [==============================] - 7s 45ms/step - loss: 0.9623 - accuracy: 0.6545 - val_loss: 0.7729 - val_accuracy: 0.7432 - lr: 4.0000e-04\n",
            "\n",
            "Epoch 00025: LearningRateScheduler setting learning rate to 0.0004.\n",
            "Epoch 25/40\n",
            "157/157 [==============================] - ETA: 0s - loss: 0.9568 - accuracy: 0.6600INFO:tensorflow:Assets written to: gdrive/My Drive/LossLandscape/MNIST_SmallCNN_CheckpointID_1/small_cnn_checkpoint_24.tf/assets\n",
            "157/157 [==============================] - 7s 47ms/step - loss: 0.9568 - accuracy: 0.6600 - val_loss: 0.7541 - val_accuracy: 0.7527 - lr: 4.0000e-04\n",
            "\n",
            "Epoch 00026: LearningRateScheduler setting learning rate to 0.0004.\n",
            "Epoch 26/40\n",
            "156/157 [============================>.] - ETA: 0s - loss: 0.9493 - accuracy: 0.6608INFO:tensorflow:Assets written to: gdrive/My Drive/LossLandscape/MNIST_SmallCNN_CheckpointID_1/small_cnn_checkpoint_25.tf/assets\n",
            "157/157 [==============================] - 7s 45ms/step - loss: 0.9495 - accuracy: 0.6607 - val_loss: 0.7471 - val_accuracy: 0.7544 - lr: 4.0000e-04\n",
            "\n",
            "Epoch 00027: LearningRateScheduler setting learning rate to 0.0004.\n",
            "Epoch 27/40\n",
            "156/157 [============================>.] - ETA: 0s - loss: 0.9424 - accuracy: 0.6632INFO:tensorflow:Assets written to: gdrive/My Drive/LossLandscape/MNIST_SmallCNN_CheckpointID_1/small_cnn_checkpoint_26.tf/assets\n",
            "157/157 [==============================] - 7s 45ms/step - loss: 0.9425 - accuracy: 0.6633 - val_loss: 0.7458 - val_accuracy: 0.7551 - lr: 4.0000e-04\n",
            "\n",
            "Epoch 00028: LearningRateScheduler setting learning rate to 0.0004.\n",
            "Epoch 28/40\n",
            "156/157 [============================>.] - ETA: 0s - loss: 0.9349 - accuracy: 0.6679INFO:tensorflow:Assets written to: gdrive/My Drive/LossLandscape/MNIST_SmallCNN_CheckpointID_1/small_cnn_checkpoint_27.tf/assets\n",
            "157/157 [==============================] - 7s 45ms/step - loss: 0.9348 - accuracy: 0.6679 - val_loss: 0.7336 - val_accuracy: 0.7600 - lr: 4.0000e-04\n",
            "\n",
            "Epoch 00029: LearningRateScheduler setting learning rate to 0.0004.\n",
            "Epoch 29/40\n",
            "155/157 [============================>.] - ETA: 0s - loss: 0.9416 - accuracy: 0.6637INFO:tensorflow:Assets written to: gdrive/My Drive/LossLandscape/MNIST_SmallCNN_CheckpointID_1/small_cnn_checkpoint_28.tf/assets\n",
            "157/157 [==============================] - 7s 47ms/step - loss: 0.9414 - accuracy: 0.6638 - val_loss: 0.7369 - val_accuracy: 0.7617 - lr: 4.0000e-04\n",
            "\n",
            "Epoch 00030: LearningRateScheduler setting learning rate to 0.0002.\n",
            "Epoch 30/40\n",
            "157/157 [==============================] - ETA: 0s - loss: 0.9249 - accuracy: 0.6703INFO:tensorflow:Assets written to: gdrive/My Drive/LossLandscape/MNIST_SmallCNN_CheckpointID_1/small_cnn_checkpoint_29.tf/assets\n",
            "157/157 [==============================] - 7s 46ms/step - loss: 0.9249 - accuracy: 0.6703 - val_loss: 0.7289 - val_accuracy: 0.7611 - lr: 2.0000e-04\n",
            "\n",
            "Epoch 00031: LearningRateScheduler setting learning rate to 0.0002.\n",
            "Epoch 31/40\n",
            "155/157 [============================>.] - ETA: 0s - loss: 0.9263 - accuracy: 0.6697INFO:tensorflow:Assets written to: gdrive/My Drive/LossLandscape/MNIST_SmallCNN_CheckpointID_1/small_cnn_checkpoint_30.tf/assets\n",
            "157/157 [==============================] - 7s 46ms/step - loss: 0.9253 - accuracy: 0.6702 - val_loss: 0.7312 - val_accuracy: 0.7609 - lr: 2.0000e-04\n",
            "\n",
            "Epoch 00032: LearningRateScheduler setting learning rate to 0.0002.\n",
            "Epoch 32/40\n",
            "157/157 [==============================] - ETA: 0s - loss: 0.9192 - accuracy: 0.6743INFO:tensorflow:Assets written to: gdrive/My Drive/LossLandscape/MNIST_SmallCNN_CheckpointID_1/small_cnn_checkpoint_31.tf/assets\n",
            "157/157 [==============================] - 7s 45ms/step - loss: 0.9192 - accuracy: 0.6743 - val_loss: 0.7199 - val_accuracy: 0.7594 - lr: 2.0000e-04\n",
            "\n",
            "Epoch 00033: LearningRateScheduler setting learning rate to 0.0002.\n",
            "Epoch 33/40\n",
            "157/157 [==============================] - ETA: 0s - loss: 0.9245 - accuracy: 0.6732INFO:tensorflow:Assets written to: gdrive/My Drive/LossLandscape/MNIST_SmallCNN_CheckpointID_1/small_cnn_checkpoint_32.tf/assets\n",
            "157/157 [==============================] - 8s 48ms/step - loss: 0.9245 - accuracy: 0.6732 - val_loss: 0.7176 - val_accuracy: 0.7651 - lr: 2.0000e-04\n",
            "\n",
            "Epoch 00034: LearningRateScheduler setting learning rate to 0.0002.\n",
            "Epoch 34/40\n",
            "157/157 [==============================] - ETA: 0s - loss: 0.9201 - accuracy: 0.6738INFO:tensorflow:Assets written to: gdrive/My Drive/LossLandscape/MNIST_SmallCNN_CheckpointID_1/small_cnn_checkpoint_33.tf/assets\n",
            "157/157 [==============================] - 7s 46ms/step - loss: 0.9201 - accuracy: 0.6738 - val_loss: 0.7149 - val_accuracy: 0.7637 - lr: 2.0000e-04\n",
            "\n",
            "Epoch 00035: LearningRateScheduler setting learning rate to 0.0002.\n",
            "Epoch 35/40\n",
            "157/157 [==============================] - ETA: 0s - loss: 0.9154 - accuracy: 0.6729INFO:tensorflow:Assets written to: gdrive/My Drive/LossLandscape/MNIST_SmallCNN_CheckpointID_1/small_cnn_checkpoint_34.tf/assets\n",
            "157/157 [==============================] - 7s 46ms/step - loss: 0.9154 - accuracy: 0.6729 - val_loss: 0.7182 - val_accuracy: 0.7642 - lr: 2.0000e-04\n",
            "\n",
            "Epoch 00036: LearningRateScheduler setting learning rate to 0.0002.\n",
            "Epoch 36/40\n",
            "156/157 [============================>.] - ETA: 0s - loss: 0.9119 - accuracy: 0.6767INFO:tensorflow:Assets written to: gdrive/My Drive/LossLandscape/MNIST_SmallCNN_CheckpointID_1/small_cnn_checkpoint_35.tf/assets\n",
            "157/157 [==============================] - 7s 45ms/step - loss: 0.9117 - accuracy: 0.6767 - val_loss: 0.7155 - val_accuracy: 0.7660 - lr: 2.0000e-04\n",
            "\n",
            "Epoch 00037: LearningRateScheduler setting learning rate to 0.0002.\n",
            "Epoch 37/40\n",
            "157/157 [==============================] - ETA: 0s - loss: 0.9112 - accuracy: 0.6765INFO:tensorflow:Assets written to: gdrive/My Drive/LossLandscape/MNIST_SmallCNN_CheckpointID_1/small_cnn_checkpoint_36.tf/assets\n",
            "157/157 [==============================] - 8s 48ms/step - loss: 0.9112 - accuracy: 0.6765 - val_loss: 0.7158 - val_accuracy: 0.7625 - lr: 2.0000e-04\n",
            "\n",
            "Epoch 00038: LearningRateScheduler setting learning rate to 0.0002.\n",
            "Epoch 38/40\n",
            "155/157 [============================>.] - ETA: 0s - loss: 0.9069 - accuracy: 0.6789INFO:tensorflow:Assets written to: gdrive/My Drive/LossLandscape/MNIST_SmallCNN_CheckpointID_1/small_cnn_checkpoint_37.tf/assets\n",
            "157/157 [==============================] - 7s 46ms/step - loss: 0.9062 - accuracy: 0.6793 - val_loss: 0.7104 - val_accuracy: 0.7660 - lr: 2.0000e-04\n",
            "\n",
            "Epoch 00039: LearningRateScheduler setting learning rate to 0.0002.\n",
            "Epoch 39/40\n",
            "155/157 [============================>.] - ETA: 0s - loss: 0.9106 - accuracy: 0.6795INFO:tensorflow:Assets written to: gdrive/My Drive/LossLandscape/MNIST_SmallCNN_CheckpointID_1/small_cnn_checkpoint_38.tf/assets\n",
            "157/157 [==============================] - 7s 45ms/step - loss: 0.9099 - accuracy: 0.6797 - val_loss: 0.7064 - val_accuracy: 0.7702 - lr: 2.0000e-04\n",
            "\n",
            "Epoch 00040: LearningRateScheduler setting learning rate to 0.0002.\n",
            "Epoch 40/40\n",
            "157/157 [==============================] - ETA: 0s - loss: 0.9023 - accuracy: 0.6811INFO:tensorflow:Assets written to: gdrive/My Drive/LossLandscape/MNIST_SmallCNN_CheckpointID_1/small_cnn_checkpoint_39.tf/assets\n",
            "157/157 [==============================] - 7s 46ms/step - loss: 0.9023 - accuracy: 0.6811 - val_loss: 0.7011 - val_accuracy: 0.7715 - lr: 2.0000e-04\n",
            "Network takes 317.570 seconds to train\n"
          ]
        }
      ]
    },
    {
      "cell_type": "markdown",
      "metadata": {
        "id": "zKv6UHqM1I3Q"
      },
      "source": [
        "# Evaluate"
      ]
    },
    {
      "cell_type": "code",
      "metadata": {
        "id": "SO_E5WFAclHA",
        "colab": {
          "base_uri": "https://localhost:8080/"
        },
        "outputId": "3c509158-0919-4da0-850a-8197da048fce"
      },
      "source": [
        "loss, accuracy = model.evaluate(testloader, callbacks=[WandbCallback()])\n",
        "print(\"Test Error Rate: \", round((1-accuracy)*100, 2), '%')\n",
        "wandb.log({'Test Error Rate': round((1-accuracy)*100, 2)})"
      ],
      "execution_count": 30,
      "outputs": [
        {
          "output_type": "stream",
          "name": "stdout",
          "text": [
            "27/27 [==============================] - 1s 20ms/step - loss: 0.7011 - accuracy: 0.7715\n",
            "Test Error Rate:  22.85 %\n"
          ]
        }
      ]
    },
    {
      "cell_type": "markdown",
      "metadata": {
        "id": "tjJP7P6E6xxP"
      },
      "source": [
        "# Investigating Load Landscape"
      ]
    },
    {
      "cell_type": "code",
      "metadata": {
        "colab": {
          "base_uri": "https://localhost:8080/"
        },
        "id": "13oRZ_uHPmKB",
        "outputId": "15300b13-7070-47b3-fc86-8a00b3bf46dc"
      },
      "source": [
        "# Load the model! - this directory contain folders of the model at each epoch\n",
        "ROOT_PATH = 'gdrive/My Drive/LossLandscape/'\n",
        "## SmallCNN model checkpoint for each epoch(total 40 epochs)\n",
        "MODEL_PATH = ROOT_PATH+'MNIST_SmallCNN_CheckpointID_1/'\n",
        "same_model_ckpts = os.listdir(MODEL_PATH)\n",
        "print(len(same_model_ckpts))"
      ],
      "execution_count": 31,
      "outputs": [
        {
          "output_type": "stream",
          "name": "stdout",
          "text": [
            "40\n"
          ]
        }
      ]
    },
    {
      "cell_type": "code",
      "metadata": {
        "colab": {
          "base_uri": "https://localhost:8080/"
        },
        "id": "4Xu4yVAtQLrN",
        "outputId": "f07a41b3-0e97-45e2-b827-4c627c07334b"
      },
      "source": [
        "# sort the models\n",
        "# https://stackoverflow.com/a/2669120/7636462\n",
        "import re \n",
        "\n",
        "def sorted_nicely(l): \n",
        "    \"\"\" Sort the given iterable in the way that humans expect.\"\"\" \n",
        "    convert = lambda text: int(text) if text.isdigit() else text \n",
        "    alphanum_key = lambda key: [ convert(c) for c in re.split('([0-9]+)', key) ] \n",
        "    return sorted(l, key = alphanum_key)\n",
        "\n",
        "same_model_ckpts = sorted_nicely(same_model_ckpts)\n",
        "same_model_ckpts[:5]"
      ],
      "execution_count": 32,
      "outputs": [
        {
          "output_type": "execute_result",
          "data": {
            "text/plain": [
              "['small_cnn_checkpoint_0.tf',\n",
              " 'small_cnn_checkpoint_1.tf',\n",
              " 'small_cnn_checkpoint_2.tf',\n",
              " 'small_cnn_checkpoint_3.tf',\n",
              " 'small_cnn_checkpoint_4.tf']"
            ]
          },
          "metadata": {},
          "execution_count": 32
        }
      ]
    },
    {
      "cell_type": "code",
      "metadata": {
        "id": "p34FOz6YMOUs"
      },
      "source": [
        "NUM_EXAMPLES = 1024\n",
        "NUM_CLASSES = 10\n",
        "test_tsne_ds = testloader.unbatch().take(NUM_EXAMPLES).batch(BATCH_SIZE)"
      ],
      "execution_count": 33,
      "outputs": []
    },
    {
      "cell_type": "code",
      "metadata": {
        "id": "vgkgZowYMWXv"
      },
      "source": [
        "# Given model and test data, return true_labels and predictions.\n",
        "def evaluate_tsne(test_dataloader, model):\n",
        "  true_labels = []\n",
        "  pred_labels = []\n",
        "  \n",
        "  for imgs, labels in iter(test_dataloader):\n",
        "    preds = model.predict(imgs)\n",
        "    # preds will be a 3 x 10 array (128 x 3 x 10)\n",
        "    # labels will be 3 x 1 array ? (128 x 3 x 1)\n",
        "    \n",
        "    true_labels.extend(labels)\n",
        "    pred_labels.extend(preds) ## change here \n",
        "  \n",
        "  # Shape of the returned values: (1024, 3, 1) alt (1024, 3, 10) \n",
        "\n",
        "  return np.array(true_labels), np.array(pred_labels)"
      ],
      "execution_count": 34,
      "outputs": []
    },
    {
      "cell_type": "code",
      "metadata": {
        "colab": {
          "base_uri": "https://localhost:8080/"
        },
        "id": "HDlgQe9AMbTs",
        "outputId": "eed3d754-e09b-47e5-a730-2e46f324a72b"
      },
      "source": [
        "NUM_TRAJECTORIES = 3 # This is now instead used for the number of subnetworks\n",
        "\n",
        "predictions_for_tsne = []\n",
        "\n",
        "model_files = same_model_ckpts\n",
        "predictions_1 = []\n",
        "predictions_2 = []\n",
        "predictions_3 = []\n",
        "for model_file in model_files:\n",
        "  if model_file=='small_cnn_checkpoint_5.tf': # this check is because this model checkpoint didn't serialize properly.\n",
        "    continue\n",
        "  model = tf.keras.models.load_model(MODEL_PATH+'/'+model_file)\n",
        "\n",
        "  _, preds = evaluate_tsne(test_tsne_ds, model)\n",
        "\n",
        "  # ADDED: subdivide into predictions of the 3 subnetworks\n",
        "  # Shape: (1024, 3, 10) -> 3 x (1024, 10)\n",
        "  preds_arr = []\n",
        "  for i in range(3):\n",
        "    preds_curr = preds[:, i:i+1, :]\n",
        "    preds_curr = np.reshape(preds_curr, (1024, 10))\n",
        "    if i is 0:\n",
        "      predictions_1.append(preds_curr)\n",
        "    elif i is 1:\n",
        "      predictions_2.append(preds_curr)\n",
        "    else:\n",
        "      predictions_3.append(preds_curr)\n",
        "\n",
        "\n",
        "predictions_1 = np.array(predictions_1)\n",
        "predictions_2 = np.array(predictions_2)\n",
        "predictions_3 = np.array(predictions_3)\n",
        "print(predictions_1.shape)\n",
        "predictions_for_tsne.append(predictions_1)\n",
        "predictions_for_tsne.append(predictions_2)\n",
        "predictions_for_tsne.append(predictions_3)\n",
        "\n",
        "# convert list to array\n",
        "predictions_for_tsne = np.array(predictions_for_tsne)\n",
        "print('[INFO] shape of predictions tensor: ', predictions_for_tsne.shape)\n",
        "\n",
        "# reshape the tensor \n",
        "reshaped_predictions_for_tsne = predictions_for_tsne.reshape([-1, NUM_EXAMPLES*NUM_CLASSES])\n",
        "print('[INFO] shape of reshaped tensor: ', reshaped_predictions_for_tsne.shape)"
      ],
      "execution_count": 35,
      "outputs": [
        {
          "output_type": "stream",
          "name": "stdout",
          "text": [
            "(39, 1024, 10)\n",
            "[INFO] shape of predictions tensor:  (3, 39, 1024, 10)\n",
            "[INFO] shape of reshaped tensor:  (117, 10240)\n"
          ]
        }
      ]
    },
    {
      "cell_type": "code",
      "metadata": {
        "colab": {
          "base_uri": "https://localhost:8080/"
        },
        "id": "HjnPSUdRMkda",
        "outputId": "87751487-935e-406e-a914-319235f8ac79"
      },
      "source": [
        "from sklearn.manifold import TSNE\n",
        "\n",
        "# initialize tsne object\n",
        "tsne = TSNE(n_components=2)\n",
        "# compute tsne\n",
        "prediction_embed = tsne.fit_transform(reshaped_predictions_for_tsne)\n",
        "print('[INFO] Shape of embedded tensor: ', prediction_embed.shape)\n",
        "# reshape\n",
        "trajectory_embed = prediction_embed.reshape([NUM_TRAJECTORIES, -1, 2])\n",
        "print('[INFO] Shape of reshaped tensor: ', trajectory_embed.shape)"
      ],
      "execution_count": 36,
      "outputs": [
        {
          "output_type": "stream",
          "name": "stderr",
          "text": [
            "/usr/local/lib/python3.7/dist-packages/sklearn/manifold/_t_sne.py:783: FutureWarning: The default initialization in TSNE will change from 'random' to 'pca' in 1.2.\n",
            "  FutureWarning,\n",
            "/usr/local/lib/python3.7/dist-packages/sklearn/manifold/_t_sne.py:793: FutureWarning: The default learning rate in TSNE will change from 200.0 to 'auto' in 1.2.\n",
            "  FutureWarning,\n"
          ]
        },
        {
          "output_type": "stream",
          "name": "stdout",
          "text": [
            "[INFO] Shape of embedded tensor:  (117, 2)\n",
            "[INFO] Shape of reshaped tensor:  (3, 39, 2)\n"
          ]
        }
      ]
    },
    {
      "cell_type": "code",
      "metadata": {
        "colab": {
          "base_uri": "https://localhost:8080/",
          "height": 457
        },
        "id": "a792KNt2MoYH",
        "outputId": "587d508e-49b1-403e-c1b3-7a32f9974ce5"
      },
      "source": [
        "# Plot\n",
        "plt.figure(constrained_layout=True, figsize=(6,6))\n",
        "\n",
        "colors_list=['r', 'b', 'g']\n",
        "labels_list = ['traj_{}'.format(i) for i in range(NUM_TRAJECTORIES)]\n",
        "for i in range(NUM_TRAJECTORIES):\n",
        "  plt.plot(trajectory_embed[i,:,0],trajectory_embed[i,:,1],color = colors_list[i], alpha = 0.8,linestyle = \"\", marker = \"o\")\n",
        "  plt.plot(trajectory_embed[i,:,0],trajectory_embed[i,:,1],color = colors_list[i], alpha = 0.3,linestyle = \"-\", marker = \"\")\n",
        "  plt.plot(trajectory_embed[i,0,0],trajectory_embed[i,0,1],color = colors_list[i], alpha = 1.0,linestyle = \"\", marker = \"*\")\n",
        "\n",
        "plt.savefig('loss_landscape_2d.png')"
      ],
      "execution_count": 37,
      "outputs": [
        {
          "output_type": "display_data",
          "data": {
            "image/png": "[encoded data removed]",
            "text/plain": [
              "<Figure size 432x432 with 1 Axes>"
            ]
          },
          "metadata": {
            "needs_background": "light"
          }
        }
      ]
    },
    {
      "cell_type": "code",
      "metadata": {
        "id": "i07rE47iMs76",
        "colab": {
          "base_uri": "https://localhost:8080/",
          "height": 442,
          "referenced_widgets": [
            "0bac66b3f639484190fc1b7e1e1c731d",
            "658c40c28b504e7a91ef0f0e85d57647",
            "287e5af3cf284966b45cafeab6ebcd79",
            "9218baedba484c24987e3f54203a80af",
            "32236daf17a24a38bc0eda6dd12840f2",
            "2ba3f6ae86f64a928612a28fd34138c9",
            "e999b78109634b48a3809f173e73a5f8",
            "5b4e6e53faf44e6aa158f9c76647011b"
          ]
        },
        "outputId": "0d5916b9-96d4-4e43-86c6-a23d0fe23489"
      },
      "source": [
        "wandb.init(entity='filippak', project='loss-landscape', id='small_cnn_trajectory_investigation')\n",
        "wandb.log({'loss_landscape_2d': wandb.Image('loss_landscape_2d.png')})"
      ],
      "execution_count": 38,
      "outputs": [
        {
          "output_type": "display_data",
          "data": {
            "text/html": [
              "Finishing last run (ID:hmf2ymss) before initializing another..."
            ],
            "text/plain": [
              "<IPython.core.display.HTML object>"
            ]
          },
          "metadata": {}
        },
        {
          "output_type": "display_data",
          "data": {
            "text/html": [
              "<br/>Waiting for W&B process to finish, PID 541... <strong style=\"color:green\">(success).</strong>"
            ],
            "text/plain": [
              "<IPython.core.display.HTML object>"
            ]
          },
          "metadata": {}
        },
        {
          "output_type": "display_data",
          "data": {
            "application/vnd.jupyter.widget-view+json": {
              "model_id": "0bac66b3f639484190fc1b7e1e1c731d",
              "version_minor": 0,
              "version_major": 2
            },
            "text/plain": [
              "VBox(children=(Label(value=' 0.25MB of 0.25MB uploaded (0.00MB deduped)\\r'), FloatProgress(value=1.0, max=1.0)…"
            ]
          },
          "metadata": {}
        },
        {
          "output_type": "display_data",
          "data": {
            "text/html": [
              "<style>\n",
              "    table.wandb td:nth-child(1) { padding: 0 10px; text-align: right }\n",
              "    .wandb-row { display: flex; flex-direction: row; flex-wrap: wrap; width: 100% }\n",
              "    .wandb-col { display: flex; flex-direction: column; flex-basis: 100%; flex: 1; padding: 10px; }\n",
              "    </style>\n",
              "<div class=\"wandb-row\"><div class=\"wandb-col\">\n",
              "<h3>Run history:</h3><br/><table class=\"wandb\"><tr><td>Test Error Rate</td><td>▁</td></tr><tr><td>accuracy</td><td>▁▂▄▄▅▆▆▆▇▇▇▇▇▇▇▇▇▇██████████████████████</td></tr><tr><td>epoch</td><td>▁▁▁▂▂▂▂▂▂▃▃▃▃▃▄▄▄▄▄▄▅▅▅▅▅▅▆▆▆▆▆▇▇▇▇▇▇███</td></tr><tr><td>loss</td><td>█▇▆▅▄▃▃▃▂▂▂▂▂▂▂▂▂▂▁▁▁▁▁▁▁▁▁▁▁▁▁▁▁▁▁▁▁▁▁▁</td></tr><tr><td>nb_model_params</td><td>▁</td></tr><tr><td>training_time</td><td>▁</td></tr><tr><td>val_accuracy</td><td>▁▃▄▅▅▆▆▆▇▇▇▇▇▇▇▇▇▇▇█████████████████████</td></tr><tr><td>val_loss</td><td>█▇▅▄▄▃▃▃▂▂▂▂▂▂▂▂▂▂▂▁▁▁▁▁▁▁▁▁▁▁▁▁▁▁▁▁▁▁▁▁</td></tr></table><br/></div><div class=\"wandb-col\">\n",
              "<h3>Run summary:</h3><br/><table class=\"wandb\"><tr><td>Test Error Rate</td><td>22.85</td></tr><tr><td>accuracy</td><td>0.68113</td></tr><tr><td>best_epoch</td><td>39</td></tr><tr><td>best_val_loss</td><td>0.70114</td></tr><tr><td>epoch</td><td>39</td></tr><tr><td>loss</td><td>0.90228</td></tr><tr><td>nb_model_params</td><td>16382</td></tr><tr><td>training_time</td><td>317.57039</td></tr><tr><td>val_accuracy</td><td>0.77148</td></tr><tr><td>val_loss</td><td>0.70114</td></tr></table>\n",
              "</div></div>\n",
              "Synced 5 W&B file(s), 1 media file(s), 0 artifact file(s) and 1 other file(s)\n",
              "<br/>Synced <strong style=\"color:#cdcd00\">sunny-salad-22</strong>: <a href=\"https://wandb.ai/filippak/loss-landscape/runs/hmf2ymss\" target=\"_blank\">https://wandb.ai/filippak/loss-landscape/runs/hmf2ymss</a><br/>\n",
              "Find logs at: <code>./wandb/run-20211126_142146-hmf2ymss/logs</code><br/>\n"
            ],
            "text/plain": [
              "<IPython.core.display.HTML object>"
            ]
          },
          "metadata": {}
        },
        {
          "output_type": "display_data",
          "data": {
            "text/html": [
              "Successfully finished last run (ID:hmf2ymss). Initializing new run:<br/>"
            ],
            "text/plain": [
              "<IPython.core.display.HTML object>"
            ]
          },
          "metadata": {}
        },
        {
          "output_type": "display_data",
          "data": {
            "text/html": [
              "\n",
              "                    Syncing run <strong><a href=\"https://wandb.ai/filippak/loss-landscape/runs/small_cnn_trajectory_investigation\" target=\"_blank\">small_cnn_trajectory_investigation</a></strong> to <a href=\"https://wandb.ai/filippak/loss-landscape\" target=\"_blank\">Weights & Biases</a> (<a href=\"https://docs.wandb.com/integrations/jupyter.html\" target=\"_blank\">docs</a>).<br/>\n",
              "\n",
              "                "
            ],
            "text/plain": [
              "<IPython.core.display.HTML object>"
            ]
          },
          "metadata": {}
        }
      ]
    },
    {
      "cell_type": "markdown",
      "metadata": {
        "id": "caY9-qQBg9yv"
      },
      "source": [
        ""
      ]
    }
  ]
}