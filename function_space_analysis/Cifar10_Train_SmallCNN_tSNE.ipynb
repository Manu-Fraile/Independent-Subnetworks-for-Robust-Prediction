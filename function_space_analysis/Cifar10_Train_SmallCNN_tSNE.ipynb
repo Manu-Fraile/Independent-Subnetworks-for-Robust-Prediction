{
  "nbformat": 4,
  "nbformat_minor": 0,
  "metadata": {
    "colab": {
      "name": "Cifar10_Train_SmallCNN_tSNE",
      "provenance": [],
      "collapsed_sections": []
    },
    "kernelspec": {
      "name": "python3",
      "display_name": "Python 3"
    },
    "accelerator": "GPU"
  },
  "cells": [
    {
      "cell_type": "markdown",
      "metadata": {
        "id": "GKzu9hbgqw2x"
      },
      "source": [
        "# Setups, Installations and Imports"
      ]
    },
    {
      "cell_type": "code",
      "metadata": {
        "id": "YT_P8aSjO-ps",
        "colab": {
          "base_uri": "https://localhost:8080/"
        },
        "outputId": "22d1f007-cf07-4d95-e021-cab4a2c4b647"
      },
      "source": [
        "!nvidia-smi"
      ],
      "execution_count": null,
      "outputs": [
        {
          "output_type": "stream",
          "name": "stdout",
          "text": [
            "Wed Dec  8 15:06:39 2021       \n",
            "+-----------------------------------------------------------------------------+\n",
            "| NVIDIA-SMI 495.44       Driver Version: 460.32.03    CUDA Version: 11.2     |\n",
            "|-------------------------------+----------------------+----------------------+\n",
            "| GPU  Name        Persistence-M| Bus-Id        Disp.A | Volatile Uncorr. ECC |\n",
            "| Fan  Temp  Perf  Pwr:Usage/Cap|         Memory-Usage | GPU-Util  Compute M. |\n",
            "|                               |                      |               MIG M. |\n",
            "|===============================+======================+======================|\n",
            "|   0  Tesla K80           Off  | 00000000:00:04.0 Off |                    0 |\n",
            "| N/A   70C    P8    33W / 149W |      0MiB / 11441MiB |      0%      Default |\n",
            "|                               |                      |                  N/A |\n",
            "+-------------------------------+----------------------+----------------------+\n",
            "                                                                               \n",
            "+-----------------------------------------------------------------------------+\n",
            "| Processes:                                                                  |\n",
            "|  GPU   GI   CI        PID   Type   Process name                  GPU Memory |\n",
            "|        ID   ID                                                   Usage      |\n",
            "|=============================================================================|\n",
            "|  No running processes found                                                 |\n",
            "+-----------------------------------------------------------------------------+\n"
          ]
        }
      ]
    },
    {
      "cell_type": "code",
      "metadata": {
        "id": "rQAggd-btWJK",
        "colab": {
          "base_uri": "https://localhost:8080/"
        },
        "outputId": "235fa73d-1867-48df-c16e-914bcdbe72c3"
      },
      "source": [
        "## This is so that I can save my models.\n",
        "from google.colab import drive\n",
        "drive.mount('gdrive')"
      ],
      "execution_count": null,
      "outputs": [
        {
          "output_type": "stream",
          "name": "stdout",
          "text": [
            "Mounted at gdrive\n"
          ]
        }
      ]
    },
    {
      "cell_type": "code",
      "metadata": {
        "id": "9-APP7-6C5uK"
      },
      "source": [
        "import tensorflow as tf\n",
        "\n",
        "from tensorflow import keras\n",
        "from tensorflow.keras.datasets import cifar10\n",
        "from tensorflow.keras.applications import resnet50\n"
      ],
      "execution_count": null,
      "outputs": []
    },
    {
      "cell_type": "code",
      "metadata": {
        "id": "3Pr3HrMxq8SF"
      },
      "source": [
        "import os\n",
        "os.environ[\"TF_DETERMINISTIC_OPS\"] = \"1\"\n",
        "import time\n",
        "\n",
        "import numpy as np\n",
        "import pandas as pd\n",
        "import matplotlib.pyplot as plt\n",
        "\n",
        "%matplotlib inline\n",
        "\n",
        "import io\n",
        "import itertools\n",
        "from sklearn.metrics import confusion_matrix"
      ],
      "execution_count": null,
      "outputs": []
    },
    {
      "cell_type": "markdown",
      "metadata": {
        "id": "M3Ln8W0Aru8X"
      },
      "source": [
        "# Download and Prepare Dataset"
      ]
    },
    {
      "cell_type": "markdown",
      "metadata": {
        "id": "LMFYLweasySz"
      },
      "source": [
        "#### CIFAR-10"
      ]
    },
    {
      "cell_type": "code",
      "metadata": {
        "id": "Posjlu7lDJBd",
        "colab": {
          "base_uri": "https://localhost:8080/"
        },
        "outputId": "79582570-6c66-473b-86ca-f270b22eb0a8"
      },
      "source": [
        "(x_train, y_train), (x_test, y_test) = cifar10.load_data()\n",
        "\n",
        "CLASS_NAMES = (\"airplane\", \"automobile\", \"bird\", \"cat\", \"deer\", \"dog\", \"frog\", \"horse\", \"ship\", \"truck\")\n",
        "print(x_train.shape, y_train.shape, x_test.shape, y_test.shape)"
      ],
      "execution_count": null,
      "outputs": [
        {
          "output_type": "stream",
          "name": "stdout",
          "text": [
            "(50000, 32, 32, 3) (50000, 1) (10000, 32, 32, 3) (10000, 1)\n"
          ]
        }
      ]
    },
    {
      "cell_type": "markdown",
      "metadata": {
        "id": "QZzY01xwxS-f"
      },
      "source": [
        "#### Dataloader"
      ]
    },
    {
      "cell_type": "code",
      "metadata": {
        "id": "6TqcgM67xxDF",
        "colab": {
          "base_uri": "https://localhost:8080/"
        },
        "outputId": "2d9cb976-e6ef-4ca1-d259-5efa1912878a"
      },
      "source": [
        "AUTO = tf.data.experimental.AUTOTUNE\n",
        "BATCH_SIZE = 128\n",
        "IMG_SHAPE = 32 # 28 for MNIST and 32 for CIFAR-10\n",
        "M = 3\n",
        "tf.random.set_seed(1)\n",
        "\n",
        "# Remove some datapoints to make sets divisable by 3 (so that all batches have size 3)\n",
        "x_train = x_train[:49998,:,:,:]\n",
        "y_train = y_train[:49998,:]\n",
        "x_test = x_test[:9999,:,:,:]\n",
        "y_test = y_test[:9999,:]\n",
        "\n",
        "trainloader = tf.data.Dataset.from_tensor_slices((x_train, y_train))\n",
        "testloader = tf.data.Dataset.from_tensor_slices((x_test, y_test))\n",
        "\n",
        "def preprocess_image(image, label):\n",
        "  img = tf.cast(image, tf.float32)\n",
        "  img = img/255.\n",
        "\n",
        "  return img, label\n",
        "\n",
        "def tile_image(image, label):\n",
        "  print(label.shape)\n",
        "  labels_tiled = tf.tile(tf.expand_dims(label, 2), [1, M,1])\n",
        "  images = tf.tile(tf.expand_dims(image, 1), [1, M, 1, 1, 1])\n",
        "  images = tf.squeeze(images, axis=0)\n",
        "  label = tf.squeeze(labels_tiled, axis=0)\n",
        "  return images,label\n",
        "\n",
        "trainloader_1 = (\n",
        "    trainloader\n",
        "    .shuffle(1024)\n",
        "    .map(preprocess_image, num_parallel_calls=AUTO)\n",
        "    .batch(3)\n",
        "    .prefetch(AUTO)\n",
        ")\n",
        "trainloader = (\n",
        "    trainloader_1\n",
        "    .shuffle(1024)\n",
        "    .batch(BATCH_SIZE)\n",
        "    .prefetch(AUTO)\n",
        ")\n",
        "\n",
        "testloader_1 = (\n",
        "    testloader\n",
        "    .map(preprocess_image, num_parallel_calls=AUTO)\n",
        "    .batch(1) # tried drop_remainder=True\n",
        "    .prefetch(AUTO)\n",
        ")\n",
        "\n",
        "testloader = (\n",
        "    testloader_1\n",
        "    .map(tile_image)\n",
        "    .batch(BATCH_SIZE)\n",
        "    .prefetch(AUTO)\n",
        ")"
      ],
      "execution_count": null,
      "outputs": [
        {
          "output_type": "stream",
          "name": "stdout",
          "text": [
            "(None, 1)\n"
          ]
        }
      ]
    },
    {
      "cell_type": "markdown",
      "metadata": {
        "id": "W2xrs00QuVG3"
      },
      "source": [
        "# Model"
      ]
    },
    {
      "cell_type": "code",
      "metadata": {
        "id": "AmvmoCjza5vk"
      },
      "source": [
        "# Dense multihead for multiple outputs, as Implemented in the MIMO paper.\n",
        "# Here applied to the Loss Landscape analysis\n",
        "# coding=utf-8\n",
        "# Copyright 2020 The <> Authors.\n",
        "#\n",
        "# Licensed under the Apache License, Version 2.0 (the \"License\");\n",
        "# you may not use this file except in compliance with the License.\n",
        "# You may obtain a copy of the License at\n",
        "\n",
        "class DenseMultihead(tf.keras.layers.Dense):\n",
        "    \"\"\"Multiheaded output layer.\"\"\"\n",
        "\n",
        "    def __init__(self,\n",
        "                 units,\n",
        "                 ensemble_size=1,\n",
        "                 activation=None,\n",
        "                 use_bias=True,\n",
        "                 kernel_initializer='glorot_uniform',\n",
        "                 bias_initializer='zeros',\n",
        "                 kernel_regularizer=None,\n",
        "                 bias_regularizer=None,\n",
        "                 activity_regularizer=None,\n",
        "                 kernel_constraint=None,\n",
        "                 bias_constraint=None,\n",
        "                 **kwargs):\n",
        "        super().__init__(\n",
        "            units=units * ensemble_size,\n",
        "            activation=activation,\n",
        "            use_bias=use_bias,\n",
        "            kernel_initializer=kernel_initializer,\n",
        "            bias_initializer=bias_initializer,\n",
        "            kernel_regularizer=kernel_regularizer,\n",
        "            bias_regularizer=bias_regularizer,\n",
        "            activity_regularizer=activity_regularizer,\n",
        "            kernel_constraint=kernel_constraint,\n",
        "            bias_constraint=bias_constraint,\n",
        "            **kwargs)\n",
        "        self.ensemble_size = ensemble_size\n",
        "\n",
        "    def call(self, inputs):\n",
        "        batch_size = tf.shape(inputs)[0]\n",
        "        # NOTE: This restricts this layer from being called on tensors of ndim > 2.\n",
        "        outputs = super().call(inputs)\n",
        "        outputs = tf.reshape(outputs, [batch_size,\n",
        "                                       self.ensemble_size,\n",
        "                                       self.units // self.ensemble_size])\n",
        "        return outputs\n",
        "\n",
        "    def get_config(self):\n",
        "        config = {\n",
        "            'units': self.units // self.ensemble_size,\n",
        "            'ensemble_size': self.ensemble_size,\n",
        "        }\n",
        "        new_config = super().get_config()\n",
        "        new_config.update(config)\n",
        "        return new_config"
      ],
      "execution_count": null,
      "outputs": []
    },
    {
      "cell_type": "code",
      "metadata": {
        "id": "_Pv7-2VNsb5N"
      },
      "source": [
        "# Modify this to use the MIMO architecture!! Code taken and modified from the MIMO repo\n",
        "def Model():\n",
        "  # OLD inputs\n",
        "  # inputs = keras.layers.Input(shape=(IMG_SHAPE, IMG_SHAPE, 3))\n",
        "  \"\"\"\n",
        "  Code from the mimo implementation\n",
        "  input_shape: tf.Tensor. The input shape must be (ensemble_size, width,\n",
        "      height, channels).\n",
        "  \"\"\"\n",
        "  num_classes = 10\n",
        "  ensemble_size = 3\n",
        "  input_shape = list([3, IMG_SHAPE, IMG_SHAPE, 3])\n",
        "  inputs = tf.keras.layers.Input(shape=input_shape)\n",
        "  x = tf.keras.layers.Permute([2, 3, 4, 1])(inputs)\n",
        "  if ensemble_size != input_shape[0]:\n",
        "      raise ValueError('the first dimension of input_shape must be ensemble_size')\n",
        "  print('final shape: ', input_shape[1:-1] + [input_shape[-1] * ensemble_size])\n",
        "  x = tf.keras.layers.Reshape(input_shape[1:-1] +\n",
        "                                [input_shape[-1] * ensemble_size])(x)\n",
        "\n",
        "\n",
        "  x = keras.layers.Conv2D(16, (3,3), padding='same')(x)\n",
        "  x = keras.activations.relu(x)\n",
        "  x = keras.layers.MaxPooling2D(pool_size=(2, 2), strides=(1, 1))(x) # Tried with 1\n",
        "\n",
        "  x = keras.layers.Conv2D(32,(3,3), padding='same')(x)\n",
        "  x = keras.activations.relu(x)\n",
        "  x = keras.layers.MaxPooling2D(2, strides=2)(x)\n",
        "\n",
        "  x = keras.layers.Conv2D(32,(3,3), padding='same')(x)\n",
        "  x = keras.activations.relu(x)\n",
        "  x = keras.layers.MaxPooling2D(2, strides=2)(x)\n",
        "\n",
        "  x = keras.layers.GlobalAveragePooling2D()(x)\n",
        "  x = keras.layers.Dense(32, activation='relu')(x)\n",
        "  x = keras.layers.Dropout(0.1)(x)\n",
        "  \n",
        "  # outputs = keras.layers.Dense(10, activation='softmax')(x)\n",
        "  \"\"\"\n",
        "  Outputs as prensented in the MIMO paper (taken from their implementation)\n",
        "  \"\"\"\n",
        "  outputs = DenseMultihead(\n",
        "        num_classes,\n",
        "        kernel_initializer='he_normal', # TODO: check this! what should this be?\n",
        "        activation='softmax', # this is changed from the MIMO implementation 'softmax' -changed this!\n",
        "        ensemble_size=ensemble_size)(x)\n",
        "\n",
        "  return keras.models.Model(inputs=inputs, outputs=outputs)"
      ],
      "execution_count": null,
      "outputs": []
    },
    {
      "cell_type": "code",
      "metadata": {
        "id": "o9A69Z8kgBks",
        "colab": {
          "base_uri": "https://localhost:8080/",
          "height": 1000
        },
        "outputId": "e38e0e8f-b2bc-4775-80c9-0b282386d1a9"
      },
      "source": [
        "tf.keras.backend.clear_session()\n",
        "model = Model()\n",
        "\n",
        "tf.keras.utils.plot_model(\n",
        "    model, to_file='small_cnn.png', show_shapes=True, show_layer_names=True, dpi=65\n",
        ")"
      ],
      "execution_count": null,
      "outputs": [
        {
          "output_type": "stream",
          "name": "stdout",
          "text": [
            "final shape:  [32, 32, 9]\n"
          ]
        },
        {
          "output_type": "execute_result",
          "data": {
            "image/png": "[encoded data removed]",
            "text/plain": [
              "<IPython.core.display.Image object>"
            ]
          },
          "metadata": {},
          "execution_count": 30
        }
      ]
    },
    {
      "cell_type": "markdown",
      "metadata": {
        "id": "nkxDAl8pv5pJ"
      },
      "source": [
        "# Callbacks"
      ]
    },
    {
      "cell_type": "markdown",
      "metadata": {
        "id": "B13auR7gDEao"
      },
      "source": [
        "#### LR Scheduler"
      ]
    },
    {
      "cell_type": "code",
      "metadata": {
        "id": "j4WY47Kxv8uN"
      },
      "source": [
        "# Custom LR schedule as mentioned in the LossLandscape paper\n",
        "LR_SCHEDULE = [\n",
        "    # (epoch to start, learning rate) tuples\n",
        "    (0, 1.6*1e-3),\n",
        "    (9, (1.6*1e-3)/2),\n",
        "    (19, (1.6*1e-3)/4),\n",
        "    (29, (1.6*1e-3)/8),\n",
        "]\n",
        "\n",
        "def lr_schedule(epoch):\n",
        "    if (epoch >= 0) & (epoch < 9):\n",
        "        return LR_SCHEDULE[0][1]\n",
        "    elif (epoch >= 9) & (epoch < 19):\n",
        "        return LR_SCHEDULE[1][1]\n",
        "    elif (epoch >= 19) & (epoch < 29):\n",
        "        return LR_SCHEDULE[2][1]\n",
        "    else:\n",
        "        return LR_SCHEDULE[3][1]\n",
        "\n",
        "lr_callback = tf.keras.callbacks.LearningRateScheduler(lambda epoch: lr_schedule(epoch), verbose=True)"
      ],
      "execution_count": null,
      "outputs": []
    },
    {
      "cell_type": "markdown",
      "metadata": {
        "id": "SWDf_SqVDHUo"
      },
      "source": [
        "#### Model Checkpoint"
      ]
    },
    {
      "cell_type": "code",
      "metadata": {
        "id": "Kjb25zUM-2wu"
      },
      "source": [
        "SAVE_PATH = 'gdrive/My Drive/Colab Notebooks/LossLandscape/NEW/Softmax_SmallCNN_CheckpointID_1/'"
      ],
      "execution_count": null,
      "outputs": []
    },
    {
      "cell_type": "code",
      "metadata": {
        "id": "48WXaSSx4hAF"
      },
      "source": [
        "def save_model(epoch, logs):\n",
        "  model.save(SAVE_PATH+'small_cnn_checkpoint_{}.tf'.format(epoch))\n",
        "\n",
        "save_callback = tf.keras.callbacks.LambdaCallback(on_epoch_end=save_model, verbose=True)"
      ],
      "execution_count": null,
      "outputs": []
    },
    {
      "cell_type": "markdown",
      "metadata": {
        "id": "Q02l2PnW4YMh"
      },
      "source": [
        "# Initialize Model"
      ]
    },
    {
      "cell_type": "code",
      "metadata": {
        "id": "b7NGdxodMYP3",
        "colab": {
          "base_uri": "https://localhost:8080/"
        },
        "outputId": "69e10dac-775c-4dd0-e103-a8fcaee38807"
      },
      "source": [
        "keras.backend.clear_session()\n",
        "model = Model()\n",
        "model.summary()"
      ],
      "execution_count": null,
      "outputs": [
        {
          "output_type": "stream",
          "name": "stdout",
          "text": [
            "final shape:  [32, 32, 9]\n",
            "Model: \"model\"\n",
            "_________________________________________________________________\n",
            " Layer (type)                Output Shape              Param #   \n",
            "=================================================================\n",
            " input_1 (InputLayer)        [(None, 3, 32, 32, 3)]    0         \n",
            "                                                                 \n",
            " permute (Permute)           (None, 32, 32, 3, 3)      0         \n",
            "                                                                 \n",
            " reshape (Reshape)           (None, 32, 32, 9)         0         \n",
            "                                                                 \n",
            " conv2d (Conv2D)             (None, 32, 32, 16)        1312      \n",
            "                                                                 \n",
            " tf.nn.relu (TFOpLambda)     (None, 32, 32, 16)        0         \n",
            "                                                                 \n",
            " max_pooling2d (MaxPooling2D  (None, 31, 31, 16)       0         \n",
            " )                                                               \n",
            "                                                                 \n",
            " conv2d_1 (Conv2D)           (None, 31, 31, 32)        4640      \n",
            "                                                                 \n",
            " tf.nn.relu_1 (TFOpLambda)   (None, 31, 31, 32)        0         \n",
            "                                                                 \n",
            " max_pooling2d_1 (MaxPooling  (None, 15, 15, 32)       0         \n",
            " 2D)                                                             \n",
            "                                                                 \n",
            " conv2d_2 (Conv2D)           (None, 15, 15, 32)        9248      \n",
            "                                                                 \n",
            " tf.nn.relu_2 (TFOpLambda)   (None, 15, 15, 32)        0         \n",
            "                                                                 \n",
            " max_pooling2d_2 (MaxPooling  (None, 7, 7, 32)         0         \n",
            " 2D)                                                             \n",
            "                                                                 \n",
            " global_average_pooling2d (G  (None, 32)               0         \n",
            " lobalAveragePooling2D)                                          \n",
            "                                                                 \n",
            " dense (Dense)               (None, 32)                1056      \n",
            "                                                                 \n",
            " dropout (Dropout)           (None, 32)                0         \n",
            "                                                                 \n",
            " dense_multihead (DenseMulti  (None, 3, 10)            990       \n",
            " head)                                                           \n",
            "                                                                 \n",
            "=================================================================\n",
            "Total params: 17,246\n",
            "Trainable params: 17,246\n",
            "Non-trainable params: 0\n",
            "_________________________________________________________________\n"
          ]
        }
      ]
    },
    {
      "cell_type": "markdown",
      "metadata": {
        "id": "DqiY2v174cCw"
      },
      "source": [
        "# Compile"
      ]
    },
    {
      "cell_type": "code",
      "metadata": {
        "id": "M7Vk7qmEMgeB"
      },
      "source": [
        "model.compile('adam', 'sparse_categorical_crossentropy', metrics=['accuracy'])"
      ],
      "execution_count": null,
      "outputs": []
    },
    {
      "cell_type": "markdown",
      "metadata": {
        "id": "co0IcwRl4goi"
      },
      "source": [
        "# Train"
      ]
    },
    {
      "cell_type": "code",
      "metadata": {
        "id": "_Mqy_ZBNM8UA",
        "colab": {
          "base_uri": "https://localhost:8080/"
        },
        "outputId": "7f471759-d230-4b70-f518-91466a975ffb"
      },
      "source": [
        "EPOCHS = 40\n",
        "\n",
        "start = time.time()\n",
        "print(trainloader)\n",
        "print(testloader)\n",
        "_ = model.fit(trainloader,\n",
        "          epochs=EPOCHS,\n",
        "          validation_data=testloader,\n",
        "          callbacks=[lr_callback,\n",
        "                     # cm_callback, can not handle the dimensions of the test set! \n",
        "                     save_callback])\n",
        "end = time.time()\n",
        "print(\"Network takes {:.3f} seconds to train\".format(end - start))\n",
        "# wandb.log({'training_time': end - start})\n",
        "# wandb.log({'nb_model_params': model.count_params()})"
      ],
      "execution_count": null,
      "outputs": [
        {
          "output_type": "stream",
          "name": "stdout",
          "text": [
            "<PrefetchDataset shapes: ((None, None, 32, 32, 3), (None, None, 1)), types: (tf.float32, tf.uint8)>\n",
            "<PrefetchDataset shapes: ((None, 3, 32, 32, 3), (None, 3, 1)), types: (tf.float32, tf.uint8)>\n",
            "\n",
            "Epoch 00001: LearningRateScheduler setting learning rate to 0.0016.\n",
            "Epoch 1/40\n",
            "129/131 [============================>.] - ETA: 0s - loss: 2.2698 - accuracy: 0.1280INFO:tensorflow:Assets written to: gdrive/My Drive/Colab Notebooks/LossLandscape/NEW/Softmax_SmallCNN_CheckpointID_1/small_cnn_checkpoint_0.tf/assets\n",
            "131/131 [==============================] - 10s 70ms/step - loss: 2.2697 - accuracy: 0.1279 - val_loss: 2.2773 - val_accuracy: 0.1195 - lr: 0.0016\n",
            "\n",
            "Epoch 00002: LearningRateScheduler setting learning rate to 0.0016.\n",
            "Epoch 2/40\n",
            "130/131 [============================>.] - ETA: 0s - loss: 2.1949 - accuracy: 0.1617INFO:tensorflow:Assets written to: gdrive/My Drive/Colab Notebooks/LossLandscape/NEW/Softmax_SmallCNN_CheckpointID_1/small_cnn_checkpoint_1.tf/assets\n",
            "131/131 [==============================] - 8s 60ms/step - loss: 2.1948 - accuracy: 0.1617 - val_loss: 2.2028 - val_accuracy: 0.1674 - lr: 0.0016\n",
            "\n",
            "Epoch 00003: LearningRateScheduler setting learning rate to 0.0016.\n",
            "Epoch 3/40\n",
            "129/131 [============================>.] - ETA: 0s - loss: 2.1618 - accuracy: 0.1688INFO:tensorflow:Assets written to: gdrive/My Drive/Colab Notebooks/LossLandscape/NEW/Softmax_SmallCNN_CheckpointID_1/small_cnn_checkpoint_2.tf/assets\n",
            "131/131 [==============================] - 8s 62ms/step - loss: 2.1619 - accuracy: 0.1688 - val_loss: 2.1569 - val_accuracy: 0.1677 - lr: 0.0016\n",
            "\n",
            "Epoch 00004: LearningRateScheduler setting learning rate to 0.0016.\n",
            "Epoch 4/40\n",
            "129/131 [============================>.] - ETA: 0s - loss: 2.1111 - accuracy: 0.1852INFO:tensorflow:Assets written to: gdrive/My Drive/Colab Notebooks/LossLandscape/NEW/Softmax_SmallCNN_CheckpointID_1/small_cnn_checkpoint_3.tf/assets\n",
            "131/131 [==============================] - 8s 60ms/step - loss: 2.1109 - accuracy: 0.1851 - val_loss: 2.1580 - val_accuracy: 0.1668 - lr: 0.0016\n",
            "\n",
            "Epoch 00005: LearningRateScheduler setting learning rate to 0.0016.\n",
            "Epoch 5/40\n",
            "129/131 [============================>.] - ETA: 0s - loss: 2.0645 - accuracy: 0.2018INFO:tensorflow:Assets written to: gdrive/My Drive/Colab Notebooks/LossLandscape/NEW/Softmax_SmallCNN_CheckpointID_1/small_cnn_checkpoint_4.tf/assets\n",
            "131/131 [==============================] - 8s 60ms/step - loss: 2.0644 - accuracy: 0.2017 - val_loss: 2.0568 - val_accuracy: 0.2040 - lr: 0.0016\n",
            "\n",
            "Epoch 00006: LearningRateScheduler setting learning rate to 0.0016.\n",
            "Epoch 6/40\n",
            "129/131 [============================>.] - ETA: 0s - loss: 2.0264 - accuracy: 0.2163INFO:tensorflow:Assets written to: gdrive/My Drive/Colab Notebooks/LossLandscape/NEW/Softmax_SmallCNN_CheckpointID_1/small_cnn_checkpoint_5.tf/assets\n",
            "131/131 [==============================] - 9s 71ms/step - loss: 2.0264 - accuracy: 0.2163 - val_loss: 2.0251 - val_accuracy: 0.2216 - lr: 0.0016\n",
            "\n",
            "Epoch 00007: LearningRateScheduler setting learning rate to 0.0016.\n",
            "Epoch 7/40\n",
            "129/131 [============================>.] - ETA: 0s - loss: 1.9921 - accuracy: 0.2273INFO:tensorflow:Assets written to: gdrive/My Drive/Colab Notebooks/LossLandscape/NEW/Softmax_SmallCNN_CheckpointID_1/small_cnn_checkpoint_6.tf/assets\n",
            "131/131 [==============================] - 8s 59ms/step - loss: 1.9919 - accuracy: 0.2275 - val_loss: 2.0079 - val_accuracy: 0.2308 - lr: 0.0016\n",
            "\n",
            "Epoch 00008: LearningRateScheduler setting learning rate to 0.0016.\n",
            "Epoch 8/40\n",
            "129/131 [============================>.] - ETA: 0s - loss: 1.9697 - accuracy: 0.2366INFO:tensorflow:Assets written to: gdrive/My Drive/Colab Notebooks/LossLandscape/NEW/Softmax_SmallCNN_CheckpointID_1/small_cnn_checkpoint_7.tf/assets\n",
            "131/131 [==============================] - 8s 61ms/step - loss: 1.9693 - accuracy: 0.2366 - val_loss: 1.9558 - val_accuracy: 0.2340 - lr: 0.0016\n",
            "\n",
            "Epoch 00009: LearningRateScheduler setting learning rate to 0.0016.\n",
            "Epoch 9/40\n",
            "130/131 [============================>.] - ETA: 0s - loss: 1.9500 - accuracy: 0.2460INFO:tensorflow:Assets written to: gdrive/My Drive/Colab Notebooks/LossLandscape/NEW/Softmax_SmallCNN_CheckpointID_1/small_cnn_checkpoint_8.tf/assets\n",
            "131/131 [==============================] - 8s 61ms/step - loss: 1.9499 - accuracy: 0.2459 - val_loss: 1.9632 - val_accuracy: 0.2334 - lr: 0.0016\n",
            "\n",
            "Epoch 00010: LearningRateScheduler setting learning rate to 0.0008.\n",
            "Epoch 10/40\n",
            "129/131 [============================>.] - ETA: 0s - loss: 1.9177 - accuracy: 0.2562INFO:tensorflow:Assets written to: gdrive/My Drive/Colab Notebooks/LossLandscape/NEW/Softmax_SmallCNN_CheckpointID_1/small_cnn_checkpoint_9.tf/assets\n",
            "131/131 [==============================] - 8s 62ms/step - loss: 1.9175 - accuracy: 0.2562 - val_loss: 1.9940 - val_accuracy: 0.2430 - lr: 8.0000e-04\n",
            "\n",
            "Epoch 00011: LearningRateScheduler setting learning rate to 0.0008.\n",
            "Epoch 11/40\n",
            "129/131 [============================>.] - ETA: 0s - loss: 1.9103 - accuracy: 0.2579INFO:tensorflow:Assets written to: gdrive/My Drive/Colab Notebooks/LossLandscape/NEW/Softmax_SmallCNN_CheckpointID_1/small_cnn_checkpoint_10.tf/assets\n",
            "131/131 [==============================] - 8s 61ms/step - loss: 1.9098 - accuracy: 0.2579 - val_loss: 1.9601 - val_accuracy: 0.2441 - lr: 8.0000e-04\n",
            "\n",
            "Epoch 00012: LearningRateScheduler setting learning rate to 0.0008.\n",
            "Epoch 12/40\n",
            "130/131 [============================>.] - ETA: 0s - loss: 1.8911 - accuracy: 0.2646INFO:tensorflow:Assets written to: gdrive/My Drive/Colab Notebooks/LossLandscape/NEW/Softmax_SmallCNN_CheckpointID_1/small_cnn_checkpoint_11.tf/assets\n",
            "131/131 [==============================] - 8s 60ms/step - loss: 1.8911 - accuracy: 0.2645 - val_loss: 1.9422 - val_accuracy: 0.2496 - lr: 8.0000e-04\n",
            "\n",
            "Epoch 00013: LearningRateScheduler setting learning rate to 0.0008.\n",
            "Epoch 13/40\n",
            "129/131 [============================>.] - ETA: 0s - loss: 1.8853 - accuracy: 0.2670INFO:tensorflow:Assets written to: gdrive/My Drive/Colab Notebooks/LossLandscape/NEW/Softmax_SmallCNN_CheckpointID_1/small_cnn_checkpoint_12.tf/assets\n",
            "131/131 [==============================] - 8s 60ms/step - loss: 1.8855 - accuracy: 0.2667 - val_loss: 1.8866 - val_accuracy: 0.2761 - lr: 8.0000e-04\n",
            "\n",
            "Epoch 00014: LearningRateScheduler setting learning rate to 0.0008.\n",
            "Epoch 14/40\n",
            "129/131 [============================>.] - ETA: 0s - loss: 1.8721 - accuracy: 0.2719INFO:tensorflow:Assets written to: gdrive/My Drive/Colab Notebooks/LossLandscape/NEW/Softmax_SmallCNN_CheckpointID_1/small_cnn_checkpoint_13.tf/assets\n",
            "131/131 [==============================] - 8s 62ms/step - loss: 1.8724 - accuracy: 0.2720 - val_loss: 1.8977 - val_accuracy: 0.2672 - lr: 8.0000e-04\n",
            "\n",
            "Epoch 00015: LearningRateScheduler setting learning rate to 0.0008.\n",
            "Epoch 15/40\n",
            "130/131 [============================>.] - ETA: 0s - loss: 1.8642 - accuracy: 0.2771INFO:tensorflow:Assets written to: gdrive/My Drive/Colab Notebooks/LossLandscape/NEW/Softmax_SmallCNN_CheckpointID_1/small_cnn_checkpoint_14.tf/assets\n",
            "131/131 [==============================] - 8s 61ms/step - loss: 1.8640 - accuracy: 0.2772 - val_loss: 1.9233 - val_accuracy: 0.2600 - lr: 8.0000e-04\n",
            "\n",
            "Epoch 00016: LearningRateScheduler setting learning rate to 0.0008.\n",
            "Epoch 16/40\n",
            "130/131 [============================>.] - ETA: 0s - loss: 1.8621 - accuracy: 0.2792INFO:tensorflow:Assets written to: gdrive/My Drive/Colab Notebooks/LossLandscape/NEW/Softmax_SmallCNN_CheckpointID_1/small_cnn_checkpoint_15.tf/assets\n",
            "131/131 [==============================] - 8s 61ms/step - loss: 1.8620 - accuracy: 0.2793 - val_loss: 1.9065 - val_accuracy: 0.2649 - lr: 8.0000e-04\n",
            "\n",
            "Epoch 00017: LearningRateScheduler setting learning rate to 0.0008.\n",
            "Epoch 17/40\n",
            "130/131 [============================>.] - ETA: 0s - loss: 1.8541 - accuracy: 0.2795INFO:tensorflow:Assets written to: gdrive/My Drive/Colab Notebooks/LossLandscape/NEW/Softmax_SmallCNN_CheckpointID_1/small_cnn_checkpoint_16.tf/assets\n",
            "131/131 [==============================] - 8s 62ms/step - loss: 1.8541 - accuracy: 0.2795 - val_loss: 1.8813 - val_accuracy: 0.2849 - lr: 8.0000e-04\n",
            "\n",
            "Epoch 00018: LearningRateScheduler setting learning rate to 0.0008.\n",
            "Epoch 18/40\n",
            "130/131 [============================>.] - ETA: 0s - loss: 1.8488 - accuracy: 0.2811INFO:tensorflow:Assets written to: gdrive/My Drive/Colab Notebooks/LossLandscape/NEW/Softmax_SmallCNN_CheckpointID_1/small_cnn_checkpoint_17.tf/assets\n",
            "131/131 [==============================] - 8s 61ms/step - loss: 1.8488 - accuracy: 0.2811 - val_loss: 1.8774 - val_accuracy: 0.2738 - lr: 8.0000e-04\n",
            "\n",
            "Epoch 00019: LearningRateScheduler setting learning rate to 0.0008.\n",
            "Epoch 19/40\n",
            "129/131 [============================>.] - ETA: 0s - loss: 1.8516 - accuracy: 0.2859INFO:tensorflow:Assets written to: gdrive/My Drive/Colab Notebooks/LossLandscape/NEW/Softmax_SmallCNN_CheckpointID_1/small_cnn_checkpoint_18.tf/assets\n",
            "131/131 [==============================] - 8s 59ms/step - loss: 1.8516 - accuracy: 0.2861 - val_loss: 1.8653 - val_accuracy: 0.2853 - lr: 8.0000e-04\n",
            "\n",
            "Epoch 00020: LearningRateScheduler setting learning rate to 0.0004.\n",
            "Epoch 20/40\n",
            "129/131 [============================>.] - ETA: 0s - loss: 1.8342 - accuracy: 0.2917INFO:tensorflow:Assets written to: gdrive/My Drive/Colab Notebooks/LossLandscape/NEW/Softmax_SmallCNN_CheckpointID_1/small_cnn_checkpoint_19.tf/assets\n",
            "131/131 [==============================] - 8s 61ms/step - loss: 1.8341 - accuracy: 0.2918 - val_loss: 1.8509 - val_accuracy: 0.2959 - lr: 4.0000e-04\n",
            "\n",
            "Epoch 00021: LearningRateScheduler setting learning rate to 0.0004.\n",
            "Epoch 21/40\n",
            "129/131 [============================>.] - ETA: 0s - loss: 1.8330 - accuracy: 0.2893INFO:tensorflow:Assets written to: gdrive/My Drive/Colab Notebooks/LossLandscape/NEW/Softmax_SmallCNN_CheckpointID_1/small_cnn_checkpoint_20.tf/assets\n",
            "131/131 [==============================] - 8s 59ms/step - loss: 1.8325 - accuracy: 0.2898 - val_loss: 1.8462 - val_accuracy: 0.2984 - lr: 4.0000e-04\n",
            "\n",
            "Epoch 00022: LearningRateScheduler setting learning rate to 0.0004.\n",
            "Epoch 22/40\n",
            "129/131 [============================>.] - ETA: 0s - loss: 1.8256 - accuracy: 0.2934INFO:tensorflow:Assets written to: gdrive/My Drive/Colab Notebooks/LossLandscape/NEW/Softmax_SmallCNN_CheckpointID_1/small_cnn_checkpoint_21.tf/assets\n",
            "131/131 [==============================] - 9s 68ms/step - loss: 1.8258 - accuracy: 0.2933 - val_loss: 1.8726 - val_accuracy: 0.2901 - lr: 4.0000e-04\n",
            "\n",
            "Epoch 00023: LearningRateScheduler setting learning rate to 0.0004.\n",
            "Epoch 23/40\n",
            "130/131 [============================>.] - ETA: 0s - loss: 1.8242 - accuracy: 0.2926INFO:tensorflow:Assets written to: gdrive/My Drive/Colab Notebooks/LossLandscape/NEW/Softmax_SmallCNN_CheckpointID_1/small_cnn_checkpoint_22.tf/assets\n",
            "131/131 [==============================] - 9s 68ms/step - loss: 1.8241 - accuracy: 0.2926 - val_loss: 1.8777 - val_accuracy: 0.2872 - lr: 4.0000e-04\n",
            "\n",
            "Epoch 00024: LearningRateScheduler setting learning rate to 0.0004.\n",
            "Epoch 24/40\n",
            "130/131 [============================>.] - ETA: 0s - loss: 1.8234 - accuracy: 0.2935INFO:tensorflow:Assets written to: gdrive/My Drive/Colab Notebooks/LossLandscape/NEW/Softmax_SmallCNN_CheckpointID_1/small_cnn_checkpoint_23.tf/assets\n",
            "131/131 [==============================] - 8s 61ms/step - loss: 1.8234 - accuracy: 0.2935 - val_loss: 1.8345 - val_accuracy: 0.2987 - lr: 4.0000e-04\n",
            "\n",
            "Epoch 00025: LearningRateScheduler setting learning rate to 0.0004.\n",
            "Epoch 25/40\n",
            "129/131 [============================>.] - ETA: 0s - loss: 1.8216 - accuracy: 0.2944INFO:tensorflow:Assets written to: gdrive/My Drive/Colab Notebooks/LossLandscape/NEW/Softmax_SmallCNN_CheckpointID_1/small_cnn_checkpoint_24.tf/assets\n",
            "131/131 [==============================] - 8s 59ms/step - loss: 1.8220 - accuracy: 0.2943 - val_loss: 1.8584 - val_accuracy: 0.2992 - lr: 4.0000e-04\n",
            "\n",
            "Epoch 00026: LearningRateScheduler setting learning rate to 0.0004.\n",
            "Epoch 26/40\n",
            "131/131 [==============================] - ETA: 0s - loss: 1.8219 - accuracy: 0.2924INFO:tensorflow:Assets written to: gdrive/My Drive/Colab Notebooks/LossLandscape/NEW/Softmax_SmallCNN_CheckpointID_1/small_cnn_checkpoint_25.tf/assets\n",
            "131/131 [==============================] - 8s 60ms/step - loss: 1.8219 - accuracy: 0.2924 - val_loss: 1.8544 - val_accuracy: 0.2998 - lr: 4.0000e-04\n",
            "\n",
            "Epoch 00027: LearningRateScheduler setting learning rate to 0.0004.\n",
            "Epoch 27/40\n",
            "129/131 [============================>.] - ETA: 0s - loss: 1.8166 - accuracy: 0.2983INFO:tensorflow:Assets written to: gdrive/My Drive/Colab Notebooks/LossLandscape/NEW/Softmax_SmallCNN_CheckpointID_1/small_cnn_checkpoint_26.tf/assets\n",
            "131/131 [==============================] - 8s 60ms/step - loss: 1.8163 - accuracy: 0.2983 - val_loss: 1.8226 - val_accuracy: 0.3077 - lr: 4.0000e-04\n",
            "\n",
            "Epoch 00028: LearningRateScheduler setting learning rate to 0.0004.\n",
            "Epoch 28/40\n",
            "130/131 [============================>.] - ETA: 0s - loss: 1.8156 - accuracy: 0.2975INFO:tensorflow:Assets written to: gdrive/My Drive/Colab Notebooks/LossLandscape/NEW/Softmax_SmallCNN_CheckpointID_1/small_cnn_checkpoint_27.tf/assets\n",
            "131/131 [==============================] - 9s 68ms/step - loss: 1.8156 - accuracy: 0.2976 - val_loss: 1.8368 - val_accuracy: 0.3069 - lr: 4.0000e-04\n",
            "\n",
            "Epoch 00029: LearningRateScheduler setting learning rate to 0.0004.\n",
            "Epoch 29/40\n",
            "130/131 [============================>.] - ETA: 0s - loss: 1.8166 - accuracy: 0.2995INFO:tensorflow:Assets written to: gdrive/My Drive/Colab Notebooks/LossLandscape/NEW/Softmax_SmallCNN_CheckpointID_1/small_cnn_checkpoint_28.tf/assets\n",
            "131/131 [==============================] - 8s 59ms/step - loss: 1.8168 - accuracy: 0.2995 - val_loss: 1.8448 - val_accuracy: 0.3028 - lr: 4.0000e-04\n",
            "\n",
            "Epoch 00030: LearningRateScheduler setting learning rate to 0.0002.\n",
            "Epoch 30/40\n",
            "129/131 [============================>.] - ETA: 0s - loss: 1.8067 - accuracy: 0.2999INFO:tensorflow:Assets written to: gdrive/My Drive/Colab Notebooks/LossLandscape/NEW/Softmax_SmallCNN_CheckpointID_1/small_cnn_checkpoint_29.tf/assets\n",
            "131/131 [==============================] - 8s 59ms/step - loss: 1.8070 - accuracy: 0.3001 - val_loss: 1.8266 - val_accuracy: 0.3107 - lr: 2.0000e-04\n",
            "\n",
            "Epoch 00031: LearningRateScheduler setting learning rate to 0.0002.\n",
            "Epoch 31/40\n",
            "129/131 [============================>.] - ETA: 0s - loss: 1.8091 - accuracy: 0.2974INFO:tensorflow:Assets written to: gdrive/My Drive/Colab Notebooks/LossLandscape/NEW/Softmax_SmallCNN_CheckpointID_1/small_cnn_checkpoint_30.tf/assets\n",
            "131/131 [==============================] - 8s 60ms/step - loss: 1.8087 - accuracy: 0.2975 - val_loss: 1.8310 - val_accuracy: 0.3035 - lr: 2.0000e-04\n",
            "\n",
            "Epoch 00032: LearningRateScheduler setting learning rate to 0.0002.\n",
            "Epoch 32/40\n",
            "130/131 [============================>.] - ETA: 0s - loss: 1.8027 - accuracy: 0.3041INFO:tensorflow:Assets written to: gdrive/My Drive/Colab Notebooks/LossLandscape/NEW/Softmax_SmallCNN_CheckpointID_1/small_cnn_checkpoint_31.tf/assets\n",
            "131/131 [==============================] - 9s 68ms/step - loss: 1.8029 - accuracy: 0.3041 - val_loss: 1.8308 - val_accuracy: 0.3091 - lr: 2.0000e-04\n",
            "\n",
            "Epoch 00033: LearningRateScheduler setting learning rate to 0.0002.\n",
            "Epoch 33/40\n",
            "129/131 [============================>.] - ETA: 0s - loss: 1.8025 - accuracy: 0.3067INFO:tensorflow:Assets written to: gdrive/My Drive/Colab Notebooks/LossLandscape/NEW/Softmax_SmallCNN_CheckpointID_1/small_cnn_checkpoint_32.tf/assets\n",
            "131/131 [==============================] - 8s 59ms/step - loss: 1.8022 - accuracy: 0.3066 - val_loss: 1.8174 - val_accuracy: 0.3146 - lr: 2.0000e-04\n",
            "\n",
            "Epoch 00034: LearningRateScheduler setting learning rate to 0.0002.\n",
            "Epoch 34/40\n",
            "129/131 [============================>.] - ETA: 0s - loss: 1.8065 - accuracy: 0.3001INFO:tensorflow:Assets written to: gdrive/My Drive/Colab Notebooks/LossLandscape/NEW/Softmax_SmallCNN_CheckpointID_1/small_cnn_checkpoint_33.tf/assets\n",
            "131/131 [==============================] - 8s 60ms/step - loss: 1.8064 - accuracy: 0.3001 - val_loss: 1.8186 - val_accuracy: 0.3109 - lr: 2.0000e-04\n",
            "\n",
            "Epoch 00035: LearningRateScheduler setting learning rate to 0.0002.\n",
            "Epoch 35/40\n",
            "130/131 [============================>.] - ETA: 0s - loss: 1.8022 - accuracy: 0.3024INFO:tensorflow:Assets written to: gdrive/My Drive/Colab Notebooks/LossLandscape/NEW/Softmax_SmallCNN_CheckpointID_1/small_cnn_checkpoint_34.tf/assets\n",
            "131/131 [==============================] - 9s 69ms/step - loss: 1.8020 - accuracy: 0.3024 - val_loss: 1.8288 - val_accuracy: 0.3108 - lr: 2.0000e-04\n",
            "\n",
            "Epoch 00036: LearningRateScheduler setting learning rate to 0.0002.\n",
            "Epoch 36/40\n",
            "129/131 [============================>.] - ETA: 0s - loss: 1.8034 - accuracy: 0.3048INFO:tensorflow:Assets written to: gdrive/My Drive/Colab Notebooks/LossLandscape/NEW/Softmax_SmallCNN_CheckpointID_1/small_cnn_checkpoint_35.tf/assets\n",
            "131/131 [==============================] - 8s 59ms/step - loss: 1.8027 - accuracy: 0.3049 - val_loss: 1.8342 - val_accuracy: 0.3060 - lr: 2.0000e-04\n",
            "\n",
            "Epoch 00037: LearningRateScheduler setting learning rate to 0.0002.\n",
            "Epoch 37/40\n",
            "129/131 [============================>.] - ETA: 0s - loss: 1.8017 - accuracy: 0.3007INFO:tensorflow:Assets written to: gdrive/My Drive/Colab Notebooks/LossLandscape/NEW/Softmax_SmallCNN_CheckpointID_1/small_cnn_checkpoint_36.tf/assets\n",
            "131/131 [==============================] - 8s 59ms/step - loss: 1.8017 - accuracy: 0.3005 - val_loss: 1.8073 - val_accuracy: 0.3141 - lr: 2.0000e-04\n",
            "\n",
            "Epoch 00038: LearningRateScheduler setting learning rate to 0.0002.\n",
            "Epoch 38/40\n",
            "129/131 [============================>.] - ETA: 0s - loss: 1.7982 - accuracy: 0.3010INFO:tensorflow:Assets written to: gdrive/My Drive/Colab Notebooks/LossLandscape/NEW/Softmax_SmallCNN_CheckpointID_1/small_cnn_checkpoint_37.tf/assets\n",
            "131/131 [==============================] - 8s 61ms/step - loss: 1.7981 - accuracy: 0.3013 - val_loss: 1.8121 - val_accuracy: 0.3173 - lr: 2.0000e-04\n",
            "\n",
            "Epoch 00039: LearningRateScheduler setting learning rate to 0.0002.\n",
            "Epoch 39/40\n",
            "130/131 [============================>.] - ETA: 0s - loss: 1.8001 - accuracy: 0.3018INFO:tensorflow:Assets written to: gdrive/My Drive/Colab Notebooks/LossLandscape/NEW/Softmax_SmallCNN_CheckpointID_1/small_cnn_checkpoint_38.tf/assets\n",
            "131/131 [==============================] - 8s 59ms/step - loss: 1.8004 - accuracy: 0.3018 - val_loss: 1.8167 - val_accuracy: 0.3171 - lr: 2.0000e-04\n",
            "\n",
            "Epoch 00040: LearningRateScheduler setting learning rate to 0.0002.\n",
            "Epoch 40/40\n",
            "130/131 [============================>.] - ETA: 0s - loss: 1.8000 - accuracy: 0.3046INFO:tensorflow:Assets written to: gdrive/My Drive/Colab Notebooks/LossLandscape/NEW/Softmax_SmallCNN_CheckpointID_1/small_cnn_checkpoint_39.tf/assets\n",
            "131/131 [==============================] - 8s 60ms/step - loss: 1.8000 - accuracy: 0.3047 - val_loss: 1.8270 - val_accuracy: 0.3113 - lr: 2.0000e-04\n",
            "Network takes 333.397 seconds to train\n"
          ]
        }
      ]
    },
    {
      "cell_type": "markdown",
      "metadata": {
        "id": "zKv6UHqM1I3Q"
      },
      "source": [
        "# Evaluate"
      ]
    },
    {
      "cell_type": "code",
      "metadata": {
        "id": "SO_E5WFAclHA",
        "colab": {
          "base_uri": "https://localhost:8080/",
          "height": 201
        },
        "outputId": "e641e67a-f5b0-4fba-93c0-fb680df09f0e"
      },
      "source": [
        "loss, accuracy = model.evaluate(testloader, callbacks=[WandbCallback()])\n",
        "print(\"Test Error Rate: \", round((1-accuracy)*100, 2), '%')\n",
        "# wandb.log({'Test Error Rate': round((1-accuracy)*100, 2)})"
      ],
      "execution_count": null,
      "outputs": [
        {
          "output_type": "error",
          "ename": "NameError",
          "evalue": "ignored",
          "traceback": [
            "\u001b[0;31m---------------------------------------------------------------------------\u001b[0m",
            "\u001b[0;31mNameError\u001b[0m                                 Traceback (most recent call last)",
            "\u001b[0;32m<ipython-input-37-9780338966e3>\u001b[0m in \u001b[0;36m<module>\u001b[0;34m()\u001b[0m\n\u001b[0;32m----> 1\u001b[0;31m \u001b[0mloss\u001b[0m\u001b[0;34m,\u001b[0m \u001b[0maccuracy\u001b[0m \u001b[0;34m=\u001b[0m \u001b[0mmodel\u001b[0m\u001b[0;34m.\u001b[0m\u001b[0mevaluate\u001b[0m\u001b[0;34m(\u001b[0m\u001b[0mtestloader\u001b[0m\u001b[0;34m,\u001b[0m \u001b[0mcallbacks\u001b[0m\u001b[0;34m=\u001b[0m\u001b[0;34m[\u001b[0m\u001b[0mWandbCallback\u001b[0m\u001b[0;34m(\u001b[0m\u001b[0;34m)\u001b[0m\u001b[0;34m]\u001b[0m\u001b[0;34m)\u001b[0m\u001b[0;34m\u001b[0m\u001b[0;34m\u001b[0m\u001b[0m\n\u001b[0m\u001b[1;32m      2\u001b[0m \u001b[0mprint\u001b[0m\u001b[0;34m(\u001b[0m\u001b[0;34m\"Test Error Rate: \"\u001b[0m\u001b[0;34m,\u001b[0m \u001b[0mround\u001b[0m\u001b[0;34m(\u001b[0m\u001b[0;34m(\u001b[0m\u001b[0;36m1\u001b[0m\u001b[0;34m-\u001b[0m\u001b[0maccuracy\u001b[0m\u001b[0;34m)\u001b[0m\u001b[0;34m*\u001b[0m\u001b[0;36m100\u001b[0m\u001b[0;34m,\u001b[0m \u001b[0;36m2\u001b[0m\u001b[0;34m)\u001b[0m\u001b[0;34m,\u001b[0m \u001b[0;34m'%'\u001b[0m\u001b[0;34m)\u001b[0m\u001b[0;34m\u001b[0m\u001b[0;34m\u001b[0m\u001b[0m\n\u001b[1;32m      3\u001b[0m \u001b[0;31m# wandb.log({'Test Error Rate': round((1-accuracy)*100, 2)})\u001b[0m\u001b[0;34m\u001b[0m\u001b[0;34m\u001b[0m\u001b[0;34m\u001b[0m\u001b[0m\n",
            "\u001b[0;31mNameError\u001b[0m: name 'WandbCallback' is not defined"
          ]
        }
      ]
    },
    {
      "cell_type": "markdown",
      "metadata": {
        "id": "tjJP7P6E6xxP"
      },
      "source": [
        "# Investigating Load Landscape"
      ]
    },
    {
      "cell_type": "code",
      "metadata": {
        "colab": {
          "base_uri": "https://localhost:8080/"
        },
        "id": "13oRZ_uHPmKB",
        "outputId": "532fc1f2-7c33-4afb-cc77-ef1ae85a32b7"
      },
      "source": [
        "# Load the model! - this directory contain folders of the model at each epoch\n",
        "ROOT_PATH = 'gdrive/My Drive/Colab Notebooks/LossLandscape/NEW/'\n",
        "## SmallCNN model checkpoint for each epoch(total 40 epochs)\n",
        "MODEL_PATH = ROOT_PATH+'Softmax_SmallCNN_CheckpointID_1/'\n",
        "same_model_ckpts = os.listdir(MODEL_PATH)\n",
        "print(len(same_model_ckpts))"
      ],
      "execution_count": null,
      "outputs": [
        {
          "output_type": "stream",
          "name": "stdout",
          "text": [
            "40\n"
          ]
        }
      ]
    },
    {
      "cell_type": "code",
      "metadata": {
        "colab": {
          "base_uri": "https://localhost:8080/"
        },
        "id": "4Xu4yVAtQLrN",
        "outputId": "9ac86965-95d2-4522-a4dc-a9e6464c28b4"
      },
      "source": [
        "# sort the models\n",
        "# https://stackoverflow.com/a/2669120/7636462\n",
        "import re \n",
        "\n",
        "def sorted_nicely(l): \n",
        "    \"\"\" Sort the given iterable in the way that humans expect.\"\"\" \n",
        "    convert = lambda text: int(text) if text.isdigit() else text \n",
        "    alphanum_key = lambda key: [ convert(c) for c in re.split('([0-9]+)', key) ] \n",
        "    return sorted(l, key = alphanum_key)\n",
        "\n",
        "same_model_ckpts = sorted_nicely(same_model_ckpts)\n",
        "same_model_ckpts[:5]"
      ],
      "execution_count": null,
      "outputs": [
        {
          "output_type": "execute_result",
          "data": {
            "text/plain": [
              "['small_cnn_checkpoint_0.tf',\n",
              " 'small_cnn_checkpoint_1.tf',\n",
              " 'small_cnn_checkpoint_2.tf',\n",
              " 'small_cnn_checkpoint_3.tf',\n",
              " 'small_cnn_checkpoint_4.tf']"
            ]
          },
          "metadata": {},
          "execution_count": 39
        }
      ]
    },
    {
      "cell_type": "code",
      "metadata": {
        "id": "p34FOz6YMOUs"
      },
      "source": [
        "NUM_EXAMPLES = 1024\n",
        "NUM_CLASSES = 10\n",
        "test_tsne_ds = testloader.unbatch().take(NUM_EXAMPLES).batch(BATCH_SIZE)"
      ],
      "execution_count": null,
      "outputs": []
    },
    {
      "cell_type": "code",
      "metadata": {
        "id": "vgkgZowYMWXv"
      },
      "source": [
        "# Given model and test data, return true_labels and predictions.\n",
        "def evaluate_tsne(test_dataloader, model):\n",
        "  true_labels = []\n",
        "  pred_labels = []\n",
        "  \n",
        "  for imgs, labels in iter(test_dataloader):\n",
        "    preds = model.predict(imgs)\n",
        "    # preds will be a 3 x 10 array (128 x 3 x 10)\n",
        "    # labels will be 3 x 1 array ? (128 x 3 x 1)\n",
        "    \n",
        "    true_labels.extend(labels)\n",
        "    pred_labels.extend(preds) ## change here \n",
        "  \n",
        "  # Shape of the returned values: (1024, 3, 1) alt (1024, 3, 10) \n",
        "\n",
        "  return np.array(true_labels), np.array(pred_labels)"
      ],
      "execution_count": null,
      "outputs": []
    },
    {
      "cell_type": "code",
      "metadata": {
        "colab": {
          "base_uri": "https://localhost:8080/"
        },
        "id": "HDlgQe9AMbTs",
        "outputId": "4b38371c-dfa7-4175-d83b-75794324e6f8"
      },
      "source": [
        "NUM_TRAJECTORIES = 3 # This is now instead used for the number of subnetworks\n",
        "\n",
        "predictions_for_tsne = []\n",
        "\n",
        "model_files = same_model_ckpts\n",
        "predictions_1 = []\n",
        "predictions_2 = []\n",
        "predictions_3 = []\n",
        "for model_file in model_files:\n",
        "  if model_file=='small_cnn_checkpoint_5.tf': # this check is because this model checkpoint didn't serialize properly.\n",
        "    continue\n",
        "  model = tf.keras.models.load_model(MODEL_PATH+'/'+model_file)\n",
        "\n",
        "  _, preds = evaluate_tsne(test_tsne_ds, model)\n",
        "\n",
        "  # ADDED: subdivide into predictions of the 3 subnetworks\n",
        "  # Shape: (1024, 3, 10) -> 3 x (1024, 10)\n",
        "  preds_arr = []\n",
        "  for i in range(3):\n",
        "    preds_curr = preds[:, i:i+1, :]\n",
        "    preds_curr = np.reshape(preds_curr, (1024, 10))\n",
        "    if i is 0:\n",
        "      predictions_1.append(preds_curr)\n",
        "    elif i is 1:\n",
        "      predictions_2.append(preds_curr)\n",
        "    else:\n",
        "      predictions_3.append(preds_curr)\n",
        "\n",
        "predictions_1 = np.array(predictions_1)\n",
        "predictions_2 = np.array(predictions_2)\n",
        "predictions_3 = np.array(predictions_3)\n",
        "print(predictions_1.shape)\n",
        "predictions_for_tsne.append(predictions_1)\n",
        "predictions_for_tsne.append(predictions_2)\n",
        "predictions_for_tsne.append(predictions_3)\n",
        "\n",
        "# convert list to array\n",
        "predictions_for_tsne = np.array(predictions_for_tsne)\n",
        "print('[INFO] shape of predictions tensor: ', predictions_for_tsne.shape)\n",
        "\n",
        "# reshape the tensor \n",
        "reshaped_predictions_for_tsne = predictions_for_tsne.reshape([-1, NUM_EXAMPLES*NUM_CLASSES])\n",
        "print('[INFO] shape of reshaped tensor: ', reshaped_predictions_for_tsne.shape)"
      ],
      "execution_count": null,
      "outputs": [
        {
          "output_type": "stream",
          "name": "stdout",
          "text": [
            "(39, 1024, 10)\n",
            "[INFO] shape of predictions tensor:  (3, 39, 1024, 10)\n",
            "[INFO] shape of reshaped tensor:  (117, 10240)\n"
          ]
        }
      ]
    },
    {
      "cell_type": "code",
      "metadata": {
        "colab": {
          "base_uri": "https://localhost:8080/"
        },
        "id": "HjnPSUdRMkda",
        "outputId": "9774e1df-861a-4fd6-8c8a-a368c43a80af"
      },
      "source": [
        "from sklearn.manifold import TSNE\n",
        "\n",
        "# initialize tsne object\n",
        "tsne = TSNE(n_components=2)\n",
        "# compute tsne\n",
        "prediction_embed = tsne.fit_transform(reshaped_predictions_for_tsne)\n",
        "print('[INFO] Shape of embedded tensor: ', prediction_embed.shape)\n",
        "# reshape\n",
        "trajectory_embed = prediction_embed.reshape([NUM_TRAJECTORIES, -1, 2])\n",
        "print('[INFO] Shape of reshaped tensor: ', trajectory_embed.shape)"
      ],
      "execution_count": null,
      "outputs": [
        {
          "output_type": "stream",
          "name": "stderr",
          "text": [
            "/usr/local/lib/python3.7/dist-packages/sklearn/manifold/_t_sne.py:783: FutureWarning: The default initialization in TSNE will change from 'random' to 'pca' in 1.2.\n",
            "  FutureWarning,\n",
            "/usr/local/lib/python3.7/dist-packages/sklearn/manifold/_t_sne.py:793: FutureWarning: The default learning rate in TSNE will change from 200.0 to 'auto' in 1.2.\n",
            "  FutureWarning,\n"
          ]
        },
        {
          "output_type": "stream",
          "name": "stdout",
          "text": [
            "[INFO] Shape of embedded tensor:  (117, 2)\n",
            "[INFO] Shape of reshaped tensor:  (3, 39, 2)\n"
          ]
        }
      ]
    },
    {
      "cell_type": "code",
      "metadata": {
        "colab": {
          "base_uri": "https://localhost:8080/",
          "height": 457
        },
        "id": "a792KNt2MoYH",
        "outputId": "fde727fc-05a9-4573-ec8c-bc1b13942079"
      },
      "source": [
        "# Plot\n",
        "plt.figure(constrained_layout=True, figsize=(6,6))\n",
        "\n",
        "colors_list=['r', 'b', 'g']\n",
        "labels_list = ['traj_{}'.format(i) for i in range(NUM_TRAJECTORIES)]\n",
        "for i in range(NUM_TRAJECTORIES):\n",
        "  plt.plot(trajectory_embed[i,:,0],trajectory_embed[i,:,1],color = colors_list[i], alpha = 0.8,linestyle = \"\", marker = \"o\")\n",
        "  plt.plot(trajectory_embed[i,:,0],trajectory_embed[i,:,1],color = colors_list[i], alpha = 0.3,linestyle = \"-\", marker = \"\")\n",
        "  plt.plot(trajectory_embed[i,0,0],trajectory_embed[i,0,1],color = colors_list[i], alpha = 1.0,linestyle = \"\", marker = \"*\")\n",
        "\n",
        "plt.title('CIFAR-10 tSNE')\n",
        "plt.savefig('loss_landscape_2d.png')"
      ],
      "execution_count": null,
      "outputs": [
        {
          "output_type": "display_data",
          "data": {
            "image/png": "[encoded data removed]",
            "text/plain": [
              "<Figure size 432x432 with 1 Axes>"
            ]
          },
          "metadata": {
            "needs_background": "light"
          }
        }
      ]
    },
    {
      "cell_type": "code",
      "metadata": {
        "id": "i07rE47iMs76"
      },
      "source": [
        "wandb.init(entity='filippak', project='loss-landscape', id='small_cnn_trajectory_investigation')\n",
        "wandb.log({'loss_landscape_2d': wandb.Image('loss_landscape_2d.png')})"
      ],
      "execution_count": null,
      "outputs": []
    },
    {
      "cell_type": "markdown",
      "metadata": {
        "id": "caY9-qQBg9yv"
      },
      "source": [
        ""
      ]
    }
  ]
}