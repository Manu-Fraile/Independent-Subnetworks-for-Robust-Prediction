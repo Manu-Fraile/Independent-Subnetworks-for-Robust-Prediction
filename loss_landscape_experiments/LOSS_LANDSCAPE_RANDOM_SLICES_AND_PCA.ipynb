{
  "cells": [
    {
      "cell_type": "markdown",
      "metadata": {
        "id": "GKzu9hbgqw2x"
      },
      "source": [
        "# Setups, Installations and Imports"
      ]
    },
    {
      "cell_type": "markdown",
      "metadata": {
        "id": "w2Ht3U3PkXNT"
      },
      "source": [
        "This loss landscape analysis for MIMO is originally borrowed from the paper *Deep Ensembles: A Loss Landscape Perspective* by Fort et. al.\n",
        "Code is available here: https://github.com/ayulockin/LossLandscape\n",
        "\n",
        "more insights are take from \"Visualizing the Loss Landscape of Neural Nets\" at https://arxiv.org/pdf/1712.09913.pdf and \"What can linear interpolation of neural network loss landscapes tell us?\" at https://arxiv.org/pdf/2106.16004.pdf\n"
      ]
    },
    {
      "cell_type": "code",
      "execution_count": null,
      "metadata": {
        "colab": {
          "base_uri": "https://localhost:8080/"
        },
        "id": "YT_P8aSjO-ps",
        "outputId": "46d5dd11-1076-48c6-ddb0-c2f28bbd0c71"
      },
      "outputs": [
        {
          "output_type": "stream",
          "name": "stdout",
          "text": [
            "NVIDIA-SMI has failed because it couldn't communicate with the NVIDIA driver. Make sure that the latest NVIDIA driver is installed and running.\n",
            "\n"
          ]
        }
      ],
      "source": [
        "!nvidia-smi"
      ]
    },
    {
      "cell_type": "code",
      "execution_count": null,
      "metadata": {
        "colab": {
          "base_uri": "https://localhost:8080/"
        },
        "id": "p1fAZ6sDcDqv",
        "outputId": "98f818fe-7937-4c55-b585-de218de10905"
      },
      "outputs": [
        {
          "output_type": "stream",
          "name": "stdout",
          "text": [
            "Mounted at /content/drive\n"
          ]
        }
      ],
      "source": [
        "from google.colab import drive\n",
        "drive.mount('/content/drive')"
      ]
    },
    {
      "cell_type": "code",
      "execution_count": null,
      "metadata": {
        "id": "9-APP7-6C5uK"
      },
      "outputs": [],
      "source": [
        "import tensorflow as tf\n",
        "\n",
        "from tensorflow import keras\n",
        "from tensorflow.keras.datasets import cifar10, mnist\n",
        "from tensorflow.keras.applications import resnet50\n"
      ]
    },
    {
      "cell_type": "code",
      "execution_count": null,
      "metadata": {
        "id": "3Pr3HrMxq8SF"
      },
      "outputs": [],
      "source": [
        "import os\n",
        "os.environ[\"TF_DETERMINISTIC_OPS\"] = \"1\"\n",
        "import time\n",
        "\n",
        "import numpy as np\n",
        "import pandas as pd\n",
        "import matplotlib.pyplot as plt\n",
        "import matplotlib as mpl\n",
        "\n",
        "%matplotlib inline\n",
        "\n",
        "import io\n",
        "import itertools\n",
        "from sklearn.metrics import confusion_matrix"
      ]
    },
    {
      "cell_type": "markdown",
      "metadata": {
        "id": "M3Ln8W0Aru8X"
      },
      "source": [
        "# Download and Prepare Dataset"
      ]
    },
    {
      "cell_type": "markdown",
      "metadata": {
        "id": "_LNJ383ihWUO"
      },
      "source": [
        "#### MNIST"
      ]
    },
    {
      "cell_type": "code",
      "execution_count": null,
      "metadata": {
        "colab": {
          "base_uri": "https://localhost:8080/"
        },
        "id": "uWszaPM5hbDI",
        "outputId": "3df927be-802d-4564-dee7-3c3590e0b3d5"
      },
      "outputs": [
        {
          "output_type": "stream",
          "name": "stdout",
          "text": [
            "Downloading data from https://storage.googleapis.com/tensorflow/tf-keras-datasets/mnist.npz\n",
            "11493376/11490434 [==============================] - 0s 0us/step\n",
            "11501568/11490434 [==============================] - 0s 0us/step\n",
            "(60000, 28, 28) (60000,) (10000, 28, 28) (10000,)\n"
          ]
        }
      ],
      "source": [
        "(x_train, y_train), (x_test, y_test) = mnist.load_data()\n",
        "\n",
        "CLASS_NAMES = (\"0\", \"1\", \"2\", \"3\", \"4\", \"5\", \"6\", \"7\", \"8\", \"9\")\n",
        "print(x_train.shape, y_train.shape, x_test.shape, y_test.shape)"
      ]
    },
    {
      "cell_type": "markdown",
      "metadata": {
        "id": "QZzY01xwxS-f"
      },
      "source": [
        "#### Dataloader"
      ]
    },
    {
      "cell_type": "code",
      "execution_count": null,
      "metadata": {
        "colab": {
          "base_uri": "https://localhost:8080/"
        },
        "id": "6TqcgM67xxDF",
        "outputId": "1bfec93e-8fb8-4003-d21e-99d1b11d0f16"
      },
      "outputs": [
        {
          "output_type": "stream",
          "name": "stdout",
          "text": [
            "(None, 1)\n"
          ]
        }
      ],
      "source": [
        "# AUTO = tf.data.experimental.AUTOTUNE\n",
        "# BATCH_SIZE = 128\n",
        "# IMG_SHAPE = 28 # 28 for MNIST and 32 for CIFAR-10\n",
        "# M = 3\n",
        "# tf.random.set_seed(1)\n",
        "\n",
        "# # For MNIST: \n",
        "# # reshape to fit to model. Add dim for the 1 color channel\n",
        "# x_train = np.expand_dims(x_train, axis=3)\n",
        "# y_train = np.expand_dims(y_train, axis=1)\n",
        "# x_test = np.expand_dims(x_test, axis=3)\n",
        "# y_test = np.expand_dims(y_test, axis=1)\n",
        "# # Remove some datapoints to make sets divisable by 3 (so that all batches have size 3)\n",
        "from sklearn.utils import shuffle\n",
        "x_test, y_test = shuffle(x_test, y_test)\n",
        "test_image_len=100\n",
        "x_test = x_test[:test_image_len,:,:]\n",
        "y_test = y_test[:test_image_len]\n",
        "\n",
        "# trainloader = tf.data.Dataset.from_tensor_slices((x_train, y_train))\n",
        "# testloader = tf.data.Dataset.from_tensor_slices((x_test, y_test))\n",
        "\n",
        "# def preprocess_image(image, label):\n",
        "#   img = tf.cast(image, tf.float32)\n",
        "#   img = img/255.\n",
        "\n",
        "#   return img, label\n",
        "\n",
        "# trainloader_1 = (\n",
        "#     trainloader\n",
        "#     .shuffle(1024)\n",
        "#     .map(preprocess_image, num_parallel_calls=AUTO)\n",
        "#     .batch(3)\n",
        "#     .prefetch(AUTO)\n",
        "# )\n",
        "# trainloader = (\n",
        "#     trainloader_1\n",
        "#     .shuffle(1024)\n",
        "#     .batch(BATCH_SIZE)\n",
        "#     .prefetch(AUTO)\n",
        "# )\n",
        "\n",
        "# testloader_1 = (\n",
        "#     testloader\n",
        "#     .map(preprocess_image, num_parallel_calls=AUTO)\n",
        "#     .batch(BATCH_SIZE) # tried drop_remainder=True\n",
        "#     .prefetch(AUTO)\n",
        "# )\n",
        "\n",
        "# testloader = (\n",
        "#     testloader_1\n",
        "#     .batch(BATCH_SIZE)\n",
        "#     .prefetch(AUTO)\n",
        "# )\n",
        "\n",
        "\n",
        "AUTO = tf.data.experimental.AUTOTUNE\n",
        "BATCH_SIZE = 128\n",
        "IMG_SHAPE = 28 # 28 for MNIST and 32 for CIFAR-10\n",
        "M = 3\n",
        "tf.random.set_seed(1)\n",
        "\n",
        "# For MNIST: \n",
        "# reshape to fit to model. Add dim for the 1 color channel\n",
        "x_train = np.expand_dims(x_train, axis=3)\n",
        "y_train = np.expand_dims(y_train, axis=1)\n",
        "x_test = np.expand_dims(x_test, axis=3)\n",
        "y_test = np.expand_dims(y_test, axis=1)\n",
        "# Remove some datapoints to make sets divisable by 3 (so that all batches have size 3)\n",
        "# x_test = x_test[:9999,:,:,:]\n",
        "# y_test = y_test[:9999,:]\n",
        "\n",
        "trainloader = tf.data.Dataset.from_tensor_slices((x_train, y_train))\n",
        "testloader = tf.data.Dataset.from_tensor_slices((x_test, y_test))\n",
        "\n",
        "def preprocess_image(image, label):\n",
        "  img = tf.cast(image, tf.float32)\n",
        "  img = img/255.\n",
        "\n",
        "  return img, label\n",
        "\n",
        "# def tile_image(image, label):\n",
        "#   print(image.shape)\n",
        "#   # labels = tf.tile(tf.expand_dims(label, 1), [1, 3])\n",
        "#   images = tf.tile(tf.expand_dims(image, 1), [1, 3, 1, 1, 1])\n",
        "#   images = tf.squeeze(images, axis=0)\n",
        "#   print(images.shape)\n",
        "#   return images,label\n",
        "\n",
        "def tile_image(image, label):\n",
        "  print(label.shape)\n",
        "  labels_tiled = tf.tile(tf.expand_dims(label, 2), [1, 3,1])\n",
        "  images = tf.tile(tf.expand_dims(image, 1), [1, M, 1, 1, 1])\n",
        "  images = tf.squeeze(images, axis=0)\n",
        "  # label = tf.squeeze(labels_tiled, axis=0)\n",
        "  return images,label\n",
        "\n",
        "trainloader_1 = (\n",
        "    trainloader\n",
        "    .shuffle(1024)\n",
        "    .map(preprocess_image, num_parallel_calls=AUTO)\n",
        "    .batch(3)\n",
        "    .prefetch(AUTO)\n",
        ")\n",
        "trainloader = (\n",
        "    trainloader_1\n",
        "    .shuffle(1024)\n",
        "    .batch(BATCH_SIZE)\n",
        "    .prefetch(AUTO)\n",
        ")\n",
        "\n",
        "testloader_1 = (\n",
        "    testloader\n",
        "    .map(preprocess_image, num_parallel_calls=AUTO)\n",
        "    .batch(1) # tried drop_remainder=True\n",
        "    .prefetch(AUTO)\n",
        ")\n",
        "\n",
        "testloader = (\n",
        "    testloader_1\n",
        "    .map(tile_image)\n",
        "    .batch(test_image_len)\n",
        "    .prefetch(AUTO)\n",
        ")"
      ]
    },
    {
      "cell_type": "markdown",
      "metadata": {
        "id": "R2WeGNZ7wups"
      },
      "source": [
        "# Visualize the landscape contour"
      ]
    },
    {
      "cell_type": "code",
      "execution_count": null,
      "metadata": {
        "id": "JSLzRVQxw6ne"
      },
      "outputs": [],
      "source": [
        "from tensorflow.keras import callbacks, layers"
      ]
    },
    {
      "cell_type": "code",
      "execution_count": null,
      "metadata": {
        "id": "pT5lFswVw0Te"
      },
      "outputs": [],
      "source": [
        "# loss landscape implementation from:\n",
        "# https://mathformachines.com/posts/visualizing-the-loss-landscape/\n",
        "\n",
        "class RandomCoordinates(object):\n",
        "    def __init__(self, origin):\n",
        "        self.origin_ = origin\n",
        "        self.v0_ = normalize_weights(\n",
        "            [np.random.normal(size=w.shape) for w in origin], origin\n",
        "        )\n",
        "        self.v1_ = normalize_weights(\n",
        "            [np.random.normal(size=w.shape) for w in origin], origin\n",
        "        )\n",
        "\n",
        "    def __call__(self, a, b):\n",
        "        return [\n",
        "            a * w0 + b * w1 + wc\n",
        "            for w0, w1, wc in zip(self.v0_, self.v1_, self.origin_)\n",
        "        ]\n",
        "\n",
        "\n",
        "def normalize_weights(weights, origin):\n",
        "    return [\n",
        "        w * np.linalg.norm(wc) / np.linalg.norm(w)\n",
        "        for w, wc in zip(weights, origin)\n",
        "    ]\n",
        "\n",
        "\n",
        "class LossSurface(object):\n",
        "    def __init__(self, model, inputs, outputs):\n",
        "        self.model_ = model\n",
        "        self.inputs_ = inputs\n",
        "        self.outputs_ = outputs\n",
        "\n",
        "    def compile(self, range, points, coords):\n",
        "        a_grid = tf.linspace(-1.0, 1.0, num=points)** 3 * range\n",
        "        b_grid = tf.linspace(-1.0, 1.0, num=points)** 3 * range\n",
        "        loss_grid = np.empty([len(a_grid), len(b_grid)])\n",
        "        m = tf.keras.metrics.SparseCategoricalAccuracy()\n",
        "        m.reset_state()\n",
        "\n",
        "\n",
        "        for i, a in enumerate(a_grid):\n",
        "            for j, b in enumerate(b_grid):\n",
        "                m.reset_state()\n",
        "                self.model_.layers[3].set_weights((coords(a, b)[:2]))\n",
        "                self.model_.layers[-1].set_weights(coords(a, b)[2:])\n",
        "\n",
        "                logits= self.model_(self.inputs_)\n",
        "                # compute loss\n",
        "                labels_tiled = tf.tile(self.outputs_, [1, 3, 1])\n",
        "                # print((np.shape(labels_tiled), np.shape(preds)))                \n",
        "                log_likelihoods = -tf.keras.losses.sparse_categorical_crossentropy( labels_tiled, logits, from_logits=True)\n",
        "                negative_log_likelihood = tf.reduce_mean( -tf.reduce_logsumexp(log_likelihoods, axis=[1])+ tf.math.log(float(3)))\n",
        "                # print((negative_log_likelihood ,log_likelihoods) )\n",
        "\n",
        "                ### compute accuracy\n",
        "                # print(logits.shape)\n",
        "                probs = tf.math.reduce_mean(logits, axis=1)  # marginalize\n",
        "                pred_classes=np.argmax(probs,axis=1)\n",
        "                m.update_state (self.outputs_, probs)\n",
        "                accuracy = m.result().numpy() #+ 1e-5\n",
        "\n",
        "                # acc=[]\n",
        "                # for k in [0,1,2]:\n",
        "                #   m.reset_state()\n",
        "                #   m.update_state (self.outputs_, logits[:,k,:])\n",
        "                #   acc.append(m.result().numpy()) #+ 1e-5\n",
        "\n",
        "                # print(acc)\n",
        "                plot= accuracy #negative_log_likelihood#acc \n",
        "                loss_grid[j, i] = plot\n",
        "        self.model_.layers[3].set_weights(coords.origin_[:2] )\n",
        "        self.model_.layers[-1].set_weights(coords.origin_[2:])\n",
        "        self.a_grid_ = a_grid\n",
        "        self.b_grid_ = b_grid\n",
        "        self.loss_grid_ = loss_grid\n",
        "\n",
        "    def plot(self, range=1.0, points=24, levels=50, ax=None, **kwargs):\n",
        "        xs = self.a_grid_\n",
        "        ys = self.b_grid_\n",
        "        zs = self.loss_grid_\n",
        "        if ax is None:\n",
        "            _, ax = plt.subplots(**kwargs)\n",
        "            ax.set_title(\"The Accuracy Surface\")\n",
        "            ax.set_aspect(\"equal\")\n",
        "        # Set Levels\n",
        "        min_loss = zs.min()\n",
        "        max_loss = zs.max()\n",
        "        levels = tf.exp(\n",
        "            tf.linspace(\n",
        "                tf.math.log(min_loss), tf.math.log(max_loss), num=levels\n",
        "            ))\n",
        "        # levels = tf.linspace(min_loss, max_loss,num=levels)\n",
        "\n",
        "        # Create Contour Plot\n",
        "        CS = ax.contourf(\n",
        "            xs,\n",
        "            ys,\n",
        "            zs,\n",
        "            levels=levels,\n",
        "            cmap=\"magma\",\n",
        "            linewidths=0.75,\n",
        "            # norm=mpl.colors.LogNorm(vmin=min_loss, vmax=max_loss * 2.0),\n",
        "        )\n",
        "        # ax.clabel(CS, inline=True, fontsize=8, fmt=\"%1.2f\")\n",
        "        _.colorbar(CS)\n",
        "        return ax"
      ]
    },
    {
      "cell_type": "code",
      "execution_count": null,
      "metadata": {
        "colab": {
          "base_uri": "https://localhost:8080/"
        },
        "id": "13oRZ_uHPmKB",
        "outputId": "ac448fe6-5441-4d30-8506-c0811990d8bf"
      },
      "outputs": [
        {
          "output_type": "stream",
          "name": "stdout",
          "text": [
            "40\n"
          ]
        }
      ],
      "source": [
        "# Load the model! - this directory contain folders of the model at each epoch\n",
        "ROOT_PATH = '/content/drive/MyDrive/LossLandscape/'#'gdrive/My Drive/LossLandscape/'\n",
        "## SmallCNN model checkpoint for each epoch(total 40 epochs)\n",
        "MODEL_PATH = ROOT_PATH+'OK_TEST_MNIST_SmallCNN_CheckpointID_1/' #OK_TEST_\n",
        "same_model_ckpts = os.listdir(MODEL_PATH)\n",
        "print(len(same_model_ckpts))"
      ]
    },
    {
      "cell_type": "code",
      "execution_count": null,
      "metadata": {
        "colab": {
          "base_uri": "https://localhost:8080/"
        },
        "id": "4Xu4yVAtQLrN",
        "outputId": "a3cc934c-6a73-4544-be3f-dc303d7044f0"
      },
      "outputs": [
        {
          "output_type": "execute_result",
          "data": {
            "text/plain": [
              "['small_cnn_checkpoint_0.tf',\n",
              " 'small_cnn_checkpoint_1.tf',\n",
              " 'small_cnn_checkpoint_2.tf',\n",
              " 'small_cnn_checkpoint_3.tf',\n",
              " 'small_cnn_checkpoint_4.tf']"
            ]
          },
          "metadata": {},
          "execution_count": 11
        }
      ],
      "source": [
        "# sort the models\n",
        "# https://stackoverflow.com/a/2669120/7636462\n",
        "import re \n",
        "\n",
        "def sorted_nicely(l): \n",
        "    \"\"\" Sort the given iterable in the way that humans expect.\"\"\" \n",
        "    convert = lambda text: int(text) if text.isdigit() else text \n",
        "    alphanum_key = lambda key: [ convert(c) for c in re.split('([0-9]+)', key) ] \n",
        "    return sorted(l, key = alphanum_key)\n",
        "\n",
        "same_model_ckpts = sorted_nicely(same_model_ckpts)\n",
        "same_model_ckpts[:5]"
      ]
    },
    {
      "cell_type": "code",
      "execution_count": null,
      "metadata": {
        "colab": {
          "base_uri": "https://localhost:8080/",
          "height": 337
        },
        "id": "jDB-ktG_y3LS",
        "outputId": "4a508b6f-b4b8-46ec-f230-0da44bc79b89"
      },
      "outputs": [
        {
          "output_type": "stream",
          "name": "stdout",
          "text": [
            "4\n"
          ]
        },
        {
          "output_type": "stream",
          "name": "stderr",
          "text": [
            "/usr/local/lib/python3.7/dist-packages/ipykernel_launcher.py:102: UserWarning: linewidths is ignored by contourf\n"
          ]
        },
        {
          "output_type": "execute_result",
          "data": {
            "text/plain": [
              "<matplotlib.axes._subplots.AxesSubplot at 0x7f51004ccc50>"
            ]
          },
          "metadata": {},
          "execution_count": 87
        },
        {
          "output_type": "display_data",
          "data": {
            "image/png": "[encoded data removed]",
            "text/plain": [
              "<Figure size 432x288 with 2 Axes>"
            ]
          },
          "metadata": {
            "needs_background": "light"
          }
        }
      ],
      "source": [
        "# Create loss surface\n",
        "model = tf.keras.models.load_model(MODEL_PATH+'/'+same_model_ckpts[20])\n",
        "W=model.get_weights()[:2] + model.get_weights()[-2:]\n",
        "model = tf.keras.models.load_model(MODEL_PATH+'/'+same_model_ckpts[-1])\n",
        "\n",
        "print(len(W))\n",
        "coords = RandomCoordinates(W)\n",
        "for im,lb in testloader:\n",
        "  imgs, labels=im, lb\n",
        "\n",
        "loss_surface = LossSurface(model, imgs, labels)\n",
        "loss_surface.compile(range=1, points=10, coords=coords)\n",
        "\n",
        "# Look at loss surface\n",
        "loss_surface.plot()\n",
        "\n",
        "# plot_training_path(pcoords, training_path1, ax)"
      ]
    },
    {
      "cell_type": "code",
      "source": [
        "# ax=loss_surface.plot(dpi=150)\n",
        "# coords = RandomCoordinates(training_path3[-1] )\n",
        "# plot_training_path(coords, training_path1, ax)\n",
        "# plot_training_path(coords, training_path2, ax)\n",
        "# plot_training_path(coords, training_path3, ax)"
      ],
      "metadata": {
        "id": "Ihh_ZUlInY62"
      },
      "execution_count": null,
      "outputs": []
    },
    {
      "cell_type": "code",
      "execution_count": null,
      "metadata": {
        "id": "mbCqIzXfUlLv"
      },
      "outputs": [],
      "source": [
        "from sklearn.decomposition import PCA\n",
        "\n",
        "# Some utility functions to reshape network weights\n",
        "def vectorize_weights_(weights):\n",
        "    vec = [w.flatten() for w in weights]\n",
        "    vec = np.hstack(vec)\n",
        "    return vec\n",
        "\n",
        "\n",
        "def vectorize_weight_list_(weight_list):\n",
        "    vec_list = []\n",
        "    for weights in weight_list:\n",
        "        vec_list.append(vectorize_weights_(weights))\n",
        "    weight_matrix = np.column_stack(vec_list)\n",
        "    return weight_matrix\n",
        "\n",
        "\n",
        "def shape_weight_matrix_like_(weight_matrix, example):\n",
        "    weight_vecs = np.hsplit(weight_matrix, weight_matrix.shape[1])\n",
        "    sizes = [v.size for v in example]\n",
        "    shapes = [v.shape for v in example]\n",
        "    weight_list = []\n",
        "    for net_weights in weight_vecs:\n",
        "        vs = np.split(net_weights, np.cumsum(sizes))[:-1]\n",
        "        vs = [v.reshape(s) for v, s in zip(vs, shapes)]\n",
        "        weight_list.append(vs)\n",
        "    return weight_list\n",
        "\n",
        "\n",
        "def get_path_components_(training_path, n_components=2):\n",
        "    # Vectorize network weights\n",
        "    weight_matrix = vectorize_weight_list_(training_path)\n",
        "    # Create components\n",
        "    pca = PCA(n_components=2, whiten=True)\n",
        "    components = pca.fit_transform(weight_matrix)\n",
        "    # Reshape to fit network\n",
        "    example = training_path[0]\n",
        "    weight_list = shape_weight_matrix_like_(components, example)\n",
        "    return pca, weight_list\n",
        "\n",
        "\n",
        "class PCACoordinates(object):\n",
        "    def __init__(self, training_path):\n",
        "        origin = training_path[0]\n",
        "        self.pca_, self.components = get_path_components_(training_path)\n",
        "        self.set_origin(origin)\n",
        "\n",
        "    def __call__(self, a, b):\n",
        "        return [\n",
        "            a * w0 + b * w1 + wc\n",
        "            for w0, w1, wc in zip(self.v0_, self.v1_, self.origin_)\n",
        "        ]\n",
        "\n",
        "    def set_origin(self, origin, renorm=True):\n",
        "        self.origin_ = origin\n",
        "        if renorm:\n",
        "            self.v0_ = normalize_weights(self.components[0], origin)\n",
        "            self.v1_ = normalize_weights(self.components[1], origin)"
      ]
    },
    {
      "cell_type": "code",
      "execution_count": null,
      "metadata": {
        "id": "d5TTvGj8-AxG"
      },
      "outputs": [],
      "source": [
        "trained_models=[tf.keras.models.load_model(MODEL_PATH+'/'+model) for model in same_model_ckpts]"
      ]
    },
    {
      "cell_type": "code",
      "execution_count": null,
      "metadata": {
        "id": "c3ULoOkZ-q-J"
      },
      "outputs": [],
      "source": [
        "from copy import copy\n",
        "training_path = [training_p.get_weights()[:2]+ training_p.get_weights()[-2:] for training_p in trained_models]\n",
        "training_path1= [training_p.get_weights()[:1]+ training_p.get_weights()[-2:] for training_p in trained_models]\n",
        "training_path2= [training_p.get_weights()[:1]+ training_p.get_weights()[-2:] for training_p in trained_models]\n",
        "training_path3= [training_p.get_weights()[:1]+ training_p.get_weights()[-2:] for training_p in trained_models]\n",
        "\n",
        "for i in range(len(training_path1)):\n",
        "  for j in range(len(training_path1[i])):\n",
        "      weight_to_spit=training_path1[i][j]\n",
        "      splitted_weights=np.hsplit(weight_to_spit, indices_or_sections =3)\n",
        "      training_path1[i][j]= splitted_weights[0]\n",
        "      training_path2[i][j]= splitted_weights[1]\n",
        "      training_path3[i][j]= splitted_weights[2]\n",
        "sub1=[] \n",
        "sub2=[] \n",
        "sub3=[]  \n",
        "training_path_separate=[]    \n",
        "for weights in training_path:\n",
        "      nn1=[ np.split(weights[0], indices_or_sections =3, axis=2)[0],\n",
        "        weights[1],\n",
        "        np.split(weights[2], indices_or_sections =3, axis=1)[0],\n",
        "        np.split(weights[3], indices_or_sections =3, axis=0)[0],\n",
        "        ]\n",
        "      sub1.append(nn1)\n",
        "\n",
        "      nn2=[\n",
        "        np.split(weights[0], indices_or_sections =3, axis=2)[1],\n",
        "        weights[1],\n",
        "        np.split(weights[2], indices_or_sections =3, axis=1)[1],\n",
        "        np.split(weights[3], indices_or_sections =3, axis=0)[1],\n",
        "        ]\n",
        "      sub2.append(nn2)\n",
        "      nn3=[\n",
        "        np.split(weights[0], indices_or_sections =3, axis=2)[2],\n",
        "        weights[1],\n",
        "        np.split(weights[2], indices_or_sections =3, axis=1)[2],\n",
        "        np.split(weights[3], indices_or_sections =3, axis=0)[2],\n",
        "        ]\n",
        "      sub3.append(nn3)\n",
        "\n",
        "      training_path_separate.append(nn1)\n",
        "      training_path_separate.append(nn2)\n",
        "      training_path_separate.append(nn3)\n",
        "\n",
        "      "
      ]
    },
    {
      "cell_type": "code",
      "execution_count": null,
      "metadata": {
        "id": "G2nIj2ez8g9A",
        "colab": {
          "base_uri": "https://localhost:8080/",
          "height": 585
        },
        "outputId": "ace42d4f-cd4d-405d-a636-a285b8056ad7"
      },
      "outputs": [
        {
          "output_type": "stream",
          "name": "stderr",
          "text": [
            "/usr/local/lib/python3.7/dist-packages/ipykernel_launcher.py:102: UserWarning: linewidths is ignored by contourf\n"
          ]
        },
        {
          "output_type": "display_data",
          "data": {
            "image/png": "[encoded data removed]",
            "text/plain": [
              "<Figure size 900x600 with 2 Axes>"
            ]
          },
          "metadata": {
            "needs_background": "light"
          }
        }
      ],
      "source": [
        "\n",
        "\n",
        "coords = PCACoordinates(training_path)\n",
        "model = tf.keras.models.load_model(MODEL_PATH+'/'+same_model_ckpts[-1])\n",
        "\n",
        "for im,lb in testloader:\n",
        "  imgs, labels=im, lb\n",
        "loss_surface = LossSurface(model, imgs, labels)\n",
        "\n",
        "loss_surface.compile(points=5, coords=coords, range=2)\n",
        "# Look at loss surface\n",
        "ax =loss_surface.plot(dpi=150)"
      ]
    },
    {
      "cell_type": "code",
      "execution_count": null,
      "metadata": {
        "id": "ruOAZzPdlCNk"
      },
      "outputs": [],
      "source": [
        "def weights_to_coordinates(coords, training_path):\n",
        "    \"\"\"Project the training path onto the first two principal components\n",
        "using the pseudoinverse.\"\"\"\n",
        "    components = [coords.v0_, coords.v1_]\n",
        "    comp_matrix = vectorize_weight_list_(components)\n",
        "    # the pseudoinverse\n",
        "    comp_matrix_i = np.linalg.pinv(comp_matrix)\n",
        "    # the origin vector\n",
        "    w_c = vectorize_weights_(training_path[0])\n",
        "    # center the weights on the training path and project onto components\n",
        "    coord_path = np.array(\n",
        "        [\n",
        "            comp_matrix_i @ (vectorize_weights_(weights) - w_c)\n",
        "            for weights in training_path\n",
        "        ]\n",
        "    )\n",
        "    return coord_path\n",
        "\n",
        "\n",
        "def plot_training_path(coords, training_path, ax=None, end=None, **kwargs):\n",
        "    path = weights_to_coordinates(coords, training_path)\n",
        "    if ax is None:\n",
        "        fig, ax = plt.subplots(**kwargs)\n",
        "    colors = range(path.shape[0])\n",
        "    end = path.shape[0] if end is None else end\n",
        "    norm = plt.Normalize(0, end)\n",
        "    ax.scatter(\n",
        "        path[:, 0], path[:, 1], s=4, c=colors, cmap=\"ocean\", norm=norm,\n",
        "    )\n",
        "    return ax"
      ]
    },
    {
      "cell_type": "code",
      "execution_count": null,
      "metadata": {
        "colab": {
          "base_uri": "https://localhost:8080/",
          "height": 585
        },
        "id": "AUh6MVAulFkz",
        "outputId": "72c4a875-c20e-4414-eb19-c9cf1b9d04b3"
      },
      "outputs": [
        {
          "output_type": "stream",
          "name": "stderr",
          "text": [
            "/usr/local/lib/python3.7/dist-packages/ipykernel_launcher.py:102: UserWarning: linewidths is ignored by contourf\n"
          ]
        },
        {
          "output_type": "display_data",
          "data": {
            "image/png": "[encoded data removed]",
            "text/plain": [
              "<Figure size 900x600 with 2 Axes>"
            ]
          },
          "metadata": {
            "needs_background": "light"
          }
        }
      ],
      "source": [
        "pcoords = PCACoordinates(training_path)\n",
        "loss_surface = LossSurface(model, imgs, labels)\n",
        "loss_surface.compile(points=10, coords=pcoords, range=4)\n",
        "ax = loss_surface.plot(dpi=150)\n",
        "# plot_training_path(pcoords, training_path1, ax)"
      ]
    },
    {
      "cell_type": "code",
      "execution_count": null,
      "metadata": {
        "colab": {
          "base_uri": "https://localhost:8080/",
          "height": 284
        },
        "id": "z_tVd4Tqp5Uq",
        "outputId": "bc1a7b74-4970-4fbc-c56c-ebac35fbed29"
      },
      "outputs": [
        {
          "output_type": "execute_result",
          "data": {
            "text/plain": [
              "<matplotlib.axes._subplots.AxesSubplot at 0x7f510031fb90>"
            ]
          },
          "metadata": {},
          "execution_count": 88
        },
        {
          "output_type": "display_data",
          "data": {
            "image/png": "[encoded data removed]",
            "text/plain": [
              "<Figure size 432x288 with 1 Axes>"
            ]
          },
          "metadata": {
            "needs_background": "light"
          }
        }
      ],
      "source": [
        "# ax = loss_surface.plot(dpi=150)\n",
        "fig, ax = plt.subplots()\n",
        "pcoords = PCACoordinates(training_path_separate)\n",
        "plot_training_path(pcoords, sub1, ax)\n",
        "plot_training_path(pcoords, sub2, ax)\n",
        "plot_training_path(pcoords, sub3, ax)"
      ]
    }
  ],
  "metadata": {
    "accelerator": "GPU",
    "colab": {
      "collapsed_sections": [],
      "name": "LOSS LANDSCAPE RANDOM SLICES AND PCA ",
      "provenance": []
    },
    "kernelspec": {
      "display_name": "Python 3",
      "name": "python3"
    }
  },
  "nbformat": 4,
  "nbformat_minor": 0
}