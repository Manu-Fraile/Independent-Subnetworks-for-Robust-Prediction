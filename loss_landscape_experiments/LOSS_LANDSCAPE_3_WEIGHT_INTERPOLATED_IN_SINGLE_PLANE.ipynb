{
  "cells": [
    {
      "cell_type": "markdown",
      "metadata": {
        "id": "GKzu9hbgqw2x"
      },
      "source": [
        "# Setups, Installations and Imports"
      ]
    },
    {
      "cell_type": "markdown",
      "metadata": {
        "id": "w2Ht3U3PkXNT"
      },
      "source": [
        "\n",
        "\n",
        "```\n",
        "# This is formatted as code\n",
        "```\n",
        "\n",
        "This loss landscape analysis following the idea in \"Loss Surfaces, Mode Connectivity, and Fast Ensembling of DNNs \" https://arxiv.org/pdf/1802.10026.pdf\n",
        "\n",
        "Pytorch code is available here: https://github.com/timgaripov/dnn-mode-connectivity but it has not been used \n"
      ]
    },
    {
      "cell_type": "code",
      "execution_count": null,
      "metadata": {
        "colab": {
          "base_uri": "https://localhost:8080/"
        },
        "id": "YT_P8aSjO-ps",
        "outputId": "976af1d8-9d32-4a75-88fd-40c6153e8fd6"
      },
      "outputs": [
        {
          "output_type": "stream",
          "name": "stdout",
          "text": [
            "NVIDIA-SMI has failed because it couldn't communicate with the NVIDIA driver. Make sure that the latest NVIDIA driver is installed and running.\n",
            "\n"
          ]
        }
      ],
      "source": [
        "!nvidia-smi"
      ]
    },
    {
      "cell_type": "code",
      "execution_count": null,
      "metadata": {
        "colab": {
          "base_uri": "https://localhost:8080/"
        },
        "id": "p1fAZ6sDcDqv",
        "outputId": "383ef77a-4bdf-4955-8415-850491ac72fd"
      },
      "outputs": [
        {
          "output_type": "stream",
          "name": "stdout",
          "text": [
            "Drive already mounted at /content/drive; to attempt to forcibly remount, call drive.mount(\"/content/drive\", force_remount=True).\n"
          ]
        }
      ],
      "source": [
        "from google.colab import drive\n",
        "drive.mount('/content/drive')"
      ]
    },
    {
      "cell_type": "code",
      "execution_count": null,
      "metadata": {
        "id": "9-APP7-6C5uK"
      },
      "outputs": [],
      "source": [
        "import tensorflow as tf\n",
        "\n",
        "from tensorflow import keras\n",
        "from tensorflow.keras.datasets import cifar10, mnist\n",
        "from tensorflow.keras.applications import resnet50\n"
      ]
    },
    {
      "cell_type": "code",
      "execution_count": null,
      "metadata": {
        "id": "3Pr3HrMxq8SF"
      },
      "outputs": [],
      "source": [
        "import os\n",
        "os.environ[\"TF_DETERMINISTIC_OPS\"] = \"1\"\n",
        "import time\n",
        "\n",
        "import numpy as np\n",
        "import pandas as pd\n",
        "import matplotlib.pyplot as plt\n",
        "import matplotlib as mpl\n",
        "\n",
        "%matplotlib inline\n",
        "\n",
        "import io\n",
        "import itertools\n",
        "from sklearn.metrics import confusion_matrix"
      ]
    },
    {
      "cell_type": "markdown",
      "metadata": {
        "id": "M3Ln8W0Aru8X"
      },
      "source": [
        "# Download and Prepare Dataset"
      ]
    },
    {
      "cell_type": "markdown",
      "metadata": {
        "id": "_LNJ383ihWUO"
      },
      "source": [
        "#### MNIST"
      ]
    },
    {
      "cell_type": "markdown",
      "metadata": {
        "id": "QZzY01xwxS-f"
      },
      "source": [
        "#### Dataloader"
      ]
    },
    {
      "cell_type": "code",
      "execution_count": null,
      "metadata": {
        "colab": {
          "base_uri": "https://localhost:8080/"
        },
        "id": "6TqcgM67xxDF",
        "outputId": "ed811a1e-118d-4efc-f01b-cacb0c6dda89"
      },
      "outputs": [
        {
          "output_type": "stream",
          "name": "stdout",
          "text": [
            "(60000, 28, 28) (60000,) (10000, 28, 28) (10000,)\n",
            "(None, 1)\n"
          ]
        }
      ],
      "source": [
        "(x_train, y_train), (x_test, y_test) = mnist.load_data()\n",
        "\n",
        "CLASS_NAMES = (\"0\", \"1\", \"2\", \"3\", \"4\", \"5\", \"6\", \"7\", \"8\", \"9\")\n",
        "print(x_train.shape, y_train.shape, x_test.shape, y_test.shape)\n",
        "\n",
        "from sklearn.utils import shuffle\n",
        "x_test, y_test = shuffle(x_test, y_test)\n",
        "test_image_len=500\n",
        "x_test = x_test[:test_image_len,:,:]\n",
        "y_test = y_test[:test_image_len]\n",
        "\n",
        "\n",
        "AUTO = tf.data.experimental.AUTOTUNE\n",
        "BATCH_SIZE = 128\n",
        "IMG_SHAPE = 28 # 28 for MNIST and 32 for CIFAR-10\n",
        "M = 3\n",
        "tf.random.set_seed(1)\n",
        "\n",
        "# For MNIST: \n",
        "# reshape to fit to model. Add dim for the 1 color channel\n",
        "x_train = np.expand_dims(x_train, axis=3)\n",
        "y_train = np.expand_dims(y_train, axis=1)\n",
        "x_test = np.expand_dims(x_test, axis=3)\n",
        "y_test = np.expand_dims(y_test, axis=1)\n",
        "# Remove some datapoints to make sets divisable by 3 (so that all batches have size 3)\n",
        "# x_test = x_test[:9999,:,:,:]\n",
        "# y_test = y_test[:9999,:]\n",
        "\n",
        "trainloader = tf.data.Dataset.from_tensor_slices((x_train, y_train))\n",
        "testloader = tf.data.Dataset.from_tensor_slices((x_test, y_test))\n",
        "\n",
        "def preprocess_image(image, label):\n",
        "  img = tf.cast(image, tf.float32)\n",
        "  img = img/255.\n",
        "\n",
        "  return img, label\n",
        "\n",
        "# def tile_image(image, label):\n",
        "#   print(image.shape)\n",
        "#   # labels = tf.tile(tf.expand_dims(label, 1), [1, 3])\n",
        "#   images = tf.tile(tf.expand_dims(image, 1), [1, 3, 1, 1, 1])\n",
        "#   images = tf.squeeze(images, axis=0)\n",
        "#   print(images.shape)\n",
        "#   return images,label\n",
        "\n",
        "def tile_image(image, label):\n",
        "  print(label.shape)\n",
        "  labels_tiled = tf.tile(tf.expand_dims(label, 2), [1, 3,1])\n",
        "  images = tf.tile(tf.expand_dims(image, 1), [1, M, 1, 1, 1])\n",
        "  images = tf.squeeze(images, axis=0)\n",
        "  # label = tf.squeeze(labels_tiled, axis=0)\n",
        "  return images,label\n",
        "\n",
        "trainloader_1 = (\n",
        "    trainloader\n",
        "    .shuffle(1024)\n",
        "    .map(preprocess_image, num_parallel_calls=AUTO)\n",
        "    .batch(3)\n",
        "    .prefetch(AUTO)\n",
        ")\n",
        "trainloader = (\n",
        "    trainloader_1\n",
        "    .shuffle(1024)\n",
        "    .batch(BATCH_SIZE)\n",
        "    .prefetch(AUTO)\n",
        ")\n",
        "\n",
        "testloader_1 = (\n",
        "    testloader\n",
        "    .map(preprocess_image, num_parallel_calls=AUTO)\n",
        "    .batch(1) # tried drop_remainder=True\n",
        "    .prefetch(AUTO)\n",
        ")\n",
        "\n",
        "testloader = (\n",
        "    testloader_1\n",
        "    .map(tile_image)\n",
        "    .batch(test_image_len)\n",
        "    .prefetch(AUTO)\n",
        ")"
      ]
    },
    {
      "cell_type": "markdown",
      "metadata": {
        "id": "R2WeGNZ7wups"
      },
      "source": [
        "# Visualize the landscape contour"
      ]
    },
    {
      "cell_type": "code",
      "execution_count": null,
      "metadata": {
        "id": "JSLzRVQxw6ne"
      },
      "outputs": [],
      "source": [
        "from tensorflow.keras import callbacks, layers"
      ]
    },
    {
      "cell_type": "code",
      "execution_count": null,
      "metadata": {
        "colab": {
          "base_uri": "https://localhost:8080/"
        },
        "id": "13oRZ_uHPmKB",
        "outputId": "ba72d93a-4042-49b5-b846-01a9eb37cfdc"
      },
      "outputs": [
        {
          "output_type": "stream",
          "name": "stdout",
          "text": [
            "40\n"
          ]
        }
      ],
      "source": [
        "# Load the model! - this directory contain folders of the model at each epoch\n",
        "ROOT_PATH = '/content/drive/MyDrive/LossLandscape/'#'gdrive/My Drive/LossLandscape/'\n",
        "## SmallCNN model checkpoint for each epoch(total 40 epochs)\n",
        "MODEL_PATH = ROOT_PATH+'OK_TEST_MNIST_SmallCNN_CheckpointID_1/' #OK_TEST_\n",
        "same_model_ckpts = os.listdir(MODEL_PATH)\n",
        "print(len(same_model_ckpts))\n",
        "# same_model_ckpts"
      ]
    },
    {
      "cell_type": "code",
      "execution_count": null,
      "metadata": {
        "id": "4Xu4yVAtQLrN"
      },
      "outputs": [],
      "source": [
        "# sort the models\n",
        "# https://stackoverflow.com/a/2669120/7636462\n",
        "import re \n",
        "\n",
        "def sorted_nicely(l): \n",
        "    \"\"\" Sort the given iterable in the way that humans expect.\"\"\" \n",
        "    convert = lambda text: int(text) if text.isdigit() else text \n",
        "    alphanum_key = lambda key: [ convert(c) for c in re.split('([0-9]+)', key) ] \n",
        "    return sorted(l, key = alphanum_key)\n",
        "\n",
        "same_model_ckpts = sorted_nicely(same_model_ckpts)\n",
        "# same_model_ckpts"
      ]
    },
    {
      "cell_type": "code",
      "source": [
        "model = tf.keras.models.load_model(MODEL_PATH+'/'+same_model_ckpts[-1])\n",
        "# model.summary()"
      ],
      "metadata": {
        "id": "kVqQhaszE5x-"
      },
      "execution_count": null,
      "outputs": []
    },
    {
      "cell_type": "code",
      "source": [
        "model = tf.keras.models.load_model(MODEL_PATH+'/'+same_model_ckpts[-1])\n",
        "weights = model.get_weights()[:2] + model.get_weights()[-2:]\n",
        "# weights = [model.get_weights()[0]] + [model.get_weights()[-2]]\n",
        "\n",
        "sub1 = [\n",
        "        np.tile(np.split(weights[0], indices_or_sections =3, axis=2)[0], (1,1,3,1)),\n",
        "        # np.tile(np.split(weights[0], indices_or_sections =3, axis=0)[0], (3,1,1,1)),\n",
        "        # np.tile(np.split(weights[0], indices_or_sections =3, axis=1)[0], (1,3,1,1)),\n",
        "        # weights[1],\n",
        "        np.tile(np.split(weights[2], indices_or_sections =3, axis=1)[0], (1,3)),\n",
        "        np.tile(np.split(weights[3], indices_or_sections =3, axis=0)[0], (3))\n",
        "        ]\n",
        "\n",
        "sub2 = [\n",
        "        np.tile(np.split(weights[0], indices_or_sections =3, axis=2)[1], (1,1,3,1)),\n",
        "        # np.tile(np.split(weights[0], indices_or_sections =3, axis=0)[1], (3,1,1,1)),\n",
        "        # np.tile(np.split(weights[0], indices_or_sections =3, axis=1)[1], (1,3,1,1)),\n",
        "        # weights[1],\n",
        "        np.tile(np.split(weights[2], indices_or_sections =3, axis=1)[1],(1,3)),\n",
        "        np.tile(np.split(weights[3], indices_or_sections =3, axis=0)[1],(3))\n",
        "        ]\n",
        "\n",
        "sub3 = [\n",
        "        np.tile(np.split(weights[0], indices_or_sections =3, axis=2)[2],(1,1,3,1)),\n",
        "        # np.tile(np.split(weights[0], indices_or_sections =3, axis=0)[2],(3,1,1,1)),\n",
        "        # np.tile(np.split(weights[0], indices_or_sections =3, axis=1)[2],(1,3,1,1)),\n",
        "        # weights[1],\n",
        "        np.tile(np.split(weights[2], indices_or_sections =3, axis=1)[2],(1,3)),\n",
        "        np.tile(np.split(weights[3], indices_or_sections =3, axis=0)[2],(3))\n",
        "        ]\n"
      ],
      "metadata": {
        "id": "zjCdBO83FBKk"
      },
      "execution_count": null,
      "outputs": []
    },
    {
      "cell_type": "code",
      "source": [
        "class coordinate(object):\n",
        "  def __init__ (self, w1,w2,w3):\n",
        "    self.w1= w1\n",
        "    # w1=vectorize_weights_(w1)\n",
        "    # w2=vectorize_weights_(w2)\n",
        "    # w3=vectorize_weights_(w3)\n",
        "    u = [w_2-w_1 for w_1,w_2 in zip(w1,w2)]\n",
        "    v = [(w_3-w_1) - np.dot((np.multiply((w_3-w_1),(w_2 - w_1)).sum()/ np.linalg.norm(w_2-w_1)), (w_2-w_1)) for w_1,w_2,w_3 in zip(w1,w2,w3)]\n",
        "    # v = [(w_3-w_1) - np.dot((np.sum((w_3-w_1)[:]*(w_2 - w_1)[:])/ np.linalg.norm(w_2-w_1)), (w_2-w_1)) for w_1,w_2,w_3 in zip(w1,w2,w3)]\n",
        "    # v = [(w_3-w_1) - np.dot((np.inner((w_3-w_1),(w_2 - w_1))/ np.linalg.norm(w_2-w_1)), (w_2-w_1)) for w_1,w_2,w_3 in zip(w1,w2,w3)]\n",
        "    self.u_hat= [u_ / np.linalg.norm(u_) for u_ in u]\n",
        "    self.v_hat= [v_ / np.linalg.norm(v_) for v_ in v]\n",
        "\n",
        "\n",
        "  def __call__ (self,x,y):\n",
        "    P = [w_1 + x * u + y * v for  w_1, u, v in zip(self.w1,self.u_hat, self.v_hat) ]\n",
        "    # P = shape_weight_matrix_like_(P, self.w1)\n",
        "    # P = w1 + x ·ˆu + y ·ˆv.\n",
        "    return P\n",
        "\n",
        "coord=coordinate(sub1,sub2,sub3)\n",
        "# coord(0,0)[0]"
      ],
      "metadata": {
        "id": "ycfX07skSQcS"
      },
      "execution_count": null,
      "outputs": []
    },
    {
      "cell_type": "code",
      "source": [
        "# m.reset_state()\n",
        "# # model.layers[3].set_weights([coord(x, y)[0]]+[model.get_weights()[1]])\n",
        "# # model.layers[-1].set_weights([coord(x, y)[1]]+[model.get_weights()[-1]])\n",
        "# # model.layers[3].set_weights([coord(0,0)[0]]+[model.layers[3].get_weights()[1]])\n",
        "# model.layers[-1].set_weights(coord(0,0)[:])\n",
        "\n",
        "# logits= model(images)\n",
        "# # # compute loss\n",
        "# # labels_tiled = tf.tile(self.outputs_, [1, 3, 1])\n",
        "# # # print((np.shape(labels_tiled), np.shape(preds)))                \n",
        "# # log_likelihoods = -tf.keras.losses.sparse_categorical_crossentropy( labels_tiled, logits, from_logits=True)\n",
        "# # negative_log_likelihood = tf.reduce_mean( -tf.reduce_logsumexp(log_likelihoods, axis=[1])+ tf.math.log(float(3)))\n",
        "# # # print((negative_log_likelihood ,log_likelihoods) )\n",
        "\n",
        "# ## compute accuracy\n",
        "# probs = tf.math.reduce_mean(logits, axis=1)  # marginalize\n",
        "# pred_classes=np.argmax(probs,axis=1)\n",
        "# # print(probs)\n",
        "# # print(pred_classes)\n",
        "# m.update_state (labels, probs)\n",
        "# m.result().numpy() #+ 1e-5"
      ],
      "metadata": {
        "colab": {
          "base_uri": "https://localhost:8080/",
          "height": 249
        },
        "id": "xfzHHN4hs-V0",
        "outputId": "bc669c5b-7827-4712-a460-8239d193f5ca"
      },
      "execution_count": null,
      "outputs": [
        {
          "output_type": "error",
          "ename": "NameError",
          "evalue": "ignored",
          "traceback": [
            "\u001b[0;31m---------------------------------------------------------------------------\u001b[0m",
            "\u001b[0;31mNameError\u001b[0m                                 Traceback (most recent call last)",
            "\u001b[0;32m<ipython-input-12-8fddab375ac9>\u001b[0m in \u001b[0;36m<module>\u001b[0;34m()\u001b[0m\n\u001b[0;32m----> 1\u001b[0;31m \u001b[0mm\u001b[0m\u001b[0;34m.\u001b[0m\u001b[0mreset_state\u001b[0m\u001b[0;34m(\u001b[0m\u001b[0;34m)\u001b[0m\u001b[0;34m\u001b[0m\u001b[0;34m\u001b[0m\u001b[0m\n\u001b[0m\u001b[1;32m      2\u001b[0m \u001b[0;31m# model.layers[3].set_weights([coord(x, y)[0]]+[model.get_weights()[1]])\u001b[0m\u001b[0;34m\u001b[0m\u001b[0;34m\u001b[0m\u001b[0;34m\u001b[0m\u001b[0m\n\u001b[1;32m      3\u001b[0m \u001b[0;31m# model.layers[-1].set_weights([coord(x, y)[1]]+[model.get_weights()[-1]])\u001b[0m\u001b[0;34m\u001b[0m\u001b[0;34m\u001b[0m\u001b[0;34m\u001b[0m\u001b[0m\n\u001b[1;32m      4\u001b[0m \u001b[0;31m# model.layers[3].set_weights([coord(0,0)[0]]+[model.layers[3].get_weights()[1]])\u001b[0m\u001b[0;34m\u001b[0m\u001b[0;34m\u001b[0m\u001b[0;34m\u001b[0m\u001b[0m\n\u001b[1;32m      5\u001b[0m \u001b[0mmodel\u001b[0m\u001b[0;34m.\u001b[0m\u001b[0mlayers\u001b[0m\u001b[0;34m[\u001b[0m\u001b[0;34m-\u001b[0m\u001b[0;36m1\u001b[0m\u001b[0;34m]\u001b[0m\u001b[0;34m.\u001b[0m\u001b[0mset_weights\u001b[0m\u001b[0;34m(\u001b[0m\u001b[0mcoord\u001b[0m\u001b[0;34m(\u001b[0m\u001b[0;36m0\u001b[0m\u001b[0;34m,\u001b[0m\u001b[0;36m0\u001b[0m\u001b[0;34m)\u001b[0m\u001b[0;34m[\u001b[0m\u001b[0;34m:\u001b[0m\u001b[0;34m]\u001b[0m\u001b[0;34m)\u001b[0m\u001b[0;34m\u001b[0m\u001b[0;34m\u001b[0m\u001b[0m\n",
            "\u001b[0;31mNameError\u001b[0m: name 'm' is not defined"
          ]
        }
      ]
    },
    {
      "cell_type": "code",
      "source": [
        "for imgs, labls in testloader:\n",
        "  images=imgs\n",
        "  labels=labls\n"
      ],
      "metadata": {
        "id": "sOfuHkgBdg_s"
      },
      "execution_count": null,
      "outputs": []
    },
    {
      "cell_type": "code",
      "source": [
        "range=15\n",
        "rangex=range\n",
        "rangey=range\n",
        "points=50\n",
        "model = tf.keras.models.load_model(MODEL_PATH+'/'+same_model_ckpts[-1])\n",
        "\n",
        "x_grid = np.linspace(-15, 15, num=points)\n",
        "y_grid = np.linspace(-12, 12, num=points)\n",
        "loss_grid = np.empty([len(x_grid), len(y_grid)])\n",
        "m = tf.keras.metrics.SparseCategoricalAccuracy()\n",
        "m.reset_state()\n",
        "\n",
        "\n",
        "for i, x in enumerate(x_grid):\n",
        "    for j, y in enumerate(y_grid):\n",
        "        m.reset_state()\n",
        "        model.layers[3].set_weights([coord(x, y)[0]]+[model.layers[3].get_weights()[1]])\n",
        "        model.layers[-1].set_weights(coord(x, y)[1:])\n",
        "        # model.layers[3].set_weights(coord(x, y)[:2])\n",
        "        # model.layers[-1].set_weights(coord(x, y)[-2:])\n",
        "\n",
        "        logits= model(images)\n",
        "        # # compute loss\n",
        "        # labels_tiled = tf.tile(self.outputs_, [1, 3, 1])\n",
        "        # # print((np.shape(labels_tiled), np.shape(preds)))                \n",
        "        # log_likelihoods = -tf.keras.losses.sparse_categorical_crossentropy( labels_tiled, logits, from_logits=True)\n",
        "        # negative_log_likelihood = tf.reduce_mean( -tf.reduce_logsumexp(log_likelihoods, axis=[1])+ tf.math.log(float(3)))\n",
        "        # # print((negative_log_likelihood ,log_likelihoods) )\n",
        "\n",
        "        ## compute accuracy\n",
        "        probs = tf.math.reduce_mean(logits, axis=1)  # marginalize\n",
        "        pred_classes=np.argmax(probs,axis=1)\n",
        "        # print(probs)\n",
        "        # print(pred_classes)\n",
        "        m.update_state (labels, probs)\n",
        "        accuracy = m.result().numpy() #+ 1e-5\n",
        "        # print(accuracy)\n",
        "        # for k in [0]:\n",
        "        # m.reset_state()\n",
        "        # m.update_state (labels, logits[:,0,:])\n",
        "        # accuracy= m.result().numpy() #+ 1e-5\n",
        "        # print(accuracy)\n",
        "\n",
        "        # # print(acc)\n",
        "        plot= accuracy #negative_log_likelihood#acc \n",
        "        loss_grid[j, i] = plot"
      ],
      "metadata": {
        "id": "uc8WJvXjXu15"
      },
      "execution_count": null,
      "outputs": []
    },
    {
      "cell_type": "code",
      "source": [
        "xs = x_grid\n",
        "ys = y_grid\n",
        "zs = loss_grid\n",
        "levels=5\n",
        "\n",
        "_, ax = plt.subplots()\n",
        "ax.set_title(\"The Accuracy Surface\")\n",
        "ax.set_aspect(\"equal\")\n",
        "# Set Levels\n",
        "min_loss = zs.min()\n",
        "max_loss = zs.max()\n",
        "# levels = tf.exp(\n",
        "#     tf.linspace(\n",
        "#         tf.math.log(min_loss), tf.math.log(max_loss), num=levels\n",
        "#     ))\n",
        "levels = tf.linspace(min_loss, max_loss,num=levels)\n",
        "\n",
        "# # Create Contour Plot\n",
        "CS = ax.contourf(\n",
        "    xs,\n",
        "    ys,\n",
        "    zs,\n",
        "    #levels=levels,\n",
        "    # cmap=\"magma\",\n",
        "    #linewidths=0.75,\n",
        "    #norm=mpl.colors.LogNorm(vmin=min_loss, vmax=max_loss * 2.0),\n",
        ")\n",
        "# ax.clabel(CS, inline=True, fontsize=8, fmt=\"%1.2f\")\n",
        "_.colorbar(CS)"
      ],
      "metadata": {
        "colab": {
          "base_uri": "https://localhost:8080/",
          "height": 297
        },
        "id": "CbDFARyspm2t",
        "outputId": "5dcb9f67-5018-4c0f-c377-e07a03e42fbf"
      },
      "execution_count": null,
      "outputs": [
        {
          "output_type": "execute_result",
          "data": {
            "text/plain": [
              "<matplotlib.colorbar.Colorbar at 0x7f2134401890>"
            ]
          },
          "metadata": {},
          "execution_count": 19
        },
        {
          "output_type": "display_data",
          "data": {
            "image/png": "[encoded data removed]",
            "text/plain": [
              "<Figure size 432x288 with 2 Axes>"
            ]
          },
          "metadata": {
            "needs_background": "light"
          }
        }
      ]
    }
  ],
  "metadata": {
    "accelerator": "GPU",
    "colab": {
      "collapsed_sections": [],
      "name": "LOSS LANDSCAPE 3 WEIGHT INTERPOLATED IN SINGLE PLANE",
      "provenance": []
    },
    "kernelspec": {
      "display_name": "Python 3",
      "name": "python3"
    }
  },
  "nbformat": 4,
  "nbformat_minor": 0
}