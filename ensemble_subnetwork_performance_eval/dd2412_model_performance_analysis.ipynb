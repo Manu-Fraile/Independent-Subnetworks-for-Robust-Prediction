{
  "nbformat": 4,
  "nbformat_minor": 0,
  "metadata": {
    "colab": {
      "name": "dd2412_model_performance_analysis.ipynb",
      "provenance": [],
      "collapsed_sections": []
    },
    "kernelspec": {
      "name": "python3",
      "display_name": "Python 3"
    },
    "language_info": {
      "name": "python"
    }
  },
  "cells": [
    {
      "cell_type": "markdown",
      "metadata": {
        "id": "kpSyWYDCW2Sh"
      },
      "source": [
        "# Replication of results for optimal number of subnetworks"
      ]
    },
    {
      "cell_type": "code",
      "metadata": {
        "id": "jF7asXkPTij0"
      },
      "source": [
        "import functools\n",
        "import os\n",
        "import time\n",
        "import numpy as np\n",
        "import tensorflow as tf\n",
        "import tensorflow_datasets as tfds\n",
        "import matplotlib.pyplot as plt\n",
        "from tensorflow.python.summary.summary_iterator import summary_iterator"
      ],
      "execution_count": 111,
      "outputs": []
    },
    {
      "cell_type": "code",
      "metadata": {
        "colab": {
          "base_uri": "https://localhost:8080/"
        },
        "id": "KKnSOQiGXKH6",
        "outputId": "3ac40b29-2636-485e-8de9-ee09679149e7"
      },
      "source": [
        "%load_ext tensorboard\n",
        "# %reload_ext tensorboard"
      ],
      "execution_count": 112,
      "outputs": [
        {
          "output_type": "stream",
          "name": "stdout",
          "text": [
            "The tensorboard extension is already loaded. To reload it, use:\n",
            "  %reload_ext tensorboard\n"
          ]
        }
      ]
    },
    {
      "cell_type": "code",
      "metadata": {
        "colab": {
          "base_uri": "https://localhost:8080/"
        },
        "id": "uC-CgG-eYVar",
        "outputId": "c80434d1-00f5-4714-a628-898791fd3101"
      },
      "source": [
        "from google.colab import drive\n",
        "drive.mount('gdrive')"
      ],
      "execution_count": 113,
      "outputs": [
        {
          "output_type": "stream",
          "name": "stdout",
          "text": [
            "Drive already mounted at gdrive; to attempt to forcibly remount, call drive.mount(\"gdrive\", force_remount=True).\n"
          ]
        }
      ]
    },
    {
      "cell_type": "code",
      "metadata": {
        "colab": {
          "base_uri": "https://localhost:8080/"
        },
        "id": "COfjDr6oYtkl",
        "outputId": "203deb32-d843-4b09-eeba-3fe2c3bf90c9"
      },
      "source": [
        "# Load the datasets - this directory contain folders of the model at each epoch\n",
        "ROOT_PATH = 'gdrive/My Drive/KTH/MNIST_models/MNIST_NN/WRN28-2/'\n",
        "# All model paths:\n",
        "model_paths = [\n",
        "  'M1/summaries/events.out.tfevents.1637871015.deeplearning-1-vm.9861.0.v2',\n",
        "  'M2/summaries/events.out.tfevents.1637674717.deeplearning-1-vm.26676.0.v2',\n",
        "  'M3/summaries/events.out.tfevents.1637590374.deeplearning-1-vm.27110.0.v2',\n",
        "  'M4/summaries/events.out.tfevents.1637741894.deeplearning-1-vm.20526.0.v2',\n",
        "  'M5/summaries/events.out.tfevents.1637828638.deeplearning-1-vm.19571.0.v2',\n",
        "  'M6/summaries/events.out.tfevents.1637913700.deeplearning-1-vm.32648.0.v2',\n",
        "  'M10/summaries/events.out.tfevents.1638560063.deeplearning-1-vm.12253.0.v2'\n",
        "]\n",
        "MODEL_PATH = ROOT_PATH+'M1/summaries/events.out.tfevents.1637871015.deeplearning-1-vm.9861.0.v2'\n",
        "model_folders = os.listdir(ROOT_PATH)\n",
        "print(len(model_folders))"
      ],
      "execution_count": 118,
      "outputs": [
        {
          "output_type": "stream",
          "name": "stdout",
          "text": [
            "7\n"
          ]
        }
      ]
    },
    {
      "cell_type": "code",
      "metadata": {
        "colab": {
          "base_uri": "https://localhost:8080/"
        },
        "id": "D75F_kOfXPD0",
        "outputId": "bf0067bd-42ad-4ac4-8a43-b418180d46a8"
      },
      "source": [
        "!tensorboard --inspect --event_file=MODEL_PATH"
      ],
      "execution_count": 119,
      "outputs": [
        {
          "output_type": "stream",
          "name": "stdout",
          "text": [
            "2021-12-04 17:15:56.899438: E tensorflow/stream_executor/cuda/cuda_driver.cc:271] failed call to cuInit: CUDA_ERROR_NO_DEVICE: no CUDA-capable device is detected\n",
            "======================================================================\n",
            "Processing event files... (this can take a few minutes)\n",
            "======================================================================\n",
            "\n",
            "Traceback (most recent call last):\n",
            "  File \"/usr/local/bin/tensorboard\", line 8, in <module>\n",
            "    sys.exit(run_main())\n",
            "  File \"/usr/local/lib/python3.7/dist-packages/tensorboard/main.py\", line 46, in run_main\n",
            "    app.run(tensorboard.main, flags_parser=tensorboard.configure)\n",
            "  File \"/usr/local/lib/python3.7/dist-packages/absl/app.py\", line 303, in run\n",
            "    _run_main(main, args)\n",
            "  File \"/usr/local/lib/python3.7/dist-packages/absl/app.py\", line 251, in _run_main\n",
            "    sys.exit(main(argv))\n",
            "  File \"/usr/local/lib/python3.7/dist-packages/tensorboard/program.py\", line 276, in main\n",
            "    return runner(self.flags) or 0\n",
            "  File \"/usr/local/lib/python3.7/dist-packages/tensorboard/program.py\", line 289, in _run_serve_subcommand\n",
            "    efi.inspect(flags.logdir, event_file, flags.tag)\n",
            "  File \"/usr/local/lib/python3.7/dist-packages/tensorboard/backend/event_processing/event_file_inspector.py\", line 430, in inspect\n",
            "    inspection_units = get_inspection_units(logdir, event_file, tag)\n",
            "  File \"/usr/local/lib/python3.7/dist-packages/tensorboard/backend/event_processing/event_file_inspector.py\", line 403, in get_inspection_units\n",
            "    generator = generator_from_event_file(event_file)\n",
            "  File \"/usr/local/lib/python3.7/dist-packages/tensorboard/backend/event_processing/event_file_inspector.py\", line 347, in generator_from_event_file\n",
            "    return event_file_loader.LegacyEventFileLoader(event_file).Load()\n",
            "  File \"/usr/local/lib/python3.7/dist-packages/tensorboard/backend/event_processing/event_file_loader.py\", line 124, in __init__\n",
            "    self._iterator = _make_tf_record_iterator(self._file_path)\n",
            "  File \"/usr/local/lib/python3.7/dist-packages/tensorboard/backend/event_processing/event_file_loader.py\", line 82, in _make_tf_record_iterator\n",
            "    return tf.compat.v1.io.tf_record_iterator(file_path)\n",
            "  File \"/usr/local/lib/python3.7/dist-packages/tensorflow/python/util/deprecation.py\", line 348, in new_func\n",
            "    return func(*args, **kwargs)\n",
            "  File \"/usr/local/lib/python3.7/dist-packages/tensorflow/python/lib/io/tf_record.py\", line 171, in tf_record_iterator\n",
            "    return _pywrap_record_io.RecordIterator(path, compression_type)\n",
            "tensorflow.python.framework.errors_impl.NotFoundError: MODEL_PATH; No such file or directory\n"
          ]
        }
      ]
    },
    {
      "cell_type": "code",
      "metadata": {
        "colab": {
          "base_uri": "https://localhost:8080/"
        },
        "id": "XpBmP-hTXbTH",
        "outputId": "6a55ef40-5fac-440d-869f-a8028d2f6f7e"
      },
      "source": [
        "from tensorboard.backend.event_processing import event_accumulator\n",
        "ea = event_accumulator.EventAccumulator(MODEL_PATH)\n",
        "ea.Reload()\n",
        "ea.Tags()"
      ],
      "execution_count": 120,
      "outputs": [
        {
          "output_type": "execute_result",
          "data": {
            "text/plain": [
              "{'audio': [],\n",
              " 'distributions': [],\n",
              " 'graph': False,\n",
              " 'histograms': [],\n",
              " 'images': [],\n",
              " 'meta_graph': False,\n",
              " 'run_metadata': [],\n",
              " 'scalars': [],\n",
              " 'tensors': ['train/negative_log_likelihood',\n",
              "  'train/accuracy',\n",
              "  'train/loss',\n",
              "  'train/ece',\n",
              "  'test/negative_log_likelihood',\n",
              "  'test/accuracy',\n",
              "  'test/ece',\n",
              "  'test/diversity/disagreement',\n",
              "  'test/diversity/average_kl',\n",
              "  'test/diversity/cosine_similarity',\n",
              "  'test/nll_member_0',\n",
              "  'test/accuracy_member_0',\n",
              "  'test/ms_per_example',\n",
              "  'test/nll_mean_corrupted',\n",
              "  'test/kl_mean_corrupted',\n",
              "  'test/elbo_mean_corrupted',\n",
              "  'test/accuracy_mean_corrupted',\n",
              "  'test/ece_mean_corrupted',\n",
              "  'test/member_acc_mean_corrupted',\n",
              "  'test/member_ece_mean_corrupted',\n",
              "  'test/nll_mean_1',\n",
              "  'test/kl_mean_1',\n",
              "  'test/elbo_mean_1',\n",
              "  'test/accuracy_mean_1',\n",
              "  'test/ece_mean_1',\n",
              "  'test/nll_median_1',\n",
              "  'test/kl_median_1',\n",
              "  'test/elbo_median_1',\n",
              "  'test/accuracy_median_1',\n",
              "  'test/ece_median_1',\n",
              "  'test/member_acc_mean_1',\n",
              "  'test/member_ece_mean_1']}"
            ]
          },
          "metadata": {},
          "execution_count": 120
        }
      ]
    },
    {
      "cell_type": "code",
      "metadata": {
        "colab": {
          "base_uri": "https://localhost:8080/"
        },
        "id": "OFat23hgXnV6",
        "outputId": "155ef1c2-fd80-4a0d-c1ec-4b48151130ab"
      },
      "source": [
        "\n",
        "ensemble_accuracies = []\n",
        "ensemble_nll = []\n",
        "member_accuracies = []\n",
        "member_nlls = []\n",
        "ensemble_members = [1,2,3,4,5,6,10]\n",
        "all_member_accuracies = []\n",
        "for i in range(7):\n",
        "  model_path = model_paths[i] \n",
        "  a = summary_iterator(ROOT_PATH + model_path)\n",
        "\n",
        "  TAG_NAME = \"test/accuracy\"\n",
        "  NLL_NAME = 'test/negative_log_likelihood'\n",
        "  MEMBER_TAG_NAMES = []\n",
        "  MEMBER_NLL_NAMES = []\n",
        "  for j in range(ensemble_members[i]): # collect the data for each of the ensemble members in the current model\n",
        "    MEMBER_TAG_NAMES.append('test/accuracy_member_'+str(j))\n",
        "    MEMBER_NLL_NAMES.append('test/nll_member_'+str(j))\n",
        "\n",
        "  acc_list = []\n",
        "  nll_list = []\n",
        "  member_acc = {}\n",
        "  member_nll = {}\n",
        "  for e in a:\n",
        "      for v in e.summary.value:\n",
        "          if v.tag == TAG_NAME:\n",
        "              value = tf.make_ndarray(v.tensor)\n",
        "              acc_list.append(value)\n",
        "          elif v.tag == NLL_NAME:\n",
        "              value = tf.make_ndarray(v.tensor)\n",
        "              nll_list.append(value)\n",
        "          elif v.tag in MEMBER_TAG_NAMES:\n",
        "            value = tf.make_ndarray(v.tensor)\n",
        "            if not v.tag in member_acc:\n",
        "              member_acc[v.tag] = []\n",
        "            member_acc[v.tag].append(value)\n",
        "          elif v.tag in MEMBER_NLL_NAMES:\n",
        "            value = tf.make_ndarray(v.tensor)\n",
        "            if not v.tag in member_nll:\n",
        "              member_nll[v.tag] = []\n",
        "            member_nll[v.tag].append(value)\n",
        "\n",
        "  ensemble_accuracies.append(np.max(np.array(acc_list)))\n",
        "  ensemble_nll.append(np.min(np.array(nll_list)))\n",
        "  member_accuracies.append(member_acc)\n",
        "  member_nlls.append(member_nll)\n",
        "  print('ensemble accs: ', ensemble_accuracies)"
      ],
      "execution_count": 121,
      "outputs": [
        {
          "output_type": "stream",
          "name": "stdout",
          "text": [
            "ensemble accs:  [0.9966363]\n",
            "ensemble accs:  [0.9966363, 0.99641925]\n",
            "ensemble accs:  [0.9966363, 0.99641925, 0.9965278]\n",
            "ensemble accs:  [0.9966363, 0.99641925, 0.9965278, 0.9967448]\n",
            "ensemble accs:  [0.9966363, 0.99641925, 0.9965278, 0.9967448, 0.9967448]\n",
            "ensemble accs:  [0.9966363, 0.99641925, 0.9965278, 0.9967448, 0.9967448, 0.9965278]\n",
            "ensemble accs:  [0.9966363, 0.99641925, 0.9965278, 0.9967448, 0.9967448, 0.9965278, 0.99327254]\n"
          ]
        }
      ]
    },
    {
      "cell_type": "code",
      "metadata": {
        "colab": {
          "base_uri": "https://localhost:8080/"
        },
        "id": "nV7ubxK0mxJz",
        "outputId": "0f7a2db6-4a42-4d1b-b956-6b16dd22b45c"
      },
      "source": [
        "# parse the member accuracies and nlls\n",
        "# for each of the different network architectures\n",
        "accs = []\n",
        "nlls = []\n",
        "for i in range(len(member_accuracies)):\n",
        "  current_accuracies = member_accuracies[i]\n",
        "  current_nll = member_nlls[i]\n",
        "  accs_curr = []\n",
        "  nlls_curr = [] \n",
        "  for key, value in current_accuracies.items():\n",
        "    # member_accuracies[i][key] = value[-1]\n",
        "    accs_curr.append(np.max(np.array(value)))\n",
        "  for key, value in current_nll.items():\n",
        "    # member_nlls[i][key] = value[-1]\n",
        "    nlls_curr.append(np.min(np.array(value)))\n",
        "  accs.append(accs_curr)\n",
        "  nlls.append(nlls_curr)\n",
        "print(accs)\n",
        "print(nlls)\n"
      ],
      "execution_count": 122,
      "outputs": [
        {
          "output_type": "stream",
          "name": "stdout",
          "text": [
            "[[0.9966363], [0.9963108, 0.9958767], [0.99641925, 0.99620223, 0.99576825], [0.9953342, 0.99641925, 0.99620223, 0.9966363], [0.99620223, 0.9954427, 0.99609375, 0.9963108, 0.9954427], [0.9954427, 0.9953342, 0.9953342, 0.99522567, 0.9951172, 0.9954427], [0.98546004, 0.95844185, 0.96202254, 0.97927517, 0.9864366, 0.98947483, 0.9812283, 0.8314887, 0.9880642, 0.8567708]]\n",
            "[[0.012312468], [0.013654267, 0.0153304525], [0.013152674, 0.01772215, 0.016845293], [0.017751029, 0.015294882, 0.014885942, 0.015912205], [0.016215593, 0.017832404, 0.016199417, 0.016243601, 0.018173292], [0.018869512, 0.01783072, 0.017213091, 0.01846847, 0.0184579, 0.0196161], [0.05315123, 0.18841498, 0.16358347, 0.08816663, 0.05191607, 0.051096674, 0.07873843, 0.49105707, 0.06097814, 0.44006905]]\n"
          ]
        }
      ]
    },
    {
      "cell_type": "code",
      "metadata": {
        "id": "N8hZLU7NseIR"
      },
      "source": [
        "# compute means and stds of each number of members\n",
        "acc_means = []\n",
        "acc_std = []\n",
        "nll_means = []\n",
        "nll_std = []\n",
        "for i in range(7):\n",
        "  acc_means.append(np.mean(np.array(accs[i])))\n",
        "  acc_std.append(np.std(np.array(accs[i])))\n",
        "  nll_means.append(np.mean(np.array(nlls[i])))\n",
        "  nll_std.append(np.std(np.array(nlls[i])))\n"
      ],
      "execution_count": 123,
      "outputs": []
    },
    {
      "cell_type": "code",
      "metadata": {
        "id": "gr6kAx0HrduM"
      },
      "source": [
        "def plot_results(num_members, ensemble, member_means, member_stds, title, include_var=True):\n",
        "    plt.plot(num_members, member_means, label='Members')\n",
        "    plt.plot(num_members, ensemble, label=\"Ensemble\")\n",
        "    if include_var:\n",
        "        plt.errorbar(num_members, member_means, member_stds, linestyle='None', marker='^', label='variance')\n",
        "    plt.title(title)\n",
        "    plt.xlabel('M')\n",
        "    plt.legend()\n",
        "    plt.show()\n",
        "    plt.savefig(ROOT_PATH + 'acc_comparison_'+title+'.png')"
      ],
      "execution_count": 139,
      "outputs": []
    },
    {
      "cell_type": "code",
      "metadata": {
        "colab": {
          "base_uri": "https://localhost:8080/",
          "height": 938
        },
        "id": "rtJagBDqehZT",
        "outputId": "4068e8a2-5bd2-4f07-f729-ce99557461ab"
      },
      "source": [
        "num_members = [1, 2, 3, 4, 5, 6, 10]\n",
        "plt.plot(num_members, ensemble_accuracies, label=\"Ensemble\")\n",
        "plt.title('Ensemble accuracy')\n",
        "plt.xlabel('M')\n",
        "plt.ylabel('Accuracy')\n",
        "plt.show()\n",
        "plt.savefig(ROOT_PATH + 'ensemble_accuracy_M1_to_M10.png')\n",
        "print('ensemble accs:', ensemble_accuracies)\n",
        "print('ensemble nlls: ', ensemble_nll)\n",
        "print('member accs:', acc_means)\n",
        "print('member nlls: ', nll_means)\n",
        "plot_results(num_members[:6], ensemble_accuracies[:6], acc_means[:6], acc_std[:6], 'Accuracy M=1-6')\n",
        "plot_results(num_members[:6], ensemble_nll[:6], nll_means[:6], nll_std[:6], 'NLL M=1-6')"
      ],
      "execution_count": 142,
      "outputs": [
        {
          "output_type": "display_data",
          "data": {
            "image/png": "[encoded data removed]",
            "text/plain": [
              "<Figure size 432x288 with 1 Axes>"
            ]
          },
          "metadata": {
            "needs_background": "light"
          }
        },
        {
          "output_type": "stream",
          "name": "stdout",
          "text": [
            "ensemble accs: [0.9966363, 0.99641925, 0.9965278, 0.9967448, 0.9967448, 0.9965278, 0.99327254]\n",
            "ensemble nlls:  [0.012312468, 0.013079784, 0.012517553, 0.012618124, 0.012679949, 0.014126082, 0.3663068]\n",
            "member accs: [0.9966363, 0.99609375, 0.99612993, 0.996148, 0.9958984, 0.9953161, 0.95186627]\n",
            "member nlls:  [0.012312468, 0.01449236, 0.015906706, 0.015961014, 0.016932862, 0.018409299, 0.16671719]\n"
          ]
        },
        {
          "output_type": "display_data",
          "data": {
            "image/png": "[encoded data removed]",
            "text/plain": [
              "<Figure size 432x288 with 1 Axes>"
            ]
          },
          "metadata": {
            "needs_background": "light"
          }
        },
        {
          "output_type": "display_data",
          "data": {
            "image/png": "[encoded data removed]",
            "text/plain": [
              "<Figure size 432x288 with 1 Axes>"
            ]
          },
          "metadata": {
            "needs_background": "light"
          }
        },
        {
          "output_type": "display_data",
          "data": {
            "text/plain": [
              "<Figure size 432x288 with 0 Axes>"
            ]
          },
          "metadata": {}
        }
      ]
    },
    {
      "cell_type": "markdown",
      "metadata": {
        "id": "UPwA4fOj9ev8"
      },
      "source": [
        "# Disagreement of subnetworks"
      ]
    },
    {
      "cell_type": "code",
      "metadata": {
        "colab": {
          "base_uri": "https://localhost:8080/",
          "height": 384
        },
        "id": "1KOGXdjuX2Di",
        "outputId": "240c8e4f-d95f-465c-8082-020e1837187c"
      },
      "source": [
        "# Get the disagreement between the subnetworks\n",
        "\n",
        "d_kl = []\n",
        "d_disagreement = []\n",
        "d_cosine_sim = []\n",
        "ensemble_members = ['1','2','3','4','5','6', '10']\n",
        "# for M = 10 the disagreement is super high! must be wrong..\n",
        "\n",
        "for i in range(7):\n",
        "  model_path = model_paths[i] \n",
        "  a = summary_iterator(ROOT_PATH + model_path)\n",
        "\n",
        "  DIS = \"test/diversity/disagreement\"\n",
        "  KL = 'test/diversity/average_kl'\n",
        "  COS = 'test/diversity/cosine_similarity'\n",
        "\n",
        "  dis_list = []\n",
        "  kl_list = []\n",
        "  cos_list = []\n",
        "  for e in a:\n",
        "      for v in e.summary.value:\n",
        "          if v.tag == DIS:\n",
        "              value = tf.make_ndarray(v.tensor)\n",
        "              dis_list.append(value)\n",
        "          elif v.tag == KL:\n",
        "              value = tf.make_ndarray(v.tensor)\n",
        "              kl_list.append(value)\n",
        "          elif v.tag == COS:\n",
        "            value = tf.make_ndarray(v.tensor)\n",
        "            cos_list.append(value)\n",
        "  \n",
        "  d_kl.append(kl_list[-1])\n",
        "  d_disagreement.append(dis_list[-1])\n",
        "  d_cosine_sim.append(cos_list[-1])\n",
        "\n",
        "print('KL: ', d_kl[2])\n",
        "print('Disagreement: ', d_disagreement[2])\n",
        "print('Cosine similarity: ', d_cosine_sim)\n",
        "\n",
        "plt.plot(ensemble_members[1:6], d_kl[1:6], label=\"KL\")\n",
        "plt.plot(ensemble_members[1:6], d_disagreement[1:6], label=\"Disagreement\")\n",
        "# plt.plot(d_cosine_sim, label=\"Cosine similarity\")\n",
        "plt.title('Measure of disagreement')\n",
        "plt.xlabel('M')\n",
        "plt.legend()\n",
        "plt.show()\n",
        "plt.savefig(ROOT_PATH + 'disagreement_and_KL_M1_toM6.png')"
      ],
      "execution_count": 137,
      "outputs": [
        {
          "output_type": "stream",
          "name": "stdout",
          "text": [
            "KL:  0.011273645\n",
            "Disagreement:  0.0033998839\n",
            "Cosine similarity:  [array(nan, dtype=float32), array(0.99787945, dtype=float32), array(0.9975345, dtype=float32), array(0.9975345, dtype=float32), array(0.99725753, dtype=float32), array(0.99689746, dtype=float32), array(0.6345937, dtype=float32)]\n"
          ]
        },
        {
          "output_type": "display_data",
          "data": {
            "image/png": "[encoded data removed]",
            "text/plain": [
              "<Figure size 432x288 with 1 Axes>"
            ]
          },
          "metadata": {
            "needs_background": "light"
          }
        },
        {
          "output_type": "display_data",
          "data": {
            "text/plain": [
              "<Figure size 432x288 with 0 Axes>"
            ]
          },
          "metadata": {}
        }
      ]
    },
    {
      "cell_type": "code",
      "metadata": {
        "colab": {
          "base_uri": "https://localhost:8080/",
          "height": 17
        },
        "id": "idbD-TF1_wLr",
        "outputId": "d215fe47-067d-448f-8c39-e0a45928ed93"
      },
      "source": [
        ""
      ],
      "execution_count": 134,
      "outputs": [
        {
          "output_type": "display_data",
          "data": {
            "application/javascript": [
              "\n",
              "    async function download(id, filename, size) {\n",
              "      if (!google.colab.kernel.accessAllowed) {\n",
              "        return;\n",
              "      }\n",
              "      const div = document.createElement('div');\n",
              "      const label = document.createElement('label');\n",
              "      label.textContent = `Downloading \"${filename}\": `;\n",
              "      div.appendChild(label);\n",
              "      const progress = document.createElement('progress');\n",
              "      progress.max = size;\n",
              "      div.appendChild(progress);\n",
              "      document.body.appendChild(div);\n",
              "\n",
              "      const buffers = [];\n",
              "      let downloaded = 0;\n",
              "\n",
              "      const channel = await google.colab.kernel.comms.open(id);\n",
              "      // Send a message to notify the kernel that we're ready.\n",
              "      channel.send({})\n",
              "\n",
              "      for await (const message of channel.messages) {\n",
              "        // Send a message to notify the kernel that we're ready.\n",
              "        channel.send({})\n",
              "        if (message.buffers) {\n",
              "          for (const buffer of message.buffers) {\n",
              "            buffers.push(buffer);\n",
              "            downloaded += buffer.byteLength;\n",
              "            progress.value = downloaded;\n",
              "          }\n",
              "        }\n",
              "      }\n",
              "      const blob = new Blob(buffers, {type: 'application/binary'});\n",
              "      const a = document.createElement('a');\n",
              "      a.href = window.URL.createObjectURL(blob);\n",
              "      a.download = filename;\n",
              "      div.appendChild(a);\n",
              "      a.click();\n",
              "      div.remove();\n",
              "    }\n",
              "  "
            ],
            "text/plain": [
              "<IPython.core.display.Javascript object>"
            ]
          },
          "metadata": {}
        },
        {
          "output_type": "display_data",
          "data": {
            "application/javascript": [
              "download(\"download_a59db4d6-49d5-418f-ae46-e3fcca08b26e\", \"disagreement_and_KL_M1_toM6.png\", 1273)"
            ],
            "text/plain": [
              "<IPython.core.display.Javascript object>"
            ]
          },
          "metadata": {}
        }
      ]
    },
    {
      "cell_type": "code",
      "metadata": {
        "id": "tlLCH8SEfP1H"
      },
      "source": [
        ""
      ],
      "execution_count": null,
      "outputs": []
    }
  ]
}