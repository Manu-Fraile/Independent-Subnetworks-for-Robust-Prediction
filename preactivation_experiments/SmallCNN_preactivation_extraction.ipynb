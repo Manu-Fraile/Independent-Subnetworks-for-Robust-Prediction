{
  "nbformat": 4,
  "nbformat_minor": 0,
  "metadata": {
    "colab": {
      "name": "FEDERICO SmallCNN_preactivation_extraction",
      "provenance": [],
      "collapsed_sections": []
    },
    "kernelspec": {
      "name": "python3",
      "display_name": "Python 3"
    },
    "accelerator": "GPU"
  },
  "cells": [
    {
      "cell_type": "markdown",
      "metadata": {
        "id": "GKzu9hbgqw2x"
      },
      "source": [
        "# Setups, Installations and Imports"
      ]
    },
    {
      "cell_type": "markdown",
      "metadata": {
        "id": "w2Ht3U3PkXNT"
      },
      "source": [
        "This loss landscape analysis for MIMO is originally borrowed from the paper *Deep Ensembles: A Loss Landscape Perspective* by Fort et. al.\n",
        "Code is available here: https://github.com/ayulockin/LossLandscape\n"
      ]
    },
    {
      "cell_type": "code",
      "metadata": {
        "id": "YT_P8aSjO-ps",
        "colab": {
          "base_uri": "https://localhost:8080/"
        },
        "outputId": "7fea2e42-db9a-4f36-e499-5bc1bdcda006"
      },
      "source": [
        "!nvidia-smi"
      ],
      "execution_count": null,
      "outputs": [
        {
          "output_type": "stream",
          "name": "stdout",
          "text": [
            "Mon Dec 13 14:05:46 2021       \n",
            "+-----------------------------------------------------------------------------+\n",
            "| NVIDIA-SMI 495.44       Driver Version: 460.32.03    CUDA Version: 11.2     |\n",
            "|-------------------------------+----------------------+----------------------+\n",
            "| GPU  Name        Persistence-M| Bus-Id        Disp.A | Volatile Uncorr. ECC |\n",
            "| Fan  Temp  Perf  Pwr:Usage/Cap|         Memory-Usage | GPU-Util  Compute M. |\n",
            "|                               |                      |               MIG M. |\n",
            "|===============================+======================+======================|\n",
            "|   0  Tesla K80           Off  | 00000000:00:04.0 Off |                    0 |\n",
            "| N/A   69C    P8    31W / 149W |      0MiB / 11441MiB |      0%      Default |\n",
            "|                               |                      |                  N/A |\n",
            "+-------------------------------+----------------------+----------------------+\n",
            "                                                                               \n",
            "+-----------------------------------------------------------------------------+\n",
            "| Processes:                                                                  |\n",
            "|  GPU   GI   CI        PID   Type   Process name                  GPU Memory |\n",
            "|        ID   ID                                                   Usage      |\n",
            "|=============================================================================|\n",
            "|  No running processes found                                                 |\n",
            "+-----------------------------------------------------------------------------+\n"
          ]
        }
      ]
    },
    {
      "cell_type": "code",
      "source": [
        "from google.colab import drive\n",
        "drive.mount('/content/drive')"
      ],
      "metadata": {
        "colab": {
          "base_uri": "https://localhost:8080/"
        },
        "id": "1YqAtdVcgJ_q",
        "outputId": "855b7609-1cbb-460a-a640-6328af56e14d"
      },
      "execution_count": null,
      "outputs": [
        {
          "output_type": "stream",
          "name": "stdout",
          "text": [
            "Mounted at /content/drive\n"
          ]
        }
      ]
    },
    {
      "cell_type": "code",
      "metadata": {
        "id": "9-APP7-6C5uK"
      },
      "source": [
        "import tensorflow as tf\n",
        "\n",
        "from tensorflow import keras\n",
        "from tensorflow.keras.datasets import cifar10, mnist\n",
        "from tensorflow.keras.applications import resnet50\n"
      ],
      "execution_count": null,
      "outputs": []
    },
    {
      "cell_type": "code",
      "metadata": {
        "id": "3Pr3HrMxq8SF"
      },
      "source": [
        "import os\n",
        "os.environ[\"TF_DETERMINISTIC_OPS\"] = \"1\"\n",
        "import time\n",
        "\n",
        "import numpy as np\n",
        "import pandas as pd\n",
        "import matplotlib.pyplot as plt\n",
        "\n",
        "%matplotlib inline\n",
        "\n",
        "import io\n",
        "import itertools\n",
        "from sklearn.metrics import confusion_matrix"
      ],
      "execution_count": null,
      "outputs": []
    },
    {
      "cell_type": "markdown",
      "metadata": {
        "id": "M3Ln8W0Aru8X"
      },
      "source": [
        "# Download and Prepare Dataset"
      ]
    },
    {
      "cell_type": "markdown",
      "metadata": {
        "id": "_LNJ383ihWUO"
      },
      "source": [
        "#### MNIST"
      ]
    },
    {
      "cell_type": "code",
      "metadata": {
        "colab": {
          "base_uri": "https://localhost:8080/"
        },
        "id": "uWszaPM5hbDI",
        "outputId": "9b5b584d-2583-47c5-efae-db9c7dc0f0ab"
      },
      "source": [
        "(x_train, y_train), (x_test, y_test) = mnist.load_data()\n",
        "\n",
        "CLASS_NAMES = (\"0\", \"1\", \"2\", \"3\", \"4\", \"5\", \"6\", \"7\", \"8\", \"9\")\n",
        "print(x_train.shape, y_train.shape, x_test.shape, y_test.shape)"
      ],
      "execution_count": null,
      "outputs": [
        {
          "output_type": "stream",
          "name": "stdout",
          "text": [
            "(60000, 28, 28) (60000,) (10000, 28, 28) (10000,)\n"
          ]
        }
      ]
    },
    {
      "cell_type": "markdown",
      "metadata": {
        "id": "QZzY01xwxS-f"
      },
      "source": [
        "#### Dataloader"
      ]
    },
    {
      "cell_type": "code",
      "source": [
        "AUTO = tf.data.experimental.AUTOTUNE\n",
        "BATCH_SIZE = 128\n",
        "IMG_SHAPE = 28 # 28 for MNIST and 32 for CIFAR-10\n",
        "M = 3\n",
        "tf.random.set_seed(1)\n",
        "\n",
        "# For MNIST: \n",
        "# reshape to fit to model. Add dim for the 1 color channel\n",
        "x_train = np.expand_dims(x_train, axis=3)\n",
        "y_train = np.expand_dims(y_train, axis=1)\n",
        "x_test = np.expand_dims(x_test, axis=3)\n",
        "y_test = np.expand_dims(y_test, axis=1)\n",
        "# Remove some datapoints to make sets divisable by 3 (so that all batches have size 3)\n",
        "x_test = x_test[:9999,:,:,:]\n",
        "y_test = y_test[:9999,:]\n",
        "\n",
        "trainloader = tf.data.Dataset.from_tensor_slices((x_train, y_train))\n",
        "testloader = tf.data.Dataset.from_tensor_slices((x_test, y_test))\n",
        "\n",
        "def preprocess_image(image, label):\n",
        "  img = tf.cast(image, tf.float32)\n",
        "  img = img/255.\n",
        "\n",
        "  return img, label\n",
        "\n",
        "trainloader_1 = (\n",
        "    trainloader\n",
        "    .shuffle(1024)\n",
        "    .map(preprocess_image, num_parallel_calls=AUTO)\n",
        "    .batch(2)\n",
        "    .prefetch(AUTO)\n",
        ")\n",
        "trainloader = (\n",
        "    trainloader_1\n",
        "    .shuffle(1024)\n",
        "    .batch(BATCH_SIZE)\n",
        "    .prefetch(AUTO)\n",
        ")\n",
        "\n",
        "testloader_1 = (\n",
        "    testloader\n",
        "    .map(preprocess_image, num_parallel_calls=AUTO)\n",
        "    .batch(2) # tried drop_remainder=True\n",
        "    .prefetch(AUTO)\n",
        ")\n",
        "\n",
        "testloader = (\n",
        "    trainloader_1\n",
        "    .shuffle(1024)\n",
        "    .batch(BATCH_SIZE)\n",
        "    .prefetch(AUTO)\n",
        ")"
      ],
      "metadata": {
        "id": "7gl6oREQI-4s"
      },
      "execution_count": null,
      "outputs": []
    },
    {
      "cell_type": "markdown",
      "metadata": {
        "id": "W2xrs00QuVG3"
      },
      "source": [
        "# Model"
      ]
    },
    {
      "cell_type": "code",
      "metadata": {
        "id": "AmvmoCjza5vk"
      },
      "source": [
        "# Dense multihead for multiple outputs, as Implemented in the MIMO paper.\n",
        "# Here applied to the Loss Landscape analysis\n",
        "# coding=utf-8\n",
        "# Copyright 2020 The <> Authors.\n",
        "#\n",
        "# Licensed under the Apache License, Version 2.0 (the \"License\");\n",
        "# you may not use this file except in compliance with the License.\n",
        "# You may obtain a copy of the License at\n",
        "\n",
        "class DenseMultihead(tf.keras.layers.Dense):\n",
        "    \"\"\"Multiheaded output layer.\"\"\"\n",
        "\n",
        "    def __init__(self,\n",
        "                 units,\n",
        "                 ensemble_size=1,\n",
        "                 activation=None,\n",
        "                 use_bias=True,\n",
        "                 kernel_initializer='glorot_uniform',\n",
        "                 bias_initializer='zeros',\n",
        "                 kernel_regularizer=None,\n",
        "                 bias_regularizer=None,\n",
        "                 activity_regularizer=None,\n",
        "                 kernel_constraint=None,\n",
        "                 bias_constraint=None,\n",
        "                 **kwargs):\n",
        "        super().__init__(\n",
        "            units=units * ensemble_size,\n",
        "            activation=activation,\n",
        "            use_bias=use_bias,\n",
        "            kernel_initializer=kernel_initializer,\n",
        "            bias_initializer=bias_initializer,\n",
        "            kernel_regularizer=kernel_regularizer,\n",
        "            bias_regularizer=bias_regularizer,\n",
        "            activity_regularizer=activity_regularizer,\n",
        "            kernel_constraint=kernel_constraint,\n",
        "            bias_constraint=bias_constraint,\n",
        "            **kwargs)\n",
        "        self.ensemble_size = ensemble_size\n",
        "        #self.hellobro()\n",
        "\n",
        "    def call(self, inputs):\n",
        "        batch_size = tf.shape(inputs)[0]\n",
        "        # NOTE: This restricts this layer from being called on tensors of ndim > 2.\n",
        "        outputs = super().call(inputs)\n",
        "        outputs = tf.reshape(outputs, [batch_size,\n",
        "                                       self.ensemble_size,\n",
        "                                       self.units // self.ensemble_size])\n",
        "        return outputs\n",
        "\n",
        "    def get_config(self):\n",
        "        config = {\n",
        "            'units': self.units // self.ensemble_size,\n",
        "            'ensemble_size': self.ensemble_size,\n",
        "        }\n",
        "        new_config = super().get_config()\n",
        "        new_config.update(config)\n",
        "        return new_config"
      ],
      "execution_count": null,
      "outputs": []
    },
    {
      "cell_type": "code",
      "metadata": {
        "id": "_Pv7-2VNsb5N"
      },
      "source": [
        "tf.keras.backend.clear_session()\n",
        "\n",
        "# Modified model to use the MIMO architecture\n",
        "\"\"\"\n",
        "Code from the mimo implementation\n",
        "input_shape: tf.Tensor. The input shape must be (ensemble_size, width,\n",
        "    height, channels).\n",
        "\"\"\"\n",
        "num_classes = 10\n",
        "ensemble_size = 2\n",
        "input_shape = list([ensemble_size, IMG_SHAPE, IMG_SHAPE, 1])\n",
        "inputs = tf.keras.layers.Input(shape=input_shape)\n",
        "\n",
        "x = tf.keras.layers.Permute([2, 3, 4, 1])(inputs)\n",
        "#if ensemble_size != input_shape[0]:\n",
        "#    raise ValueError('the first dimension of input_shape must be ensemble_size')\n",
        "x = tf.keras.layers.Reshape(input_shape[1:-1] +\n",
        "                              [input_shape[-1] * ensemble_size])(x)\n",
        "\n",
        "\n",
        "a = keras.layers.Conv2D(16, (3,3), padding='same')(x)\n",
        "x = keras.activations.relu(a)\n",
        "x = keras.layers.MaxPooling2D(pool_size=(2, 2), strides=(1, 1))(x) # Tried with 1\n",
        "\n",
        "x = keras.layers.Conv2D(32,(3,3), padding='same')(x)\n",
        "x = keras.activations.relu(x)\n",
        "x = keras.layers.MaxPooling2D(2, strides=2)(x)\n",
        "\n",
        "x = keras.layers.Conv2D(32,(3,3), padding='same')(x)\n",
        "x = keras.activations.relu(x)\n",
        "x = keras.layers.MaxPooling2D(2, strides=2)(x)\n",
        "\n",
        "x = keras.layers.GlobalAveragePooling2D()(x)\n",
        "x = keras.layers.Dense(32, activation='relu')(x)\n",
        "x = keras.layers.Dropout(0.1)(x)\n",
        "\n",
        "# outputs = keras.layers.Dense(10, activation='softmax')(x)\n",
        "\"\"\"\n",
        "Outputs as prensented in the MIMO paper (taken from their implementation)\n",
        "\"\"\"\n",
        "outputs = DenseMultihead(\n",
        "      num_classes,\n",
        "      kernel_initializer='he_normal', # TODO: check this! what should this be?\n",
        "      activation='softmax', # this is changed from the MIMO implementation\n",
        "      ensemble_size=ensemble_size)(x)\n",
        "\n",
        "model = keras.models.Model(inputs=inputs, outputs=outputs)"
      ],
      "execution_count": null,
      "outputs": []
    },
    {
      "cell_type": "code",
      "metadata": {
        "id": "o9A69Z8kgBks",
        "colab": {
          "base_uri": "https://localhost:8080/",
          "height": 1000
        },
        "outputId": "2e63373b-d0cb-40cb-8d58-6b2ff6501c3b"
      },
      "source": [
        "tf.keras.utils.plot_model(\n",
        "    model, to_file='small_cnn.png', show_shapes=True, show_layer_names=True, dpi=65\n",
        ")"
      ],
      "execution_count": null,
      "outputs": [
        {
          "output_type": "execute_result",
          "data": {
            "image/png": "[encoded data removed]",
            "text/plain": [
              "<IPython.core.display.Image object>"
            ]
          },
          "metadata": {},
          "execution_count": 36
        }
      ]
    },
    {
      "cell_type": "markdown",
      "metadata": {
        "id": "nkxDAl8pv5pJ"
      },
      "source": [
        "# Callbacks"
      ]
    },
    {
      "cell_type": "markdown",
      "metadata": {
        "id": "B13auR7gDEao"
      },
      "source": [
        "#### LR Scheduler"
      ]
    },
    {
      "cell_type": "code",
      "metadata": {
        "id": "j4WY47Kxv8uN"
      },
      "source": [
        "# Custom Learning Rate schedule as mentioned in the LossLandscape paper\n",
        "LR_SCHEDULE = [\n",
        "    # (epoch to start, learning rate) tuples\n",
        "    (0, 1.6*1e-3),\n",
        "    (9, (1.6*1e-3)/2),\n",
        "    (19, (1.6*1e-3)/4),\n",
        "    (29, (1.6*1e-3)/8),\n",
        "]\n",
        "\n",
        "def lr_schedule(epoch):\n",
        "    if (epoch >= 0) & (epoch < 9):\n",
        "        return LR_SCHEDULE[0][1]\n",
        "    elif (epoch >= 9) & (epoch < 19):\n",
        "        return LR_SCHEDULE[1][1]\n",
        "    elif (epoch >= 19) & (epoch < 29):\n",
        "        return LR_SCHEDULE[2][1]\n",
        "    else:\n",
        "        return LR_SCHEDULE[3][1]\n",
        "\n",
        "lr_callback = tf.keras.callbacks.LearningRateScheduler(lambda epoch: lr_schedule(epoch), verbose=True)"
      ],
      "execution_count": null,
      "outputs": []
    },
    {
      "cell_type": "markdown",
      "metadata": {
        "id": "SWDf_SqVDHUo"
      },
      "source": [
        "#### Model Checkpoint"
      ]
    },
    {
      "cell_type": "code",
      "metadata": {
        "id": "Kjb25zUM-2wu"
      },
      "source": [
        "SAVE_PATH = 'drive/MyDrive/PreactivationExtraction/MNIST_SmallCNN_CheckpointID_1/'"
      ],
      "execution_count": null,
      "outputs": []
    },
    {
      "cell_type": "code",
      "metadata": {
        "id": "48WXaSSx4hAF"
      },
      "source": [
        "def save_model(epoch, logs):\n",
        "  model.save(SAVE_PATH+'small_cnn_checkpoint_{}.tf'.format(epoch))\n",
        "\n",
        "save_callback = tf.keras.callbacks.LambdaCallback(on_epoch_end=save_model, verbose=True)"
      ],
      "execution_count": null,
      "outputs": []
    },
    {
      "cell_type": "markdown",
      "metadata": {
        "id": "Q02l2PnW4YMh"
      },
      "source": [
        "# Initialize Model"
      ]
    },
    {
      "cell_type": "code",
      "metadata": {
        "id": "b7NGdxodMYP3",
        "colab": {
          "base_uri": "https://localhost:8080/"
        },
        "outputId": "b2d0cc6e-f13d-4ca4-bbd4-a5404c9a3acd"
      },
      "source": [
        "#keras.backend.clear_session()\n",
        "#model = Model()\n",
        "model.summary()"
      ],
      "execution_count": null,
      "outputs": [
        {
          "output_type": "stream",
          "name": "stdout",
          "text": [
            "Model: \"model\"\n",
            "_________________________________________________________________\n",
            " Layer (type)                Output Shape              Param #   \n",
            "=================================================================\n",
            " input_1 (InputLayer)        [(None, 2, 28, 28, 1)]    0         \n",
            "                                                                 \n",
            " permute (Permute)           (None, 28, 28, 1, 2)      0         \n",
            "                                                                 \n",
            " reshape (Reshape)           (None, 28, 28, 2)         0         \n",
            "                                                                 \n",
            " conv2d (Conv2D)             (None, 28, 28, 16)        304       \n",
            "                                                                 \n",
            " tf.nn.relu (TFOpLambda)     (None, 28, 28, 16)        0         \n",
            "                                                                 \n",
            " max_pooling2d (MaxPooling2D  (None, 27, 27, 16)       0         \n",
            " )                                                               \n",
            "                                                                 \n",
            " conv2d_1 (Conv2D)           (None, 27, 27, 32)        4640      \n",
            "                                                                 \n",
            " tf.nn.relu_1 (TFOpLambda)   (None, 27, 27, 32)        0         \n",
            "                                                                 \n",
            " max_pooling2d_1 (MaxPooling  (None, 13, 13, 32)       0         \n",
            " 2D)                                                             \n",
            "                                                                 \n",
            " conv2d_2 (Conv2D)           (None, 13, 13, 32)        9248      \n",
            "                                                                 \n",
            " tf.nn.relu_2 (TFOpLambda)   (None, 13, 13, 32)        0         \n",
            "                                                                 \n",
            " max_pooling2d_2 (MaxPooling  (None, 6, 6, 32)         0         \n",
            " 2D)                                                             \n",
            "                                                                 \n",
            " global_average_pooling2d (G  (None, 32)               0         \n",
            " lobalAveragePooling2D)                                          \n",
            "                                                                 \n",
            " dense (Dense)               (None, 32)                1056      \n",
            "                                                                 \n",
            " dropout (Dropout)           (None, 32)                0         \n",
            "                                                                 \n",
            " dense_multihead (DenseMulti  (None, 2, 10)            660       \n",
            " head)                                                           \n",
            "                                                                 \n",
            "=================================================================\n",
            "Total params: 15,908\n",
            "Trainable params: 15,908\n",
            "Non-trainable params: 0\n",
            "_________________________________________________________________\n"
          ]
        }
      ]
    },
    {
      "cell_type": "markdown",
      "metadata": {
        "id": "DqiY2v174cCw"
      },
      "source": [
        "# Compile"
      ]
    },
    {
      "cell_type": "code",
      "metadata": {
        "id": "M7Vk7qmEMgeB"
      },
      "source": [
        "model.compile('adam', 'sparse_categorical_crossentropy', metrics=['accuracy'])"
      ],
      "execution_count": null,
      "outputs": []
    },
    {
      "cell_type": "markdown",
      "metadata": {
        "id": "co0IcwRl4goi"
      },
      "source": [
        "# Train"
      ]
    },
    {
      "cell_type": "code",
      "metadata": {
        "id": "_Mqy_ZBNM8UA",
        "colab": {
          "base_uri": "https://localhost:8080/"
        },
        "outputId": "3be0c780-a388-44b1-fc37-7aadf872c856"
      },
      "source": [
        "EPOCHS = 40\n",
        "\n",
        "start = time.time()\n",
        "print(trainloader)\n",
        "print(testloader)\n",
        "_ = model.fit(trainloader,\n",
        "          epochs=EPOCHS,\n",
        "          verbose=2,\n",
        "          validation_data=testloader,\n",
        "          callbacks=[lr_callback,\n",
        "                     save_callback])\n",
        "end = time.time()\n",
        "print(\"Network takes {:.3f} seconds to train\".format(end - start))"
      ],
      "execution_count": null,
      "outputs": [
        {
          "output_type": "stream",
          "name": "stdout",
          "text": [
            "<PrefetchDataset shapes: ((None, None, 28, 28, 1), (None, None, 1)), types: (tf.float32, tf.uint8)>\n",
            "<PrefetchDataset shapes: ((None, None, 28, 28, 1), (None, None, 1)), types: (tf.float32, tf.uint8)>\n",
            "\n",
            "Epoch 00001: LearningRateScheduler setting learning rate to 0.0016.\n",
            "Epoch 1/40\n",
            "INFO:tensorflow:Assets written to: drive/MyDrive/PreactivationExtraction/MNIST_SmallCNN_CheckpointID_1/small_cnn_checkpoint_0.tf/assets\n",
            "235/235 - 22s - loss: 1.9880 - accuracy: 0.2700 - val_loss: 1.5473 - val_accuracy: 0.4651 - lr: 0.0016 - 22s/epoch - 92ms/step\n",
            "\n",
            "Epoch 00002: LearningRateScheduler setting learning rate to 0.0016.\n",
            "Epoch 2/40\n",
            "INFO:tensorflow:Assets written to: drive/MyDrive/PreactivationExtraction/MNIST_SmallCNN_CheckpointID_1/small_cnn_checkpoint_1.tf/assets\n",
            "235/235 - 12s - loss: 1.3890 - accuracy: 0.5116 - val_loss: 1.1722 - val_accuracy: 0.5914 - lr: 0.0016 - 12s/epoch - 52ms/step\n",
            "\n",
            "Epoch 00003: LearningRateScheduler setting learning rate to 0.0016.\n",
            "Epoch 3/40\n",
            "INFO:tensorflow:Assets written to: drive/MyDrive/PreactivationExtraction/MNIST_SmallCNN_CheckpointID_1/small_cnn_checkpoint_2.tf/assets\n",
            "235/235 - 12s - loss: 1.1314 - accuracy: 0.6021 - val_loss: 0.8764 - val_accuracy: 0.7103 - lr: 0.0016 - 12s/epoch - 52ms/step\n",
            "\n",
            "Epoch 00004: LearningRateScheduler setting learning rate to 0.0016.\n",
            "Epoch 4/40\n",
            "INFO:tensorflow:Assets written to: drive/MyDrive/PreactivationExtraction/MNIST_SmallCNN_CheckpointID_1/small_cnn_checkpoint_3.tf/assets\n",
            "235/235 - 12s - loss: 0.9519 - accuracy: 0.6667 - val_loss: 0.7614 - val_accuracy: 0.7475 - lr: 0.0016 - 12s/epoch - 51ms/step\n",
            "\n",
            "Epoch 00005: LearningRateScheduler setting learning rate to 0.0016.\n",
            "Epoch 5/40\n",
            "INFO:tensorflow:Assets written to: drive/MyDrive/PreactivationExtraction/MNIST_SmallCNN_CheckpointID_1/small_cnn_checkpoint_4.tf/assets\n",
            "235/235 - 12s - loss: 0.8479 - accuracy: 0.7083 - val_loss: 0.7099 - val_accuracy: 0.7585 - lr: 0.0016 - 12s/epoch - 51ms/step\n",
            "\n",
            "Epoch 00006: LearningRateScheduler setting learning rate to 0.0016.\n",
            "Epoch 6/40\n",
            "INFO:tensorflow:Assets written to: drive/MyDrive/PreactivationExtraction/MNIST_SmallCNN_CheckpointID_1/small_cnn_checkpoint_5.tf/assets\n",
            "235/235 - 12s - loss: 0.7662 - accuracy: 0.7387 - val_loss: 0.6241 - val_accuracy: 0.7987 - lr: 0.0016 - 12s/epoch - 52ms/step\n",
            "\n",
            "Epoch 00007: LearningRateScheduler setting learning rate to 0.0016.\n",
            "Epoch 7/40\n",
            "INFO:tensorflow:Assets written to: drive/MyDrive/PreactivationExtraction/MNIST_SmallCNN_CheckpointID_1/small_cnn_checkpoint_6.tf/assets\n",
            "235/235 - 12s - loss: 0.7103 - accuracy: 0.7612 - val_loss: 0.5319 - val_accuracy: 0.8375 - lr: 0.0016 - 12s/epoch - 51ms/step\n",
            "\n",
            "Epoch 00008: LearningRateScheduler setting learning rate to 0.0016.\n",
            "Epoch 8/40\n",
            "INFO:tensorflow:Assets written to: drive/MyDrive/PreactivationExtraction/MNIST_SmallCNN_CheckpointID_1/small_cnn_checkpoint_7.tf/assets\n",
            "235/235 - 12s - loss: 0.6468 - accuracy: 0.7855 - val_loss: 0.4987 - val_accuracy: 0.8435 - lr: 0.0016 - 12s/epoch - 52ms/step\n",
            "\n",
            "Epoch 00009: LearningRateScheduler setting learning rate to 0.0016.\n",
            "Epoch 9/40\n",
            "INFO:tensorflow:Assets written to: drive/MyDrive/PreactivationExtraction/MNIST_SmallCNN_CheckpointID_1/small_cnn_checkpoint_8.tf/assets\n",
            "235/235 - 12s - loss: 0.6031 - accuracy: 0.8004 - val_loss: 0.4505 - val_accuracy: 0.8609 - lr: 0.0016 - 12s/epoch - 52ms/step\n",
            "\n",
            "Epoch 00010: LearningRateScheduler setting learning rate to 0.0008.\n",
            "Epoch 10/40\n",
            "INFO:tensorflow:Assets written to: drive/MyDrive/PreactivationExtraction/MNIST_SmallCNN_CheckpointID_1/small_cnn_checkpoint_9.tf/assets\n",
            "235/235 - 12s - loss: 0.5574 - accuracy: 0.8194 - val_loss: 0.4117 - val_accuracy: 0.8758 - lr: 8.0000e-04 - 12s/epoch - 52ms/step\n",
            "\n",
            "Epoch 00011: LearningRateScheduler setting learning rate to 0.0008.\n",
            "Epoch 11/40\n",
            "INFO:tensorflow:Assets written to: drive/MyDrive/PreactivationExtraction/MNIST_SmallCNN_CheckpointID_1/small_cnn_checkpoint_10.tf/assets\n",
            "235/235 - 12s - loss: 0.5455 - accuracy: 0.8227 - val_loss: 0.3987 - val_accuracy: 0.8806 - lr: 8.0000e-04 - 12s/epoch - 52ms/step\n",
            "\n",
            "Epoch 00012: LearningRateScheduler setting learning rate to 0.0008.\n",
            "Epoch 12/40\n",
            "INFO:tensorflow:Assets written to: drive/MyDrive/PreactivationExtraction/MNIST_SmallCNN_CheckpointID_1/small_cnn_checkpoint_11.tf/assets\n",
            "235/235 - 12s - loss: 0.5352 - accuracy: 0.8255 - val_loss: 0.3982 - val_accuracy: 0.8808 - lr: 8.0000e-04 - 12s/epoch - 50ms/step\n",
            "\n",
            "Epoch 00013: LearningRateScheduler setting learning rate to 0.0008.\n",
            "Epoch 13/40\n",
            "INFO:tensorflow:Assets written to: drive/MyDrive/PreactivationExtraction/MNIST_SmallCNN_CheckpointID_1/small_cnn_checkpoint_12.tf/assets\n",
            "235/235 - 12s - loss: 0.5180 - accuracy: 0.8322 - val_loss: 0.3839 - val_accuracy: 0.8849 - lr: 8.0000e-04 - 12s/epoch - 51ms/step\n",
            "\n",
            "Epoch 00014: LearningRateScheduler setting learning rate to 0.0008.\n",
            "Epoch 14/40\n",
            "INFO:tensorflow:Assets written to: drive/MyDrive/PreactivationExtraction/MNIST_SmallCNN_CheckpointID_1/small_cnn_checkpoint_13.tf/assets\n",
            "235/235 - 12s - loss: 0.5013 - accuracy: 0.8371 - val_loss: 0.3723 - val_accuracy: 0.8861 - lr: 8.0000e-04 - 12s/epoch - 52ms/step\n",
            "\n",
            "Epoch 00015: LearningRateScheduler setting learning rate to 0.0008.\n",
            "Epoch 15/40\n",
            "INFO:tensorflow:Assets written to: drive/MyDrive/PreactivationExtraction/MNIST_SmallCNN_CheckpointID_1/small_cnn_checkpoint_14.tf/assets\n",
            "235/235 - 12s - loss: 0.4881 - accuracy: 0.8412 - val_loss: 0.3582 - val_accuracy: 0.8904 - lr: 8.0000e-04 - 12s/epoch - 52ms/step\n",
            "\n",
            "Epoch 00016: LearningRateScheduler setting learning rate to 0.0008.\n",
            "Epoch 16/40\n",
            "INFO:tensorflow:Assets written to: drive/MyDrive/PreactivationExtraction/MNIST_SmallCNN_CheckpointID_1/small_cnn_checkpoint_15.tf/assets\n",
            "235/235 - 12s - loss: 0.4757 - accuracy: 0.8464 - val_loss: 0.3454 - val_accuracy: 0.8961 - lr: 8.0000e-04 - 12s/epoch - 52ms/step\n",
            "\n",
            "Epoch 00017: LearningRateScheduler setting learning rate to 0.0008.\n",
            "Epoch 17/40\n",
            "INFO:tensorflow:Assets written to: drive/MyDrive/PreactivationExtraction/MNIST_SmallCNN_CheckpointID_1/small_cnn_checkpoint_16.tf/assets\n",
            "235/235 - 12s - loss: 0.4740 - accuracy: 0.8460 - val_loss: 0.3600 - val_accuracy: 0.8901 - lr: 8.0000e-04 - 12s/epoch - 52ms/step\n",
            "\n",
            "Epoch 00018: LearningRateScheduler setting learning rate to 0.0008.\n",
            "Epoch 18/40\n",
            "INFO:tensorflow:Assets written to: drive/MyDrive/PreactivationExtraction/MNIST_SmallCNN_CheckpointID_1/small_cnn_checkpoint_17.tf/assets\n",
            "235/235 - 12s - loss: 0.4630 - accuracy: 0.8497 - val_loss: 0.3267 - val_accuracy: 0.9008 - lr: 8.0000e-04 - 12s/epoch - 52ms/step\n",
            "\n",
            "Epoch 00019: LearningRateScheduler setting learning rate to 0.0008.\n",
            "Epoch 19/40\n",
            "INFO:tensorflow:Assets written to: drive/MyDrive/PreactivationExtraction/MNIST_SmallCNN_CheckpointID_1/small_cnn_checkpoint_18.tf/assets\n",
            "235/235 - 12s - loss: 0.4539 - accuracy: 0.8542 - val_loss: 0.3246 - val_accuracy: 0.9035 - lr: 8.0000e-04 - 12s/epoch - 52ms/step\n",
            "\n",
            "Epoch 00020: LearningRateScheduler setting learning rate to 0.0004.\n",
            "Epoch 20/40\n",
            "INFO:tensorflow:Assets written to: drive/MyDrive/PreactivationExtraction/MNIST_SmallCNN_CheckpointID_1/small_cnn_checkpoint_19.tf/assets\n",
            "235/235 - 12s - loss: 0.4380 - accuracy: 0.8604 - val_loss: 0.3174 - val_accuracy: 0.9043 - lr: 4.0000e-04 - 12s/epoch - 51ms/step\n",
            "\n",
            "Epoch 00021: LearningRateScheduler setting learning rate to 0.0004.\n",
            "Epoch 21/40\n",
            "INFO:tensorflow:Assets written to: drive/MyDrive/PreactivationExtraction/MNIST_SmallCNN_CheckpointID_1/small_cnn_checkpoint_20.tf/assets\n",
            "235/235 - 12s - loss: 0.4352 - accuracy: 0.8614 - val_loss: 0.3042 - val_accuracy: 0.9079 - lr: 4.0000e-04 - 12s/epoch - 51ms/step\n",
            "\n",
            "Epoch 00022: LearningRateScheduler setting learning rate to 0.0004.\n",
            "Epoch 22/40\n",
            "INFO:tensorflow:Assets written to: drive/MyDrive/PreactivationExtraction/MNIST_SmallCNN_CheckpointID_1/small_cnn_checkpoint_21.tf/assets\n",
            "235/235 - 12s - loss: 0.4267 - accuracy: 0.8625 - val_loss: 0.3116 - val_accuracy: 0.9046 - lr: 4.0000e-04 - 12s/epoch - 52ms/step\n",
            "\n",
            "Epoch 00023: LearningRateScheduler setting learning rate to 0.0004.\n",
            "Epoch 23/40\n",
            "INFO:tensorflow:Assets written to: drive/MyDrive/PreactivationExtraction/MNIST_SmallCNN_CheckpointID_1/small_cnn_checkpoint_22.tf/assets\n",
            "235/235 - 12s - loss: 0.4311 - accuracy: 0.8620 - val_loss: 0.3034 - val_accuracy: 0.9084 - lr: 4.0000e-04 - 12s/epoch - 53ms/step\n",
            "\n",
            "Epoch 00024: LearningRateScheduler setting learning rate to 0.0004.\n",
            "Epoch 24/40\n",
            "INFO:tensorflow:Assets written to: drive/MyDrive/PreactivationExtraction/MNIST_SmallCNN_CheckpointID_1/small_cnn_checkpoint_23.tf/assets\n",
            "235/235 - 12s - loss: 0.4199 - accuracy: 0.8653 - val_loss: 0.3054 - val_accuracy: 0.9066 - lr: 4.0000e-04 - 12s/epoch - 53ms/step\n",
            "\n",
            "Epoch 00025: LearningRateScheduler setting learning rate to 0.0004.\n",
            "Epoch 25/40\n",
            "INFO:tensorflow:Assets written to: drive/MyDrive/PreactivationExtraction/MNIST_SmallCNN_CheckpointID_1/small_cnn_checkpoint_24.tf/assets\n",
            "235/235 - 12s - loss: 0.4190 - accuracy: 0.8657 - val_loss: 0.3017 - val_accuracy: 0.9074 - lr: 4.0000e-04 - 12s/epoch - 50ms/step\n",
            "\n",
            "Epoch 00026: LearningRateScheduler setting learning rate to 0.0004.\n",
            "Epoch 26/40\n",
            "INFO:tensorflow:Assets written to: drive/MyDrive/PreactivationExtraction/MNIST_SmallCNN_CheckpointID_1/small_cnn_checkpoint_25.tf/assets\n",
            "235/235 - 12s - loss: 0.4143 - accuracy: 0.8680 - val_loss: 0.2976 - val_accuracy: 0.9111 - lr: 4.0000e-04 - 12s/epoch - 51ms/step\n",
            "\n",
            "Epoch 00027: LearningRateScheduler setting learning rate to 0.0004.\n",
            "Epoch 27/40\n",
            "INFO:tensorflow:Assets written to: drive/MyDrive/PreactivationExtraction/MNIST_SmallCNN_CheckpointID_1/small_cnn_checkpoint_26.tf/assets\n",
            "235/235 - 12s - loss: 0.4135 - accuracy: 0.8680 - val_loss: 0.3026 - val_accuracy: 0.9102 - lr: 4.0000e-04 - 12s/epoch - 53ms/step\n",
            "\n",
            "Epoch 00028: LearningRateScheduler setting learning rate to 0.0004.\n",
            "Epoch 28/40\n",
            "INFO:tensorflow:Assets written to: drive/MyDrive/PreactivationExtraction/MNIST_SmallCNN_CheckpointID_1/small_cnn_checkpoint_27.tf/assets\n",
            "235/235 - 12s - loss: 0.4132 - accuracy: 0.8673 - val_loss: 0.3001 - val_accuracy: 0.9094 - lr: 4.0000e-04 - 12s/epoch - 52ms/step\n",
            "\n",
            "Epoch 00029: LearningRateScheduler setting learning rate to 0.0004.\n",
            "Epoch 29/40\n",
            "INFO:tensorflow:Assets written to: drive/MyDrive/PreactivationExtraction/MNIST_SmallCNN_CheckpointID_1/small_cnn_checkpoint_28.tf/assets\n",
            "235/235 - 12s - loss: 0.4071 - accuracy: 0.8695 - val_loss: 0.2922 - val_accuracy: 0.9106 - lr: 4.0000e-04 - 12s/epoch - 51ms/step\n",
            "\n",
            "Epoch 00030: LearningRateScheduler setting learning rate to 0.0002.\n",
            "Epoch 30/40\n",
            "INFO:tensorflow:Assets written to: drive/MyDrive/PreactivationExtraction/MNIST_SmallCNN_CheckpointID_1/small_cnn_checkpoint_29.tf/assets\n",
            "235/235 - 12s - loss: 0.3937 - accuracy: 0.8730 - val_loss: 0.2820 - val_accuracy: 0.9149 - lr: 2.0000e-04 - 12s/epoch - 51ms/step\n",
            "\n",
            "Epoch 00031: LearningRateScheduler setting learning rate to 0.0002.\n",
            "Epoch 31/40\n",
            "INFO:tensorflow:Assets written to: drive/MyDrive/PreactivationExtraction/MNIST_SmallCNN_CheckpointID_1/small_cnn_checkpoint_30.tf/assets\n",
            "235/235 - 12s - loss: 0.3963 - accuracy: 0.8732 - val_loss: 0.2839 - val_accuracy: 0.9138 - lr: 2.0000e-04 - 12s/epoch - 52ms/step\n",
            "\n",
            "Epoch 00032: LearningRateScheduler setting learning rate to 0.0002.\n",
            "Epoch 32/40\n",
            "INFO:tensorflow:Assets written to: drive/MyDrive/PreactivationExtraction/MNIST_SmallCNN_CheckpointID_1/small_cnn_checkpoint_31.tf/assets\n",
            "235/235 - 12s - loss: 0.3893 - accuracy: 0.8749 - val_loss: 0.2795 - val_accuracy: 0.9156 - lr: 2.0000e-04 - 12s/epoch - 51ms/step\n",
            "\n",
            "Epoch 00033: LearningRateScheduler setting learning rate to 0.0002.\n",
            "Epoch 33/40\n",
            "INFO:tensorflow:Assets written to: drive/MyDrive/PreactivationExtraction/MNIST_SmallCNN_CheckpointID_1/small_cnn_checkpoint_32.tf/assets\n",
            "235/235 - 12s - loss: 0.3922 - accuracy: 0.8748 - val_loss: 0.2836 - val_accuracy: 0.9145 - lr: 2.0000e-04 - 12s/epoch - 51ms/step\n",
            "\n",
            "Epoch 00034: LearningRateScheduler setting learning rate to 0.0002.\n",
            "Epoch 34/40\n",
            "INFO:tensorflow:Assets written to: drive/MyDrive/PreactivationExtraction/MNIST_SmallCNN_CheckpointID_1/small_cnn_checkpoint_33.tf/assets\n",
            "235/235 - 12s - loss: 0.3886 - accuracy: 0.8770 - val_loss: 0.2780 - val_accuracy: 0.9165 - lr: 2.0000e-04 - 12s/epoch - 52ms/step\n",
            "\n",
            "Epoch 00035: LearningRateScheduler setting learning rate to 0.0002.\n",
            "Epoch 35/40\n",
            "INFO:tensorflow:Assets written to: drive/MyDrive/PreactivationExtraction/MNIST_SmallCNN_CheckpointID_1/small_cnn_checkpoint_34.tf/assets\n",
            "235/235 - 12s - loss: 0.3889 - accuracy: 0.8755 - val_loss: 0.2775 - val_accuracy: 0.9166 - lr: 2.0000e-04 - 12s/epoch - 52ms/step\n",
            "\n",
            "Epoch 00036: LearningRateScheduler setting learning rate to 0.0002.\n",
            "Epoch 36/40\n",
            "INFO:tensorflow:Assets written to: drive/MyDrive/PreactivationExtraction/MNIST_SmallCNN_CheckpointID_1/small_cnn_checkpoint_35.tf/assets\n",
            "235/235 - 12s - loss: 0.3852 - accuracy: 0.8782 - val_loss: 0.2776 - val_accuracy: 0.9162 - lr: 2.0000e-04 - 12s/epoch - 51ms/step\n",
            "\n",
            "Epoch 00037: LearningRateScheduler setting learning rate to 0.0002.\n",
            "Epoch 37/40\n",
            "INFO:tensorflow:Assets written to: drive/MyDrive/PreactivationExtraction/MNIST_SmallCNN_CheckpointID_1/small_cnn_checkpoint_36.tf/assets\n",
            "235/235 - 12s - loss: 0.3909 - accuracy: 0.8739 - val_loss: 0.2778 - val_accuracy: 0.9167 - lr: 2.0000e-04 - 12s/epoch - 52ms/step\n",
            "\n",
            "Epoch 00038: LearningRateScheduler setting learning rate to 0.0002.\n",
            "Epoch 38/40\n",
            "INFO:tensorflow:Assets written to: drive/MyDrive/PreactivationExtraction/MNIST_SmallCNN_CheckpointID_1/small_cnn_checkpoint_37.tf/assets\n",
            "235/235 - 12s - loss: 0.3822 - accuracy: 0.8789 - val_loss: 0.2717 - val_accuracy: 0.9200 - lr: 2.0000e-04 - 12s/epoch - 51ms/step\n",
            "\n",
            "Epoch 00039: LearningRateScheduler setting learning rate to 0.0002.\n",
            "Epoch 39/40\n",
            "INFO:tensorflow:Assets written to: drive/MyDrive/PreactivationExtraction/MNIST_SmallCNN_CheckpointID_1/small_cnn_checkpoint_38.tf/assets\n",
            "235/235 - 12s - loss: 0.3831 - accuracy: 0.8777 - val_loss: 0.2720 - val_accuracy: 0.9172 - lr: 2.0000e-04 - 12s/epoch - 50ms/step\n",
            "\n",
            "Epoch 00040: LearningRateScheduler setting learning rate to 0.0002.\n",
            "Epoch 40/40\n",
            "INFO:tensorflow:Assets written to: drive/MyDrive/PreactivationExtraction/MNIST_SmallCNN_CheckpointID_1/small_cnn_checkpoint_39.tf/assets\n",
            "235/235 - 12s - loss: 0.3774 - accuracy: 0.8799 - val_loss: 0.2715 - val_accuracy: 0.9182 - lr: 2.0000e-04 - 12s/epoch - 51ms/step\n",
            "Network takes 495.023 seconds to train\n"
          ]
        }
      ]
    },
    {
      "cell_type": "markdown",
      "metadata": {
        "id": "zKv6UHqM1I3Q"
      },
      "source": [
        "# Evaluate"
      ]
    },
    {
      "cell_type": "code",
      "metadata": {
        "id": "SO_E5WFAclHA",
        "colab": {
          "base_uri": "https://localhost:8080/"
        },
        "outputId": "2fe06877-41bc-473d-961c-ec5552486315"
      },
      "source": [
        "loss, accuracy = model.evaluate(testloader)\n",
        "print(\"Test Error Rate: \", round((1-accuracy)*100, 2), '%')"
      ],
      "execution_count": null,
      "outputs": [
        {
          "output_type": "stream",
          "name": "stdout",
          "text": [
            "235/235 [==============================] - 5s 21ms/step - loss: 0.2743 - accuracy: 0.9181\n",
            "Test Error Rate:  8.19 %\n"
          ]
        }
      ]
    },
    {
      "cell_type": "markdown",
      "metadata": {
        "id": "tjJP7P6E6xxP"
      },
      "source": [
        "# Investigating Network Separation\n"
      ]
    },
    {
      "cell_type": "code",
      "metadata": {
        "id": "6TqcgM67xxDF",
        "colab": {
          "base_uri": "https://localhost:8080/"
        },
        "outputId": "ebf5bce8-ec64-4a89-bd54-7f2d36494afd"
      },
      "source": [
        "(x_train, y_train), (x_test, y_test) = mnist.load_data()\n",
        "\n",
        "CLASS_NAMES = (\"0\", \"1\", \"2\", \"3\", \"4\", \"5\", \"6\", \"7\", \"8\", \"9\")\n",
        "print(x_train.shape, y_train.shape, x_test.shape, y_test.shape)\n",
        "# AUTO = tf.data.experimental.AUTOTUNE\n",
        "# BATCH_SIZE = 128\n",
        "# IMG_SHAPE = 28 # 28 for MNIST and 32 for CIFAR-10\n",
        "# M = 3\n",
        "# tf.random.set_seed(1)\n",
        "\n",
        "# # For MNIST: \n",
        "# # reshape to fit to model. Add dim for the 1 color channel\n",
        "# x_train = np.expand_dims(x_train, axis=3)\n",
        "# y_train = np.expand_dims(y_train, axis=1)\n",
        "# x_test = np.expand_dims(x_test, axis=3)\n",
        "# y_test = np.expand_dims(y_test, axis=1)\n",
        "# # Remove some datapoints to make sets divisable by 3 (so that all batches have size 3)\n",
        "from sklearn.utils import shuffle\n",
        "x_test, y_test = shuffle(x_test, y_test)\n",
        "x_train, y_train = shuffle(x_train, y_train)\n",
        "test_image_len=100\n",
        "x_test = x_test[:test_image_len,:,:]\n",
        "y_test = y_test[:test_image_len]\n",
        "\n",
        "x_train = x_train[:test_image_len,:,:]\n",
        "y_train = y_train[:test_image_len]\n",
        "\n",
        "# trainloader = tf.data.Dataset.from_tensor_slices((x_train, y_train))\n",
        "# testloader = tf.data.Dataset.from_tensor_slices((x_test, y_test))\n",
        "\n",
        "# def preprocess_image(image, label):\n",
        "#   img = tf.cast(image, tf.float32)\n",
        "#   img = img/255.\n",
        "\n",
        "#   return img, label\n",
        "\n",
        "# trainloader_1 = (\n",
        "#     trainloader\n",
        "#     .shuffle(1024)\n",
        "#     .map(preprocess_image, num_parallel_calls=AUTO)\n",
        "#     .batch(3)\n",
        "#     .prefetch(AUTO)\n",
        "# )\n",
        "# trainloader = (\n",
        "#     trainloader_1\n",
        "#     .shuffle(1024)\n",
        "#     .batch(BATCH_SIZE)\n",
        "#     .prefetch(AUTO)\n",
        "# )\n",
        "\n",
        "# testloader_1 = (\n",
        "#     testloader\n",
        "#     .map(preprocess_image, num_parallel_calls=AUTO)\n",
        "#     .batch(BATCH_SIZE) # tried drop_remainder=True\n",
        "#     .prefetch(AUTO)\n",
        "# )\n",
        "\n",
        "# testloader = (\n",
        "#     testloader_1\n",
        "#     .batch(BATCH_SIZE)\n",
        "#     .prefetch(AUTO)\n",
        "# )\n",
        "\n",
        "\n",
        "AUTO = tf.data.experimental.AUTOTUNE\n",
        "BATCH_SIZE = 128\n",
        "IMG_SHAPE = 28 # 28 for MNIST and 32 for CIFAR-10\n",
        "M = 3\n",
        "tf.random.set_seed(1)\n",
        "\n",
        "# For MNIST: \n",
        "# reshape to fit to model. Add dim for the 1 color channel\n",
        "x_train = np.expand_dims(x_train, axis=3)\n",
        "y_train = np.expand_dims(y_train, axis=1)\n",
        "x_test = np.expand_dims(x_test, axis=3)\n",
        "y_test = np.expand_dims(y_test, axis=1)\n",
        "# Remove some datapoints to make sets divisable by 3 (so that all batches have size 3)\n",
        "# x_test = x_test[:9999,:,:,:]\n",
        "# y_test = y_test[:9999,:]\n",
        "\n",
        "trainloader = tf.data.Dataset.from_tensor_slices((x_train, y_train))\n",
        "testloader = tf.data.Dataset.from_tensor_slices((x_test, y_test))\n",
        "\n",
        "def preprocess_image(image, label):\n",
        "  img = tf.cast(image, tf.float32)\n",
        "  img = img/255.\n",
        "\n",
        "  return img, label\n",
        "\n",
        "# def tile_image(image, label):\n",
        "#   print(image.shape)\n",
        "#   # labels = tf.tile(tf.expand_dims(label, 1), [1, 3])\n",
        "#   images = tf.tile(tf.expand_dims(image, 1), [1, 3, 1, 1, 1])\n",
        "#   images = tf.squeeze(images, axis=0)\n",
        "#   print(images.shape)\n",
        "#   return images,label\n",
        "\n",
        "def tile_image(image, label):\n",
        "  print(label.shape)\n",
        "  labels_tiled = tf.tile(tf.expand_dims(label, 2), [1, 3,1])\n",
        "  images = tf.tile(tf.expand_dims(image, 1), [1, M, 1, 1, 1])\n",
        "  images = tf.squeeze(images, axis=0)\n",
        "  # label = tf.squeeze(labels_tiled, axis=0)\n",
        "  return images,label\n",
        "\n",
        "trainloader_1 = (\n",
        "    trainloader\n",
        "    .shuffle(1024)\n",
        "    .map(preprocess_image, num_parallel_calls=AUTO)\n",
        "    .batch(1)\n",
        "    .prefetch(AUTO)\n",
        ")\n",
        "trainloader = (\n",
        "    trainloader_1\n",
        "    .shuffle(1024)\n",
        "    .batch(test_image_len)\n",
        "    .prefetch(AUTO)\n",
        ")\n",
        "\n",
        "# testloader_1 = (\n",
        "#     testloader\n",
        "#     .map(preprocess_image, num_parallel_calls=AUTO)\n",
        "#     .batch(test_image_len) # tried drop_remainder=True\n",
        "#     .prefetch(AUTO)\n",
        "# )\n",
        "\n",
        "# testloader = (\n",
        "#     testloader_1\n",
        "#     .map(tile_image)\n",
        "#     .batch(test_image_len)\n",
        "#     .prefetch(AUTO)\n",
        "# )"
      ],
      "execution_count": null,
      "outputs": [
        {
          "output_type": "stream",
          "name": "stdout",
          "text": [
            "Downloading data from https://storage.googleapis.com/tensorflow/tf-keras-datasets/mnist.npz\n",
            "11493376/11490434 [==============================] - 0s 0us/step\n",
            "11501568/11490434 [==============================] - 0s 0us/step\n",
            "(60000, 28, 28) (60000,) (10000, 28, 28) (10000,)\n"
          ]
        }
      ]
    },
    {
      "cell_type": "code",
      "metadata": {
        "colab": {
          "base_uri": "https://localhost:8080/"
        },
        "id": "13oRZ_uHPmKB",
        "outputId": "eb9a83f8-f693-4b31-fac6-16e3e1f0e244"
      },
      "source": [
        "# Load the model! - this directory contain folders of the model at each epoch\n",
        "ROOT_PATH = 'drive/MyDrive/PreactivationExtraction/'\n",
        "## SmallCNN model checkpoint for each epoch(total 40 epochs)\n",
        "MODEL_PATH = ROOT_PATH+'MNIST_SmallCNN_CheckpointID_1/'\n",
        "same_model_ckpts = os.listdir(MODEL_PATH)\n",
        "print(len(same_model_ckpts))"
      ],
      "execution_count": null,
      "outputs": [
        {
          "output_type": "stream",
          "name": "stdout",
          "text": [
            "40\n"
          ]
        }
      ]
    },
    {
      "cell_type": "code",
      "metadata": {
        "colab": {
          "base_uri": "https://localhost:8080/"
        },
        "id": "4Xu4yVAtQLrN",
        "outputId": "fca94630-a3e5-4ccf-acd8-c8b220a8302d"
      },
      "source": [
        "# sort the models\n",
        "# https://stackoverflow.com/a/2669120/7636462\n",
        "import re \n",
        "\n",
        "def sorted_nicely(l): \n",
        "    \"\"\" Sort the given iterable in the way that humans expect.\"\"\" \n",
        "    convert = lambda text: int(text) if text.isdigit() else text \n",
        "    alphanum_key = lambda key: [ convert(c) for c in re.split('([0-9]+)', key) ] \n",
        "    return sorted(l, key = alphanum_key)\n",
        "\n",
        "same_model_ckpts = sorted_nicely(same_model_ckpts)\n",
        "same_model_ckpts[:5]"
      ],
      "execution_count": null,
      "outputs": [
        {
          "output_type": "execute_result",
          "data": {
            "text/plain": [
              "['small_cnn_checkpoint_0.tf',\n",
              " 'small_cnn_checkpoint_1.tf',\n",
              " 'small_cnn_checkpoint_2.tf',\n",
              " 'small_cnn_checkpoint_3.tf',\n",
              " 'small_cnn_checkpoint_4.tf']"
            ]
          },
          "metadata": {},
          "execution_count": 7
        }
      ]
    },
    {
      "cell_type": "markdown",
      "source": [
        "## Conditional Variance"
      ],
      "metadata": {
        "id": "ISyEThIlFFt9"
      }
    },
    {
      "cell_type": "code",
      "source": [
        "for im, lb in trainloader:\n",
        "  images, labels= im,lb\n",
        "tf.concat((images[0],images[0]), axis=(0)).shape"
      ],
      "metadata": {
        "colab": {
          "base_uri": "https://localhost:8080/"
        },
        "id": "qacrxhvnmpkB",
        "outputId": "714a6de2-4c3e-4cb2-fa7d-88a7c71aa217"
      },
      "execution_count": null,
      "outputs": [
        {
          "output_type": "execute_result",
          "data": {
            "text/plain": [
              "TensorShape([2, 28, 28, 1])"
            ]
          },
          "metadata": {},
          "execution_count": 8
        }
      ]
    },
    {
      "cell_type": "code",
      "source": [
        "for im, lb in trainloader:\n",
        "  images, labels= im,lb\n",
        "change_x2=np.empty((99,2,28,28,1))\n",
        "for i,image_change in enumerate(images[1:]):\n",
        "    change_x2[i,0,:,:] = images[0]\n",
        "    change_x2[i,1,:,:]= image_change\n",
        "\n",
        "change_x1=np.empty((99,2,28,28,1))\n",
        "for i,image_change in enumerate(images[1:]):\n",
        "    change_x2[i,0,:,:] = image_change\n",
        "    change_x2[i,1,:,:]= images[0]\n",
        "\n",
        "all_x1_change_x2=np.empty((100,100,2,28,28,1))\n",
        "for i in range(len(images)):\n",
        "  for j in range(len(images)):\n",
        "    all_x1_change_x2[i,j,0,:,:] = images[i] #fix\n",
        "    all_x1_change_x2[i,j,1,:,:]= images[j]\n",
        "\n",
        "all_x2_change_x1=np.empty((100,100,2,28,28,1))\n",
        "for i in range(len(images)):\n",
        "  for i in range(len(images)):\n",
        "    all_x1_change_x2[i,j,0,:,:] = images[j]\n",
        "    all_x1_change_x2[i,j,1,:,:]= images[i] #fix\n",
        "\n"
      ],
      "metadata": {
        "id": "MrNF_glHPHtG"
      },
      "execution_count": null,
      "outputs": []
    },
    {
      "cell_type": "code",
      "source": [
        "var_x1=np.nan_to_num(np.var(activations_x1,axis=0))\n",
        "var_x2=np.nan_to_num(np.var(activations_x2,axis=0))\n"
      ],
      "metadata": {
        "id": "vev8y3Qrrzzn"
      },
      "execution_count": null,
      "outputs": []
    },
    {
      "cell_type": "code",
      "source": [
        "\n",
        "model = tf.keras.models.load_model(MODEL_PATH+'/'+same_model_ckpts[-1])\n",
        "pre_activations = keras.models.Model(inputs=model.layers[0].input, outputs=model.layers[4].output)\n",
        "for im, lb in trainloader:\n",
        "  images, labels= im,lb\n",
        "\n",
        "print(images.shape)\n",
        "total_x0=[]\n",
        "for i in range(len(images)):\n",
        "  fix0=[]\n",
        "  for j in range(len(images)):\n",
        "    act=pre_activations(tf.expand_dims(tf.concat((images[i],images[j]), axis=(0)),axis=0))\n",
        "    fix0.append(np.nan_to_num(act).reshape(-1))\n",
        "  total_x0.append(fix0)\n",
        "\n",
        "total_x1=[]\n",
        "for i in range(len(images)):\n",
        "  fix1=[]\n",
        "  for j in range(len(images)):\n",
        "    act=pre_activations(tf.expand_dims(tf.concat((images[j],images[i]), axis=(0)),axis=0))\n",
        "    fix1.append(np.nan_to_num(act).reshape(-1))\n",
        "  total_x1.append(fix1)\n",
        "  # act=pre_activations.predict(images[:2])\n",
        "  # print(act[0]- act[1])\n",
        "# print(np.nan_to_num(act).reshape(2,-1))\n",
        "#   activations_x1[i,:,:] = np.nan_to_num(act).reshape(100,-1)\n",
        "\n",
        "# for i, images in enumerate(all_x2_change_x1):\n",
        "#   act=pre_activations.predict(images)\n",
        "#   print(act.sum())\n",
        "# # print(np.nan_to_num(act).reshape(2,-1))\n",
        "#   activations_x2[i,:,:] = np.nan_to_num(act).reshape(100,-1)\n"
      ],
      "metadata": {
        "colab": {
          "base_uri": "https://localhost:8080/"
        },
        "id": "83WmU1-Ko_33",
        "outputId": "c38dc7a2-ec3f-4178-a282-0c66d48d1167"
      },
      "execution_count": null,
      "outputs": [
        {
          "output_type": "stream",
          "name": "stdout",
          "text": [
            "(100, 1, 28, 28, 1)\n"
          ]
        }
      ]
    },
    {
      "cell_type": "code",
      "source": [
        "varx0=[]\n",
        "for i in range(len(total_x0)):\n",
        "  varx0.append(np.var(total_x0[i],axis=0))\n",
        "\n",
        "varx1=[]\n",
        "for i in range(len(total_x1)):\n",
        "  varx1.append(np.var(total_x1[i],axis=0))\n"
      ],
      "metadata": {
        "id": "Xes-xZ3m47fR"
      },
      "execution_count": null,
      "outputs": []
    },
    {
      "cell_type": "code",
      "source": [
        "meanx0=np.mean(varx0,axis=0)\n",
        "meanx1=np.mean(varx1,axis=0)\n",
        "\n",
        "plt.plot(meanx0,meanx1)"
      ],
      "metadata": {
        "colab": {
          "base_uri": "https://localhost:8080/",
          "height": 284
        },
        "id": "Gp9mfAoB5eyS",
        "outputId": "ca071714-669a-48fc-af0b-e80fe76c159f"
      },
      "execution_count": null,
      "outputs": [
        {
          "output_type": "execute_result",
          "data": {
            "text/plain": [
              "[<matplotlib.lines.Line2D at 0x7efc41318a50>]"
            ]
          },
          "metadata": {},
          "execution_count": 14
        },
        {
          "output_type": "display_data",
          "data": {
            "image/png": "[encoded data removed]",
            "text/plain": [
              "<Figure size 432x288 with 1 Axes>"
            ]
          },
          "metadata": {
            "needs_background": "light"
          }
        }
      ]
    },
    {
      "cell_type": "code",
      "source": [
        "plt.scatter(meanx0,meanx1, c='k',s=1)\n",
        "plt.title(\"Scatter plot conditional variances\")\n",
        "plt.xlabel(\"Var(ai|x1)\")\n",
        "plt.ylabel(\"Var(ai|x2)\")\n",
        "plt.savefig(\"scatter.png\",dpi=1000)"
      ],
      "metadata": {
        "colab": {
          "base_uri": "https://localhost:8080/",
          "height": 296
        },
        "id": "l3muIx2rF5FB",
        "outputId": "f75980d9-c945-4119-e362-204996f88718"
      },
      "execution_count": null,
      "outputs": [
        {
          "output_type": "display_data",
          "data": {
            "image/png": "[encoded data removed]",
            "text/plain": [
              "<Figure size 432x288 with 1 Axes>"
            ]
          },
          "metadata": {
            "needs_background": "light"
          }
        }
      ]
    },
    {
      "cell_type": "code",
      "source": [
        "plt.hist2d(meanx0,meanx1,bins=[25,25], norm=plt.Normalize() ,cmap=\"gray_r\")\n",
        "plt.title(\"2d histogram of conditional variances\")\n",
        "plt.xlabel(\"Var(ai|x1)\")\n",
        "plt.ylabel(\"Var(ai|x2)\")\n",
        "plt.savefig(\"hist.png\",dpi=1000)"
      ],
      "metadata": {
        "colab": {
          "base_uri": "https://localhost:8080/",
          "height": 296
        },
        "id": "Kwsk71qDBLFq",
        "outputId": "e02ff517-8f6d-4083-a102-a1c75da298ca"
      },
      "execution_count": null,
      "outputs": [
        {
          "output_type": "display_data",
          "data": {
            "image/png": "[encoded data removed]",
            "text/plain": [
              "<Figure size 432x288 with 1 Axes>"
            ]
          },
          "metadata": {
            "needs_background": "light"
          }
        }
      ]
    }
  ]
}