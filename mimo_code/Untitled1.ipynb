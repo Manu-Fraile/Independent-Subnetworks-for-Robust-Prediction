{
 "cells": [
  {
   "cell_type": "code",
   "execution_count": 1,
   "id": "71642330-94af-4da0-b342-00bc8cbf3099",
   "metadata": {},
   "outputs": [],
   "source": [
    "import functools\n",
    "import os\n",
    "import numpy as np\n",
    "import time\n",
    "from absl import app\n",
    "from absl import flags\n",
    "from absl import logging\n",
    "\n",
    "import mnist_model  # ADDED\n",
    "# REMOVED from experimental.mimo import cifar_model  # local file import\n",
    "import robustness_metrics as rm\n",
    "import tensorflow as tf\n",
    "import tensorflow_datasets as tfds\n",
    "import uncertainty_baselines as ub\n",
    "import baselines.utils_new as utils  # ADDED this!\n",
    "# from uncertainty_baselines.baselines.cifar import utils\n",
    "import uncertainty_metrics as um"
   ]
  },
  {
   "cell_type": "code",
   "execution_count": 2,
   "id": "4e36df92-ebf3-4ee2-a1cd-35c9776b7bd0",
   "metadata": {},
   "outputs": [],
   "source": [
    "\n",
    "flags.DEFINE_integer('ensemble_size', 6, 'Size of ensemble.')\n",
    "flags.DEFINE_float('input_repetition_probability', 0.0,\n",
    "                   'The probability that the inputs are identical for the'\n",
    "                   'ensemble members.')\n",
    "flags.DEFINE_integer('width_multiplier', 2, 'Integer to multiply the number of'\n",
    "                                             'typical filters by. \"k\" in ResNet-n-k.')\n",
    "flags.DEFINE_integer('per_core_batch_size', 128, 'Batch size per TPU core/GPU.')\n",
    "flags.DEFINE_integer('batch_repetitions', 4, 'Number of times an example is'\n",
    "                                             'repeated in a training batch. More repetitions lead to'\n",
    "                                             'lower variance gradients and increased training time.')\n",
    "flags.DEFINE_integer('seed', 0, 'Random seed.')\n",
    "flags.DEFINE_float('base_learning_rate', 0.1,\n",
    "                   'Base learning rate when total training batch size is 128.')\n",
    "flags.DEFINE_integer(\n",
    "    'lr_warmup_epochs', 1,\n",
    "    'Number of epochs for a linear warmup to the initial '\n",
    "    'learning rate. Use 0 to do no warmup.')\n",
    "flags.DEFINE_float('lr_decay_ratio', 0.2, 'Amount to decay learning rate.')\n",
    "flags.DEFINE_list('lr_decay_epochs', ['80', '160', '180'],\n",
    "                  'Epochs to decay learning rate by.')\n",
    "flags.DEFINE_float('l2', 3e-4, 'L2 coefficient.')\n",
    "flags.DEFINE_enum(\n",
    "    'dataset', 'mnist', enum_values=['cifar10', 'cifar100', 'mnist'], help='Dataset.')\n",
    "# TODO(ghassen): consider adding CIFAR-100-C to TFDS.\n",
    "flags.DEFINE_string(\n",
    "    'cifar100_c_path', '',\n",
    "    'Path to the TFRecords files for CIFAR-100-C. Only valid '\n",
    "    '(and required) if dataset is cifar100 and corruptions.')\n",
    "flags.DEFINE_integer(\n",
    "    'corruptions_interval', 50,\n",
    "    'Number of epochs between evaluating on the corrupted '\n",
    "    'test data. Use -1 to never evaluate.')\n",
    "flags.DEFINE_integer(\n",
    "    'checkpoint_interval', 50,\n",
    "    'Number of epochs between saving checkpoints. Use -1 to '\n",
    "    'never save checkpoints.')\n",
    "flags.DEFINE_integer('num_bins', 15, 'Number of bins for ECE.')\n",
    "flags.DEFINE_string(\n",
    "    'output_dir', '/home/jupyter/mnist/WRN28-2/M6', 'The directory where the model weights and '\n",
    "                                'training/evaluation summaries are stored.')\n",
    "flags.DEFINE_integer('train_epochs', 200, 'Number of training epochs.')\n",
    "\n",
    "# Accelerator flags.\n",
    "flags.DEFINE_bool('use_gpu', True, 'Whether to run on GPU or otherwise TPU.')\n",
    "flags.DEFINE_bool('use_bfloat16', False, 'Whether to use mixed precision.')\n",
    "flags.DEFINE_integer('num_cores', 8, 'Number of TPU cores or number of GPUs.')\n",
    "flags.DEFINE_string('tpu', None,\n",
    "                    'Name of the TPU. Only used if use_gpu is False.')\n",
    "FLAGS = flags.FLAGS\n"
   ]
  },
  {
   "cell_type": "code",
   "execution_count": 3,
   "id": "bd321a60-34de-4f18-9df7-80aeb9a51d31",
   "metadata": {},
   "outputs": [],
   "source": [
    "ensemble_size = 2\n",
    "image_shape=[28,28,1]\n",
    "width_multiplier=2\n",
    "num_classes=10\n",
    "output_dir='/home/jupyter/mnist/WRN28-2/M2'"
   ]
  },
  {
   "cell_type": "code",
   "execution_count": 7,
   "id": "595f64e8-9ece-43fb-8a45-b9b731ef418e",
   "metadata": {},
   "outputs": [
    {
     "name": "stderr",
     "output_type": "stream",
     "text": [
      "2021-11-29 15:15:44.839611: I tensorflow/stream_executor/cuda/cuda_gpu_executor.cc:937] successful NUMA node read from SysFS had negative value (-1), but there must be at least one NUMA node, so returning NUMA node zero\n",
      "2021-11-29 15:15:44.887711: I tensorflow/stream_executor/cuda/cuda_gpu_executor.cc:937] successful NUMA node read from SysFS had negative value (-1), but there must be at least one NUMA node, so returning NUMA node zero\n",
      "2021-11-29 15:15:44.888572: I tensorflow/stream_executor/cuda/cuda_gpu_executor.cc:937] successful NUMA node read from SysFS had negative value (-1), but there must be at least one NUMA node, so returning NUMA node zero\n",
      "2021-11-29 15:15:44.890615: I tensorflow/core/platform/cpu_feature_guard.cc:142] This TensorFlow binary is optimized with oneAPI Deep Neural Network Library (oneDNN) to use the following CPU instructions in performance-critical operations:  SSE4.1 SSE4.2 AVX AVX2 FMA\n",
      "To enable them in other operations, rebuild TensorFlow with the appropriate compiler flags.\n",
      "2021-11-29 15:15:44.891420: I tensorflow/stream_executor/cuda/cuda_gpu_executor.cc:937] successful NUMA node read from SysFS had negative value (-1), but there must be at least one NUMA node, so returning NUMA node zero\n",
      "2021-11-29 15:15:44.892202: I tensorflow/stream_executor/cuda/cuda_gpu_executor.cc:937] successful NUMA node read from SysFS had negative value (-1), but there must be at least one NUMA node, so returning NUMA node zero\n",
      "2021-11-29 15:15:44.893026: I tensorflow/stream_executor/cuda/cuda_gpu_executor.cc:937] successful NUMA node read from SysFS had negative value (-1), but there must be at least one NUMA node, so returning NUMA node zero\n",
      "2021-11-29 15:15:45.435604: I tensorflow/stream_executor/cuda/cuda_gpu_executor.cc:937] successful NUMA node read from SysFS had negative value (-1), but there must be at least one NUMA node, so returning NUMA node zero\n",
      "2021-11-29 15:15:45.436473: I tensorflow/stream_executor/cuda/cuda_gpu_executor.cc:937] successful NUMA node read from SysFS had negative value (-1), but there must be at least one NUMA node, so returning NUMA node zero\n",
      "2021-11-29 15:15:45.437291: I tensorflow/stream_executor/cuda/cuda_gpu_executor.cc:937] successful NUMA node read from SysFS had negative value (-1), but there must be at least one NUMA node, so returning NUMA node zero\n",
      "2021-11-29 15:15:45.438103: I tensorflow/core/common_runtime/gpu/gpu_device.cc:1510] Created device /job:localhost/replica:0/task:0/device:GPU:0 with 10790 MB memory:  -> device: 0, name: Tesla K80, pci bus id: 0000:00:04.0, compute capability: 3.7\n"
     ]
    }
   ],
   "source": [
    "\n",
    "model = mnist_model.wide_resnet(\n",
    "    input_shape=[ensemble_size] +\n",
    "                image_shape,\n",
    "    depth=28,\n",
    "    width_multiplier=width_multiplier,\n",
    "    num_classes=num_classes,\n",
    "    ensemble_size=ensemble_size)\n",
    "\n",
    "#model.summary()\n",
    "logging.info('Model input shape: %s', model.input_shape)\n",
    "logging.info('Model output shape: %s', model.output_shape)\n",
    "logging.info('Model number of weights: %s', model.count_params())"
   ]
  },
  {
   "cell_type": "code",
   "execution_count": 11,
   "id": "e9100518-efbf-4e5a-9862-0aac3ba44298",
   "metadata": {},
   "outputs": [],
   "source": [
    "optimizer = tf.keras.optimizers.SGD( momentum=0.9, nesterov=True)\n",
    "checkpoint = tf.train.Checkpoint(model=model, optimizer=optimizer)\n",
    "latest_checkpoint = tf.train.latest_checkpoint(output_dir)\n",
    "initial_epoch = 0"
   ]
  },
  {
   "cell_type": "code",
   "execution_count": 12,
   "id": "5fed386d-df76-4a4a-8e6d-f3de0cc2efe6",
   "metadata": {},
   "outputs": [
    {
     "data": {
      "text/plain": [
       "<tensorflow.python.training.tracking.util.CheckpointLoadStatus at 0x7f58ae776bd0>"
      ]
     },
     "execution_count": 12,
     "metadata": {},
     "output_type": "execute_result"
    }
   ],
   "source": [
    " checkpoint.restore(latest_checkpoint)"
   ]
  },
  {
   "cell_type": "code",
   "execution_count": 25,
   "id": "6abb76c6-16a2-4acb-9b88-de8ed541e6a3",
   "metadata": {},
   "outputs": [],
   "source": [
    "\n",
    "images, labels = inputs\n",
    "images = tf.tile(\n",
    "    tf.expand_dims(images, 1), [1, FLAGS.ensemble_size, 1, 1, 1])\n",
    "logits = checkpoint.model(images, training=False)\n",
    "if FLAGS.use_bfloat16:\n",
    "    logits = tf.cast(logits, tf.float32)\n",
    "probs = tf.nn.softmax(logits)\n",
    "\n",
    "if dataset_name == 'clean':\n",
    "    per_probs = tf.transpose(probs, perm=[1, 0, 2])\n",
    "    metrics['test/diversity'].add_batch(per_probs)\n",
    "\n",
    "for i in range(FLAGS.ensemble_size):\n",
    "    member_probs = probs[:, i]\n",
    "    member_loss = tf.keras.losses.sparse_categorical_crossentropy(\n",
    "        labels, member_probs)\n",
    "    metrics['test/nll_member_{}'.format(i)].update_state(member_loss)\n",
    "    metrics['test/accuracy_member_{}'.format(i)].update_state(\n",
    "        labels, member_probs)\n",
    "\n",
    "# Negative log marginal likelihood computed in a numerically-stable way.\n",
    "labels_tiled = tf.tile(\n",
    "    tf.expand_dims(labels, 1), [1, FLAGS.ensemble_size])\n",
    "log_likelihoods = -tf.keras.losses.sparse_categorical_crossentropy(\n",
    "    labels_tiled, logits, from_logits=True)\n",
    "negative_log_likelihood = tf.reduce_mean(\n",
    "    -tf.reduce_logsumexp(log_likelihoods, axis=[1]) +\n",
    "    tf.math.log(float(FLAGS.ensemble_size)))\n",
    "probs = tf.math.reduce_mean(probs, axis=1)  # marginalize"
   ]
  },
  {
   "cell_type": "code",
   "execution_count": 26,
   "id": "8ba57381-f7a8-41fa-b58d-553d2c913537",
   "metadata": {},
   "outputs": [
    {
     "ename": "ValueError",
     "evalue": "Shape mismatch: The shape of labels (received (20, 1)) should equal the shape of logits except for the last dimension (received (20, 2, 10)).",
     "output_type": "error",
     "traceback": [
      "\u001b[0;31m---------------------------------------------------------------------------\u001b[0m",
      "\u001b[0;31mValueError\u001b[0m                                Traceback (most recent call last)",
      "\u001b[0;32m/tmp/ipykernel_30594/1392838382.py\u001b[0m in \u001b[0;36m<module>\u001b[0;34m\u001b[0m\n\u001b[1;32m      1\u001b[0m tf.reduce_mean(tf.reduce_sum(\n\u001b[1;32m      2\u001b[0m                     tf.keras.losses.sparse_categorical_crossentropy(\n\u001b[0;32m----> 3\u001b[0;31m                         labels, logits, from_logits=True), axis=1))\n\u001b[0m",
      "\u001b[0;32m/opt/conda/envs/DAL/lib/python3.7/site-packages/tensorflow/python/util/dispatch.py\u001b[0m in \u001b[0;36mwrapper\u001b[0;34m(*args, **kwargs)\u001b[0m\n\u001b[1;32m    204\u001b[0m     \u001b[0;34m\"\"\"Call target, and fall back on dispatchers if there is a TypeError.\"\"\"\u001b[0m\u001b[0;34m\u001b[0m\u001b[0;34m\u001b[0m\u001b[0m\n\u001b[1;32m    205\u001b[0m     \u001b[0;32mtry\u001b[0m\u001b[0;34m:\u001b[0m\u001b[0;34m\u001b[0m\u001b[0;34m\u001b[0m\u001b[0m\n\u001b[0;32m--> 206\u001b[0;31m       \u001b[0;32mreturn\u001b[0m \u001b[0mtarget\u001b[0m\u001b[0;34m(\u001b[0m\u001b[0;34m*\u001b[0m\u001b[0margs\u001b[0m\u001b[0;34m,\u001b[0m \u001b[0;34m**\u001b[0m\u001b[0mkwargs\u001b[0m\u001b[0;34m)\u001b[0m\u001b[0;34m\u001b[0m\u001b[0;34m\u001b[0m\u001b[0m\n\u001b[0m\u001b[1;32m    207\u001b[0m     \u001b[0;32mexcept\u001b[0m \u001b[0;34m(\u001b[0m\u001b[0mTypeError\u001b[0m\u001b[0;34m,\u001b[0m \u001b[0mValueError\u001b[0m\u001b[0;34m)\u001b[0m\u001b[0;34m:\u001b[0m\u001b[0;34m\u001b[0m\u001b[0;34m\u001b[0m\u001b[0m\n\u001b[1;32m    208\u001b[0m       \u001b[0;31m# Note: convert_to_eager_tensor currently raises a ValueError, not a\u001b[0m\u001b[0;34m\u001b[0m\u001b[0;34m\u001b[0m\u001b[0;34m\u001b[0m\u001b[0m\n",
      "\u001b[0;32m/opt/conda/envs/DAL/lib/python3.7/site-packages/keras/losses.py\u001b[0m in \u001b[0;36msparse_categorical_crossentropy\u001b[0;34m(y_true, y_pred, from_logits, axis)\u001b[0m\n\u001b[1;32m   1737\u001b[0m   \u001b[0my_true\u001b[0m \u001b[0;34m=\u001b[0m \u001b[0mtf\u001b[0m\u001b[0;34m.\u001b[0m\u001b[0mcast\u001b[0m\u001b[0;34m(\u001b[0m\u001b[0my_true\u001b[0m\u001b[0;34m,\u001b[0m \u001b[0my_pred\u001b[0m\u001b[0;34m.\u001b[0m\u001b[0mdtype\u001b[0m\u001b[0;34m)\u001b[0m\u001b[0;34m\u001b[0m\u001b[0;34m\u001b[0m\u001b[0m\n\u001b[1;32m   1738\u001b[0m   return backend.sparse_categorical_crossentropy(\n\u001b[0;32m-> 1739\u001b[0;31m       y_true, y_pred, from_logits=from_logits, axis=axis)\n\u001b[0m\u001b[1;32m   1740\u001b[0m \u001b[0;34m\u001b[0m\u001b[0m\n\u001b[1;32m   1741\u001b[0m \u001b[0;34m\u001b[0m\u001b[0m\n",
      "\u001b[0;32m/opt/conda/envs/DAL/lib/python3.7/site-packages/tensorflow/python/util/dispatch.py\u001b[0m in \u001b[0;36mwrapper\u001b[0;34m(*args, **kwargs)\u001b[0m\n\u001b[1;32m    204\u001b[0m     \u001b[0;34m\"\"\"Call target, and fall back on dispatchers if there is a TypeError.\"\"\"\u001b[0m\u001b[0;34m\u001b[0m\u001b[0;34m\u001b[0m\u001b[0m\n\u001b[1;32m    205\u001b[0m     \u001b[0;32mtry\u001b[0m\u001b[0;34m:\u001b[0m\u001b[0;34m\u001b[0m\u001b[0;34m\u001b[0m\u001b[0m\n\u001b[0;32m--> 206\u001b[0;31m       \u001b[0;32mreturn\u001b[0m \u001b[0mtarget\u001b[0m\u001b[0;34m(\u001b[0m\u001b[0;34m*\u001b[0m\u001b[0margs\u001b[0m\u001b[0;34m,\u001b[0m \u001b[0;34m**\u001b[0m\u001b[0mkwargs\u001b[0m\u001b[0;34m)\u001b[0m\u001b[0;34m\u001b[0m\u001b[0;34m\u001b[0m\u001b[0m\n\u001b[0m\u001b[1;32m    207\u001b[0m     \u001b[0;32mexcept\u001b[0m \u001b[0;34m(\u001b[0m\u001b[0mTypeError\u001b[0m\u001b[0;34m,\u001b[0m \u001b[0mValueError\u001b[0m\u001b[0;34m)\u001b[0m\u001b[0;34m:\u001b[0m\u001b[0;34m\u001b[0m\u001b[0;34m\u001b[0m\u001b[0m\n\u001b[1;32m    208\u001b[0m       \u001b[0;31m# Note: convert_to_eager_tensor currently raises a ValueError, not a\u001b[0m\u001b[0;34m\u001b[0m\u001b[0;34m\u001b[0m\u001b[0;34m\u001b[0m\u001b[0m\n",
      "\u001b[0;32m/opt/conda/envs/DAL/lib/python3.7/site-packages/keras/backend.py\u001b[0m in \u001b[0;36msparse_categorical_crossentropy\u001b[0;34m(target, output, from_logits, axis)\u001b[0m\n\u001b[1;32m   4958\u001b[0m   \u001b[0;32melse\u001b[0m\u001b[0;34m:\u001b[0m\u001b[0;34m\u001b[0m\u001b[0;34m\u001b[0m\u001b[0m\n\u001b[1;32m   4959\u001b[0m     res = tf.nn.sparse_softmax_cross_entropy_with_logits(\n\u001b[0;32m-> 4960\u001b[0;31m         labels=target, logits=output)\n\u001b[0m\u001b[1;32m   4961\u001b[0m \u001b[0;34m\u001b[0m\u001b[0m\n\u001b[1;32m   4962\u001b[0m   \u001b[0;32mif\u001b[0m \u001b[0mupdate_shape\u001b[0m \u001b[0;32mand\u001b[0m \u001b[0moutput_rank\u001b[0m \u001b[0;34m>=\u001b[0m \u001b[0;36m3\u001b[0m\u001b[0;34m:\u001b[0m\u001b[0;34m\u001b[0m\u001b[0;34m\u001b[0m\u001b[0m\n",
      "\u001b[0;32m/opt/conda/envs/DAL/lib/python3.7/site-packages/tensorflow/python/util/dispatch.py\u001b[0m in \u001b[0;36mwrapper\u001b[0;34m(*args, **kwargs)\u001b[0m\n\u001b[1;32m    204\u001b[0m     \u001b[0;34m\"\"\"Call target, and fall back on dispatchers if there is a TypeError.\"\"\"\u001b[0m\u001b[0;34m\u001b[0m\u001b[0;34m\u001b[0m\u001b[0m\n\u001b[1;32m    205\u001b[0m     \u001b[0;32mtry\u001b[0m\u001b[0;34m:\u001b[0m\u001b[0;34m\u001b[0m\u001b[0;34m\u001b[0m\u001b[0m\n\u001b[0;32m--> 206\u001b[0;31m       \u001b[0;32mreturn\u001b[0m \u001b[0mtarget\u001b[0m\u001b[0;34m(\u001b[0m\u001b[0;34m*\u001b[0m\u001b[0margs\u001b[0m\u001b[0;34m,\u001b[0m \u001b[0;34m**\u001b[0m\u001b[0mkwargs\u001b[0m\u001b[0;34m)\u001b[0m\u001b[0;34m\u001b[0m\u001b[0;34m\u001b[0m\u001b[0m\n\u001b[0m\u001b[1;32m    207\u001b[0m     \u001b[0;32mexcept\u001b[0m \u001b[0;34m(\u001b[0m\u001b[0mTypeError\u001b[0m\u001b[0;34m,\u001b[0m \u001b[0mValueError\u001b[0m\u001b[0;34m)\u001b[0m\u001b[0;34m:\u001b[0m\u001b[0;34m\u001b[0m\u001b[0;34m\u001b[0m\u001b[0m\n\u001b[1;32m    208\u001b[0m       \u001b[0;31m# Note: convert_to_eager_tensor currently raises a ValueError, not a\u001b[0m\u001b[0;34m\u001b[0m\u001b[0;34m\u001b[0m\u001b[0;34m\u001b[0m\u001b[0m\n",
      "\u001b[0;32m/opt/conda/envs/DAL/lib/python3.7/site-packages/tensorflow/python/ops/nn_ops.py\u001b[0m in \u001b[0;36msparse_softmax_cross_entropy_with_logits_v2\u001b[0;34m(labels, logits, name)\u001b[0m\n\u001b[1;32m   4350\u001b[0m   \"\"\"\n\u001b[1;32m   4351\u001b[0m   return sparse_softmax_cross_entropy_with_logits(\n\u001b[0;32m-> 4352\u001b[0;31m       labels=labels, logits=logits, name=name)\n\u001b[0m\u001b[1;32m   4353\u001b[0m \u001b[0;34m\u001b[0m\u001b[0m\n\u001b[1;32m   4354\u001b[0m \u001b[0;34m\u001b[0m\u001b[0m\n",
      "\u001b[0;32m/opt/conda/envs/DAL/lib/python3.7/site-packages/tensorflow/python/util/dispatch.py\u001b[0m in \u001b[0;36mwrapper\u001b[0;34m(*args, **kwargs)\u001b[0m\n\u001b[1;32m    204\u001b[0m     \u001b[0;34m\"\"\"Call target, and fall back on dispatchers if there is a TypeError.\"\"\"\u001b[0m\u001b[0;34m\u001b[0m\u001b[0;34m\u001b[0m\u001b[0m\n\u001b[1;32m    205\u001b[0m     \u001b[0;32mtry\u001b[0m\u001b[0;34m:\u001b[0m\u001b[0;34m\u001b[0m\u001b[0;34m\u001b[0m\u001b[0m\n\u001b[0;32m--> 206\u001b[0;31m       \u001b[0;32mreturn\u001b[0m \u001b[0mtarget\u001b[0m\u001b[0;34m(\u001b[0m\u001b[0;34m*\u001b[0m\u001b[0margs\u001b[0m\u001b[0;34m,\u001b[0m \u001b[0;34m**\u001b[0m\u001b[0mkwargs\u001b[0m\u001b[0;34m)\u001b[0m\u001b[0;34m\u001b[0m\u001b[0;34m\u001b[0m\u001b[0m\n\u001b[0m\u001b[1;32m    207\u001b[0m     \u001b[0;32mexcept\u001b[0m \u001b[0;34m(\u001b[0m\u001b[0mTypeError\u001b[0m\u001b[0;34m,\u001b[0m \u001b[0mValueError\u001b[0m\u001b[0;34m)\u001b[0m\u001b[0;34m:\u001b[0m\u001b[0;34m\u001b[0m\u001b[0;34m\u001b[0m\u001b[0m\n\u001b[1;32m    208\u001b[0m       \u001b[0;31m# Note: convert_to_eager_tensor currently raises a ValueError, not a\u001b[0m\u001b[0;34m\u001b[0m\u001b[0;34m\u001b[0m\u001b[0;34m\u001b[0m\u001b[0m\n",
      "\u001b[0;32m/opt/conda/envs/DAL/lib/python3.7/site-packages/tensorflow/python/ops/nn_ops.py\u001b[0m in \u001b[0;36msparse_softmax_cross_entropy_with_logits\u001b[0;34m(_sentinel, labels, logits, name)\u001b[0m\n\u001b[1;32m   4257\u001b[0m                        \u001b[0;34m\"should equal the shape of logits except for the last \"\u001b[0m\u001b[0;34m\u001b[0m\u001b[0;34m\u001b[0m\u001b[0m\n\u001b[1;32m   4258\u001b[0m                        \"dimension (received %s).\" % (labels_static_shape,\n\u001b[0;32m-> 4259\u001b[0;31m                                                      logits.get_shape()))\n\u001b[0m\u001b[1;32m   4260\u001b[0m     \u001b[0;31m# Check if no reshapes are required.\u001b[0m\u001b[0;34m\u001b[0m\u001b[0;34m\u001b[0m\u001b[0;34m\u001b[0m\u001b[0m\n\u001b[1;32m   4261\u001b[0m     \u001b[0;32mif\u001b[0m \u001b[0mlogits\u001b[0m\u001b[0;34m.\u001b[0m\u001b[0mget_shape\u001b[0m\u001b[0;34m(\u001b[0m\u001b[0;34m)\u001b[0m\u001b[0;34m.\u001b[0m\u001b[0mndims\u001b[0m \u001b[0;34m==\u001b[0m \u001b[0;36m2\u001b[0m\u001b[0;34m:\u001b[0m\u001b[0;34m\u001b[0m\u001b[0;34m\u001b[0m\u001b[0m\n",
      "\u001b[0;31mValueError\u001b[0m: Shape mismatch: The shape of labels (received (20, 1)) should equal the shape of logits except for the last dimension (received (20, 2, 10))."
     ]
    }
   ],
   "source": [
    "tf.reduce_mean(tf.reduce_sum(\n",
    "                    tf.keras.losses.sparse_categorical_crossentropy(\n",
    "                        labels, logits, from_logits=True), axis=1))"
   ]
  },
  {
   "cell_type": "code",
   "execution_count": null,
   "id": "b5fe9d37-a18e-43ba-8ce7-65b5d2204860",
   "metadata": {},
   "outputs": [],
   "source": []
  },
  {
   "cell_type": "code",
   "execution_count": null,
   "id": "5b42068b-3666-4c75-9bde-5113dade3d0b",
   "metadata": {},
   "outputs": [],
   "source": []
  },
  {
   "cell_type": "code",
   "execution_count": null,
   "id": "55b5dbbe-aa12-4b8d-998d-a2e49bbd7db2",
   "metadata": {},
   "outputs": [],
   "source": [
    "\n",
    "def load_not_mnist(corruption_name,\n",
    "                   corruption_intensity,\n",
    "                   batch_size,\n",
    "                   use_bfloat16,\n",
    "                   drop_remainder=False,\n",
    "                   normalize=True):\n",
    "  \"\"\"Loads mnist-C dataset.\"\"\"\n",
    "  if use_bfloat16:\n",
    "    dtype = tf.bfloat16\n",
    "  else:\n",
    "    dtype = tf.float32\n",
    "  corruption = corruption_name #+ '_' + str(corruption_intensity)\n",
    "  def preprocess(image, label):\n",
    "    image = tf.image.convert_image_dtype(image, dtype)\n",
    "    if normalize:\n",
    "      # We use the convention of mean = np.mean(train_images, axis=(0,1,2))\n",
    "      # and std = np.std(train_images, axis=(0,1,2)).\n",
    "      mean = tf.constant([0.1307], dtype=dtype)\n",
    "      std = tf.constant([0.3081], dtype=dtype)\n",
    "      # Previously, std = np.mean(np.std(train_images, axis=(1, 2)), axis=0)\n",
    "      # which gave std = tf.constant([0.2023, 0.1994, 0.2010], dtype=dtype).\n",
    "      # However, we change convention to use the std over the entire training\n",
    "      # set instead.\n",
    "      image = (image - mean) / std\n",
    "    label = tf.cast(label, dtype)\n",
    "    return image, label\n",
    "\n",
    "  dataset = tfds.load(name='mnist_corrupted/{}'.format(corruption),\n",
    "                      split=tfds.Split.TEST,\n",
    "                      as_supervised=True,\n",
    "                      download=True)\n",
    "  dataset = dataset.map(\n",
    "      preprocess, num_parallel_calls=tf.data.experimental.AUTOTUNE)\n",
    "  dataset = dataset.batch(batch_size, drop_remainder=drop_remainder)\n",
    "  dataset = dataset.prefetch(buffer_size=tf.data.experimental.AUTOTUNE)\n",
    "  return dataset"
   ]
  },
  {
   "cell_type": "code",
   "execution_count": 2,
   "id": "44c1df0b-ea7f-428c-a850-653fae9d19ac",
   "metadata": {},
   "outputs": [],
   "source": [
    "\n",
    "import numpy as np\n",
    "import os\n",
    "import random\n",
    "from collections import defaultdict\n",
    "import matplotlib.pyplot as plt"
   ]
  },
  {
   "cell_type": "code",
   "execution_count": 3,
   "id": "57dd2502-44df-4546-a3ad-29302fea4550",
   "metadata": {},
   "outputs": [
    {
     "data": {
      "image/png": "[encoded data removed]",
      "text/plain": [
       "<Figure size 1152x432 with 10 Axes>"
      ]
     },
     "metadata": {
      "needs_background": "light"
     },
     "output_type": "display_data"
    }
   ],
   "source": [
    "im_root = '/home/jupyter/tensorflow_datasets/not_mnist/notMNIST_small'\n",
    "dirs = os.listdir(im_root)\n",
    "fig, ax = plt.subplots(2, 5, figsize=(16, 6))\n",
    "\n",
    "for i in range(2):\n",
    "    for j in range(5):\n",
    "        dr = random.choice(dirs)\n",
    "        im = random.choice(os.listdir(os.path.join(im_root, dr)))\n",
    "        ax[i, j].imshow(plt.imread(os.path.join(im_root, dr, im)), cmap='gray')\n",
    "        ax[i, j].set_title(dr)\n",
    "        ax[i, j].axis('off')"
   ]
  },
  {
   "cell_type": "code",
   "execution_count": null,
   "id": "a4ca068f-6b28-4b7a-81d3-26ab7eaa9c46",
   "metadata": {},
   "outputs": [
    {
     "name": "stdout",
     "output_type": "stream",
     "text": [
      "I\n",
      "E\n",
      "D\n",
      "C\n",
      "G\n",
      "F\n",
      "A\n",
      "J\n",
      "H\n",
      "B\n"
     ]
    }
   ],
   "source": [
    "import imghdr\n",
    "dirs = os.listdir(im_root)\n",
    "label_dict = defaultdict()\n",
    "\n",
    "# filenames = tf.constant(['im_01.jpg', 'im_02.jpg', 'im_03.jpg', 'im_04.jpg'])\n",
    "# labels = tf.constant([0, 1, 0, 1])\n",
    "filenames=[]\n",
    "labels=[]\n",
    "images=[]\n",
    "c=0\n",
    "for idx, dr in enumerate(dirs):\n",
    "    print(dr)\n",
    "    label_dict[idx] = dr\n",
    "    ims = os.listdir(os.path.join(im_root, dr))\n",
    "    random.shuffle(ims)\n",
    "    for im in (ims):\n",
    "        # \n",
    "        image_string = tf.io.read_file(os.path.join(im_root, dr, im))\n",
    "        try:\n",
    "            tf.io.decode_image(image_string)\n",
    "        except:\n",
    "            continue\n",
    "        filenames.append(os.path.join(im_root, dr, im))\n",
    "        labels.append(idx)\n",
    "        \n",
    "filenames = tf.constant(filenames)\n",
    "labels = tf.constant(labels) \n",
    "# images = tf.constant(images) \n",
    "dataset = tf.data.Dataset.from_tensor_slices((filenames, labels))\n",
    "use_bfloat16=True\n",
    "normalize=True\n",
    "\n",
    "if use_bfloat16:\n",
    "    dtype = tf.bfloat16\n",
    "else:\n",
    "    dtype = tf.float32\n",
    "\n",
    "def _parse_function(filename, label):\n",
    "\n",
    "    image_string = tf.io.read_file(filename)\n",
    "    image = tf.io.decode_image(image_string, dtype=dtype)\n",
    "\n",
    "    # image = tf.image.convert_image_dtype(image_decoded, dtype)\n",
    "    if normalize:\n",
    "      # We use the convention of mean = np.mean(train_images, axis=(0,1,2))\n",
    "      # and std = np.std(train_images, axis=(0,1,2)).\n",
    "      mean = tf.constant([0.1307], dtype=dtype)\n",
    "      std = tf.constant([0.3081], dtype=dtype)\n",
    "      # Previously, std = np.mean(np.std(train_images, axis=(1, 2)), axis=0)\n",
    "      # which gave std = tf.constant([0.2023, 0.1994, 0.2010], dtype=dtype).\n",
    "      # However, we change convention to use the std over the entire training\n",
    "      # set instead.\n",
    "      image = (image - mean) / std\n",
    "    label = tf.cast(label, dtype)\n",
    "    return image, label\n",
    "\n",
    "dataset = dataset.map(_parse_function)\n",
    "dataset = dataset.batch(3)"
   ]
  },
  {
   "cell_type": "code",
   "execution_count": 25,
   "id": "a8e15986-d31a-4136-9db7-66fc4a347aac",
   "metadata": {},
   "outputs": [
    {
     "data": {
      "text/plain": [
       "array([9, 9, 9], dtype=bfloat16)"
      ]
     },
     "execution_count": 25,
     "metadata": {},
     "output_type": "execute_result"
    }
   ],
   "source": []
  },
  {
   "cell_type": "code",
   "execution_count": 24,
   "id": "d4043e4f-c5d1-4d9b-8ce3-687ee54f2821",
   "metadata": {},
   "outputs": [],
   "source": [
    "a=list(dataset.as_numpy_iterator())[-10:]\n",
    "\n",
    "\n",
    "\n"
   ]
  },
  {
   "cell_type": "code",
   "execution_count": 29,
   "id": "e2a04191-42fa-43aa-aa81-9db3937d0225",
   "metadata": {},
   "outputs": [],
   "source": [
    "# list(dataset.as_numpy_iterator())\n",
    "dataset\n",
    "filenames[0]\n",
    "f=\"Q3Jvc3NvdmVyIEJvbGRPYmxpcXVlLnR0Zg==.png\"\n",
    "image_string = tf.io.read_file(filenames[0])\n",
    "image_string\n",
    "image = tf.io.decode_png(image_string)\n",
    "\n"
   ]
  },
  {
   "cell_type": "code",
   "execution_count": 48,
   "id": "b5a85879-9909-4d90-b057-1d4f5dc2799c",
   "metadata": {},
   "outputs": [
    {
     "data": {
      "text/plain": [
       "<MapDataset shapes: ((None, None, 1), ()), types: (tf.float32, tf.int32)>"
      ]
     },
     "execution_count": 48,
     "metadata": {},
     "output_type": "execute_result"
    }
   ],
   "source": [
    "filenames = tf.constant(['im_01.jpg', 'im_02.jpg', 'im_03.jpg', 'im_04.jpg'])\n",
    "labels = tf.constant([0, 1, 0, 1])\n",
    "\n",
    "# step 2: create a dataset returning slices of `filenames`\n",
    "dataset = tf.data.Dataset.from_tensor_slices((filenames, labels))\n",
    "\n",
    "# step 3: parse every image in the dataset using `map`\n",
    "def _parse_function(filename, label):\n",
    "    image_string = tf.io.read_file(filename)\n",
    "    image_decoded = tf.image.decode_png(image_string, channels=1)\n",
    "    image = tf.cast(image_decoded, tf.float32)\n",
    "    return image, label\n",
    "\n",
    "dataset = dataset.map(_parse_function)\n",
    "# dataset = dataset.batch(2)\n",
    "dataset\n",
    "# step 4: create iterator and final input tensor\n",
    "# iterator = dataset.make_one_shot_iterator()\n",
    "# images, labels = iterator.get_next()"
   ]
  }
 ],
 "metadata": {
  "environment": {
   "name": "tf2-gpu.2-6.m81",
   "type": "gcloud",
   "uri": "gcr.io/deeplearning-platform-release/tf2-gpu.2-6:m81"
  },
  "kernelspec": {
   "display_name": "Python [conda env:DAL]",
   "language": "python",
   "name": "conda-env-DAL-py"
  },
  "language_info": {
   "codemirror_mode": {
    "name": "ipython",
    "version": 3
   },
   "file_extension": ".py",
   "mimetype": "text/x-python",
   "name": "python",
   "nbconvert_exporter": "python",
   "pygments_lexer": "ipython3",
   "version": "3.7.10"
  }
 },
 "nbformat": 4,
 "nbformat_minor": 5
}
