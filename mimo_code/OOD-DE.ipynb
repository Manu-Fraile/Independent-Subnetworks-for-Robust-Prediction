{
 "cells": [
  {
   "cell_type": "code",
   "execution_count": 1,
   "id": "71642330-94af-4da0-b342-00bc8cbf3099",
   "metadata": {},
   "outputs": [],
   "source": [
    "import functools\n",
    "import os\n",
    "import numpy as np\n",
    "import time\n",
    "from absl import app\n",
    "from absl import flags\n",
    "from absl import logging\n",
    "\n",
    "import mnist_model  # ADDED\n",
    "# REMOVED from experimental.mimo import cifar_model  # local file import\n",
    "import robustness_metrics as rm\n",
    "import tensorflow as tf\n",
    "import tensorflow_datasets as tfds\n",
    "import uncertainty_baselines as ub\n",
    "import baselines.utils_new as utils  # ADDED this!\n",
    "# from uncertainty_baselines.baselines.cifar import utils\n",
    "import uncertainty_metrics as um\n",
    "\n",
    "\n",
    "import numpy as np\n",
    "import os\n",
    "import random\n",
    "from collections import defaultdict\n",
    "import matplotlib.pyplot as plt\n",
    "from scipy.stats import entropy\n",
    "import seaborn as sns"
   ]
  },
  {
   "cell_type": "code",
   "execution_count": 2,
   "id": "bd321a60-34de-4f18-9df7-80aeb9a51d31",
   "metadata": {},
   "outputs": [],
   "source": [
    "ensemble_size = 2\n",
    "image_shape=[28,28,1]\n",
    "width_multiplier=2 \n",
    "num_classes=10\n",
    "output_dir=\"/Users/benna/Desktop/DLA/OOD-detection-using-MIMO/MNIST_NN/M\"+str(ensemble_size)+\"/\""
   ]
  },
  {
   "cell_type": "code",
   "execution_count": 3,
   "id": "595f64e8-9ece-43fb-8a45-b9b731ef418e",
   "metadata": {},
   "outputs": [],
   "source": [
    "\n",
    "model = mnist_model.wide_resnet(\n",
    "    input_shape=[ensemble_size] +\n",
    "                image_shape,\n",
    "    depth=28,\n",
    "    width_multiplier=width_multiplier,\n",
    "    num_classes=num_classes,\n",
    "    ensemble_size=ensemble_size)\n",
    "\n",
    "#model.summary()\n",
    "logging.info('Model input shape: %s', model.input_shape)\n",
    "logging.info('Model output shape: %s', model.output_shape)\n",
    "logging.info('Model number of weights: %s', model.count_params())"
   ]
  },
  {
   "cell_type": "code",
   "execution_count": 4,
   "id": "e9100518-efbf-4e5a-9862-0aac3ba44298",
   "metadata": {},
   "outputs": [],
   "source": [
    "optimizer = tf.keras.optimizers.SGD( momentum=0.9, nesterov=True)\n",
    "checkpoint = tf.train.Checkpoint(model=model, optimizer=optimizer)\n",
    "latest_checkpoint = tf.train.latest_checkpoint(output_dir)\n"
   ]
  },
  {
   "cell_type": "code",
   "execution_count": 5,
   "id": "5fed386d-df76-4a4a-8e6d-f3de0cc2efe6",
   "metadata": {},
   "outputs": [
    {
     "data": {
      "text/plain": [
       "<tensorflow.python.training.tracking.util.CheckpointLoadStatus at 0x2a5b7dc9d48>"
      ]
     },
     "execution_count": 5,
     "metadata": {},
     "output_type": "execute_result"
    }
   ],
   "source": [
    "checkpoint.restore(latest_checkpoint)\n"
   ]
  },
  {
   "cell_type": "code",
   "execution_count": 10,
   "id": "57dd2502-44df-4546-a3ad-29302fea4550",
   "metadata": {},
   "outputs": [
    {
     "data": {
      "image/png": "[encoded data removed]",
      "text/plain": [
       "<Figure size 1152x432 with 10 Axes>"
      ]
     },
     "metadata": {
      "needs_background": "light"
     },
     "output_type": "display_data"
    }
   ],
   "source": [
    "im_root = '/Users/benna/Desktop/DLA/dataset/notMNIST_small'\n",
    "dirs = os.listdir(im_root)\n",
    "fig, ax = plt.subplots(2, 5, figsize=(16, 6))\n",
    "\n",
    "for i in range(2):\n",
    "    for j in range(5):\n",
    "        dr = random.choice(dirs)\n",
    "        im = random.choice(os.listdir(os.path.join(im_root, dr)))\n",
    "        ax[i, j].imshow(plt.imread(os.path.join(im_root, dr, im)), cmap='gray')\n",
    "        ax[i, j].set_title(dr)\n",
    "        ax[i, j].axis('off')"
   ]
  },
  {
   "cell_type": "code",
   "execution_count": 6,
   "id": "a4ca068f-6b28-4b7a-81d3-26ab7eaa9c46",
   "metadata": {},
   "outputs": [],
   "source": [
    "import imghdr\n",
    "def load_not_mnist(im_root,batch_size):\n",
    "    dirs = os.listdir(im_root)\n",
    "    label_dict = defaultdict()\n",
    "\n",
    "    filenames=[]\n",
    "    labels=[]\n",
    "    for idx, dr in enumerate(dirs):\n",
    "        # print(dr)\n",
    "        label_dict[idx] = dr\n",
    "        ims = os.listdir(os.path.join(im_root, dr))\n",
    "        random.shuffle(ims)\n",
    "        for im in (ims):\n",
    "            if im==\"RGVtb2NyYXRpY2FCb2xkT2xkc3R5bGUgQm9sZC50dGY=.png\" or im== \"Q3Jvc3NvdmVyIEJvbGRPYmxpcXVlLnR0Zg==.png\":\n",
    "                continue\n",
    "            # # \n",
    "            # image_string = tf.io.read_file(os.path.join(im_root, dr, im))\n",
    "            # try:\n",
    "            #     tf.io.decode_image(image_string)\n",
    "            # except:\n",
    "            #     print(im)\n",
    "            #     continue\n",
    "            else:\n",
    "                filenames.append(os.path.join(im_root, dr, im))\n",
    "                labels.append(idx)\n",
    "        \n",
    "    filenames = tf.constant(filenames)\n",
    "    labels = tf.constant(labels) \n",
    "    dataset = tf.data.Dataset.from_tensor_slices((filenames, labels))\n",
    "\n",
    "\n",
    "\n",
    "    def _parse_function(filename, label):\n",
    "\n",
    "        normalize=True\n",
    "        dtype = tf.float32\n",
    "\n",
    "        image_string = tf.io.read_file(filename)\n",
    "        image = tf.io.decode_image(image_string, dtype=dtype)\n",
    "\n",
    "        # image = tf.image.convert_image_dtype(image_decoded, dtype)\n",
    "        if normalize:\n",
    "            # We use the convention of mean = np.mean(train_images, axis=(0,1,2))\n",
    "            # and std = np.std(train_images, axis=(0,1,2)).\n",
    "            mean = tf.constant([0.1307], dtype=dtype)\n",
    "            std = tf.constant([0.3081], dtype=dtype)\n",
    "            # Previously, std = np.mean(np.std(train_images, axis=(1, 2)), axis=0)\n",
    "            # which gave std = tf.constant([0.2023, 0.1994, 0.2010], dtype=dtype).\n",
    "            # However, we change convention to use the std over the entire training\n",
    "            # set instead.\n",
    "            image = (image - mean) / std\n",
    "        label = tf.cast(label, dtype)\n",
    "        return image, label\n",
    "\n",
    "    dataset = dataset.map(_parse_function)\n",
    "    dataset = dataset.batch(batch_size, drop_remainder=True)\n",
    "    return dataset\n"
   ]
  },
  {
   "cell_type": "code",
   "execution_count": 32,
   "id": "84084e83",
   "metadata": {},
   "outputs": [
    {
     "name": "stderr",
     "output_type": "stream",
     "text": [
      "WARNING:absl:options.experimental_threading is deprecated. Use options.threading instead.\n",
      "WARNING:absl:options.experimental_threading is deprecated. Use options.threading instead.\n"
     ]
    },
    {
     "name": "stdout",
     "output_type": "stream",
     "text": [
      "Testing on dataset %s notMNIST\n",
      "(500, 2, 10)\n"
     ]
    },
    {
     "name": "stderr",
     "output_type": "stream",
     "text": [
      "C:\\Users\\benna\\miniconda3\\envs\\DAL\\lib\\site-packages\\seaborn\\distributions.py:2619: FutureWarning: `distplot` is a deprecated function and will be removed in a future version. Please adapt your code to use either `displot` (a figure-level function with similar flexibility) or `kdeplot` (an axes-level function for kernel density plots).\n",
      "  warnings.warn(msg, FutureWarning)\n"
     ]
    },
    {
     "data": {
      "image/png": "[encoded data removed]",
      "text/plain": [
       "<Figure size 432x288 with 1 Axes>"
      ]
     },
     "metadata": {
      "needs_background": "light"
     },
     "output_type": "display_data"
    }
   ],
   "source": [
    "dataset_builder_class = ub.datasets.MnistDataset\n",
    "clean_test_dataset_builder = dataset_builder_class( split=tfds.Split.TEST)\n",
    "test_batch_size=500\n",
    "clean_test_dataset = clean_test_dataset_builder.load(batch_size=test_batch_size)\n",
    "test_datasets={}\n",
    "# #test_datasets = {'clean': strategy.experimental_distribute_dataset(clean_test_dataset),}\n",
    "# test_datasets = {'clean': clean_test_dataset,}\n",
    "\n",
    "load_c_dataset = utils.load_mnist_c\n",
    "\n",
    "# corruption_types, max_intensity = utils.load_corrupted_test_info(\"mnist\")\n",
    "# for corruption in corruption_types[:1]:\n",
    "#     for intensity in range(1, max_intensity + 1):\n",
    "#         dataset = load_c_dataset(\n",
    "#             corruption_name=corruption,\n",
    "#             corruption_intensity=intensity,\n",
    "#             batch_size=test_batch_size,\n",
    "#             use_bfloat16=False)\n",
    "\n",
    "#         test_datasets['{0}_{1}'.format(corruption, intensity)] = (\n",
    "#             # strategy.experimental_distribute_dataset(dataset))\n",
    "#             dataset)\n",
    "\n",
    "not_minst_root = '/Users/benna/Desktop/DLA/dataset/notMNIST_small'\n",
    "not_mnist_dataset= load_not_mnist(not_minst_root,test_batch_size)\n",
    "test_datasets['notMNIST'] =  not_mnist_dataset\n",
    "\n",
    "# @tf.function\n",
    "def test_step(test_iterator, dataset_name):\n",
    "\n",
    "    # images, label = next(test_iterator).values()\n",
    "    images, label = next(test_iterator)\n",
    "    # print(images)\n",
    "    # print(images)\n",
    "    images = tf.tile(tf.expand_dims(images, 1), [1, ensemble_size, 1, 1, 1])\n",
    "    logits = model(images, training=False)\n",
    "    probs = tf.nn.softmax(logits)\n",
    "    print(probs.shape)\n",
    "    probs = tf.math.reduce_mean(probs, axis=1)  # marginalize\n",
    "    # print(probs.shape)\n",
    "    entr=entropy(probs,base=10,axis=1)\n",
    "    # print(entr)\n",
    "    # plt.hist(entr, histtype=\"step\", align=\"left\",bins=np.arange(-0.5,2.5,0.5))\n",
    "    sns.distplot(entr, hist=False,\n",
    "                 kde=True, \n",
    "             bins=5,\n",
    "             color = 'darkblue', \n",
    "             hist_kws={'edgecolor':'black'},\n",
    "             kde_kws={'linewidth': 4})\n",
    "datasets_to_evaluate = test_datasets\n",
    "for dataset_name, test_dataset in datasets_to_evaluate.items():\n",
    "    test_iterator = iter(test_dataset)\n",
    "    print('Testing on dataset %s', dataset_name)\n",
    "\n",
    "    test_step(test_iterator, dataset_name)\n"
   ]
  },
  {
   "cell_type": "code",
   "execution_count": 128,
   "id": "2e85e42e",
   "metadata": {},
   "outputs": [
    {
     "data": {
      "text/plain": [
       "array([1., 1.])"
      ]
     },
     "execution_count": 128,
     "metadata": {},
     "output_type": "execute_result"
    }
   ],
   "source": [
    "entropy([[1,1,1,1],[1,1,1,1]],base=4,axis=1)"
   ]
  },
  {
   "cell_type": "code",
   "execution_count": null,
   "id": "e4047c44",
   "metadata": {},
   "outputs": [],
   "source": [
    "def step_fn(inputs):\n",
    "    \"\"\"Per-Replica StepFn.\"\"\"\n",
    "    images, labels = inputs.values()\n",
    "    images = tf.tile(\n",
    "        tf.expand_dims(images, 1), [1, ensemble_size, 1, 1, 1])\n",
    "    logits = model(images, training=False)\n",
    "    probs = tf.nn.softmax(logits)\n",
    "\n",
    "    if dataset_name == 'clean':\n",
    "        per_probs = tf.transpose(probs, perm=[1, 0, 2])\n",
    "        metrics['test/diversity'].add_batch(per_probs)\n",
    "\n",
    "    # for i in range(FLAGS.ensemble_size):\n",
    "    #     member_probs = probs[:, i]\n",
    "    #     member_loss = tf.keras.losses.sparse_categorical_crossentropy(\n",
    "    #         labels, member_probs)\n",
    "    #     metrics['test/nll_member_{}'.format(i)].update_state(member_loss)\n",
    "    #     metrics['test/accuracy_member_{}'.format(i)].update_state(\n",
    "    #         labels, member_probs)\n",
    "\n",
    "    # Negative log marginal likelihood computed in a numerically-stable way.\n",
    "    labels_tiled = tf.tile(\n",
    "        tf.expand_dims(labels, 1), [1, FLAGS.ensemble_size])\n",
    "    log_likelihoods = -tf.keras.losses.sparse_categorical_crossentropy(\n",
    "        labels_tiled, logits, from_logits=True)\n",
    "    negative_log_likelihood = tf.reduce_mean(\n",
    "        -tf.reduce_logsumexp(log_likelihoods, axis=[1]) +\n",
    "        tf.math.log(float(FLAGS.ensemble_size)))\n",
    "    probs = tf.math.reduce_mean(probs, axis=1)  # marginalize\n",
    "\n",
    "    if dataset_name == 'clean':\n",
    "        metrics['test/negative_log_likelihood'].update_state(\n",
    "            negative_log_likelihood)\n",
    "        metrics['test/accuracy'].update_state(labels, probs)\n",
    "        metrics['test/ece'].update_state(labels, probs)\n",
    "    else:\n",
    "        corrupt_metrics['test/nll_{}'.format(dataset_name)].update_state(\n",
    "            negative_log_likelihood)\n",
    "        corrupt_metrics['test/accuracy_{}'.format(dataset_name)].update_state(\n",
    "            labels, probs)\n",
    "        corrupt_metrics['test/ece_{}'.format(dataset_name)].update_state(\n",
    "            labels, probs)"
   ]
  }
 ],
 "metadata": {
  "environment": {
   "name": "tf2-gpu.2-6.m81",
   "type": "gcloud",
   "uri": "gcr.io/deeplearning-platform-release/tf2-gpu.2-6:m81"
  },
  "interpreter": {
   "hash": "dde26a19a456cccdba8873420f2efa5461a48eeab45dc2d3d5ee4695396acbd9"
  },
  "kernelspec": {
   "display_name": "Python [conda env:DAL]",
   "language": "python",
   "name": "python3"
  },
  "language_info": {
   "codemirror_mode": {
    "name": "ipython",
    "version": 3
   },
   "file_extension": ".py",
   "mimetype": "text/x-python",
   "name": "python",
   "nbconvert_exporter": "python",
   "pygments_lexer": "ipython3",
   "version": "3.7.11"
  }
 },
 "nbformat": 4,
 "nbformat_minor": 5
}
