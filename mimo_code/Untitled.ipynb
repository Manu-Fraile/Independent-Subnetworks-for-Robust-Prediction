{
 "cells": [
  {
   "cell_type": "code",
   "execution_count": 47,
   "id": "a70ddb94-13e4-457f-a898-f6c374ef0081",
   "metadata": {},
   "outputs": [],
   "source": [
    "import functools\n",
    "import os\n",
    "import time\n",
    "from absl import app\n",
    "from absl import flags\n",
    "from absl import logging\n",
    "import numpy as np\n",
    "import mnist_model  # ADDED\n",
    "# REMOVED from experimental.mimo import cifar_model  # local file import\n",
    "import robustness_metrics as rm\n",
    "import tensorflow as tf\n",
    "import tensorflow_datasets as tfds\n",
    "import uncertainty_baselines as ub\n",
    "import baselines.utils_new as utils  # ADDED this!\n",
    "# from uncertainty_baselines.baselines.cifar import utils\n",
    "import uncertainty_metrics as um"
   ]
  },
  {
   "cell_type": "code",
   "execution_count": 54,
   "id": "68d78738-e17c-4f3e-aa6b-15dc076174bb",
   "metadata": {},
   "outputs": [],
   "source": [
    "%load_ext tensorboard\n",
    "# %reload_ext tensorboard"
   ]
  },
  {
   "cell_type": "code",
   "execution_count": 97,
   "id": "a798ecef-8b6b-4673-b77b-d7de69cad85c",
   "metadata": {},
   "outputs": [
    {
     "name": "stdout",
     "output_type": "stream",
     "text": [
      "2021-11-24 10:25:54.337882: I tensorflow/stream_executor/cuda/cuda_gpu_executor.cc:937] successful NUMA node read from SysFS had negative value (-1), but there must be at least one NUMA node, so returning NUMA node zero\n",
      "2021-11-24 10:25:54.423774: I tensorflow/stream_executor/cuda/cuda_gpu_executor.cc:937] successful NUMA node read from SysFS had negative value (-1), but there must be at least one NUMA node, so returning NUMA node zero\n",
      "2021-11-24 10:25:54.424410: I tensorflow/stream_executor/cuda/cuda_gpu_executor.cc:937] successful NUMA node read from SysFS had negative value (-1), but there must be at least one NUMA node, so returning NUMA node zero\n",
      "======================================================================\n",
      "Processing event files... (this can take a few minutes)\n",
      "======================================================================\n",
      "\n",
      "These tags are in /home/jupyter/mnist/WRN28-2/M2/summaries/events.out.tfevents.1637674717.deeplearning-1-vm.26676.0.v2:\n",
      "audio -\n",
      "histograms -\n",
      "images -\n",
      "scalars -\n",
      "tensor\n",
      "   test/accuracy\n",
      "   test/accuracy_mean_1\n",
      "   test/accuracy_mean_corrupted\n",
      "   test/accuracy_median_1\n",
      "   test/accuracy_member_0\n",
      "   test/accuracy_member_1\n",
      "   test/diversity/average_kl\n",
      "   test/diversity/cosine_similarity\n",
      "   test/diversity/disagreement\n",
      "   test/ece\n",
      "   test/ece_mean_1\n",
      "   test/ece_mean_corrupted\n",
      "   test/ece_median_1\n",
      "   test/elbo_mean_1\n",
      "   test/elbo_mean_corrupted\n",
      "   test/elbo_median_1\n",
      "   test/kl_mean_1\n",
      "   test/kl_mean_corrupted\n",
      "   test/kl_median_1\n",
      "   test/member_acc_mean_1\n",
      "   test/member_acc_mean_corrupted\n",
      "   test/member_ece_mean_1\n",
      "   test/member_ece_mean_corrupted\n",
      "   test/ms_per_example\n",
      "   test/negative_log_likelihood\n",
      "   test/nll_mean_1\n",
      "   test/nll_mean_corrupted\n",
      "   test/nll_median_1\n",
      "   test/nll_member_0\n",
      "   test/nll_member_1\n",
      "   train/accuracy\n",
      "   train/ece\n",
      "   train/loss\n",
      "   train/negative_log_likelihood\n",
      "======================================================================\n",
      "\n",
      "Event statistics for /home/jupyter/mnist/WRN28-2/M2/summaries/events.out.tfevents.1637674717.deeplearning-1-vm.26676.0.v2:\n",
      "audio -\n",
      "graph -\n",
      "histograms -\n",
      "images -\n",
      "scalars -\n",
      "sessionlog:checkpoint -\n",
      "sessionlog:start -\n",
      "sessionlog:stop -\n",
      "tensor\n",
      "   first_step           1\n",
      "   last_step            200\n",
      "   max_step             200\n",
      "   min_step             1\n",
      "   num_steps            200\n",
      "   outoforder_steps     []\n",
      "======================================================================\n",
      "\n"
     ]
    }
   ],
   "source": [
    "!tensorboard --inspect --event_file=\"/home/jupyter/mnist/WRN28-2/M2/summaries/events.out.tfevents.1637674717.deeplearning-1-vm.26676.0.v2\"\n",
    "#\"/home/jupyter/mnist/WRN28-10-M3/summaries/events.out.tfevents.1637180574.deeplearning-1-vm.20453.0.v2\"\n"
   ]
  },
  {
   "cell_type": "code",
   "execution_count": 40,
   "id": "cc1115fc-bba1-485c-ac29-23117d00e6ea",
   "metadata": {},
   "outputs": [
    {
     "data": {
      "text/plain": [
       "{'images': [],\n",
       " 'audio': [],\n",
       " 'histograms': [],\n",
       " 'scalars': [],\n",
       " 'distributions': [],\n",
       " 'tensors': ['train/negative_log_likelihood',\n",
       "  'train/accuracy',\n",
       "  'train/loss',\n",
       "  'train/ece',\n",
       "  'test/negative_log_likelihood',\n",
       "  'test/accuracy',\n",
       "  'test/ece',\n",
       "  'test/diversity/disagreement',\n",
       "  'test/diversity/average_kl',\n",
       "  'test/diversity/cosine_similarity',\n",
       "  'test/nll_member_0',\n",
       "  'test/accuracy_member_0',\n",
       "  'test/nll_member_1',\n",
       "  'test/accuracy_member_1',\n",
       "  'test/nll_member_2',\n",
       "  'test/accuracy_member_2',\n",
       "  'test/ms_per_example',\n",
       "  'test/nll_mean_corrupted',\n",
       "  'test/kl_mean_corrupted',\n",
       "  'test/elbo_mean_corrupted',\n",
       "  'test/accuracy_mean_corrupted',\n",
       "  'test/ece_mean_corrupted',\n",
       "  'test/member_acc_mean_corrupted',\n",
       "  'test/member_ece_mean_corrupted',\n",
       "  'test/nll_mean_1',\n",
       "  'test/kl_mean_1',\n",
       "  'test/elbo_mean_1',\n",
       "  'test/accuracy_mean_1',\n",
       "  'test/ece_mean_1',\n",
       "  'test/nll_median_1',\n",
       "  'test/kl_median_1',\n",
       "  'test/elbo_median_1',\n",
       "  'test/accuracy_median_1',\n",
       "  'test/ece_median_1',\n",
       "  'test/member_acc_mean_1',\n",
       "  'test/member_ece_mean_1'],\n",
       " 'graph': False,\n",
       " 'meta_graph': False,\n",
       " 'run_metadata': []}"
      ]
     },
     "execution_count": 40,
     "metadata": {},
     "output_type": "execute_result"
    }
   ],
   "source": [
    "from tensorboard.backend.event_processing import event_accumulator\n",
    "ea = event_accumulator.EventAccumulator(\"/home/jupyter/mnist/WRN28-10-M3/summaries/events.out.tfevents.1637180574.deeplearning-1-vm.20453.0.v2\")\n",
    "ea.Reload()\n",
    "ea.Tags()"
   ]
  },
  {
   "cell_type": "code",
   "execution_count": 72,
   "id": "564c3783-f4a4-468d-8cf6-138c04418966",
   "metadata": {},
   "outputs": [],
   "source": [
    "\n"
   ]
  },
  {
   "cell_type": "code",
   "execution_count": 100,
   "id": "ddb8ad2b-5a58-461a-9bc0-6e073fbd213b",
   "metadata": {},
   "outputs": [
    {
     "data": {
      "text/plain": [
       "(200,\n",
       " [array(0.07887076, dtype=float32),\n",
       "  array(0.00832959, dtype=float32),\n",
       "  array(0.00633991, dtype=float32),\n",
       "  array(0.00584653, dtype=float32),\n",
       "  array(0.00547285, dtype=float32),\n",
       "  array(0.00524093, dtype=float32),\n",
       "  array(0.00511794, dtype=float32),\n",
       "  array(0.00490474, dtype=float32),\n",
       "  array(0.00487023, dtype=float32),\n",
       "  array(0.00465051, dtype=float32),\n",
       "  array(0.00465821, dtype=float32),\n",
       "  array(0.00437959, dtype=float32),\n",
       "  array(0.00422884, dtype=float32),\n",
       "  array(0.00441045, dtype=float32),\n",
       "  array(0.00443572, dtype=float32),\n",
       "  array(0.00431269, dtype=float32),\n",
       "  array(0.00437336, dtype=float32),\n",
       "  array(0.00438046, dtype=float32),\n",
       "  array(0.0043458, dtype=float32),\n",
       "  array(0.00434132, dtype=float32),\n",
       "  array(0.00444452, dtype=float32),\n",
       "  array(0.00412006, dtype=float32),\n",
       "  array(0.00422238, dtype=float32),\n",
       "  array(0.00441654, dtype=float32),\n",
       "  array(0.0041477, dtype=float32),\n",
       "  array(0.00423022, dtype=float32),\n",
       "  array(0.00420358, dtype=float32),\n",
       "  array(0.00422356, dtype=float32),\n",
       "  array(0.00411882, dtype=float32),\n",
       "  array(0.00397141, dtype=float32),\n",
       "  array(0.00427273, dtype=float32),\n",
       "  array(0.0039329, dtype=float32),\n",
       "  array(0.00419161, dtype=float32),\n",
       "  array(0.00423689, dtype=float32),\n",
       "  array(0.00405139, dtype=float32),\n",
       "  array(0.0041554, dtype=float32),\n",
       "  array(0.00402705, dtype=float32),\n",
       "  array(0.00414616, dtype=float32),\n",
       "  array(0.00424881, dtype=float32),\n",
       "  array(0.00405295, dtype=float32),\n",
       "  array(0.00435312, dtype=float32),\n",
       "  array(0.00400312, dtype=float32),\n",
       "  array(0.00418734, dtype=float32),\n",
       "  array(0.00401997, dtype=float32),\n",
       "  array(0.00390572, dtype=float32),\n",
       "  array(0.00423757, dtype=float32),\n",
       "  array(0.00401532, dtype=float32),\n",
       "  array(0.00409359, dtype=float32),\n",
       "  array(0.00415515, dtype=float32),\n",
       "  array(0.00412018, dtype=float32),\n",
       "  array(0.00425234, dtype=float32),\n",
       "  array(0.00378541, dtype=float32),\n",
       "  array(0.00399983, dtype=float32),\n",
       "  array(0.0040916, dtype=float32),\n",
       "  array(0.00404133, dtype=float32),\n",
       "  array(0.00426508, dtype=float32),\n",
       "  array(0.00403829, dtype=float32),\n",
       "  array(0.0040225, dtype=float32),\n",
       "  array(0.00385417, dtype=float32),\n",
       "  array(0.00416373, dtype=float32),\n",
       "  array(0.00391758, dtype=float32),\n",
       "  array(0.00386011, dtype=float32),\n",
       "  array(0.00425756, dtype=float32),\n",
       "  array(0.00411399, dtype=float32),\n",
       "  array(0.00388458, dtype=float32),\n",
       "  array(0.00418473, dtype=float32),\n",
       "  array(0.00409083, dtype=float32),\n",
       "  array(0.00416632, dtype=float32),\n",
       "  array(0.00391555, dtype=float32),\n",
       "  array(0.00407451, dtype=float32),\n",
       "  array(0.00400424, dtype=float32),\n",
       "  array(0.00399524, dtype=float32),\n",
       "  array(0.00417964, dtype=float32),\n",
       "  array(0.00389789, dtype=float32),\n",
       "  array(0.00398232, dtype=float32),\n",
       "  array(0.00380985, dtype=float32),\n",
       "  array(0.00415859, dtype=float32),\n",
       "  array(0.00412227, dtype=float32),\n",
       "  array(0.00390796, dtype=float32),\n",
       "  array(0.00407135, dtype=float32),\n",
       "  array(0.00307887, dtype=float32),\n",
       "  array(0.00248807, dtype=float32),\n",
       "  array(0.00249946, dtype=float32),\n",
       "  array(0.00242648, dtype=float32),\n",
       "  array(0.00240212, dtype=float32),\n",
       "  array(0.00231403, dtype=float32),\n",
       "  array(0.00242792, dtype=float32),\n",
       "  array(0.00280537, dtype=float32),\n",
       "  array(0.00296284, dtype=float32),\n",
       "  array(0.00276845, dtype=float32),\n",
       "  array(0.00286454, dtype=float32),\n",
       "  array(0.00297558, dtype=float32),\n",
       "  array(0.00291551, dtype=float32),\n",
       "  array(0.00271858, dtype=float32),\n",
       "  array(0.00288427, dtype=float32),\n",
       "  array(0.00281668, dtype=float32),\n",
       "  array(0.00277758, dtype=float32),\n",
       "  array(0.00284373, dtype=float32),\n",
       "  array(0.00274895, dtype=float32),\n",
       "  array(0.00274985, dtype=float32),\n",
       "  array(0.00275676, dtype=float32),\n",
       "  array(0.00294962, dtype=float32),\n",
       "  array(0.00269541, dtype=float32),\n",
       "  array(0.00298904, dtype=float32),\n",
       "  array(0.00281001, dtype=float32),\n",
       "  array(0.00273948, dtype=float32),\n",
       "  array(0.00283514, dtype=float32),\n",
       "  array(0.00281129, dtype=float32),\n",
       "  array(0.00270397, dtype=float32),\n",
       "  array(0.00270378, dtype=float32),\n",
       "  array(0.00269104, dtype=float32),\n",
       "  array(0.00275128, dtype=float32),\n",
       "  array(0.0027397, dtype=float32),\n",
       "  array(0.00283568, dtype=float32),\n",
       "  array(0.00264512, dtype=float32),\n",
       "  array(0.00280189, dtype=float32),\n",
       "  array(0.00282502, dtype=float32),\n",
       "  array(0.00284124, dtype=float32),\n",
       "  array(0.00270571, dtype=float32),\n",
       "  array(0.00255319, dtype=float32),\n",
       "  array(0.00283484, dtype=float32),\n",
       "  array(0.00260103, dtype=float32),\n",
       "  array(0.00257009, dtype=float32),\n",
       "  array(0.00262703, dtype=float32),\n",
       "  array(0.00256977, dtype=float32),\n",
       "  array(0.00271503, dtype=float32),\n",
       "  array(0.00274522, dtype=float32),\n",
       "  array(0.002753, dtype=float32),\n",
       "  array(0.00275594, dtype=float32),\n",
       "  array(0.00269233, dtype=float32),\n",
       "  array(0.00262697, dtype=float32),\n",
       "  array(0.00278818, dtype=float32),\n",
       "  array(0.00255414, dtype=float32),\n",
       "  array(0.00277008, dtype=float32),\n",
       "  array(0.00264438, dtype=float32),\n",
       "  array(0.00256031, dtype=float32),\n",
       "  array(0.00264401, dtype=float32),\n",
       "  array(0.00267649, dtype=float32),\n",
       "  array(0.00276595, dtype=float32),\n",
       "  array(0.00275311, dtype=float32),\n",
       "  array(0.00268119, dtype=float32),\n",
       "  array(0.00283434, dtype=float32),\n",
       "  array(0.00277342, dtype=float32),\n",
       "  array(0.00256152, dtype=float32),\n",
       "  array(0.00269472, dtype=float32),\n",
       "  array(0.00252649, dtype=float32),\n",
       "  array(0.00272084, dtype=float32),\n",
       "  array(0.00260047, dtype=float32),\n",
       "  array(0.00283867, dtype=float32),\n",
       "  array(0.00264136, dtype=float32),\n",
       "  array(0.00252018, dtype=float32),\n",
       "  array(0.00266005, dtype=float32),\n",
       "  array(0.00269616, dtype=float32),\n",
       "  array(0.00265682, dtype=float32),\n",
       "  array(0.00271763, dtype=float32),\n",
       "  array(0.00247969, dtype=float32),\n",
       "  array(0.00261299, dtype=float32),\n",
       "  array(0.00265558, dtype=float32),\n",
       "  array(0.00266449, dtype=float32),\n",
       "  array(0.00257058, dtype=float32),\n",
       "  array(0.00210724, dtype=float32),\n",
       "  array(0.00167637, dtype=float32),\n",
       "  array(0.00163332, dtype=float32),\n",
       "  array(0.00156369, dtype=float32),\n",
       "  array(0.00159705, dtype=float32),\n",
       "  array(0.00160715, dtype=float32),\n",
       "  array(0.00157284, dtype=float32),\n",
       "  array(0.00162433, dtype=float32),\n",
       "  array(0.00168729, dtype=float32),\n",
       "  array(0.00168585, dtype=float32),\n",
       "  array(0.00170283, dtype=float32),\n",
       "  array(0.0017482, dtype=float32),\n",
       "  array(0.00175095, dtype=float32),\n",
       "  array(0.00176663, dtype=float32),\n",
       "  array(0.00181235, dtype=float32),\n",
       "  array(0.00180883, dtype=float32),\n",
       "  array(0.00185896, dtype=float32),\n",
       "  array(0.0018421, dtype=float32),\n",
       "  array(0.0018577, dtype=float32),\n",
       "  array(0.00190131, dtype=float32),\n",
       "  array(0.00183267, dtype=float32),\n",
       "  array(0.00185914, dtype=float32),\n",
       "  array(0.00189189, dtype=float32),\n",
       "  array(0.00189049, dtype=float32),\n",
       "  array(0.00192403, dtype=float32),\n",
       "  array(0.00185258, dtype=float32),\n",
       "  array(0.00191612, dtype=float32),\n",
       "  array(0.00184712, dtype=float32),\n",
       "  array(0.00190138, dtype=float32),\n",
       "  array(0.00192679, dtype=float32),\n",
       "  array(0.00188707, dtype=float32),\n",
       "  array(0.00186978, dtype=float32),\n",
       "  array(0.00188672, dtype=float32),\n",
       "  array(0.0019314, dtype=float32),\n",
       "  array(0.00187181, dtype=float32),\n",
       "  array(0.00193307, dtype=float32),\n",
       "  array(0.00186701, dtype=float32),\n",
       "  array(0.00191153, dtype=float32),\n",
       "  array(0.00188441, dtype=float32),\n",
       "  array(0.00186368, dtype=float32)])"
      ]
     },
     "execution_count": 100,
     "metadata": {},
     "output_type": "execute_result"
    }
   ],
   "source": [
    "import tensorflow as tf\n",
    "import matplotlib.pyplot as plt\n",
    "\n",
    "from tensorflow.python.summary.summary_iterator import summary_iterator\n",
    "\n",
    "a = summary_iterator(\"/home/jupyter/mnist/WRN28-2/M2/summaries/events.out.tfevents.1637674717.deeplearning-1-vm.26676.0.v2\")\n",
    "\n",
    "TAG_NAME = \"train/ece\"\n",
    "\n",
    "value_list = []\n",
    "for e in a:\n",
    "    for v in e.summary.value:\n",
    "        if v.tag == TAG_NAME:\n",
    "            value = tf.make_ndarray(v.tensor)\n",
    "            value_list.append(value)\n",
    "len(value_list),value_list"
   ]
  },
  {
   "cell_type": "code",
   "execution_count": 101,
   "id": "518eaf36-704f-4aef-aef2-eff9463bde21",
   "metadata": {},
   "outputs": [
    {
     "data": {
      "image/png": "[encoded data removed]",
      "text/plain": [
       "<Figure size 432x288 with 1 Axes>"
      ]
     },
     "metadata": {
      "needs_background": "light"
     },
     "output_type": "display_data"
    }
   ],
   "source": [
    "plt.plot(value_list)\n",
    "plt.grid()\n",
    "plt.show()"
   ]
  },
  {
   "cell_type": "code",
   "execution_count": 56,
   "id": "6c31f748-17ae-4fec-b1ad-17daf9398142",
   "metadata": {},
   "outputs": [
    {
     "data": {
      "text/html": [
       "\n",
       "      <iframe id=\"tensorboard-frame-3c8665199e7fc293\" width=\"100%\" height=\"800\" frameborder=\"0\">\n",
       "      </iframe>\n",
       "      <script>\n",
       "        (function() {\n",
       "          const frame = document.getElementById(\"tensorboard-frame-3c8665199e7fc293\");\n",
       "          const url = new URL(\"/proxy/6016/\", window.location);\n",
       "          const port = 0;\n",
       "          if (port) {\n",
       "            url.port = port;\n",
       "          }\n",
       "          frame.src = url;\n",
       "        })();\n",
       "      </script>\n",
       "    "
      ],
      "text/plain": [
       "<IPython.core.display.HTML object>"
      ]
     },
     "metadata": {},
     "output_type": "display_data"
    }
   ],
   "source": [
    "%tensorboard --logdir=\"/home/jupyter/mnist/WRN28-10-M3/summaries/events.out.tfevents.1637180574.deeplearning-1-vm.20453.0.v2\"\n"
   ]
  },
  {
   "cell_type": "code",
   "execution_count": 3,
   "id": "f5fce510-c455-4940-a34f-0db8cc3f8549",
   "metadata": {},
   "outputs": [
    {
     "name": "stderr",
     "output_type": "stream",
     "text": [
      "2021-11-17 16:13:17.247982: I tensorflow/stream_executor/cuda/cuda_gpu_executor.cc:937] successful NUMA node read from SysFS had negative value (-1), but there must be at least one NUMA node, so returning NUMA node zero\n",
      "2021-11-17 16:13:17.292235: I tensorflow/stream_executor/cuda/cuda_gpu_executor.cc:937] successful NUMA node read from SysFS had negative value (-1), but there must be at least one NUMA node, so returning NUMA node zero\n",
      "2021-11-17 16:13:17.293031: I tensorflow/stream_executor/cuda/cuda_gpu_executor.cc:937] successful NUMA node read from SysFS had negative value (-1), but there must be at least one NUMA node, so returning NUMA node zero\n",
      "2021-11-17 16:13:17.294648: I tensorflow/core/platform/cpu_feature_guard.cc:142] This TensorFlow binary is optimized with oneAPI Deep Neural Network Library (oneDNN) to use the following CPU instructions in performance-critical operations:  SSE4.1 SSE4.2 AVX AVX2 FMA\n",
      "To enable them in other operations, rebuild TensorFlow with the appropriate compiler flags.\n",
      "2021-11-17 16:13:17.294951: I tensorflow/stream_executor/cuda/cuda_gpu_executor.cc:937] successful NUMA node read from SysFS had negative value (-1), but there must be at least one NUMA node, so returning NUMA node zero\n",
      "2021-11-17 16:13:17.296094: I tensorflow/stream_executor/cuda/cuda_gpu_executor.cc:937] successful NUMA node read from SysFS had negative value (-1), but there must be at least one NUMA node, so returning NUMA node zero\n",
      "2021-11-17 16:13:17.297019: I tensorflow/stream_executor/cuda/cuda_gpu_executor.cc:937] successful NUMA node read from SysFS had negative value (-1), but there must be at least one NUMA node, so returning NUMA node zero\n",
      "2021-11-17 16:13:17.830366: I tensorflow/stream_executor/cuda/cuda_gpu_executor.cc:937] successful NUMA node read from SysFS had negative value (-1), but there must be at least one NUMA node, so returning NUMA node zero\n",
      "2021-11-17 16:13:17.831249: I tensorflow/stream_executor/cuda/cuda_gpu_executor.cc:937] successful NUMA node read from SysFS had negative value (-1), but there must be at least one NUMA node, so returning NUMA node zero\n",
      "2021-11-17 16:13:17.832090: I tensorflow/stream_executor/cuda/cuda_gpu_executor.cc:937] successful NUMA node read from SysFS had negative value (-1), but there must be at least one NUMA node, so returning NUMA node zero\n",
      "2021-11-17 16:13:17.832805: I tensorflow/core/common_runtime/gpu/gpu_device.cc:1510] Created device /job:localhost/replica:0/task:0/device:GPU:0 with 10790 MB memory:  -> device: 0, name: Tesla K80, pci bus id: 0000:00:04.0, compute capability: 3.7\n"
     ]
    },
    {
     "data": {
      "text/plain": [
       "<uncertainty_metrics.tensorflow.calibration.ExpectedCalibrationError at 0x7f49c22df7d0>"
      ]
     },
     "execution_count": 3,
     "metadata": {},
     "output_type": "execute_result"
    }
   ],
   "source": [
    "um.ExpectedCalibrationError(num_bins=10)"
   ]
  },
  {
   "cell_type": "code",
   "execution_count": 2,
   "id": "3acd9747-b29e-492f-a2e8-4bb6a1c2c039",
   "metadata": {},
   "outputs": [
    {
     "name": "stderr",
     "output_type": "stream",
     "text": [
      "WARNING:absl:Skipped importing the SMCalflow dataset due to ImportError. Try installing uncertainty baselines with the `datasets` extras.\n",
      "Traceback (most recent call last):\n",
      "  File \"/opt/conda/envs/DAL/lib/python3.7/site-packages/uncertainty_baselines/datasets/datasets.py\", line 54, in <module>\n",
      "    from uncertainty_baselines.datasets.smcalflow import MultiWoZDataset  # pylint: disable=g-import-not-at-top\n",
      "  File \"/opt/conda/envs/DAL/lib/python3.7/site-packages/uncertainty_baselines/datasets/smcalflow.py\", line 40, in <module>\n",
      "    import seqio\n",
      "ModuleNotFoundError: No module named 'seqio'\n",
      "WARNING:absl:Skipped importing the SMCalflow dataset due to ImportError. Try installing uncertainty baselines with the `datasets` extras.\n",
      "Traceback (most recent call last):\n",
      "  File \"/opt/conda/envs/DAL/lib/python3.7/site-packages/uncertainty_baselines/datasets/__init__.py\", line 63, in <module>\n",
      "    from uncertainty_baselines.datasets.smcalflow import MultiWoZDataset  # pylint: disable=g-import-not-at-top\n",
      "  File \"/opt/conda/envs/DAL/lib/python3.7/site-packages/uncertainty_baselines/datasets/smcalflow.py\", line 40, in <module>\n",
      "    import seqio\n",
      "ModuleNotFoundError: No module named 'seqio'\n",
      "2021-11-12 10:45:51.717784: I tensorflow/stream_executor/cuda/cuda_gpu_executor.cc:937] successful NUMA node read from SysFS had negative value (-1), but there must be at least one NUMA node, so returning NUMA node zero\n",
      "2021-11-12 10:45:51.812817: I tensorflow/stream_executor/cuda/cuda_gpu_executor.cc:937] successful NUMA node read from SysFS had negative value (-1), but there must be at least one NUMA node, so returning NUMA node zero\n",
      "2021-11-12 10:45:51.813430: I tensorflow/stream_executor/cuda/cuda_gpu_executor.cc:937] successful NUMA node read from SysFS had negative value (-1), but there must be at least one NUMA node, so returning NUMA node zero\n",
      "2021-11-12 10:45:51.817099: I tensorflow/core/platform/cpu_feature_guard.cc:142] This TensorFlow binary is optimized with oneAPI Deep Neural Network Library (oneDNN) to use the following CPU instructions in performance-critical operations:  SSE4.1 SSE4.2 AVX AVX2 FMA\n",
      "To enable them in other operations, rebuild TensorFlow with the appropriate compiler flags.\n",
      "2021-11-12 10:45:51.817469: I tensorflow/stream_executor/cuda/cuda_gpu_executor.cc:937] successful NUMA node read from SysFS had negative value (-1), but there must be at least one NUMA node, so returning NUMA node zero\n",
      "2021-11-12 10:45:51.818070: I tensorflow/stream_executor/cuda/cuda_gpu_executor.cc:937] successful NUMA node read from SysFS had negative value (-1), but there must be at least one NUMA node, so returning NUMA node zero\n",
      "2021-11-12 10:45:51.818587: I tensorflow/stream_executor/cuda/cuda_gpu_executor.cc:937] successful NUMA node read from SysFS had negative value (-1), but there must be at least one NUMA node, so returning NUMA node zero\n",
      "2021-11-12 10:45:53.979175: I tensorflow/stream_executor/cuda/cuda_gpu_executor.cc:937] successful NUMA node read from SysFS had negative value (-1), but there must be at least one NUMA node, so returning NUMA node zero\n",
      "2021-11-12 10:45:53.979763: I tensorflow/stream_executor/cuda/cuda_gpu_executor.cc:937] successful NUMA node read from SysFS had negative value (-1), but there must be at least one NUMA node, so returning NUMA node zero\n",
      "2021-11-12 10:45:53.980277: I tensorflow/stream_executor/cuda/cuda_gpu_executor.cc:937] successful NUMA node read from SysFS had negative value (-1), but there must be at least one NUMA node, so returning NUMA node zero\n",
      "2021-11-12 10:45:53.980789: I tensorflow/core/common_runtime/gpu/gpu_device.cc:1510] Created device /job:localhost/replica:0/task:0/device:GPU:0 with 164 MB memory:  -> device: 0, name: Tesla K80, pci bus id: 0000:00:04.0, compute capability: 3.7\n",
      "2021-11-12 10:45:54.020231: I tensorflow/stream_executor/cuda/cuda_driver.cc:732] failed to allocate 164.44M (172425216 bytes) from device: CUDA_ERROR_OUT_OF_MEMORY: out of memory\n",
      "WARNING:absl:options.experimental_threading is deprecated. Use options.threading instead.\n",
      "WARNING:absl:options.experimental_threading is deprecated. Use options.threading instead.\n"
     ]
    }
   ],
   "source": [
    "\n",
    "dataset_builder_class = ub.datasets.MnistDataset\n",
    "train_dataset_builder = dataset_builder_class(\n",
    "    split=tfds.Split.TRAIN)\n",
    "    #use_bfloat16=FLAGS.use_bfloat16)\n",
    "train_dataset = train_dataset_builder.load(batch_size=4)\n"
   ]
  },
  {
   "cell_type": "code",
   "execution_count": 3,
   "id": "54decd35-9b80-4859-bc09-5b5196738653",
   "metadata": {},
   "outputs": [
    {
     "name": "stderr",
     "output_type": "stream",
     "text": [
      "2021-11-12 10:46:05.524676: I tensorflow/compiler/mlir/mlir_graph_optimization_pass.cc:185] None of the MLIR Optimization Passes are enabled (registered 2)\n"
     ]
    }
   ],
   "source": [
    "a= iter(train_dataset)"
   ]
  },
  {
   "cell_type": "code",
   "execution_count": 5,
   "id": "b2be1b8f-39e9-49f5-9247-c4b1405717d7",
   "metadata": {},
   "outputs": [
    {
     "data": {
      "text/plain": [
       "(['identity',\n",
       "  'shot_noise',\n",
       "  'impulse_noise',\n",
       "  'glass_blur',\n",
       "  'motion_blur',\n",
       "  'shear',\n",
       "  'scale',\n",
       "  'rotate',\n",
       "  'brightness',\n",
       "  'translate',\n",
       "  'stripe',\n",
       "  'fog',\n",
       "  'spatter',\n",
       "  'dotted_line',\n",
       "  'zigzag',\n",
       "  'canny_edges'],\n",
       " 1)"
      ]
     },
     "execution_count": 5,
     "metadata": {},
     "output_type": "execute_result"
    }
   ],
   "source": [
    "load_c_dataset = utils.load_mnist_c\n",
    "corruption_types, max_intensity = utils.load_corrupted_test_info(\n",
    "            \"mnist\")\n",
    "corruption_types, max_intensity"
   ]
  },
  {
   "cell_type": "code",
   "execution_count": 19,
   "id": "46cd16ab-a2c8-4749-8cb0-077964848d63",
   "metadata": {},
   "outputs": [
    {
     "name": "stdout",
     "output_type": "stream",
     "text": [
      "('identity', 1)\n",
      "('shot_noise', 1)\n"
     ]
    },
    {
     "name": "stderr",
     "output_type": "stream",
     "text": [
      "2021-11-12 10:51:01.054166: W tensorflow/core/grappler/optimizers/data/auto_shard.cc:461] The `assert_cardinality` transformation is currently not handled by the auto-shard rewrite and will be removed.\n",
      "2021-11-12 10:51:01.272305: W tensorflow/core/grappler/optimizers/data/auto_shard.cc:461] The `assert_cardinality` transformation is currently not handled by the auto-shard rewrite and will be removed.\n"
     ]
    },
    {
     "name": "stdout",
     "output_type": "stream",
     "text": [
      "('impulse_noise', 1)\n"
     ]
    },
    {
     "name": "stderr",
     "output_type": "stream",
     "text": [
      "2021-11-12 10:51:01.479663: W tensorflow/core/grappler/optimizers/data/auto_shard.cc:461] The `assert_cardinality` transformation is currently not handled by the auto-shard rewrite and will be removed.\n"
     ]
    },
    {
     "name": "stdout",
     "output_type": "stream",
     "text": [
      "('glass_blur', 1)\n"
     ]
    },
    {
     "name": "stderr",
     "output_type": "stream",
     "text": [
      "2021-11-12 10:51:01.691887: W tensorflow/core/grappler/optimizers/data/auto_shard.cc:461] The `assert_cardinality` transformation is currently not handled by the auto-shard rewrite and will be removed.\n",
      "2021-11-12 10:51:01.790068: W tensorflow/core/grappler/optimizers/data/auto_shard.cc:461] The `assert_cardinality` transformation is currently not handled by the auto-shard rewrite and will be removed.\n",
      "2021-11-12 10:51:01.881016: W tensorflow/core/grappler/optimizers/data/auto_shard.cc:461] The `assert_cardinality` transformation is currently not handled by the auto-shard rewrite and will be removed.\n"
     ]
    },
    {
     "name": "stdout",
     "output_type": "stream",
     "text": [
      "('motion_blur', 1)\n",
      "('shear', 1)\n",
      "('scale', 1)\n"
     ]
    },
    {
     "name": "stderr",
     "output_type": "stream",
     "text": [
      "2021-11-12 10:51:01.984409: W tensorflow/core/grappler/optimizers/data/auto_shard.cc:461] The `assert_cardinality` transformation is currently not handled by the auto-shard rewrite and will be removed.\n",
      "2021-11-12 10:51:02.080198: W tensorflow/core/grappler/optimizers/data/auto_shard.cc:461] The `assert_cardinality` transformation is currently not handled by the auto-shard rewrite and will be removed.\n",
      "2021-11-12 10:51:02.179152: W tensorflow/core/grappler/optimizers/data/auto_shard.cc:461] The `assert_cardinality` transformation is currently not handled by the auto-shard rewrite and will be removed.\n"
     ]
    },
    {
     "name": "stdout",
     "output_type": "stream",
     "text": [
      "('rotate', 1)\n",
      "('brightness', 1)\n",
      "('translate', 1)\n"
     ]
    },
    {
     "name": "stderr",
     "output_type": "stream",
     "text": [
      "2021-11-12 10:51:02.273010: W tensorflow/core/grappler/optimizers/data/auto_shard.cc:461] The `assert_cardinality` transformation is currently not handled by the auto-shard rewrite and will be removed.\n",
      "2021-11-12 10:51:02.359749: W tensorflow/core/grappler/optimizers/data/auto_shard.cc:461] The `assert_cardinality` transformation is currently not handled by the auto-shard rewrite and will be removed.\n",
      "2021-11-12 10:51:02.446436: W tensorflow/core/grappler/optimizers/data/auto_shard.cc:461] The `assert_cardinality` transformation is currently not handled by the auto-shard rewrite and will be removed.\n"
     ]
    },
    {
     "name": "stdout",
     "output_type": "stream",
     "text": [
      "('stripe', 1)\n",
      "('fog', 1)\n",
      "('spatter', 1)\n"
     ]
    },
    {
     "name": "stderr",
     "output_type": "stream",
     "text": [
      "2021-11-12 10:51:02.541252: W tensorflow/core/grappler/optimizers/data/auto_shard.cc:461] The `assert_cardinality` transformation is currently not handled by the auto-shard rewrite and will be removed.\n",
      "2021-11-12 10:51:02.631279: W tensorflow/core/grappler/optimizers/data/auto_shard.cc:461] The `assert_cardinality` transformation is currently not handled by the auto-shard rewrite and will be removed.\n",
      "2021-11-12 10:51:02.714699: W tensorflow/core/grappler/optimizers/data/auto_shard.cc:461] The `assert_cardinality` transformation is currently not handled by the auto-shard rewrite and will be removed.\n"
     ]
    },
    {
     "name": "stdout",
     "output_type": "stream",
     "text": [
      "('dotted_line', 1)\n",
      "('zigzag', 1)\n",
      "('canny_edges', 1)\n"
     ]
    },
    {
     "name": "stderr",
     "output_type": "stream",
     "text": [
      "2021-11-12 10:51:02.809408: W tensorflow/core/grappler/optimizers/data/auto_shard.cc:461] The `assert_cardinality` transformation is currently not handled by the auto-shard rewrite and will be removed.\n"
     ]
    },
    {
     "data": {
      "text/plain": [
       "<PrefetchDataset shapes: ((None, 28, 28, 1), (None,)), types: (tf.bfloat16, tf.bfloat16)>"
      ]
     },
     "execution_count": 19,
     "metadata": {},
     "output_type": "execute_result"
    }
   ],
   "source": [
    "for corruption in corruption_types:\n",
    "            for intensity in range(1, max_intensity + 1):\n",
    "                print((corruption,intensity))\n",
    "                dataset = load_c_dataset(\n",
    "                    corruption_name=corruption,\n",
    "                    corruption_intensity=intensity,\n",
    "                    batch_size=20,\n",
    "                    use_bfloat16=True)\n",
    "\n",
    "                test_datasets['{0}_{1}'.format(corruption, intensity)] = (\n",
    "                    strategy.experimental_distribute_dataset(dataset))\n",
    "dataset\n",
    "                "
   ]
  },
  {
   "cell_type": "code",
   "execution_count": 20,
   "id": "6e1506f4-7c9d-4042-aeb4-82f234a544f9",
   "metadata": {},
   "outputs": [],
   "source": [
    "datasets_to_evaluate = test_datasets"
   ]
  },
  {
   "cell_type": "code",
   "execution_count": 49,
   "id": "bcadc968-2b1f-4ffa-83f4-cd3c2efcfd12",
   "metadata": {},
   "outputs": [
    {
     "name": "stdout",
     "output_type": "stream",
     "text": [
      "('clean', <tensorflow.python.distribute.input_lib.DistributedDataset object at 0x7f13f18bc590>)\n"
     ]
    },
    {
     "name": "stderr",
     "output_type": "stream",
     "text": [
      "2021-11-12 10:58:33.767263: W tensorflow/core/kernels/data/cache_dataset_ops.cc:768] The calling iterator did not fully read the dataset being cached. In order to avoid unexpected truncation of the dataset, the partially cached contents of the dataset  will be discarded. This can happen if you have an input pipeline similar to `dataset.cache().take(k).repeat()`. You should use `dataset.take(k).cache().repeat()` instead.\n",
      "2021-11-12 10:58:33.769308: W tensorflow/core/kernels/data/cache_dataset_ops.cc:768] The calling iterator did not fully read the dataset being cached. In order to avoid unexpected truncation of the dataset, the partially cached contents of the dataset  will be discarded. This can happen if you have an input pipeline similar to `dataset.cache().take(k).repeat()`. You should use `dataset.take(k).cache().repeat()` instead.\n"
     ]
    },
    {
     "name": "stdout",
     "output_type": "stream",
     "text": [
      "(10, 28, 28, 1)\n"
     ]
    },
    {
     "ename": "NameError",
     "evalue": "name 'c' is not defined",
     "output_type": "error",
     "traceback": [
      "\u001b[0;31m---------------------------------------------------------------------------\u001b[0m",
      "\u001b[0;31mNameError\u001b[0m                                 Traceback (most recent call last)",
      "\u001b[0;32m/tmp/ipykernel_5295/254645612.py\u001b[0m in \u001b[0;36m<module>\u001b[0;34m\u001b[0m\n\u001b[1;32m      5\u001b[0m \u001b[0;34m\u001b[0m\u001b[0m\n\u001b[1;32m      6\u001b[0m         \u001b[0mprint\u001b[0m\u001b[0;34m(\u001b[0m\u001b[0;34m(\u001b[0m\u001b[0mimages\u001b[0m\u001b[0;34m)\u001b[0m\u001b[0;34m.\u001b[0m\u001b[0mshape\u001b[0m\u001b[0;34m)\u001b[0m\u001b[0;34m\u001b[0m\u001b[0;34m\u001b[0m\u001b[0m\n\u001b[0;32m----> 7\u001b[0;31m         \u001b[0mc\u001b[0m\u001b[0;34m\u001b[0m\u001b[0;34m\u001b[0m\u001b[0m\n\u001b[0m",
      "\u001b[0;31mNameError\u001b[0m: name 'c' is not defined"
     ]
    }
   ],
   "source": [
    "for dataset_name, test_dataset in datasets_to_evaluate.items():\n",
    "        print((dataset_name, test_dataset))\n",
    "        test_iterator = iter(test_dataset)\n",
    "        images, labels = next(test_iterator).values()\n",
    "        \n",
    "        print((images).shape)\n",
    "        c"
   ]
  },
  {
   "cell_type": "code",
   "execution_count": 29,
   "id": "73953387-2b6c-472b-99ad-a6736c718828",
   "metadata": {},
   "outputs": [
    {
     "data": {
      "text/plain": [
       "dict_items([('clean', <tensorflow.python.distribute.input_lib.DistributedDataset object at 0x7f13f18bc590>), ('identity_1', <tensorflow.python.distribute.input_lib.DistributedDataset object at 0x7f13f024d5d0>), ('shot_noise_1', <tensorflow.python.distribute.input_lib.DistributedDataset object at 0x7f1405385490>), ('impulse_noise_1', <tensorflow.python.distribute.input_lib.DistributedDataset object at 0x7f13f042b750>), ('glass_blur_1', <tensorflow.python.distribute.input_lib.DistributedDataset object at 0x7f13f0409690>), ('motion_blur_1', <tensorflow.python.distribute.input_lib.DistributedDataset object at 0x7f13f02657d0>), ('shear_1', <tensorflow.python.distribute.input_lib.DistributedDataset object at 0x7f13f0281210>), ('scale_1', <tensorflow.python.distribute.input_lib.DistributedDataset object at 0x7f13f0223b90>), ('rotate_1', <tensorflow.python.distribute.input_lib.DistributedDataset object at 0x7f13f01ce5d0>), ('brightness_1', <tensorflow.python.distribute.input_lib.DistributedDataset object at 0x7f13f01f8f10>), ('translate_1', <tensorflow.python.distribute.input_lib.DistributedDataset object at 0x7f13f01a1950>), ('stripe_1', <tensorflow.python.distribute.input_lib.DistributedDataset object at 0x7f13f014e390>), ('fog_1', <tensorflow.python.distribute.input_lib.DistributedDataset object at 0x7f13f0175d90>), ('spatter_1', <tensorflow.python.distribute.input_lib.DistributedDataset object at 0x7f13f011e710>), ('dotted_line_1', <tensorflow.python.distribute.input_lib.DistributedDataset object at 0x7f13f00cd190>), ('zigzag_1', <tensorflow.python.distribute.input_lib.DistributedDataset object at 0x7f13f00f4b10>), ('canny_edges_1', <tensorflow.python.distribute.input_lib.DistributedDataset object at 0x7f13f009d4d0>)])"
      ]
     },
     "execution_count": 32,
     "metadata": {},
     "output_type": "execute_result"
    }
   ],
   "source": [
    "listdatasets_to_evaluate.items()"
   ]
  },
  {
   "cell_type": "code",
   "execution_count": 7,
   "id": "7200b5c9-c003-49be-a147-6033228bf182",
   "metadata": {},
   "outputs": [
    {
     "name": "stderr",
     "output_type": "stream",
     "text": [
      "WARNING:absl:options.experimental_threading is deprecated. Use options.threading instead.\n",
      "WARNING:absl:options.experimental_threading is deprecated. Use options.threading instead.\n"
     ]
    },
    {
     "name": "stdout",
     "output_type": "stream",
     "text": [
      "INFO:tensorflow:Using MirroredStrategy with devices ('/job:localhost/replica:0/task:0/device:GPU:0',)\n"
     ]
    },
    {
     "name": "stderr",
     "output_type": "stream",
     "text": [
      "INFO:tensorflow:Using MirroredStrategy with devices ('/job:localhost/replica:0/task:0/device:GPU:0',)\n",
      "2021-11-12 10:46:23.063140: W tensorflow/core/grappler/optimizers/data/auto_shard.cc:695] AUTO sharding policy will apply DATA sharding policy as it failed to apply FILE sharding policy because of the following reason: Found an unshardable source dataset: name: \"RangeDataset/_3\"\n",
      "op: \"RangeDataset\"\n",
      "input: \"Const/_0\"\n",
      "input: \"Const/_1\"\n",
      "input: \"Const/_2\"\n",
      "attr {\n",
      "  key: \"output_shapes\"\n",
      "  value {\n",
      "    list {\n",
      "      shape {\n",
      "      }\n",
      "    }\n",
      "  }\n",
      "}\n",
      "attr {\n",
      "  key: \"output_types\"\n",
      "  value {\n",
      "    list {\n",
      "      type: DT_INT64\n",
      "    }\n",
      "  }\n",
      "}\n",
      "\n"
     ]
    }
   ],
   "source": [
    "    clean_test_dataset_builder = dataset_builder_class(\n",
    "    split=tfds.Split.TEST)\n",
    "    #use_bfloat16=FLAGS.use_bfloat16)\n",
    "clean_test_dataset = clean_test_dataset_builder.load(\n",
    "    batch_size=10)\n",
    "    \n",
    "    strategy = tf.distribute.MirroredStrategy()\n",
    "    test_datasets = {\n",
    "        'clean': strategy.experimental_distribute_dataset(clean_test_dataset),\n",
    "    }"
   ]
  },
  {
   "cell_type": "code",
   "execution_count": 9,
   "id": "fea6d4b8-8f8e-4ee1-bd24-9ea99734bbf4",
   "metadata": {},
   "outputs": [
    {
     "name": "stderr",
     "output_type": "stream",
     "text": [
      "2021-11-11 17:48:25.764961: I tensorflow/compiler/mlir/mlir_graph_optimization_pass.cc:185] None of the MLIR Optimization Passes are enabled (registered 2)\n"
     ]
    }
   ],
   "source": [
    "a=iter(dataset)"
   ]
  },
  {
   "cell_type": "code",
   "execution_count": 16,
   "id": "d81dccb0-db55-4a51-8890-a628c59cc6f1",
   "metadata": {},
   "outputs": [
    {
     "data": {
      "text/plain": [
       "<tf.Tensor: shape=(20,), dtype=bfloat16, numpy=\n",
       "array([6, 0, 7, 7, 8, 4, 8, 8, 1, 8, 0, 2, 9, 1, 0, 3, 9, 7, 0, 4],\n",
       "      dtype=bfloat16)>"
      ]
     },
     "execution_count": 16,
     "metadata": {},
     "output_type": "execute_result"
    }
   ],
   "source": [
    "x,y=next(a)\n",
    "y"
   ]
  }
 ],
 "metadata": {
  "environment": {
   "name": "tf2-gpu.2-6.m81",
   "type": "gcloud",
   "uri": "gcr.io/deeplearning-platform-release/tf2-gpu.2-6:m81"
  },
  "kernelspec": {
   "display_name": "Python [conda env:DAL]",
   "language": "python",
   "name": "conda-env-DAL-py"
  },
  "language_info": {
   "codemirror_mode": {
    "name": "ipython",
    "version": 3
   },
   "file_extension": ".py",
   "mimetype": "text/x-python",
   "name": "python",
   "nbconvert_exporter": "python",
   "pygments_lexer": "ipython3",
   "version": "3.7.10"
  }
 },
 "nbformat": 4,
 "nbformat_minor": 5
}
